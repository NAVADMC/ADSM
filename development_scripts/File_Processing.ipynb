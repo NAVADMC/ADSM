{
 "worksheets": [
  {
   "cells": [
    {
     "cell_type": "code",
     "metadata": {},
     "outputs": [],
     "input": [
      "xml_file = open(workspace_path('Population_Grid.xml', 'r')"
     ],
     "language": "python",
     "prompt_number": 1
    },
    {
     "cell_type": "code",
     "metadata": {},
     "outputs": [
      {
       "output_type": "pyout",
       "prompt_number": 2,
       "text": [
        "['<?xml version=\"1.0\" encoding=\"UTF-8\" ?>\\n',\n",
        " '<herds\\n',\n",
        " '  xmlns:naadsm=\"http://www.naadsm.org/schema\"\\n',\n",
        " '  xmlns:xsd=\"http://www.w3.org/2001/XMLSchema\"\\n',\n",
        " '  xmlns:gml=\"http://www.opengis.net/gml\"\\n',\n",
        " '  xmlns:xsi=\"http://www.w3.org/2001/XMLSchema-instance\">\\n',\n",
        " '\\n',\n",
        " '  <herd>\\n',\n",
        " '    <id>1</id>\\n',\n",
        " '    <production-type>B</production-type>\\n']"
       ],
       "metadata": {}
      }
     ],
     "input": [
      "lines = [l for l in xml_file.readlines()]\n",
      "lines[:10]"
     ],
     "language": "python",
     "prompt_number": 2
    },
    {
     "cell_type": "code",
     "metadata": {},
     "outputs": [
      {
       "output_type": "pyout",
       "prompt_number": 4,
       "text": [
        "['    <production-type>B</production-type>\\n',\n",
        " '    <production-type>B</production-type>\\n',\n",
        " '    <production-type>B</production-type>\\n',\n",
        " '    <production-type>BDS</production-type>\\n',\n",
        " '    <production-type>S</production-type>\\n',\n",
        " '    <production-type>BD</production-type>\\n',\n",
        " '    <production-type>B</production-type>\\n',\n",
        " '    <production-type>BS</production-type>\\n',\n",
        " '    <production-type>B</production-type>\\n',\n",
        " '    <production-type>BD</production-type>\\n',\n",
        " '    <production-type>B</production-type>\\n',\n",
        " '    <production-type>B</production-type>\\n',\n",
        " '    <production-type>B</production-type>\\n',\n",
        " '    <production-type>D</production-type>\\n',\n",
        " '    <production-type>DS</production-type>\\n',\n",
        " '    <production-type>B</production-type>\\n',\n",
        " '    <production-type>BS</production-type>\\n',\n",
        " '    <production-type>B</production-type>\\n',\n",
        " '    <production-type>BS</production-type>\\n',\n",
        " '    <production-type>P</production-type>\\n',\n",
        " '    <production-type>BD</production-type>\\n']"
       ],
       "metadata": {}
      }
     ],
     "input": [
      "import re\n",
      "[line for line in lines if re.search('production-type', line)]"
     ],
     "language": "python",
     "prompt_number": 4
    },
    {
     "cell_type": "code",
     "metadata": {},
     "outputs": [],
     "input": [
      "daily_instances = {table_name:{} for table_name in [\"DailyByProductionType\", \"DailyByZone\"]}"
     ],
     "language": "python",
     "prompt_number": 1
    },
    {
     "cell_type": "code",
     "metadata": {},
     "outputs": [
      {
       "output_type": "pyout",
       "prompt_number": 2,
       "text": [
        "{'DailyByZone': {}, 'DailyByProductionType': {'a': 'initialized'}}"
       ],
       "metadata": {}
      }
     ],
     "input": [
      "current = daily_instances[\"DailyByProductionType\"]\n",
      "current['a'] = 'initialized'\n",
      "daily_instances"
     ],
     "language": "python",
     "prompt_number": 2
    },
    {
     "cell_type": "code",
     "metadata": {},
     "outputs": [],
     "input": [
      ""
     ],
     "language": "python"
    }
   ]
  }
 ],
 "cells": [],
 "metadata": {
  "name": "",
  "signature": "sha256:b33a03f3e937d53288ab38af64782af08c43c41ef20fca8e376a4a89d6f393ac"
 },
 "nbformat": 3,
 "nbformat_minor": 0
}