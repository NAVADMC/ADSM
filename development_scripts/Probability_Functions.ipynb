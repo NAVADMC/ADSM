{
 "metadata": {
  "name": "",
  "signature": "sha256:affbf6ec55c1865e33fb7c6b2e86e45b6926f8596b609137242b2c855d6cea00"
 },
 "nbformat": 3,
 "nbformat_minor": 0,
 "worksheets": [
  {
   "cells": [
    {
     "cell_type": "code",
     "collapsed": false,
     "input": [
      "%pylab inline"
     ],
     "language": "python",
     "metadata": {},
     "outputs": [
      {
       "output_type": "stream",
       "stream": "stdout",
       "text": [
        "Populating the interactive namespace from numpy and matplotlib\n"
       ]
      }
     ],
     "prompt_number": 1
    },
    {
     "cell_type": "code",
     "collapsed": false,
     "input": [
      "import scipy.stats"
     ],
     "language": "python",
     "metadata": {},
     "outputs": [],
     "prompt_number": 2
    },
    {
     "cell_type": "code",
     "collapsed": false,
     "input": [
      "import numpy as np\n",
      "import matplotlib.pyplot as plt\n",
      "from scipy.stats import norm\n",
      "\n",
      "# Plot between -10 and 10 with .001 steps.\n",
      "x = np.arange(0, 10, 0.001)\n",
      "# Mean = 0, SD = 2.\n",
      "plt.plot(x, norm.pdf(x,0,2))"
     ],
     "language": "python",
     "metadata": {},
     "outputs": [
      {
       "metadata": {},
       "output_type": "pyout",
       "prompt_number": 3,
       "text": [
        "[<matplotlib.lines.Line2D at 0x6aa5908>]"
       ]
      },
      {
       "metadata": {},
       "output_type": "display_data",
       "png": "[encoded data removed]",
       "text": [
        "<matplotlib.figure.Figure at 0x6a05da0>"
       ]
      }
     ],
     "prompt_number": 3
    },
    {
     "cell_type": "markdown",
     "metadata": {},
     "source": [
      "minn=1.0\n",
      "mode=3.0\n",
      "maxx=4.0\n",
      "dist = scipy.stats.triang((mode-minn)/(maxx-minn),loc=minn,scale=maxx-minn)\n",
      "[dist.pdf(x) for x in (0,1,1.5,2,2.5,3,3.5,4,5)]"
     ]
    },
    {
     "cell_type": "markdown",
     "metadata": {},
     "source": [
      "plt.plot(x, dist.pdf(x))"
     ]
    },
    {
     "cell_type": "code",
     "collapsed": false,
     "input": [
      "class inverse_gaussian:\n",
      "    dist = Empty()\n",
      "    dist.pdf = 1 # to pass the check in pdf_graph()\n",
      "    \n",
      "    def __init__(self, mean, shape):\n",
      "        self.mean = mean\n",
      "        self.shape = shape\n",
      "    \n",
      "    def pdf(self, x_array):\n",
      "        y = []\n",
      "        for x in x_array:\n",
      "            if x > 0:\n",
      "                y.append( sqrt(self.shape / (2.0 * math.pi * x**3)) * exp(-1 * ((self.shape * (x - self.mean)**2) / \n",
      "                                                                                      (2.0 * ((self.mean)**2) * x))) )\n",
      "            else:\n",
      "                y.append(0.0)\n",
      "        return y\n",
      "        \n",
      "    "
     ],
     "language": "python",
     "metadata": {},
     "outputs": [],
     "prompt_number": 67
    },
    {
     "cell_type": "code",
     "collapsed": false,
     "input": [
      "import matplotlib\n",
      "from matplotlib import pyplot as plt\n",
      "\n",
      "\n",
      "def rstyle(axis):\n",
      "    \"\"\"Styles x,y axes to appear like ggplot2\n",
      "    Must be called after all plot and axis manipulation operations have been\n",
      "    carried out (needs to know final tick spacing) \"\"\"\n",
      "    #Set the style of the major and minor grid lines, filled blocks\n",
      "    axis.grid(True, 'major', color='w', linestyle='-', linewidth=1.4)\n",
      "    axis.grid(True, 'minor', color='0.99', linestyle='-', linewidth=0.7)\n",
      "    # axis.patch.set_facecolor('0.90')  # uncomment to add a subtle grid\n",
      "    axis.set_axisbelow(True)\n",
      "\n",
      "    \"\"\"This code is currently disabled because I don't want to add a pylab dependency\"\"\"\n",
      "    #Set minor tick spacing to 1/2 of the major ticks\n",
      "    # axis.yaxis.set_major_locator((plticker.MultipleLocator(base=3000.0)))\n",
      "\n",
      "    #Remove axis border\n",
      "    for child in axis.get_children():\n",
      "        if isinstance(child, matplotlib.spines.Spine):\n",
      "            child.set_alpha(0)\n",
      "\n",
      "    #Restyle the tick lines\n",
      "    for line in axis.get_xticklines() + axis.get_yticklines():\n",
      "        line.set_markersize(5)\n",
      "        line.set_color(\"gray\")\n",
      "        line.set_markeredgewidth(1.4)\n",
      "\n",
      "    #Remove the minor tick lines\n",
      "    for line in (axis.xaxis.get_ticklines(minor=True) +\n",
      "                 axis.yaxis.get_ticklines(minor=True)):\n",
      "        line.set_markersize(0)\n",
      "\n",
      "    #Only show bottom left ticks, pointing out of axis\n",
      "    plt.rcParams['xtick.direction'] = 'out'\n",
      "    plt.rcParams['ytick.direction'] = 'out'\n",
      "    axis.xaxis.set_ticks_position('bottom')\n",
      "    axis.yaxis.set_ticks_position('left')\n",
      "    \n",
      "\n",
      "def line_graph(x_label, x_series, y_series):\n",
      "    fig = plt.figure(figsize=(3.5, 2), dpi=100, tight_layout=True, facecolor='w')\n",
      "    matplotlib.rcParams.update({'font.size': 10})\n",
      "    time_graph = plt.subplot(111)  # title=model_instance.name)\n",
      "    time_graph.set_xlabel(x_label)\n",
      "    time_graph.grid(False)\n",
      "\n",
      "    # plt.plot(old_x, old_y, color='lightgrey')  # for comparison\n",
      "    plt.plot(x_series, y_series, color='black')\n",
      "    rstyle(time_graph)\n",
      "\n",
      "#     return fig"
     ],
     "language": "python",
     "metadata": {},
     "outputs": [],
     "prompt_number": 4
    },
    {
     "cell_type": "code",
     "collapsed": false,
     "input": [
      "def pdf_graph(x_label, function, kwargs_dict):\n",
      "    if isinstance(kwargs_dict, dict):\n",
      "        dist = function(**kwargs_dict)\n",
      "    else:\n",
      "        dist = function(*kwargs_dict) # use positional arguments\n",
      "    if isinstance(dist, Empty):  #some shortcut scipy and just return a graph response\n",
      "        return dist\n",
      "    x_max = 5\n",
      "    if hasattr(dist, 'ppf'):\n",
      "        x_max = dist.ppf(0.95) * 1.1\n",
      "    x = np.arange(0.0, x_max, x_max / 100)\n",
      "    if hasattr(dist.dist, 'pdf'):  # Scipy continuous functions\n",
      "        y_axis = dist.pdf(x)\n",
      "    else:  # scipy discrete functions\n",
      "        y_axis = dist.pmf(x)\n",
      "\n",
      "    return line_graph(x_label, x, y_axis)"
     ],
     "language": "python",
     "metadata": {},
     "outputs": [],
     "prompt_number": 87
    },
    {
     "cell_type": "code",
     "collapsed": false,
     "input": [
      "def existing_probability_graph(kind):\n",
      "    function = eq[kind][0]\n",
      "    kwargs_dict = eq[kind][1]\n",
      "\n",
      "    return pdf_graph(kind, function, kwargs_dict)"
     ],
     "language": "python",
     "metadata": {},
     "outputs": [],
     "prompt_number": 65
    },
    {
     "cell_type": "code",
     "collapsed": false,
     "input": [
      "class Empty:\n",
      "    pass\n",
      "m = Empty()\n",
      "m.mean = 1.0\n",
      "m.min=0.5\n",
      "m.mode=1.9\n",
      "m.max=4.0\n",
      "m.std_dev = 0.5\n",
      "m.alpha = 0.5\n",
      "m.alpha2 = 0.5\n",
      "m.beta = 0.5\n",
      "m.location = 0.5\n",
      "m.scale = 0.5\n",
      "m.shape = 3.0\n",
      "m.n = 12\n",
      "m.p = 0.9\n",
      "m.m = 20\n",
      "m.d = 7\n",
      "m.theta = 0.5\n",
      "m.a = 0.5\n",
      "m.s = 7\n",
      "\n",
      "\n",
      "d = (m.min + 4 * m.mode + m.max) / 6\n",
      "# log defaults to ln\n",
      "eq = {  # Compiled from:  https://github.com/NAVADMC/ADSM/wiki/Probability-density-functions  Thanks Neil Harvey!\n",
      "        \"Bernoulli\": [scipy.stats.bernoulli, [m.p]],\n",
      "        \"Beta\": [scipy.stats.beta, {'a': m.alpha, 'b': m.alpha2, 'loc': m.min, 'scale': m.max - m.min}],\n",
      "        \"BetaPERT\": [scipy.stats.beta,\n",
      "                     {'a': 6 * ((d - m.min) / (m.max - m.min)), 'b': 6 * ((m.max - d) / (m.max - m.min)), 'loc': m.min, 'scale': m.max - m.min}],\n",
      "        \"Binomial\": [scipy.stats.binom, [m.s, m.p]],\n",
      "        \"Discrete Uniform\": [scipy.stats.randint, [m.min, m.max]],\n",
      "        \"Exponential\": [scipy.stats.expon, {'scale': m.mean}],\n",
      "        \"Fixed Value\": [scipy.stats.uniform, {'loc': m.mode, 'scale':0.0001}],  # TODO: Not offered in SciPy? Use a narrow uniform instead\n",
      "        \"Gamma\": [scipy.stats.gamma, {'a': m.alpha, 'scale': m.beta, 'loc': 0}],\n",
      "        \"Gaussian\": [scipy.stats.norm, {'loc': m.mean, 'scale': m.std_dev}],\n",
      "        \"Histogram\": [],  # TODO: Not offered in SciPy? by hand\n",
      "        \"Hypergeometric\": [scipy.stats.hypergeom, [m.m, m.d, m.n]],\n",
      "        \"Inverse Gaussian\": [inverse_gaussian, [m.mean, m.shape]], \n",
      "        \"Logistic\": [scipy.stats.logistic, {'loc': m.location, 'scale': m.scale}],\n",
      "        \"LogLogistic\": [scipy.stats.fisk, {'c':m.shape, 'loc': m.location, 'scale': m.scale}],  # scipy/stats/_continuous_distns.py:683 http://docs.scipy.org/doc/scipy/reference/generated/scipy.stats.fisk.html\n",
      "        \"Lognormal\": [scipy.stats.lognorm, [(sqrt(log((m.std_dev**2 + m.mean**2) / m.mean**2))), \n",
      "                                            m.mean**2 / sqrt(m.std_dev**2 + m.mean**2)]],  # I think exp(log()) is redundant\n",
      "        \"Negative Binomial\": [scipy.stats.nbinom, {'n': m.s, 'p': m.p}],\n",
      "        \"Pareto\": [scipy.stats.pareto, [m.theta, m.a]],\n",
      "        \"Pearson 5\": [],  # TODO: Not offered in SciPy\n",
      "        \"Piecewise\": [],\n",
      "        \"Poisson\": [scipy.stats.poisson, [m.mean]],\n",
      "        \"Triangular\": [scipy.stats.triang, {'loc':m.min, 'c':(m.mode-m.min)/(m.max-m.min), 'scale': m.max-m.min}],\n",
      "        \"Uniform\": [scipy.stats.uniform, {'loc': m.min, 'scale':m.max-m.min}],\n",
      "        \"Weibull\": [scipy.stats.weibull_min, [m.alpha, m.beta]],\n",
      "        }\n"
     ],
     "language": "python",
     "metadata": {},
     "outputs": [],
     "prompt_number": 66
    },
    {
     "cell_type": "code",
     "collapsed": false,
     "input": [],
     "language": "python",
     "metadata": {},
     "outputs": []
    },
    {
     "cell_type": "code",
     "collapsed": false,
     "input": [
      "for key in [\"Beta\", \"Weibull\", \"Pareto\"]:#eq.keys():\n",
      "    if eq[key]:\n",
      "        existing_probability_graph(key)\n",
      "    "
     ],
     "language": "python",
     "metadata": {},
     "outputs": [
      {
       "metadata": {},
       "output_type": "display_data",
       "png": "[encoded data removed]",
       "text": [
        "<matplotlib.figure.Figure at 0x9345ac8>"
       ]
      },
      {
       "metadata": {},
       "output_type": "display_data",
       "png": "[encoded data removed]",
       "text": [
        "<matplotlib.figure.Figure at 0x8911668>"
       ]
      },
      {
       "metadata": {},
       "output_type": "display_data",
       "png": "[encoded data removed]",
       "text": [
        "<matplotlib.figure.Figure at 0x7e8d400>"
       ]
      }
     ],
     "prompt_number": 88
    },
    {
     "cell_type": "code",
     "collapsed": false,
     "input": [],
     "language": "python",
     "metadata": {},
     "outputs": []
    },
    {
     "cell_type": "code",
     "collapsed": false,
     "input": [
      "existing_probability_graph(\"Inverse Gaussian\")"
     ],
     "language": "python",
     "metadata": {},
     "outputs": [
      {
       "metadata": {},
       "output_type": "display_data",
       "png": "[encoded data removed]",
       "text": [
        "<matplotlib.figure.Figure at 0x6b12400>"
       ]
      }
     ],
     "prompt_number": 68
    },
    {
     "cell_type": "code",
     "collapsed": false,
     "input": [
      "hasattr(scipy.stats.nbinom(n=1,p=2), 'pdf')"
     ],
     "language": "python",
     "metadata": {},
     "outputs": []
    },
    {
     "cell_type": "code",
     "collapsed": false,
     "input": [
      "x"
     ],
     "language": "python",
     "metadata": {},
     "outputs": [
      {
       "metadata": {},
       "output_type": "pyout",
       "prompt_number": 93,
       "text": [
        "array([  0.00000000e+00,   1.00000000e-03,   2.00000000e-03, ...,\n",
        "         9.99700000e+00,   9.99800000e+00,   9.99900000e+00])"
       ]
      }
     ],
     "prompt_number": 93
    },
    {
     "cell_type": "code",
     "collapsed": false,
     "input": [
      "{'x':m.alpha, 'scale': m.beta}.pop('x')"
     ],
     "language": "python",
     "metadata": {},
     "outputs": [
      {
       "metadata": {},
       "output_type": "pyout",
       "prompt_number": 92,
       "text": [
        "0.5"
       ]
      }
     ],
     "prompt_number": 92
    },
    {
     "cell_type": "code",
     "collapsed": false,
     "input": [
      "x_label = \"Histogram\"\n",
      "x_series = [0,1,3,6,7,8,11]\n",
      "y_series = [0,2,0,5,2,1,0]\n",
      "x_hist = [0]\n",
      "y_hist = [0]\n",
      "points = list(zip(x_series, y_series))\n",
      "for index in range(len(points) - 1):\n",
      "    x_hist += [points[index][0], points[index + 1][0]]\n",
      "    y_hist += [points[index][1], points[index + 0][1]]\n",
      "x_hist += [x_series[-1], x_series[-1]+1, x_series[-1]+1]\n",
      "y_hist += [y_series[-1], y_series[-1], 0]\n",
      "\n",
      "return line_graph(x_label, x_hist, y_hist)\n"
     ],
     "language": "python",
     "metadata": {},
     "outputs": [
      {
       "metadata": {},
       "output_type": "display_data",
       "png": "[encoded data removed]",
       "text": [
        "<matplotlib.figure.Figure at 0x3cc2940>"
       ]
      }
     ],
     "prompt_number": 93
    },
    {
     "cell_type": "code",
     "collapsed": false,
     "input": [
      "empty()"
     ],
     "language": "python",
     "metadata": {},
     "outputs": [
      {
       "metadata": {},
       "output_type": "pyout",
       "prompt_number": 46,
       "text": [
        "<__main__.empty at 0x6b27240>"
       ]
      }
     ],
     "prompt_number": 46
    },
    {
     "cell_type": "code",
     "collapsed": false,
     "input": [
      "object()"
     ],
     "language": "python",
     "metadata": {},
     "outputs": [
      {
       "metadata": {},
       "output_type": "pyout",
       "prompt_number": 47,
       "text": [
        "<object at 0x68943c0>"
       ]
      }
     ],
     "prompt_number": 47
    },
    {
     "cell_type": "code",
     "collapsed": false,
     "input": [
      "a = empty()\n",
      "a.fish = 1"
     ],
     "language": "python",
     "metadata": {},
     "outputs": [],
     "prompt_number": 48
    },
    {
     "cell_type": "code",
     "collapsed": false,
     "input": [
      "1**2"
     ],
     "language": "python",
     "metadata": {},
     "outputs": [
      {
       "metadata": {},
       "output_type": "pyout",
       "prompt_number": 56,
       "text": [
        "1"
       ]
      }
     ],
     "prompt_number": 56
    },
    {
     "cell_type": "code",
     "collapsed": false,
     "input": [
      "sqrt(0)"
     ],
     "language": "python",
     "metadata": {},
     "outputs": [
      {
       "metadata": {},
       "output_type": "pyout",
       "prompt_number": 89,
       "text": [
        "0.0"
       ]
      }
     ],
     "prompt_number": 89
    },
    {
     "cell_type": "code",
     "collapsed": false,
     "input": [],
     "language": "python",
     "metadata": {},
     "outputs": []
    }
   ],
   "metadata": {}
  }
 ]
}