{
 "metadata": {
  "name": "",
  "signature": "sha256:a32d2a8d6af28318f67e38af7571f3a7b3c27eab6255c3cc2312da8f1714ae84"
 },
 "nbformat": 3,
 "nbformat_minor": 0,
 "worksheets": [
  {
   "cells": [
    {
     "cell_type": "code",
     "collapsed": false,
     "input": [
      "%pylab inline"
     ],
     "language": "python",
     "metadata": {},
     "outputs": [
      {
       "output_type": "stream",
       "stream": "stdout",
       "text": [
        "Populating the interactive namespace from numpy and matplotlib\n"
       ]
      },
      {
       "output_type": "stream",
       "stream": "stderr",
       "text": [
        "WARNING: pylab import has clobbered these variables: ['norm', 'dist']\n",
        "`%matplotlib` prevents importing * from pylab and numpy\n"
       ]
      }
     ],
     "prompt_number": 7
    },
    {
     "cell_type": "code",
     "collapsed": false,
     "input": [
      "import scipy.stats"
     ],
     "language": "python",
     "metadata": {},
     "outputs": [],
     "prompt_number": 3
    },
    {
     "cell_type": "code",
     "collapsed": false,
     "input": [
      "import numpy as np\n",
      "import matplotlib.pyplot as plt\n",
      "from scipy.stats import norm\n",
      "\n",
      "# Plot between -10 and 10 with .001 steps.\n",
      "x = np.arange(0, 10, 0.001)\n",
      "# Mean = 0, SD = 2.\n",
      "plt.plot(x, norm.pdf(x,0,2))"
     ],
     "language": "python",
     "metadata": {},
     "outputs": [
      {
       "metadata": {},
       "output_type": "pyout",
       "prompt_number": 14,
       "text": [
        "[<matplotlib.lines.Line2D at 0x8090940>]"
       ]
      },
      {
       "metadata": {},
       "output_type": "display_data",
       "png": "[encoded data removed]",
       "text": [
        "<matplotlib.figure.Figure at 0x7d20438>"
       ]
      }
     ],
     "prompt_number": 14
    },
    {
     "cell_type": "code",
     "collapsed": false,
     "input": [
      "minn=1.0\n",
      "mode=3.0\n",
      "maxx=4.0\n",
      "dist = scipy.stats.triang((mode-minn)/(maxx-minn),loc=minn,scale=maxx-minn)\n",
      "[dist.pdf(x) for x in (0,1,1.5,2,2.5,3,3.5,4,5)]"
     ],
     "language": "python",
     "metadata": {},
     "outputs": [
      {
       "metadata": {},
       "output_type": "pyout",
       "prompt_number": 15,
       "text": [
        "[0.0,\n",
        " 0.0,\n",
        " 0.16666666666666666,\n",
        " 0.33333333333333331,\n",
        " 0.5,\n",
        " 0.66666666666666663,\n",
        " 0.3333333333333332,\n",
        " 0.0,\n",
        " 0.0]"
       ]
      }
     ],
     "prompt_number": 15
    },
    {
     "cell_type": "code",
     "collapsed": false,
     "input": [
      "plt.plot(x, dist.pdf(x))"
     ],
     "language": "python",
     "metadata": {},
     "outputs": [
      {
       "metadata": {},
       "output_type": "pyout",
       "prompt_number": 16,
       "text": [
        "[<matplotlib.lines.Line2D at 0x8304c50>]"
       ]
      },
      {
       "metadata": {},
       "output_type": "display_data",
       "png": "[encoded data removed]",
       "text": [
        "<matplotlib.figure.Figure at 0x806b7b8>"
       ]
      }
     ],
     "prompt_number": 16
    },
    {
     "cell_type": "code",
     "collapsed": false,
     "input": [
      "import matplotlib\n",
      "from matplotlib import pyplot as plt\n",
      "\n",
      "\n",
      "def rstyle(axis):\n",
      "    \"\"\"Styles x,y axes to appear like ggplot2\n",
      "    Must be called after all plot and axis manipulation operations have been\n",
      "    carried out (needs to know final tick spacing) \"\"\"\n",
      "    #Set the style of the major and minor grid lines, filled blocks\n",
      "    axis.grid(True, 'major', color='w', linestyle='-', linewidth=1.4)\n",
      "    axis.grid(True, 'minor', color='0.99', linestyle='-', linewidth=0.7)\n",
      "    # axis.patch.set_facecolor('0.90')  # uncomment to add a subtle grid\n",
      "    axis.set_axisbelow(True)\n",
      "\n",
      "    \"\"\"This code is currently disabled because I don't want to add a pylab dependency\"\"\"\n",
      "    #Set minor tick spacing to 1/2 of the major ticks\n",
      "    # axis.yaxis.set_major_locator((plticker.MultipleLocator(base=3000.0)))\n",
      "\n",
      "    #Remove axis border\n",
      "    for child in axis.get_children():\n",
      "        if isinstance(child, matplotlib.spines.Spine):\n",
      "            child.set_alpha(0)\n",
      "\n",
      "    #Restyle the tick lines\n",
      "    for line in axis.get_xticklines() + axis.get_yticklines():\n",
      "        line.set_markersize(5)\n",
      "        line.set_color(\"gray\")\n",
      "        line.set_markeredgewidth(1.4)\n",
      "\n",
      "    #Remove the minor tick lines\n",
      "    for line in (axis.xaxis.get_ticklines(minor=True) +\n",
      "                 axis.yaxis.get_ticklines(minor=True)):\n",
      "        line.set_markersize(0)\n",
      "\n",
      "    #Only show bottom left ticks, pointing out of axis\n",
      "    plt.rcParams['xtick.direction'] = 'out'\n",
      "    plt.rcParams['ytick.direction'] = 'out'\n",
      "    axis.xaxis.set_ticks_position('bottom')\n",
      "    axis.yaxis.set_ticks_position('left')\n",
      "    \n",
      "\n",
      "def line_graph(x_label, x_series, y_series):\n",
      "    fig = plt.figure(figsize=(3.5, 2), dpi=100, tight_layout=True, facecolor='w')\n",
      "    matplotlib.rcParams.update({'font.size': 10})\n",
      "    time_graph = plt.subplot(111)  # title=model_instance.name)\n",
      "    time_graph.set_xlabel(x_label)\n",
      "    time_graph.grid(False)\n",
      "\n",
      "    # plt.plot(old_x, old_y, color='lightgrey')  # for comparison\n",
      "    plt.plot(x_series, y_series, color='black')\n",
      "    rstyle(time_graph)\n",
      "\n",
      "    return fig"
     ],
     "language": "python",
     "metadata": {},
     "outputs": [],
     "prompt_number": 19
    },
    {
     "cell_type": "code",
     "collapsed": false,
     "input": [
      "def pdf_graph(x_label, function, kwargs_dict):\n",
      "    x = np.arange(0, 10, 0.001)\n",
      "    dist = function(**kwargs_dict)\n",
      "    y_axis = dist.pdf(x,)\n",
      "\n",
      "    return line_graph(x_label, x, y_axis)"
     ],
     "language": "python",
     "metadata": {},
     "outputs": [],
     "prompt_number": 27
    },
    {
     "cell_type": "code",
     "collapsed": false,
     "input": [
      "class empty:\n",
      "    pass\n",
      "m = empty()\n",
      "m.min=1.0\n",
      "m.mode=3.0\n",
      "m.max=4.0\n",
      "function, kwargs_dict = scipy.stats.triang, {'loc':m.min, 'c':(m.mode-m.min)/(m.max-m.min), 'scale': m.max-m.min}"
     ],
     "language": "python",
     "metadata": {},
     "outputs": [],
     "prompt_number": 28
    },
    {
     "cell_type": "code",
     "collapsed": false,
     "input": [
      "pdf_graph('hi', function, kwargs_dict)"
     ],
     "language": "python",
     "metadata": {},
     "outputs": [
      {
       "output_type": "stream",
       "stream": "stderr",
       "text": [
        "C:\\Miniconda3\\lib\\site-packages\\matplotlib\\figure.py:1596: UserWarning: This figure includes Axes that are not compatible with tight_layout, so its results might be incorrect.\n",
        "  warnings.warn(\"This figure includes Axes that are not \"\n"
       ]
      },
      {
       "metadata": {},
       "output_type": "pyout",
       "png": "[encoded data removed]",
       "prompt_number": 29,
       "text": [
        "<matplotlib.figure.Figure at 0x8472940>"
       ]
      },
      {
       "metadata": {},
       "output_type": "display_data",
       "png": "[encoded data removed]",
       "text": [
        "<matplotlib.figure.Figure at 0x8472940>"
       ]
      }
     ],
     "prompt_number": 29
    },
    {
     "cell_type": "code",
     "collapsed": false,
     "input": [],
     "language": "python",
     "metadata": {},
     "outputs": []
    }
   ],
   "metadata": {}
  }
 ]
}