{
 "metadata": {
  "name": "",
  "signature": "sha256:284f6bedcba8ec6765849a3bf25db359537913fc00181d6c661488db58ea50ea"
 },
 "nbformat": 3,
 "nbformat_minor": 0,
 "worksheets": []
}