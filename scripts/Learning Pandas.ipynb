{
 "metadata": {
  "name": "",
  "signature": "sha256:5a7cc0318d737715063eb0b82766bd16e97fcb76d99bede51eb727b0bf2cc58d"
 },
 "nbformat": 3,
 "nbformat_minor": 0,
 "worksheets": [
  {
   "cells": [
    {
     "cell_type": "code",
     "collapsed": false,
     "input": [],
     "language": "python",
     "metadata": {},
     "outputs": []
    }
   ],
   "metadata": {}
  }
 ]
}