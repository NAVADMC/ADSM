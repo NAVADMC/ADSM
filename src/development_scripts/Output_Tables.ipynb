{
 "worksheets": [
  {
   "cells": [
    {
     "cell_type": "heading",
     "metadata": {},
     "level": 1,
     "source": [
      "Final Solution"
     ]
    },
    {
     "cell_type": "code",
     "metadata": {},
     "outputs": [],
     "input": [
      "from collections import defaultdict\n",
      "\n",
      "tmp_dict = {'A': 'Animals',\n",
      "            'U': 'Units',\n",
      "            'n': 'New',\n",
      "            'c': 'Cumulative',\n",
      "            'w': 'Wait',\n",
      "            'Clin': 'from Clinical signs',  # This gets overridden by 'Clinical' below... not a big deal, but not perfect\n",
      "            'Test': 'from Lab Tests',\n",
      "            'p': 'Possible',\n",
      "            'Dir': 'Direct Spread',\n",
      "            'Ind': 'Indirect Spread',\n",
      "            'Air': 'Airborne Spread',\n",
      "            'des': 'Destruction',\n",
      "            'desw': 'Destruction Wait Time',\n",
      "            'det': 'Detection',\n",
      "            'exm': 'Examination',\n",
      "            'exp': 'Exposure',\n",
      "            'firstDestruction': \"First Destruction\",\n",
      "            'firstDetection': \"First Detection\",\n",
      "            'firstVaccination': 'First Vaccination',\n",
      "            'lastDetection': \"Last Detection\",\n",
      "            'tr': 'Trace',\n",
      "            'tsd': 'Transition State Daily',\n",
      "            'tstcA': 'Lab Test Cumulative Animals',\n",
      "            'tstcU': 'Lab Test Cumulative Units',\n",
      "            'tstnU': 'Lab Test New Units',\n",
      "            'vacc': 'Vaccination Cumulative',\n",
      "            'vacn': 'Vaccination New',\n",
      "            'vacw': 'Vaccination Wait Time',\n",
      "            'inf': 'Infection',\n",
      "            'All': 'For Any Reason',\n",
      "            'Max': 'Max',\n",
      "            'MaxDay': 'Day with Max',\n",
      "            'TimeMax': 'Max Time',\n",
      "            'TimeAvg': 'Average Time',\n",
      "            'DaysInQueue': 'Days in Queue',\n",
      "            'DirFwd': 'because of Direct Forward trace',\n",
      "            'IndFwd': 'because of Indirect Forward trace',\n",
      "            'DirBack': 'because of Direct Back trace',\n",
      "            'IndBack': 'because of Indirect Back trace',\n",
      "            'Ring': 'because of Ring',\n",
      "            'Ini': 'Initially',\n",
      "            'TruePos': 'True Positives',\n",
      "            'FalsePos': 'False Positives',\n",
      "            'TrueNeg': 'True Negatives',\n",
      "            'FalseNeg': 'False Negatives',\n",
      "            'Unsp': 'Unspecified',\n",
      "            'Det': 'because of Detection',\n",
      "            'Susc': 'Susceptible',\n",
      "            'Lat': 'Latent',\n",
      "            'Subc': 'Subclinical',\n",
      "            'Clin': 'Clinical',\n",
      "            'NImm': 'Natural Immune',\n",
      "            'VImm': 'Vaccine Immune',\n",
      "            'Dest': 'Destroyed',\n",
      "}\n",
      "explanations = defaultdict(lambda: '', tmp_dict)\n",
      "\n",
      "#For DailyByProductionType model only\n",
      "grammars = {'exp': [('c', 'n'), ('U', 'A'), ('', 'Dir', 'Ind', 'Air')],\n",
      "            'adq': [('c', 'n'), ('U', ), ('', 'Dir', 'Ind', 'Air')],\n",
      "            'firstDetection': [('', 'Clin', 'Test')],\n",
      "            'lastDetection': [('', 'Clin', 'Test')],\n",
      "            'det': [('c', 'n'), ('U', 'A'), ('', 'Clin', 'Test')],\n",
      "            'tr': [('n', 'c'), ('U', 'A'), ('', 'Dir', 'Ind'), ('', 'p')],\n",
      "            'exm': [('n', 'c'), ('U', 'A'), ('', 'Ring', 'DirFwd', 'IndFwd', 'DirBack', 'IndBack', 'Det')],\n",
      "            'tst': [('n', 'c'), ('U', ), ('', 'DirFwd', 'IndFwd', 'DirBack', 'IndBack', 'TruePos', 'FalsePos', 'TrueNeg', 'FalseNeg')],\n",
      "            'tstcA': [('', 'DirFwd', 'IndFwd', 'DirBack', 'IndBack')],\n",
      "            'firstVaccination': [('', 'Ring')],\n",
      "            'vacw': [('U', 'A'), ('', 'Max', 'MaxDay', 'TimeMax', 'TimeAvg', 'DaysInQueue')],\n",
      "            'vacn': [('U', 'A'), ('', 'Ini', 'Ring')],\n",
      "            'vacc': [('U', 'A'), ('', 'Ini', 'Ring')],\n",
      "            'firstDestruction': [('', 'Ring', 'Det', 'DirFwd', 'IndFwd', 'DirBack', 'IndBack')],\n",
      "            'des': [('n', 'c'), ('U', 'A'), ('', 'Ring', 'Det', 'Ini', 'DirFwd', 'IndFwd', 'DirBack', 'IndBack')],\n",
      "            'tsd': [('U', 'A'), ('Susc', 'Lat', 'Subc', 'Clin', 'NImm', 'VImm', 'Dest')],\n",
      "            'inf': [('c', 'n'), ('U', 'A'), ('', 'Ini', 'Dir', 'Ind', 'Air')],\n",
      "            'desw': [('U', 'A')],\n",
      "}\n",
      "fields = \" desnUAll desnUUnsp desnURing desnUDet desnUIni desnUDirFwd desnUIndFwd desnUDirBack desnUIndBack desnAAll desnAUnsp desnARing desnADet desnAIni desnADirFwd desnAIndFwd desnADirBack desnAIndBack descUAll descUUnsp descURing descUDet descUIni descUDirFwd descUIndFwd descUDirBack descUIndBack descAAll descAUnsp descARing descADet descAIni descADirFwd descAIndFwd descADirBack descAIndBack deswU deswA detcUAll detcUClin detcUTest detcAAll detcAClin detcATest detnUAll detnUClin detnUTest detnAAll detnAClin detnATest exmnUAll exmnURing exmnUDirFwd exmnUIndFwd exmnUDirBack exmnUIndBack exmnUDet exmnAAll exmnARing exmnADirFwd exmnAIndFwd exmnADirBack exmnAIndBack exmnADet exmcUAll exmcURing exmcUDirFwd exmcUIndFwd exmcUDirBack exmcUIndBack exmcUDet exmcAAll exmcARing exmcADirFwd exmcAIndFwd exmcADirBack exmcAIndBack exmcADet expcU expcUDir expcUInd expcUAir expcA expcADir expcAInd expcAAir expnU expnUDir expnUInd expnUAir expnA expnADir expnAInd expnAAir firstDestruction firstDestructionUnsp firstDestructionRing firstDestructionDet firstDestructionIni firstDestructionDirFwd firstDestructionIndFwd firstDestructionDirBack firstDestructionIndBack firstDetection firstDetectionClin firstDetectionTest firstVaccination firstVaccinationRing infcU infcUIni infcUDir infcUInd infcUAir infcA infcAIni infcADir infcAInd infcAAir infnU infnUIni infnUDir infnUInd infnUAir infnA infnAIni infnADir infnAInd infnAAir lastDetection lastDetectionClin lastDetectionTest trnUAll trnUAllp trnUDir trnUDirp trnUInd trnUIndp trnAAll trnAAllp trnADir trnADirp trnAInd trnAIndp trcUAll trcUAllp trcUDir trcUDirp trcUInd trcUIndp trcAAll trcAAllp trcADir trcADirp trcAInd trcAIndp tsdUSusc tsdULat tsdUSubc tsdUClin tsdUNImm tsdUVImm tsdUDest tsdASusc tsdALat tsdASubc tsdAClin tsdANImm tsdAVImm tsdADest tstcAAll tstcADirFwd tstcAIndFwd tstcADirBack tstcAIndBack tstcUAll tstcUDirFwd tstcUIndFwd tstcUDirBack tstcUIndBack tstcUTruePos tstcUFalsePos tstcUTrueNeg tstcUFalseNeg tstnUTruePos tstnUFalsePos tstnUTrueNeg tstnUFalseNeg vaccUAll vaccUIni vaccURing vaccAAll vaccAIni vaccARing vacnUAll vacnUIni vacnURing vacnAAll vacnAIni vacnARing vacwUAll vacwUMax vacwUMaxDay vacwUTimeMax vacwUTimeAvg vacwUDaysInQueue vacwAAll vacwAMax vacwAMaxDay vacwATimeMax vacwATimeAvg vacwADaysInQueue\".split()"
     ],
     "language": "python",
     "prompt_number": 2
    },
    {
     "cell_type": "code",
     "metadata": {},
     "outputs": [
      {
       "output_type": "pyout",
       "prompt_number": 5,
       "text": [
        "['lastDetection',\n",
        " 'lastDetectionClin',\n",
        " 'lastDetectionTest',\n",
        " 'tstnU',\n",
        " 'tstnUDirFwd',\n",
        " 'tstnUIndFwd',\n",
        " 'tstnUDirBack',\n",
        " 'tstnUIndBack',\n",
        " 'tstnUTruePos',\n",
        " 'tstnUFalsePos',\n",
        " 'tstnUTrueNeg',\n",
        " 'tstnUFalseNeg',\n",
        " 'tstcU',\n",
        " 'tstcUDirFwd',\n",
        " 'tstcUIndFwd',\n",
        " 'tstcUDirBack',\n",
        " 'tstcUIndBack',\n",
        " 'tstcUTruePos',\n",
        " 'tstcUFalsePos',\n",
        " 'tstcUTrueNeg',\n",
        " 'tstcUFalseNeg',\n",
        " 'trnU',\n",
        " 'trnUp',\n",
        " 'trnUDir',\n",
        " 'trnUDirp',\n",
        " 'trnUInd',\n",
        " 'trnUIndp',\n",
        " 'trnA',\n",
        " 'trnAp',\n",
        " 'trnADir',\n",
        " 'trnADirp',\n",
        " 'trnAInd',\n",
        " 'trnAIndp',\n",
        " 'trcU',\n",
        " 'trcUp',\n",
        " 'trcUDir',\n",
        " 'trcUDirp',\n",
        " 'trcUInd',\n",
        " 'trcUIndp',\n",
        " 'trcA',\n",
        " 'trcAp',\n",
        " 'trcADir',\n",
        " 'trcADirp',\n",
        " 'trcAInd',\n",
        " 'trcAIndp',\n",
        " 'tsdUSusc',\n",
        " 'tsdULat',\n",
        " 'tsdUSubc',\n",
        " 'tsdUClin',\n",
        " 'tsdUNImm',\n",
        " 'tsdUVImm',\n",
        " 'tsdUDest',\n",
        " 'tsdASusc',\n",
        " 'tsdALat',\n",
        " 'tsdASubc',\n",
        " 'tsdAClin',\n",
        " 'tsdANImm',\n",
        " 'tsdAVImm',\n",
        " 'tsdADest',\n",
        " 'firstDetection',\n",
        " 'firstDetectionClin',\n",
        " 'firstDetectionTest',\n",
        " 'tstcA',\n",
        " 'tstcADirFwd',\n",
        " 'tstcAIndFwd',\n",
        " 'tstcADirBack',\n",
        " 'tstcAIndBack',\n",
        " 'vacnU',\n",
        " 'vacnUIni',\n",
        " 'vacnURing',\n",
        " 'vacnA',\n",
        " 'vacnAIni',\n",
        " 'vacnARing',\n",
        " 'exmnU',\n",
        " 'exmnURing',\n",
        " 'exmnUDirFwd',\n",
        " 'exmnUIndFwd',\n",
        " 'exmnUDirBack',\n",
        " 'exmnUIndBack',\n",
        " 'exmnUDet',\n",
        " 'exmnA',\n",
        " 'exmnARing',\n",
        " 'exmnADirFwd',\n",
        " 'exmnAIndFwd',\n",
        " 'exmnADirBack',\n",
        " 'exmnAIndBack',\n",
        " 'exmnADet',\n",
        " 'exmcU',\n",
        " 'exmcURing',\n",
        " 'exmcUDirFwd',\n",
        " 'exmcUIndFwd',\n",
        " 'exmcUDirBack',\n",
        " 'exmcUIndBack',\n",
        " 'exmcUDet',\n",
        " 'exmcA',\n",
        " 'exmcARing',\n",
        " 'exmcADirFwd',\n",
        " 'exmcAIndFwd',\n",
        " 'exmcADirBack',\n",
        " 'exmcAIndBack',\n",
        " 'exmcADet',\n",
        " 'detcU',\n",
        " 'detcUClin',\n",
        " 'detcUTest',\n",
        " 'detcA',\n",
        " 'detcAClin',\n",
        " 'detcATest',\n",
        " 'detnU',\n",
        " 'detnUClin',\n",
        " 'detnUTest',\n",
        " 'detnA',\n",
        " 'detnAClin',\n",
        " 'detnATest',\n",
        " 'desnU',\n",
        " 'desnURing',\n",
        " 'desnUDet',\n",
        " 'desnUIni',\n",
        " 'desnUDirFwd',\n",
        " 'desnUIndFwd',\n",
        " 'desnUDirBack',\n",
        " 'desnUIndBack',\n",
        " 'desnA',\n",
        " 'desnARing',\n",
        " 'desnADet',\n",
        " 'desnAIni',\n",
        " 'desnADirFwd',\n",
        " 'desnAIndFwd',\n",
        " 'desnADirBack',\n",
        " 'desnAIndBack',\n",
        " 'descU',\n",
        " 'descURing',\n",
        " 'descUDet',\n",
        " 'descUIni',\n",
        " 'descUDirFwd',\n",
        " 'descUIndFwd',\n",
        " 'descUDirBack',\n",
        " 'descUIndBack',\n",
        " 'descA',\n",
        " 'descARing',\n",
        " 'descADet',\n",
        " 'descAIni',\n",
        " 'descADirFwd',\n",
        " 'descAIndFwd',\n",
        " 'descADirBack',\n",
        " 'descAIndBack',\n",
        " 'adqcU',\n",
        " 'adqcUDir',\n",
        " 'adqcUInd',\n",
        " 'adqcUAir',\n",
        " 'adqnU',\n",
        " 'adqnUDir',\n",
        " 'adqnUInd',\n",
        " 'adqnUAir',\n",
        " 'vaccU',\n",
        " 'vaccUIni',\n",
        " 'vaccURing',\n",
        " 'vaccA',\n",
        " 'vaccAIni',\n",
        " 'vaccARing',\n",
        " 'vacwU',\n",
        " 'vacwUMax',\n",
        " 'vacwUMaxDay',\n",
        " 'vacwUTimeMax',\n",
        " 'vacwUTimeAvg',\n",
        " 'vacwUDaysInQueue',\n",
        " 'vacwA',\n",
        " 'vacwAMax',\n",
        " 'vacwAMaxDay',\n",
        " 'vacwATimeMax',\n",
        " 'vacwATimeAvg',\n",
        " 'vacwADaysInQueue',\n",
        " 'expcU',\n",
        " 'expcUDir',\n",
        " 'expcUInd',\n",
        " 'expcUAir',\n",
        " 'expcA',\n",
        " 'expcADir',\n",
        " 'expcAInd',\n",
        " 'expcAAir',\n",
        " 'expnU',\n",
        " 'expnUDir',\n",
        " 'expnUInd',\n",
        " 'expnUAir',\n",
        " 'expnA',\n",
        " 'expnADir',\n",
        " 'expnAInd',\n",
        " 'expnAAir',\n",
        " 'deswU',\n",
        " 'deswA',\n",
        " 'infcU',\n",
        " 'infcUIni',\n",
        " 'infcUDir',\n",
        " 'infcUInd',\n",
        " 'infcUAir',\n",
        " 'infcA',\n",
        " 'infcAIni',\n",
        " 'infcADir',\n",
        " 'infcAInd',\n",
        " 'infcAAir',\n",
        " 'infnU',\n",
        " 'infnUIni',\n",
        " 'infnUDir',\n",
        " 'infnUInd',\n",
        " 'infnUAir',\n",
        " 'infnA',\n",
        " 'infnAIni',\n",
        " 'infnADir',\n",
        " 'infnAInd',\n",
        " 'infnAAir',\n",
        " 'firstVaccination',\n",
        " 'firstVaccinationRing',\n",
        " 'firstDestruction',\n",
        " 'firstDestructionRing',\n",
        " 'firstDestructionDet',\n",
        " 'firstDestructionDirFwd',\n",
        " 'firstDestructionIndFwd',\n",
        " 'firstDestructionDirBack',\n",
        " 'firstDestructionIndBack']"
       ],
       "metadata": {}
      }
     ],
     "input": [
      "from itertools import product\n",
      "\n",
      "flatted = [ [(key,)] + value for key, value in grammars.items()]\n",
      "combos = [product(*line) for line in flatted]\n",
      "fields = [''.join(parts) for line in combos for parts in line]\n",
      "fields"
     ],
     "language": "python",
     "prompt_number": 5
    },
    {
     "cell_type": "code",
     "metadata": {},
     "outputs": [
      {
       "output_type": "stream",
       "stream": "stdout",
       "text": [
        "lastDetection = models.IntegerField(blank=True, null=True, verbose_name=explain(\"lastDetection\"))\n",
        "lastDetectionClin = models.IntegerField(blank=True, null=True, verbose_name=explain(\"lastDetectionClin\"))\n",
        "lastDetectionTest = models.IntegerField(blank=True, null=True, verbose_name=explain(\"lastDetectionTest\"))\n",
        "tstnU = models.IntegerField(blank=True, null=True, verbose_name=explain(\"tstnU\"))\n",
        "tstnUDirFwd = models.IntegerField(blank=True, null=True, verbose_name=explain(\"tstnUDirFwd\"))\n",
        "tstnUIndFwd = models.IntegerField(blank=True, null=True, verbose_name=explain(\"tstnUIndFwd\"))\n",
        "tstnUDirBack = models.IntegerField(blank=True, null=True, verbose_name=explain(\"tstnUDirBack\"))\n",
        "tstnUIndBack = models.IntegerField(blank=True, null=True, verbose_name=explain(\"tstnUIndBack\"))\n",
        "tstnUTruePos = models.IntegerField(blank=True, null=True, verbose_name=explain(\"tstnUTruePos\"))\n",
        "tstnUFalsePos = models.IntegerField(blank=True, null=True, verbose_name=explain(\"tstnUFalsePos\"))\n",
        "tstnUTrueNeg = models.IntegerField(blank=True, null=True, verbose_name=explain(\"tstnUTrueNeg\"))\n",
        "tstnUFalseNeg = models.IntegerField(blank=True, null=True, verbose_name=explain(\"tstnUFalseNeg\"))\n",
        "tstcU = models.IntegerField(blank=True, null=True, verbose_name=explain(\"tstcU\"))\n",
        "tstcUDirFwd = models.IntegerField(blank=True, null=True, verbose_name=explain(\"tstcUDirFwd\"))\n",
        "tstcUIndFwd = models.IntegerField(blank=True, null=True, verbose_name=explain(\"tstcUIndFwd\"))\n",
        "tstcUDirBack = models.IntegerField(blank=True, null=True, verbose_name=explain(\"tstcUDirBack\"))\n",
        "tstcUIndBack = models.IntegerField(blank=True, null=True, verbose_name=explain(\"tstcUIndBack\"))\n",
        "tstcUTruePos = models.IntegerField(blank=True, null=True, verbose_name=explain(\"tstcUTruePos\"))\n",
        "tstcUFalsePos = models.IntegerField(blank=True, null=True, verbose_name=explain(\"tstcUFalsePos\"))\n",
        "tstcUTrueNeg = models.IntegerField(blank=True, null=True, verbose_name=explain(\"tstcUTrueNeg\"))\n",
        "tstcUFalseNeg = models.IntegerField(blank=True, null=True, verbose_name=explain(\"tstcUFalseNeg\"))\n",
        "trnU = models.IntegerField(blank=True, null=True, verbose_name=explain(\"trnU\"))\n",
        "trnUp = models.IntegerField(blank=True, null=True, verbose_name=explain(\"trnUp\"))\n",
        "trnUDir = models.IntegerField(blank=True, null=True, verbose_name=explain(\"trnUDir\"))\n",
        "trnUDirp = models.IntegerField(blank=True, null=True, verbose_name=explain(\"trnUDirp\"))\n",
        "trnUInd = models.IntegerField(blank=True, null=True, verbose_name=explain(\"trnUInd\"))\n",
        "trnUIndp = models.IntegerField(blank=True, null=True, verbose_name=explain(\"trnUIndp\"))\n",
        "trnA = models.IntegerField(blank=True, null=True, verbose_name=explain(\"trnA\"))\n",
        "trnAp = models.IntegerField(blank=True, null=True, verbose_name=explain(\"trnAp\"))\n",
        "trnADir = models.IntegerField(blank=True, null=True, verbose_name=explain(\"trnADir\"))\n",
        "trnADirp = models.IntegerField(blank=True, null=True, verbose_name=explain(\"trnADirp\"))\n",
        "trnAInd = models.IntegerField(blank=True, null=True, verbose_name=explain(\"trnAInd\"))\n",
        "trnAIndp = models.IntegerField(blank=True, null=True, verbose_name=explain(\"trnAIndp\"))\n",
        "trcU = models.IntegerField(blank=True, null=True, verbose_name=explain(\"trcU\"))\n",
        "trcUp = models.IntegerField(blank=True, null=True, verbose_name=explain(\"trcUp\"))\n",
        "trcUDir = models.IntegerField(blank=True, null=True, verbose_name=explain(\"trcUDir\"))\n",
        "trcUDirp = models.IntegerField(blank=True, null=True, verbose_name=explain(\"trcUDirp\"))\n",
        "trcUInd = models.IntegerField(blank=True, null=True, verbose_name=explain(\"trcUInd\"))\n",
        "trcUIndp = models.IntegerField(blank=True, null=True, verbose_name=explain(\"trcUIndp\"))\n",
        "trcA = models.IntegerField(blank=True, null=True, verbose_name=explain(\"trcA\"))\n",
        "trcAp = models.IntegerField(blank=True, null=True, verbose_name=explain(\"trcAp\"))\n",
        "trcADir = models.IntegerField(blank=True, null=True, verbose_name=explain(\"trcADir\"))\n",
        "trcADirp = models.IntegerField(blank=True, null=True, verbose_name=explain(\"trcADirp\"))\n",
        "trcAInd = models.IntegerField(blank=True, null=True, verbose_name=explain(\"trcAInd\"))\n",
        "trcAIndp = models.IntegerField(blank=True, null=True, verbose_name=explain(\"trcAIndp\"))\n",
        "tsdUSusc = models.IntegerField(blank=True, null=True, verbose_name=explain(\"tsdUSusc\"))\n",
        "tsdULat = models.IntegerField(blank=True, null=True, verbose_name=explain(\"tsdULat\"))\n",
        "tsdUSubc = models.IntegerField(blank=True, null=True, verbose_name=explain(\"tsdUSubc\"))\n",
        "tsdUClin = models.IntegerField(blank=True, null=True, verbose_name=explain(\"tsdUClin\"))\n",
        "tsdUNImm = models.IntegerField(blank=True, null=True, verbose_name=explain(\"tsdUNImm\"))\n",
        "tsdUVImm = models.IntegerField(blank=True, null=True, verbose_name=explain(\"tsdUVImm\"))\n",
        "tsdUDest = models.IntegerField(blank=True, null=True, verbose_name=explain(\"tsdUDest\"))\n",
        "tsdASusc = models.IntegerField(blank=True, null=True, verbose_name=explain(\"tsdASusc\"))\n",
        "tsdALat = models.IntegerField(blank=True, null=True, verbose_name=explain(\"tsdALat\"))\n",
        "tsdASubc = models.IntegerField(blank=True, null=True, verbose_name=explain(\"tsdASubc\"))\n",
        "tsdAClin = models.IntegerField(blank=True, null=True, verbose_name=explain(\"tsdAClin\"))\n",
        "tsdANImm = models.IntegerField(blank=True, null=True, verbose_name=explain(\"tsdANImm\"))\n",
        "tsdAVImm = models.IntegerField(blank=True, null=True, verbose_name=explain(\"tsdAVImm\"))\n",
        "tsdADest = models.IntegerField(blank=True, null=True, verbose_name=explain(\"tsdADest\"))\n",
        "firstDetection = models.IntegerField(blank=True, null=True, verbose_name=explain(\"firstDetection\"))\n",
        "firstDetectionClin = models.IntegerField(blank=True, null=True, verbose_name=explain(\"firstDetectionClin\"))\n",
        "firstDetectionTest = models.IntegerField(blank=True, null=True, verbose_name=explain(\"firstDetectionTest\"))\n",
        "tstcA = models.IntegerField(blank=True, null=True, verbose_name=explain(\"tstcA\"))\n",
        "tstcADirFwd = models.IntegerField(blank=True, null=True, verbose_name=explain(\"tstcADirFwd\"))\n",
        "tstcAIndFwd = models.IntegerField(blank=True, null=True, verbose_name=explain(\"tstcAIndFwd\"))\n",
        "tstcADirBack = models.IntegerField(blank=True, null=True, verbose_name=explain(\"tstcADirBack\"))\n",
        "tstcAIndBack = models.IntegerField(blank=True, null=True, verbose_name=explain(\"tstcAIndBack\"))\n",
        "vacnU = models.IntegerField(blank=True, null=True, verbose_name=explain(\"vacnU\"))\n",
        "vacnUIni = models.IntegerField(blank=True, null=True, verbose_name=explain(\"vacnUIni\"))\n",
        "vacnURing = models.IntegerField(blank=True, null=True, verbose_name=explain(\"vacnURing\"))\n",
        "vacnA = models.IntegerField(blank=True, null=True, verbose_name=explain(\"vacnA\"))\n",
        "vacnAIni = models.IntegerField(blank=True, null=True, verbose_name=explain(\"vacnAIni\"))\n",
        "vacnARing = models.IntegerField(blank=True, null=True, verbose_name=explain(\"vacnARing\"))\n",
        "exmnU = models.IntegerField(blank=True, null=True, verbose_name=explain(\"exmnU\"))\n",
        "exmnURing = models.IntegerField(blank=True, null=True, verbose_name=explain(\"exmnURing\"))\n",
        "exmnUDirFwd = models.IntegerField(blank=True, null=True, verbose_name=explain(\"exmnUDirFwd\"))\n",
        "exmnUIndFwd = models.IntegerField(blank=True, null=True, verbose_name=explain(\"exmnUIndFwd\"))\n",
        "exmnUDirBack = models.IntegerField(blank=True, null=True, verbose_name=explain(\"exmnUDirBack\"))\n",
        "exmnUIndBack = models.IntegerField(blank=True, null=True, verbose_name=explain(\"exmnUIndBack\"))\n",
        "exmnUDet = models.IntegerField(blank=True, null=True, verbose_name=explain(\"exmnUDet\"))\n",
        "exmnA = models.IntegerField(blank=True, null=True, verbose_name=explain(\"exmnA\"))\n",
        "exmnARing = models.IntegerField(blank=True, null=True, verbose_name=explain(\"exmnARing\"))\n",
        "exmnADirFwd = models.IntegerField(blank=True, null=True, verbose_name=explain(\"exmnADirFwd\"))\n",
        "exmnAIndFwd = models.IntegerField(blank=True, null=True, verbose_name=explain(\"exmnAIndFwd\"))\n",
        "exmnADirBack = models.IntegerField(blank=True, null=True, verbose_name=explain(\"exmnADirBack\"))\n",
        "exmnAIndBack = models.IntegerField(blank=True, null=True, verbose_name=explain(\"exmnAIndBack\"))\n",
        "exmnADet = models.IntegerField(blank=True, null=True, verbose_name=explain(\"exmnADet\"))\n",
        "exmcU = models.IntegerField(blank=True, null=True, verbose_name=explain(\"exmcU\"))\n",
        "exmcURing = models.IntegerField(blank=True, null=True, verbose_name=explain(\"exmcURing\"))\n",
        "exmcUDirFwd = models.IntegerField(blank=True, null=True, verbose_name=explain(\"exmcUDirFwd\"))\n",
        "exmcUIndFwd = models.IntegerField(blank=True, null=True, verbose_name=explain(\"exmcUIndFwd\"))\n",
        "exmcUDirBack = models.IntegerField(blank=True, null=True, verbose_name=explain(\"exmcUDirBack\"))\n",
        "exmcUIndBack = models.IntegerField(blank=True, null=True, verbose_name=explain(\"exmcUIndBack\"))\n",
        "exmcUDet = models.IntegerField(blank=True, null=True, verbose_name=explain(\"exmcUDet\"))\n",
        "exmcA = models.IntegerField(blank=True, null=True, verbose_name=explain(\"exmcA\"))\n",
        "exmcARing = models.IntegerField(blank=True, null=True, verbose_name=explain(\"exmcARing\"))\n",
        "exmcADirFwd = models.IntegerField(blank=True, null=True, verbose_name=explain(\"exmcADirFwd\"))\n",
        "exmcAIndFwd = models.IntegerField(blank=True, null=True, verbose_name=explain(\"exmcAIndFwd\"))\n",
        "exmcADirBack = models.IntegerField(blank=True, null=True, verbose_name=explain(\"exmcADirBack\"))\n",
        "exmcAIndBack = models.IntegerField(blank=True, null=True, verbose_name=explain(\"exmcAIndBack\"))\n",
        "exmcADet = models.IntegerField(blank=True, null=True, verbose_name=explain(\"exmcADet\"))\n",
        "detcU = models.IntegerField(blank=True, null=True, verbose_name=explain(\"detcU\"))\n",
        "detcUClin = models.IntegerField(blank=True, null=True, verbose_name=explain(\"detcUClin\"))\n",
        "detcUTest = models.IntegerField(blank=True, null=True, verbose_name=explain(\"detcUTest\"))\n",
        "detcA = models.IntegerField(blank=True, null=True, verbose_name=explain(\"detcA\"))\n",
        "detcAClin = models.IntegerField(blank=True, null=True, verbose_name=explain(\"detcAClin\"))\n",
        "detcATest = models.IntegerField(blank=True, null=True, verbose_name=explain(\"detcATest\"))\n",
        "detnU = models.IntegerField(blank=True, null=True, verbose_name=explain(\"detnU\"))\n",
        "detnUClin = models.IntegerField(blank=True, null=True, verbose_name=explain(\"detnUClin\"))\n",
        "detnUTest = models.IntegerField(blank=True, null=True, verbose_name=explain(\"detnUTest\"))\n",
        "detnA = models.IntegerField(blank=True, null=True, verbose_name=explain(\"detnA\"))\n",
        "detnAClin = models.IntegerField(blank=True, null=True, verbose_name=explain(\"detnAClin\"))\n",
        "detnATest = models.IntegerField(blank=True, null=True, verbose_name=explain(\"detnATest\"))\n",
        "desnU = models.IntegerField(blank=True, null=True, verbose_name=explain(\"desnU\"))\n",
        "desnURing = models.IntegerField(blank=True, null=True, verbose_name=explain(\"desnURing\"))\n",
        "desnUDet = models.IntegerField(blank=True, null=True, verbose_name=explain(\"desnUDet\"))\n",
        "desnUIni = models.IntegerField(blank=True, null=True, verbose_name=explain(\"desnUIni\"))\n",
        "desnUDirFwd = models.IntegerField(blank=True, null=True, verbose_name=explain(\"desnUDirFwd\"))\n",
        "desnUIndFwd = models.IntegerField(blank=True, null=True, verbose_name=explain(\"desnUIndFwd\"))\n",
        "desnUDirBack = models.IntegerField(blank=True, null=True, verbose_name=explain(\"desnUDirBack\"))\n",
        "desnUIndBack = models.IntegerField(blank=True, null=True, verbose_name=explain(\"desnUIndBack\"))\n",
        "desnA = models.IntegerField(blank=True, null=True, verbose_name=explain(\"desnA\"))\n",
        "desnARing = models.IntegerField(blank=True, null=True, verbose_name=explain(\"desnARing\"))\n",
        "desnADet = models.IntegerField(blank=True, null=True, verbose_name=explain(\"desnADet\"))\n",
        "desnAIni = models.IntegerField(blank=True, null=True, verbose_name=explain(\"desnAIni\"))\n",
        "desnADirFwd = models.IntegerField(blank=True, null=True, verbose_name=explain(\"desnADirFwd\"))\n",
        "desnAIndFwd = models.IntegerField(blank=True, null=True, verbose_name=explain(\"desnAIndFwd\"))\n",
        "desnADirBack = models.IntegerField(blank=True, null=True, verbose_name=explain(\"desnADirBack\"))\n",
        "desnAIndBack = models.IntegerField(blank=True, null=True, verbose_name=explain(\"desnAIndBack\"))\n",
        "descU = models.IntegerField(blank=True, null=True, verbose_name=explain(\"descU\"))\n",
        "descURing = models.IntegerField(blank=True, null=True, verbose_name=explain(\"descURing\"))\n",
        "descUDet = models.IntegerField(blank=True, null=True, verbose_name=explain(\"descUDet\"))\n",
        "descUIni = models.IntegerField(blank=True, null=True, verbose_name=explain(\"descUIni\"))\n",
        "descUDirFwd = models.IntegerField(blank=True, null=True, verbose_name=explain(\"descUDirFwd\"))\n",
        "descUIndFwd = models.IntegerField(blank=True, null=True, verbose_name=explain(\"descUIndFwd\"))\n",
        "descUDirBack = models.IntegerField(blank=True, null=True, verbose_name=explain(\"descUDirBack\"))\n",
        "descUIndBack = models.IntegerField(blank=True, null=True, verbose_name=explain(\"descUIndBack\"))\n",
        "descA = models.IntegerField(blank=True, null=True, verbose_name=explain(\"descA\"))\n",
        "descARing = models.IntegerField(blank=True, null=True, verbose_name=explain(\"descARing\"))\n",
        "descADet = models.IntegerField(blank=True, null=True, verbose_name=explain(\"descADet\"))\n",
        "descAIni = models.IntegerField(blank=True, null=True, verbose_name=explain(\"descAIni\"))\n",
        "descADirFwd = models.IntegerField(blank=True, null=True, verbose_name=explain(\"descADirFwd\"))\n",
        "descAIndFwd = models.IntegerField(blank=True, null=True, verbose_name=explain(\"descAIndFwd\"))\n",
        "descADirBack = models.IntegerField(blank=True, null=True, verbose_name=explain(\"descADirBack\"))\n",
        "descAIndBack = models.IntegerField(blank=True, null=True, verbose_name=explain(\"descAIndBack\"))\n",
        "adqcU = models.IntegerField(blank=True, null=True, verbose_name=explain(\"adqcU\"))\n",
        "adqcUDir = models.IntegerField(blank=True, null=True, verbose_name=explain(\"adqcUDir\"))\n",
        "adqcUInd = models.IntegerField(blank=True, null=True, verbose_name=explain(\"adqcUInd\"))\n",
        "adqcUAir = models.IntegerField(blank=True, null=True, verbose_name=explain(\"adqcUAir\"))\n",
        "adqnU = models.IntegerField(blank=True, null=True, verbose_name=explain(\"adqnU\"))\n",
        "adqnUDir = models.IntegerField(blank=True, null=True, verbose_name=explain(\"adqnUDir\"))\n",
        "adqnUInd = models.IntegerField(blank=True, null=True, verbose_name=explain(\"adqnUInd\"))\n",
        "adqnUAir = models.IntegerField(blank=True, null=True, verbose_name=explain(\"adqnUAir\"))\n",
        "vaccU = models.IntegerField(blank=True, null=True, verbose_name=explain(\"vaccU\"))\n",
        "vaccUIni = models.IntegerField(blank=True, null=True, verbose_name=explain(\"vaccUIni\"))\n",
        "vaccURing = models.IntegerField(blank=True, null=True, verbose_name=explain(\"vaccURing\"))\n",
        "vaccA = models.IntegerField(blank=True, null=True, verbose_name=explain(\"vaccA\"))\n",
        "vaccAIni = models.IntegerField(blank=True, null=True, verbose_name=explain(\"vaccAIni\"))\n",
        "vaccARing = models.IntegerField(blank=True, null=True, verbose_name=explain(\"vaccARing\"))\n",
        "vacwU = models.IntegerField(blank=True, null=True, verbose_name=explain(\"vacwU\"))\n",
        "vacwUMax = models.IntegerField(blank=True, null=True, verbose_name=explain(\"vacwUMax\"))\n",
        "vacwUMaxDay = models.IntegerField(blank=True, null=True, verbose_name=explain(\"vacwUMaxDay\"))\n",
        "vacwUTimeMax = models.IntegerField(blank=True, null=True, verbose_name=explain(\"vacwUTimeMax\"))\n",
        "vacwUTimeAvg = models.IntegerField(blank=True, null=True, verbose_name=explain(\"vacwUTimeAvg\"))\n",
        "vacwUDaysInQueue = models.IntegerField(blank=True, null=True, verbose_name=explain(\"vacwUDaysInQueue\"))\n",
        "vacwA = models.IntegerField(blank=True, null=True, verbose_name=explain(\"vacwA\"))\n",
        "vacwAMax = models.IntegerField(blank=True, null=True, verbose_name=explain(\"vacwAMax\"))\n",
        "vacwAMaxDay = models.IntegerField(blank=True, null=True, verbose_name=explain(\"vacwAMaxDay\"))\n",
        "vacwATimeMax = models.IntegerField(blank=True, null=True, verbose_name=explain(\"vacwATimeMax\"))\n",
        "vacwATimeAvg = models.IntegerField(blank=True, null=True, verbose_name=explain(\"vacwATimeAvg\"))\n",
        "vacwADaysInQueue = models.IntegerField(blank=True, null=True, verbose_name=explain(\"vacwADaysInQueue\"))\n",
        "expcU = models.IntegerField(blank=True, null=True, verbose_name=explain(\"expcU\"))\n",
        "expcUDir = models.IntegerField(blank=True, null=True, verbose_name=explain(\"expcUDir\"))\n",
        "expcUInd = models.IntegerField(blank=True, null=True, verbose_name=explain(\"expcUInd\"))\n",
        "expcUAir = models.IntegerField(blank=True, null=True, verbose_name=explain(\"expcUAir\"))\n",
        "expcA = models.IntegerField(blank=True, null=True, verbose_name=explain(\"expcA\"))\n",
        "expcADir = models.IntegerField(blank=True, null=True, verbose_name=explain(\"expcADir\"))\n",
        "expcAInd = models.IntegerField(blank=True, null=True, verbose_name=explain(\"expcAInd\"))\n",
        "expcAAir = models.IntegerField(blank=True, null=True, verbose_name=explain(\"expcAAir\"))\n",
        "expnU = models.IntegerField(blank=True, null=True, verbose_name=explain(\"expnU\"))\n",
        "expnUDir = models.IntegerField(blank=True, null=True, verbose_name=explain(\"expnUDir\"))\n",
        "expnUInd = models.IntegerField(blank=True, null=True, verbose_name=explain(\"expnUInd\"))\n",
        "expnUAir = models.IntegerField(blank=True, null=True, verbose_name=explain(\"expnUAir\"))\n",
        "expnA = models.IntegerField(blank=True, null=True, verbose_name=explain(\"expnA\"))\n",
        "expnADir = models.IntegerField(blank=True, null=True, verbose_name=explain(\"expnADir\"))\n",
        "expnAInd = models.IntegerField(blank=True, null=True, verbose_name=explain(\"expnAInd\"))\n",
        "expnAAir = models.IntegerField(blank=True, null=True, verbose_name=explain(\"expnAAir\"))\n",
        "deswU = models.IntegerField(blank=True, null=True, verbose_name=explain(\"deswU\"))\n",
        "deswA = models.IntegerField(blank=True, null=True, verbose_name=explain(\"deswA\"))\n",
        "infcU = models.IntegerField(blank=True, null=True, verbose_name=explain(\"infcU\"))\n",
        "infcUIni = models.IntegerField(blank=True, null=True, verbose_name=explain(\"infcUIni\"))\n",
        "infcUDir = models.IntegerField(blank=True, null=True, verbose_name=explain(\"infcUDir\"))\n",
        "infcUInd = models.IntegerField(blank=True, null=True, verbose_name=explain(\"infcUInd\"))\n",
        "infcUAir = models.IntegerField(blank=True, null=True, verbose_name=explain(\"infcUAir\"))\n",
        "infcA = models.IntegerField(blank=True, null=True, verbose_name=explain(\"infcA\"))\n",
        "infcAIni = models.IntegerField(blank=True, null=True, verbose_name=explain(\"infcAIni\"))\n",
        "infcADir = models.IntegerField(blank=True, null=True, verbose_name=explain(\"infcADir\"))\n",
        "infcAInd = models.IntegerField(blank=True, null=True, verbose_name=explain(\"infcAInd\"))\n",
        "infcAAir = models.IntegerField(blank=True, null=True, verbose_name=explain(\"infcAAir\"))\n",
        "infnU = models.IntegerField(blank=True, null=True, verbose_name=explain(\"infnU\"))\n",
        "infnUIni = models.IntegerField(blank=True, null=True, verbose_name=explain(\"infnUIni\"))\n",
        "infnUDir = models.IntegerField(blank=True, null=True, verbose_name=explain(\"infnUDir\"))\n",
        "infnUInd = models.IntegerField(blank=True, null=True, verbose_name=explain(\"infnUInd\"))\n",
        "infnUAir = models.IntegerField(blank=True, null=True, verbose_name=explain(\"infnUAir\"))\n",
        "infnA = models.IntegerField(blank=True, null=True, verbose_name=explain(\"infnA\"))\n",
        "infnAIni = models.IntegerField(blank=True, null=True, verbose_name=explain(\"infnAIni\"))\n",
        "infnADir = models.IntegerField(blank=True, null=True, verbose_name=explain(\"infnADir\"))\n",
        "infnAInd = models.IntegerField(blank=True, null=True, verbose_name=explain(\"infnAInd\"))\n",
        "infnAAir = models.IntegerField(blank=True, null=True, verbose_name=explain(\"infnAAir\"))\n",
        "firstVaccination = models.IntegerField(blank=True, null=True, verbose_name=explain(\"firstVaccination\"))\n",
        "firstVaccinationRing = models.IntegerField(blank=True, null=True, verbose_name=explain(\"firstVaccinationRing\"))\n",
        "firstDestruction = models.IntegerField(blank=True, null=True, verbose_name=explain(\"firstDestruction\"))\n",
        "firstDestructionRing = models.IntegerField(blank=True, null=True, verbose_name=explain(\"firstDestructionRing\"))\n",
        "firstDestructionDet = models.IntegerField(blank=True, null=True, verbose_name=explain(\"firstDestructionDet\"))\n",
        "firstDestructionDirFwd = models.IntegerField(blank=True, null=True, verbose_name=explain(\"firstDestructionDirFwd\"))\n",
        "firstDestructionIndFwd = models.IntegerField(blank=True, null=True, verbose_name=explain(\"firstDestructionIndFwd\"))\n",
        "firstDestructionDirBack = models.IntegerField(blank=True, null=True, verbose_name=explain(\"firstDestructionDirBack\"))\n",
        "firstDestructionIndBack = models.IntegerField(blank=True, null=True, verbose_name=explain(\"firstDestructionIndBack\"))\n"
       ]
      }
     ],
     "input": [
      "for field in fields:\n",
      "    print(field, '= models.IntegerField(blank=True, null=True, verbose_name=explain(\"%s\"))' % field)"
     ],
     "language": "python",
     "prompt_number": 7
    },
    {
     "cell_type": "code",
     "metadata": {},
     "outputs": [
      {
       "output_type": "pyout",
       "prompt_number": 2,
       "text": [
        "('', ['Detection', 'Cumulative', 'Units', 'Clinical'])"
       ],
       "metadata": {}
      }
     ],
     "input": [
      "def push_explanation(field_name, start, explanation=None):\n",
      "    if not explanation:\n",
      "        explanation = []\n",
      "    explanation.append(explanations[start])\n",
      "    return field_name.replace(start, '', 1), explanation\n",
      "\n",
      "def explain2(field_name):\n",
      "    start = sorted([k for k in grammars.keys() if field_name.startswith(k)], key=len)\n",
      "    start = start[-1]  #last one is the longest\n",
      "    grammar = grammars[start]\n",
      "    field_name, explanation = push_explanation(field_name, start)\n",
      "    for piece in grammar[:-1]:  #skip production type tuple at the end\n",
      "        for option in piece:\n",
      "            if field_name.startswith(option):\n",
      "                field_name, explanation = push_explanation(field_name, option, explanation)\n",
      "                break # go up on for loop level\n",
      "    return field_name, explanation\n",
      "explain2('detcUClin')"
     ],
     "language": "python",
     "prompt_number": 2
    },
    {
     "cell_type": "code",
     "metadata": {},
     "outputs": [
      {
       "output_type": "pyout",
       "prompt_number": 3,
       "text": [
        "['Exposure New Units',\n",
        " 'First Destruction',\n",
        " 'First Detection',\n",
        " 'First Vaccination',\n",
        " 'Infection New Units',\n",
        " 'Last Detection']"
       ],
       "metadata": {}
      }
     ],
     "input": [
      "def explain(field_name, explained_parts=None):\n",
      "    \"\"\"Recursively breaks a field name down into parts and explains each piece.  If you're having trouble\n",
      "    with this method after adding new fields, you'll need to modify explanations{} to have longer prefixes,\n",
      "    or modify this algorithm so that it doesn't shortcut down a dead end.\"\"\"\n",
      "    if explained_parts is None:  # It's import you don't initialize this in the signature, it side-effects the result since [] is mutable\n",
      "        explained_parts = []\n",
      "    if not field_name:\n",
      "        return ' '.join(explained_parts)\n",
      "\n",
      "    if field_name in explanations.keys():  # shortcut the larger cases\n",
      "        explained_parts.append(explanations[field_name])  # at the beginning\n",
      "        return explain('', explained_parts)\n",
      "\n",
      "    for suffix in explanations.keys():\n",
      "        if field_name.startswith(suffix):\n",
      "            explained_parts.append(explanations[suffix])  # at the beginning\n",
      "            return explain(field_name[len(suffix) : ], explained_parts)\n",
      "    #If we reach here it is because there's a string that couldn't be explained\n",
      "    raise ValueError(\"Got a field name that doesn't match anything in explanations: %s, %s\" % (str(explained_parts), str(field_name)))\n",
      "    \n",
      "results = [explain(x) for x in fields]\n",
      "list(filter(lambda desc: len(desc) < 20, results))"
     ],
     "language": "python",
     "prompt_number": 3
    },
    {
     "cell_type": "heading",
     "metadata": {},
     "level": 1,
     "source": [
      "All the work that led up to Final Solution"
     ]
    },
    {
     "cell_type": "code",
     "metadata": {},
     "outputs": [],
     "input": [
      "import re"
     ],
     "language": "python",
     "prompt_number": 4
    },
    {
     "cell_type": "code",
     "metadata": {},
     "outputs": [],
     "input": [
      "tables_code = \"\"\"class DailyByProductionType(models.Model):\n",
      "    iteration = models.IntegerField(blank=True, null=True,\n",
      "        help_text='The iteration during which the outputs in this records where generated.', )\n",
      "    production_type = models.ForeignKey(ProductionType,\n",
      "        help_text='The identifier of the production type that these outputs apply to.', )\n",
      "    day = models.IntegerField(blank=True, null=True,\n",
      "        help_text='The day within the iteration on which these outputs were generated.', )\n",
      "    transition_state_daily_unit_susceptible = models.IntegerField(blank=True, null=True,\n",
      "        help_text='Number of units that are or become susceptible on the given day', )\n",
      "    transition_state_daily_animal_susceptible = models.IntegerField(blank=True, null=True,\n",
      "        help_text='Total number of animals in all units that are or become susceptible on the given day', )\n",
      "    transition_state_daily_unit_latent = models.IntegerField(blank=True, null=True,\n",
      "        help_text='Number of units that are or become latent on the given day', )\n",
      "    transition_state_daily_animal_latent = models.IntegerField(blank=True, null=True,\n",
      "        help_text='Total number of animals in all units that are or become latent on the given day', )\n",
      "    transition_state_daily_unit_subclinical = models.IntegerField(blank=True, null=True,\n",
      "        help_text='Number of units that are or become subclinically infectious on the given day', )\n",
      "    transition_state_daily_animal_subclinical = models.IntegerField(blank=True, null=True,\n",
      "        help_text='Total number of animals in all units that are or become infectious on the given day', )\n",
      "    transition_state_daily_unit_clinical = models.IntegerField(blank=True, null=True,\n",
      "        help_text='Number of units that are or become clinical on the given day', )\n",
      "    transition_state_daily_animal_clinical = models.IntegerField(blank=True, null=True,\n",
      "        help_text='Total number of animals in all units that are or become clinical on the given day', )\n",
      "    transition_state_daily_unit_nat_immune = models.IntegerField(blank=True, null=True,\n",
      "        help_text='Number of units that are or become naturally immune on the given day', )\n",
      "    transition_state_daily_animal_nat_immune = models.IntegerField(blank=True, null=True,\n",
      "        help_text='Total number of animals in all units that are or become naturally immune on the given day', )\n",
      "    transition_state_daily_unit_vac_immune = models.IntegerField(blank=True, null=True,\n",
      "        help_text='Number of units that are or become vaccine immuneon the given day', )\n",
      "    transition_state_daily_animal_vac_immune = models.IntegerField(blank=True, null=True,\n",
      "        help_text='Total number of animals in all units that are or become vaccine immune on the given day', )\n",
      "    transition_state_daily_unit_destroyed = models.IntegerField(blank=True, null=True,\n",
      "        help_text='Number of units that are destroyed on the given day', )\n",
      "    transition_state_daily_animal_destroyed = models.IntegerField(blank=True, null=True,\n",
      "        help_text='Total number of animals in all units that are destroyed on the given day', )\n",
      "    transition_state_cum_unit_susceptible = models.IntegerField(blank=True, null=True,\n",
      "        help_text='Number of units that are or become susceptible over the course of an iteration', )\n",
      "    transition_state_cum_animal_susceptible = models.IntegerField(blank=True, null=True,\n",
      "        help_text='Total number of animals in all units that are or become susceptible over the course of an iteration', )\n",
      "    transition_state_cum_unit_latent = models.IntegerField(blank=True, null=True,\n",
      "        help_text='Number of units that are or become latent over the course of an iteration', )\n",
      "    transition_state_cum_animal_latent = models.IntegerField(blank=True, null=True,\n",
      "        help_text='Total number of animals in all units that are or become latent over the course of an iteration', )\n",
      "    transition_state_cum_unit_subclinical = models.IntegerField(blank=True, null=True,\n",
      "        help_text='Number of units that are or become subclinically infectious over the course of an iteration', )\n",
      "    transition_state_cum_animal_subclinical = models.IntegerField(blank=True, null=True,\n",
      "        help_text='Total number of animals in all units that are or become infectious over the course of an iteration', )\n",
      "    transition_state_cum_unit_clinical = models.IntegerField(blank=True, null=True,\n",
      "        help_text='Number of units that are or become clinical over the course of an iteration', )\n",
      "    transition_state_cum_animal_clinical = models.IntegerField(blank=True, null=True,\n",
      "        help_text='Total number of animals in all units that are or become clinical over the course of an iteration', )\n",
      "    transition_state_cum_unit_nat_immune = models.IntegerField(blank=True, null=True,\n",
      "        help_text='Number of units that are or become naturally immune over the course of an iteration', )\n",
      "    transition_state_cum_animal_nat_immune = models.IntegerField(blank=True, null=True,\n",
      "        help_text='Total number of animals in all units that are or become naturally immune over the course of an iteration', )\n",
      "    transition_state_cum_unit_vac_immune = models.IntegerField(blank=True, null=True,\n",
      "        help_text='Number of units that are or become vaccine immune over the course of an iteration', )\n",
      "    transition_state_cum_animal_vac_immune = models.IntegerField(blank=True, null=True,\n",
      "        help_text='Total number of animals in all units that are or become vaccine immune over the course of an iteration', )\n",
      "    transition_state_cum_unit_destroyed = models.IntegerField(blank=True, null=True,\n",
      "        help_text='Number of units that are destroyed over the course of an iteration', )\n",
      "    transition_state_cum_animal_destroyed = models.IntegerField(blank=True, null=True,\n",
      "        help_text='Total number of animals in all units that are destroyed over the course of an iteration', )\n",
      "    infection_new_unit_air = models.IntegerField(blank=True, null=True,\n",
      "        help_text='(infections new units airborne) Number of units that become infected by airborne spread on a given day', )\n",
      "    infection_new_animal_air = models.IntegerField(blank=True, null=True,\n",
      "        help_text='(infections new animals airborne) Number of animals in units that become infected by airborne spread on a given day', )\n",
      "    infection_new_unit_dir = models.IntegerField(blank=True, null=True,\n",
      "        help_text='(infections new units direct)Number of units that become infected by direct contact on a given day', )\n",
      "    infection_new_animal_dir = models.IntegerField(blank=True, null=True,\n",
      "        help_text='(infections new animals direct)  Number of animals in units that become infected by direct contact on a given day', )\n",
      "    infection_new_unit_ind = models.IntegerField(blank=True, null=True,\n",
      "        help_text='(infections new animals indirect) Number of units that become infected by indirect contact on a given day', )\n",
      "    infection_new_animal_ind = models.IntegerField(blank=True, null=True,\n",
      "        help_text='(infections new animals indirect) Number of animals in units that become infected by indirect contact on a given day', )\n",
      "    infection_cum_unit_initial = models.IntegerField(blank=True, null=True,\n",
      "        help_text='Number of units that are initially infected at the beginning of an iteration', )\n",
      "    infection_cum_animal_initial = models.IntegerField(blank=True, null=True,\n",
      "        help_text='Number of animals in units that are initially infected at the beginning of an iteration', )\n",
      "    infection_cum_unit_air = models.IntegerField(blank=True, null=True,\n",
      "        help_text='Number of units that become infected by airborne spread over the course of an iteration', )\n",
      "    infection_cum_animal_air = models.IntegerField(blank=True, null=True,\n",
      "        help_text='Number of animals in units that become infected by airborne spread over the course of an iteration', )\n",
      "    infection_cum_unit_dir = models.IntegerField(blank=True, null=True,\n",
      "        help_text='Number of units that become infected by direct contact over the course of an iteration', )\n",
      "    infection_cum_animal_dir = models.IntegerField(blank=True, null=True,\n",
      "        help_text='Number of animals that become infected by direct contact over the course of an iteration', )\n",
      "    infection_cum_unit_ind = models.IntegerField(blank=True, null=True,\n",
      "        help_text='Number of units that become infected by indirect contact over the course of an iteration', )\n",
      "    infection_cum_animal_ind = models.IntegerField(blank=True, null=True,\n",
      "        help_text='Number of animals in units that become infected by indirect contact over the course of an iteration', )\n",
      "    exposed_cum_unit_dir = models.IntegerField(blank=True, null=True,\n",
      "        help_text='Total number of units directly exposed to any infected unit over the course of an iteration', )\n",
      "    exposed_cum_animal_dir = models.IntegerField(blank=True, null=True,\n",
      "        help_text='Total number of animals in units directly exposed to any infected unit over the course of an iteration', )\n",
      "    exposed_cum_unit_ind = models.IntegerField(blank=True, null=True,\n",
      "        help_text='Total number of units indirectly exposed to any infected unit over the course of an iteration', )\n",
      "    exposed_cum_animal_ind = models.IntegerField(blank=True, null=True,\n",
      "        help_text='Total number of animals in units indirectly exposed to any infected unit over the course of an iteration', )\n",
      "    trace_cum_unit_dir_fwd = models.IntegerField(blank=True, null=True,\n",
      "        help_text='Total number of animals in all units directly exposed and successfully traced forward over the course of an iteration', )\n",
      "    trace_cum_animal_dir_fwd = models.IntegerField(blank=True, null=True,\n",
      "        help_text='Total number of animals in all units directly exposed and successfully traced forward over the course of an iteration', )\n",
      "    trace_cum_unit_ind_fwd = models.IntegerField(blank=True, null=True,\n",
      "        help_text='Number of units indirectly exposed and successfully traced forward over the course of an iteration', )\n",
      "    trace_cum_animal_ind_fwd = models.IntegerField(blank=True, null=True,\n",
      "        help_text='Total number of animals in all units indirectly exposed and successfully traced forward over the course of an iteration', )\n",
      "    trace_cum_unit_dir_p_fwd = models.IntegerField(blank=True, null=True,\n",
      "        help_text='Number of units directly exposed that could possibly have been traced forward over the course of an iteration', )\n",
      "    trace_cum_animal_dir_p_fwd = models.IntegerField(blank=True, null=True,\n",
      "        help_text='Total number of animals in all units directly exposed that could possibly have been traced forward over the course of an iteration', )\n",
      "    trace_cum_unit_ind_p_fwd = models.IntegerField(blank=True, null=True,\n",
      "        help_text='Number of units indirectly exposed that could possibly have been traced forward over the course of an iteration', )\n",
      "    trace_cum_animal_ind_p_fwd = models.IntegerField(blank=True, null=True,\n",
      "        help_text='Total number of animals in units indirectly exposed that could possibly have been traced forward over the course of an iteration', )\n",
      "    trace_origin_cum_unit_dir_fwd = models.IntegerField(blank=True, null=True,\n",
      "        help_text='Number of trace-forwards of direct contact that originate at units of the designated type over the course of an iteration', )\n",
      "    trace_origin_cum_unit_ind_fwd = models.IntegerField(blank=True, null=True,\n",
      "        help_text='Number of trace-forwards of indirect contact that originate at units of the designated type over the course of an iteration', )\n",
      "    trace_origin_cum_unit_dir_back = models.IntegerField(blank=True, null=True,\n",
      "        help_text='Number of trace-backs of direct contact that originate at units of the designated type over the course of an iteration', )\n",
      "    trace_origin_cum_unit_ind_back = models.IntegerField(blank=True, null=True,\n",
      "        help_text='Number of trace-backs of indirect contact that originate at units of the designated type over the course of an iteration', )\n",
      "    trace_new_unit_dir_fwd = models.IntegerField(blank=True, null=True,\n",
      "        help_text='(trace new Units Direct contact Forward trace) Total number of units directly exposed and successfully traced forward on the given day', )\n",
      "    trace_new_animal_dir_fwd = models.IntegerField(blank=True, null=True,\n",
      "        help_text='(trace new Animals Direct contact Forward trace) Total number of animals in all units directly exposed and successfully traced forward on the given day', )\n",
      "    trace_new_unit_ind_fwd = models.IntegerField(blank=True, null=True,\n",
      "        help_text='(trace new Units Indirect contact forward trace) Number of units indirectly exposed and successfully traced forward on the given day', )\n",
      "    trace_new_animal_ind_fwd = models.IntegerField(blank=True, null=True,\n",
      "        help_text='(trace new Animals Indirect contact forward trace) Total number of animals in all units indirectly exposed and successfully traced forward on the given day', )\n",
      "    trace_cum_unit_dir_back = models.IntegerField(blank=True, null=True,\n",
      "        help_text='Number of units successfully traced back from a detected unit after direct contact over the course of the iteration', )\n",
      "    trace_cum_animal_dir_back = models.IntegerField(blank=True, null=True,\n",
      "        help_text='Total number of animals in units successfully traced back from a detected unit over the course of the iteration', )\n",
      "    trace_cum_unit_ind_back = models.IntegerField(blank=True, null=True,\n",
      "        help_text='Number of units successfully traced back from a detected unit after indirect contact over the course of the iteration', )\n",
      "    trace_cum_animal_ind_back = models.IntegerField(blank=True, null=True,\n",
      "        help_text='Total number of animals in units successfully traced back from a detected unit after indirect contact over the course of the iteration', )\n",
      "    trace_cum_unit_dir_p_back = models.IntegerField(blank=True, null=True,\n",
      "        help_text='Number of units that could possibly have been traced back from a detected unit after direct contact over the course of the iteration', )\n",
      "    trace_cum_animal_dir_p_back = models.IntegerField(blank=True, null=True,\n",
      "        help_text='Total number of animals in units that could possibly have been traced back from a detected unit after direct contact over the course of the iteration', )\n",
      "    trace_cum_unit_ind_p_back = models.IntegerField(blank=True, null=True,\n",
      "        help_text='Number of units that could possibly have been traced back from a detected unit after indirect contact over the course of the iteration', )\n",
      "    trace_cum_animal_ind_p_back = models.IntegerField(blank=True, null=True,\n",
      "        help_text='Total number of animals in units that could possibly have been traced back from a detected unit after indirect contact over the course of the iteration', )\n",
      "    trace_new_unit_dir_back = models.IntegerField(blank=True, null=True,\n",
      "        help_text='(trace new Units direct contact backwards trace) Number of units successfully traced back from a detected unit after direct contact on the given day', )\n",
      "    trace_new_animal_dir_back = models.IntegerField(blank=True, null=True,\n",
      "        help_text='(trace new Units direct contact backwards trace) Total number of animals in units successfully traced back from a detected unit on the given day', )\n",
      "    trace_new_u_ind_back = models.IntegerField(blank=True, null=True,\n",
      "        help_text='(trace new Units Indirect contact backwards trace)  Number of units successfully traced back from a detected unit after indirect contact on the given day', )\n",
      "    trace_new_animal_ind_back = models.IntegerField(blank=True, null=True,\n",
      "        help_text='(trace new Units Indirect contact Backwards trace) Total number of animals in units successfully traced back from a detected unit after indirect contact on the given day', )\n",
      "    trace_origin_new_unit_dir_fwd = models.IntegerField(blank=True, null=True,\n",
      "        help_text='(Trace origin new units direct contact forward)  Number of trace-forwards of direct contact that originate at units of the designated type on the given day', )\n",
      "    trace_origin_new_unit_ind_fwd = models.IntegerField(blank=True, null=True,\n",
      "        help_text='Number of trace-backs of direct contact that originate at units of the designated type on the given day', )\n",
      "    trace_origin_new_unit_dir_back = models.IntegerField(blank=True, null=True,\n",
      "        help_text='Number of trace-forwards of indirect contact that originate at units of the designated type on the given day', )\n",
      "    trace_origin_new_unit_ind_back = models.IntegerField(blank=True, null=True,\n",
      "        help_text='Number of trace-backs of indirect contact that originate at units of the designated type on the given day', )\n",
      "    exam_cum_unit_dir_fwd = models.IntegerField(blank=True, null=True,\n",
      "        help_text='Number of units subjected to a unit exam after a trace-forward of direct contact over the course of the iteration', )\n",
      "    exam_cum_animal_dir_fwd = models.IntegerField(blank=True, null=True,\n",
      "        help_text='Total number of animals in units subjected to a unit exam after a trace-forward of direct contact over the course of the iteration', )\n",
      "    exam_cum_unit_ind_fwd = models.IntegerField(blank=True, null=True,\n",
      "        help_text='Number of units subjected to a unit exam after a trace-forward of indirect contact over the course of the iteration', )\n",
      "    exam_cum_animal_ind_fwd = models.IntegerField(blank=True, null=True,\n",
      "        help_text='Total number of animals in units subjected to a unit exam after a trace-forward of indirect contact over the course of the iteration', )\n",
      "    exam_cum_unit_dir_back = models.IntegerField(blank=True, null=True,\n",
      "        help_text='Number of units subjected to a unit exam after a trace-back of direct contact over the course of the iteration', )\n",
      "    exam_cum_animal_dir_back = models.IntegerField(blank=True, null=True,\n",
      "        help_text='Total number of animals in units subjected to a unit exam after a trace-back of direct contact over the course of the iteration', )\n",
      "    exam_cum_unit_ind_back = models.IntegerField(blank=True, null=True,\n",
      "        help_text='Number of units subjected to a unit exam after a trace-back of indirect contact over the course of the iteration', )\n",
      "    exam_cum_animal_ind_back = models.IntegerField(blank=True, null=True,\n",
      "        help_text='Total number of animals in units subjected to a unit exam after a trace-back of indirect contact over the course of the iteration', )\n",
      "    exam_new_unit_all = models.IntegerField(blank=True, null=True,\n",
      "        help_text='(exam new Units All)  Number of units examined for any reason on the given day.', )\n",
      "    exam_new_animal_all = models.IntegerField(blank=True, null=True,\n",
      "        help_text='(exam new Animals All)  Number of animals in units examined for any reason on the given day', )\n",
      "    test_cum_unit_dir_fwd = models.IntegerField(blank=True, null=True,\n",
      "        help_text='Number of units subjected to diagnostic testing after a trace-forward of direct contact over the course of the iteration', )\n",
      "    test_cum_animal_dir_fwd = models.IntegerField(blank=True, null=True,\n",
      "        help_text='Total number of animals in units subjected to diagnostic testing after a trace-forward of direct contact over the course of the iteration', )\n",
      "    test_cum_unit_ind_fwd = models.IntegerField(blank=True, null=True,\n",
      "        help_text='Number of units subjected to diagnostic testing after a trace-forward of indirect contact over the course of the iteration', )\n",
      "    test_cum_animal_ind_fwd = models.IntegerField(blank=True, null=True,\n",
      "        help_text='Total number of animals in units subjected to diagnostic testing after a trace-forward of indirect contact over the course of the iteration', )\n",
      "    test_cum_unit_dir_back = models.IntegerField(blank=True, null=True,\n",
      "        help_text='Number of units subjected to diagnostic testing after a trace-back of direct contact over the course of the iteration', )\n",
      "    test_cum_animal_dir_back = models.IntegerField(blank=True, null=True,\n",
      "        help_text='Total number of animals in units subjected to diagnostic testing after a trace-back of direct contact over the course of the iteration', )\n",
      "    test_cum_unit_ind_back = models.IntegerField(blank=True, null=True,\n",
      "        help_text='Number of units subjected to diagnostic testing after a trace-back of indirect contact over the course of the iteration', )\n",
      "    test_cum_animal_ind_back = models.IntegerField(blank=True, null=True,\n",
      "        help_text='Total number of animals in units subjected to diagnostic testing after a trace-back of indirect contact over the course of the iteration', )\n",
      "    test_cum_unit_true_pos = models.IntegerField(blank=True, null=True,\n",
      "        help_text='Number of tested units with a true positive diagnostic test result over the course of the iteration', )\n",
      "    test_cum_animal_true_pos = models.IntegerField(blank=True, null=True,\n",
      "        help_text='Total number of animals in tested units with a true positive diagnostic test result over the course of the iteration', )\n",
      "    test_new_unit_true_pos = models.IntegerField(blank=True, null=True,\n",
      "        help_text='(test new Units True Positive)  Number of tested units with a true positive diagnostic test on the given day.', )\n",
      "    test_new_animal_true_pos = models.IntegerField(blank=True, null=True,\n",
      "        help_text='(test new Animals True Positive)  Number of animals in tested units with a true positive diagnostic test on the given day.', )\n",
      "    test_cum_unit_true_neg = models.IntegerField(blank=True, null=True,\n",
      "        help_text='Number of tested units with a true negative diagnostic test result over the course of the iteration', )\n",
      "    test_cum_animal_true_neg = models.IntegerField(blank=True, null=True,\n",
      "        help_text='Total number of animals in tested units with a true negative diagnostic test result over the course of the iteration', )\n",
      "    test_new_unit_true_neg = models.IntegerField(blank=True, null=True,\n",
      "        help_text='(test cumulative Units True Negative) Number of tested units with a true negative diagnostic test result over the course of the iteration.', )\n",
      "    test_new_animal_true_neg = models.IntegerField(blank=True, null=True,\n",
      "        help_text='(test cumulative Animals True Negative) Total number of animals in tested units with a true negative diagnostic test result over the course of the iteration.', )\n",
      "    test_cum_unit_false_pos = models.IntegerField(blank=True, null=True,\n",
      "        help_text='Number of tested units with a false positive diagnostic test result over the course of the iteration', )\n",
      "    test_cum_animal_false_pos = models.IntegerField(blank=True, null=True,\n",
      "        help_text='Total number of animals in tested units with a false positive diagnostic test result over the course of the iteration', )\n",
      "    test_new_unit_false_pos = models.IntegerField(blank=True, null=True,\n",
      "        help_text='(test new Units False Positive) Number of tested units with a false positive diagnostic test on the given day.', )\n",
      "    test_new_animal_false_pos = models.IntegerField(blank=True, null=True,\n",
      "        help_text='(test new Animals False Positive) Number of animals in tested units with a false positive diagnostic test on the given day.', )\n",
      "    test_cum_unit_false_neg = models.IntegerField(blank=True, null=True,\n",
      "        help_text='Number of tested units with a false negative diagnostic test result over the course of the iteration', )\n",
      "    test_cum_animal_false_neg = models.IntegerField(blank=True, null=True,\n",
      "        help_text='Total number of animals in tested units with a false negative diagnostic test result over the course of the iteration', )\n",
      "    test_new_unit_false_neg = models.IntegerField(blank=True, null=True,\n",
      "        help_text='(test new Units False Negative) Number of tested units with a false negative diagnostic test on the given day.', )\n",
      "    test_new_animal_false_neg = models.IntegerField(blank=True, null=True,\n",
      "        help_text='(test new Animals False Negative) Number of animals in tested units with a false negative diagnostic test on the given day.', )\n",
      "    detect_new_unit_clin = models.IntegerField(blank=True, null=True,\n",
      "        help_text='Number of units detected by clinical signs on the given day', )\n",
      "    detect_new_animal_clin = models.IntegerField(blank=True, null=True,\n",
      "        help_text='Total number of animals in all units detected by clinical signs on the given day', )\n",
      "    detect_cum_unit_clin = models.IntegerField(blank=True, null=True,\n",
      "        help_text='Number of units detected by clinical signs over the course of an iteration', )\n",
      "    detect_cum_animal_clin = models.IntegerField(blank=True, null=True,\n",
      "        help_text='Total number of animals in all units detected by clinical signs over the course of an iteration', )\n",
      "    detect_new_unit_test = models.IntegerField(blank=True, null=True,\n",
      "        help_text='(detection new Units Tested)  Number of units detected by diagnostic testing on the given day.  This value includes true- as well as false-positive units.', )\n",
      "    detect_new_animal_test = models.IntegerField(blank=True, null=True,\n",
      "        help_text='(detection new Animals Tested)  Total number of animals in units detected by diagnostic testing on the given day.', )\n",
      "    detect_cum_unit_test = models.IntegerField(blank=True, null=True,\n",
      "        help_text='Number of units detected by diagnostic testing over the course of the iteration. This value includes true- as well as false-positive units', )\n",
      "    detect_cum_animal_test = models.IntegerField(blank=True, null=True,\n",
      "        help_text='Total number of animals in units detected by diagnostic testing over the course of the iteration', )\n",
      "    destroy_cum_unit_initial = models.IntegerField(blank=True, null=True,\n",
      "        help_text='Number of units destroyed prior to the start of the simulation', )\n",
      "    destroy_cum_animal_initial = models.IntegerField(blank=True, null=True,\n",
      "        help_text='Total number of animals in units destroyed prior to the start of the simulation', )\n",
      "    destroy_cum_unit_detect = models.IntegerField(blank=True, null=True,\n",
      "        help_text='Number of units destroyed because disease was detected over the course of an iteration', )\n",
      "    destroy_cum_animal_detect = models.IntegerField(blank=True, null=True,\n",
      "        help_text='Total number of animals in units destroyed because disease was detected over the course of an iteration', )\n",
      "    destroy_cum_unit_dir_fwd = models.IntegerField(blank=True, null=True,\n",
      "        help_text='Number of units destroyed due to a successful trace forward of direct contact with an infected unit over the course of the iteration', )\n",
      "    destroy_cum_animal_dir_fwd = models.IntegerField(blank=True, null=True,\n",
      "        help_text='Total number of animals in units destroyed due to a successful trace forward of direct contact with an infected unit over the course of the iteration', )\n",
      "    destroy_cum_unit_ind_fwd = models.IntegerField(blank=True, null=True,\n",
      "        help_text='Number of units destroyed due to a successful trace forward of indirect contact with an infected unit over the course of the iteration', )\n",
      "    destroy_cum_animal_ind_fwd = models.IntegerField(blank=True, null=True,\n",
      "        help_text='Total number of animals in units destroyed due to a successful trace forward of indirect contact with an infected unit over the course of the iteration', )\n",
      "    destroy_cum_unit_dir_back = models.IntegerField(blank=True, null=True,\n",
      "        help_text='Number of units destroyed due to a successful trace back of direct contact with an infected unit over the course of the iteration', )\n",
      "    destroy_cum_animal_dir_back = models.IntegerField(blank=True, null=True,\n",
      "        help_text='Total number of animals in units destroyed due to a successful trace back of direct contact with an infected unit over the course of the iteration', )\n",
      "    destroy_cum_unit_ind_back = models.IntegerField(blank=True, null=True,\n",
      "        help_text='Number of units destroyed due to a successful trace back of indirect contact with an infected unit over the course of the iteration', )\n",
      "    destroy_cum_animal_ind_back = models.IntegerField(blank=True, null=True,\n",
      "        help_text='Total number of animals in units destroyed due to a successful trace back of indirect contact with an infected unit over the course of the iteration', )\n",
      "    destroy_cum_unit_ring = models.IntegerField(blank=True, null=True,\n",
      "        help_text='Number of units destroyed because they were in a destruction ring over the course of an iteration', )\n",
      "    destroy_cum_animal_ring = models.IntegerField(blank=True, null=True,\n",
      "        help_text='Total number of animals in units destroyed because they were in a destruction ring over the course of an iteration', )\n",
      "    destroy_new_unit_all = models.IntegerField(blank=True, null=True,\n",
      "        help_text='Number of units that are new for a given day of all production types that have moved into tjhe destruction que.', )\n",
      "    destroy_new_animal_all = models.IntegerField(blank=True, null=True,\n",
      "        help_text='Number of animals that are new for a given day of all production types that have moved into tjhe destruction que.', )\n",
      "    destroy_wait_unit_all = models.IntegerField(blank=True, null=True,\n",
      "        help_text='(destruction waiting Units All)  Total number of units awaiting destruction on the indicated day.', )\n",
      "    destroy_wait_animal_all = models.IntegerField(blank=True, null=True,\n",
      "        help_text='(destruction waiting Animals All)  Total number of animals awaiting destruction on the indicated day.', )\n",
      "    vac_cum_unit_initial = models.IntegerField(blank=True, null=True,\n",
      "        help_text='Number of units that were vaccine immune prior to the start of the simulation', )\n",
      "    vac_cum_animal_initial = models.IntegerField(blank=True, null=True,\n",
      "        help_text='Total number of animals in units that were vaccine immune prior to the start of the simulation', )\n",
      "    vac_cum_unit_ring = models.IntegerField(blank=True, null=True,\n",
      "        help_text='Number of units vaccinated in rings around detected-infected units over the course of an iteration', )\n",
      "    vac_cum_animal_ring = models.IntegerField(blank=True, null=True,\n",
      "        help_text='Total number of animals in all units vaccinated in rings around detected-infected units over the course of an iteration', )\n",
      "    vac_new_unit_all = models.IntegerField(blank=True, null=True,\n",
      "        help_text='Number of units vaccinated for any reason over the course of an iteration (not including initially infected units)', )\n",
      "    vac_new_animal_all = models.IntegerField(blank=True, null=True,\n",
      "        help_text='Total number of animals in all units vaccinated for any reason over the course of an iteration (not including initially infected units)', )\n",
      "    vac_wait_unit_all = models.IntegerField(blank=True, null=True,\n",
      "        help_text='(vaccination waiting Units All)  Total number of units awaiting vaccination on the indicated day.  Units that are present in the vaccination queue multiple times will count multiple times toward this total.', )\n",
      "    vac_wait_animal_all = models.IntegerField(blank=True, null=True,\n",
      "        help_text='(vaccination waiting Animals All)  Total number of animals awaiting vaccination on the indicated day.  Units that are present in the vaccination queue multiple times will count multiple times toward this total.', )\n",
      "    zone_new_foci = models.IntegerField(blank=True, null=True,\n",
      "        help_text='Total number of new zone foci created around units of the indicated type on the given day ', )\n",
      "    zone_cum_foci = models.IntegerField(blank=True, null=True,\n",
      "        help_text='Total number of new zone foci created around units of the indicated type over the course of an iteration', )\n",
      "\n",
      "\n",
      "class DailyByZone(models.Model):\n",
      "    iteration = models.IntegerField(blank=True, null=True,\n",
      "        help_text='The iteration during which the outputs in this records where generated.', )\n",
      "    day = models.IntegerField(blank=True, null=True,\n",
      "        help_text='The day within the iteration on which these outputs were generated.', )\n",
      "    zone = models.ForeignKey(Zone,\n",
      "        help_text='Identifier of the zone for which this event occurred.', )\n",
      "    zone_area = models.FloatField(blank=True, null=True,\n",
      "        help_text='In square Kilometers', )\n",
      "    zone_perimeter = models.FloatField(blank=True, null=True,\n",
      "        help_text='In Kilometers', )\n",
      "\n",
      "\n",
      "class DailyByZoneAndProductionType(models.Model):\n",
      "    iteration = models.IntegerField(blank=True, null=True,\n",
      "        help_text='The iteration during which the outputs in this records where generated.', )\n",
      "    day = models.IntegerField(blank=True, null=True,\n",
      "        help_text='The day within the iteration on which these outputs were generated.', )\n",
      "    zone = models.ForeignKey(Zone,\n",
      "        help_text='Identifier of the zone for which this event occurred.', )\n",
      "    production_type = models.ForeignKey(ProductionType,\n",
      "        help_text='The identifier of the production type that these outputs apply to.', )\n",
      "    unit_days_in_zone = models.IntegerField(blank=True, null=True,\n",
      "        help_text='Total number of unit days spent in a zone (1 unit for 1 day = 1 unit day 1 unit for 2 days = 2 unit days etc.)', )\n",
      "    animal_days_in_zone = models.IntegerField(blank=True, null=True,\n",
      "        help_text='Total number of animal days spent in a zone (1 animal for 1 day = 1 animal day 1 animal for 2 days = 2 animal days etc.)', )\n",
      "    units_in_zone = models.IntegerField(blank=True, null=True,\n",
      "        help_text='Number of units of the given production type in the zone', )\n",
      "    animals_in_zone = models.IntegerField(blank=True, null=True,\n",
      "        help_text='Count of animals of the given production type in the zone', )\n",
      "\n",
      "\n",
      "class DailyEvents(models.Model):\n",
      "    iteration = models.IntegerField(blank=True, null=True,\n",
      "        help_text='The iteration during which the outputs in this records where generated.', )\n",
      "    day = models.IntegerField(blank=True, null=True,\n",
      "        help_text='The day within the iteration on which these outputs were generated.', )\n",
      "    event = models.IntegerField(blank=True, null=True,\n",
      "        help_text='A number used to identify each event.', )\n",
      "    unit = models.ForeignKey(Unit,\n",
      "        help_text='Identifier of the unit for which this event occurred.', )\n",
      "    zone = models.ForeignKey(Zone,\n",
      "        help_text='Identifier of the zone for which this event occurred.', )\n",
      "    event_code = models.CharField(max_length=255, blank=True,\n",
      "        help_text='Code to indicate the type of event.', )\n",
      "    new_state_code = models.CharField(max_length=255, blank=True,\n",
      "        help_text='For transition state changesthis field indicates the state that results from the event.', )\n",
      "    test_result_code = models.CharField(max_length=255, blank=True,\n",
      "        help_text='For trace events this field indicates if the attempted trace succeeded.', )\n",
      "\n",
      "\n",
      "class DailyExposures(models.Model):\n",
      "    iteration = models.IntegerField(blank=True, null=True,\n",
      "        help_text='The iteration during which the outputs in this records where generated.', )\n",
      "    day = models.IntegerField(blank=True, null=True,\n",
      "        help_text='The day within the iteration on which these outputs were generated.', )\n",
      "    exposure = models.IntegerField(blank=True, null=True,\n",
      "        help_text='An identifier of each exposure.', )\n",
      "    initiated_day = models.IntegerField(blank=True, null=True,\n",
      "        help_text='', )\n",
      "    exposed_unit = models.ForeignKey(Unit, related_name='events_where_unit_was_exposed',\n",
      "        help_text='The identifier of the source unit for the exposure.', )\n",
      "    exposed_zone = models.ForeignKey(Zone, related_name='events_that_exposed_this_zone',\n",
      "        help_text='The identifier of the zone of the source unit for the exposure.', )\n",
      "    exposing_unit = models.ForeignKey(Unit, related_name='events_where_unit_exposed_others',\n",
      "        help_text='The identifier of the recipient unit for the exposure.', )\n",
      "    exposing_zone = models.ForeignKey(Zone, related_name='events_that_exposed_others',\n",
      "        help_text='The identifier of the zone of the recipient unit for the exposure.', )\n",
      "    spread_method_code = models.CharField(max_length=255, blank=True,\n",
      "        help_text='Code indicating the mechanism of the disease spread.', )\n",
      "    is_adequate = models.NullBooleanField(blank=True, null=True,\n",
      "        help_text='Indicator if the exposure was adequate to transmit dieases.', )  # Changed Booleans to NullBooleans so as not to restrict output\n",
      "    exposing_unit_status_code = models.CharField(max_length=255, blank=True,\n",
      "        help_text='Disease state of the exposing unit when the exposure occurred.', )\n",
      "    exposed_unit_status_code = models.CharField(max_length=255, blank=True,\n",
      "        help_text='Disease state of the exposed unit when the exposure occurred.', )\n",
      "\n",
      "\n",
      "class EpidemicCurves(models.Model):\n",
      "    iteration = models.IntegerField(blank=True, null=True,\n",
      "        help_text='The iteration during which the outputs in this records where generated.', )\n",
      "    day = models.IntegerField(blank=True, null=True,\n",
      "        help_text='The day within the iteration on which these outputs were generated.', )\n",
      "    production_type = models.ForeignKey(ProductionType,\n",
      "        help_text='The identifier of the production type that these outputs apply to.', )\n",
      "    infected_units = models.IntegerField(blank=True, null=True,\n",
      "        help_text='The number of units of the specified production type infected by any mechanism on the specific day in a spcified iteration.', )\n",
      "    infected_animals = models.IntegerField(blank=True, null=True,\n",
      "        help_text='Total number of animals in an infected unit.', )\n",
      "    detected_units = models.IntegerField(blank=True, null=True,\n",
      "        help_text='The number of clinically ill units of the specified production type detected by any mechanism on the specified day in the specified iteration.', )\n",
      "    detected_animals = models.IntegerField(blank=True, null=True,\n",
      "        help_text='Total number of animals in the detected unit.', )\n",
      "    infectious_units = models.IntegerField(blank=True, null=True,\n",
      "        help_text='Number of infectious units both apparent and not apparent', )\n",
      "    apparent_infectious_units = models.IntegerField(blank=True, null=True,\n",
      "        help_text='APPARENT INFECTIOUS UNITS', )\n",
      "\n",
      "\n",
      "class General(models.Model):\n",
      "    simulation_start_time = models.DateTimeField(max_length=255, blank=True,\n",
      "        help_text='The actual clock time according to the system clock of when the simulation started.', )\n",
      "    simulation_end_time = models.DateTimeField(max_length=255, blank=True,\n",
      "        help_text='The actual clock time according to the system clock of when the simulation ended.', )\n",
      "    completed_iterations = models.IntegerField(blank=True, null=True,\n",
      "        help_text='Number of iterations completed during the simulation run.', )\n",
      "    version = models.CharField(max_length=255, blank=True,\n",
      "        help_text='Number of the NAADSM Version used to run the simulation.', )\n",
      "\n",
      "\n",
      "class Iteration(models.Model):\n",
      "    iteration = models.IntegerField(blank=True, null=True,\n",
      "        help_text='The iteration during which the outputs in this records where generated.', )\n",
      "    disease_ended = models.NullBooleanField(blank=True, null=True,\n",
      "        help_text='Indicator that disease spread has ended.', )  # Changed Booleans to NullBooleans so as not to restrict output\n",
      "    disease_end_day = models.IntegerField(blank=True, null=True,\n",
      "        help_text='Day of the end of disease spread.', )\n",
      "    outbreak_ended = models.NullBooleanField(blank=True, null=True,\n",
      "        help_text='Indicator that outbreak  has ended including all control measures supporting the scenario.', )  # Changed Booleans to NullBooleans so as not to restrict output\n",
      "    outbreak_end_day = models.IntegerField(blank=True, null=True,\n",
      "        help_text='Day of the end of the outbreak including all control measures supporting the scenario.', )\n",
      "    zone_foci_created = models.NullBooleanField(blank=True, null=True,\n",
      "        help_text='Indicator is a Zone focus was created', )  # Changed Booleans to NullBooleans so as not to restrict output\n",
      "    destroy_wait_unit_max = models.IntegerField(blank=True, null=True,\n",
      "        help_text='Maximum number of units in queue for destruction on any given day over the course of the iteration', )\n",
      "    destroy_wait_unit_max_day = models.IntegerField(blank=True, null=True,\n",
      "        help_text='The first simulation day on which the maximum number of units in queue for destruction was reached', )\n",
      "    destroy_wait_animal_max = models.FloatField(blank=True, null=True,\n",
      "        help_text='Maximum number of animals in queue for destruction on any given day over the course of the iteration', )\n",
      "    destroy_wait_animal_max_day = models.IntegerField(blank=True, null=True,\n",
      "        help_text='The first simulation day on which the maximum number of animals in queue for destruction was reached', )\n",
      "    destroy_wait_unit_time_max = models.IntegerField(blank=True, null=True,\n",
      "        help_text='Maximum number of days spent in queue for destruction by any single unit over the course of the iteration', )\n",
      "    destroy_wait_unit_time_avg = models.FloatField(blank=True, null=True,\n",
      "        help_text='Average number of days spent by each unit in queue for destruction over the course of the iteration', )\n",
      "    vac_wait_unit_max = models.IntegerField(blank=True, null=True,\n",
      "        help_text='Maximum number of units in queue for vaccination on any given day over the course of the iteration', )\n",
      "    vac_wait_unit_max_day = models.IntegerField(blank=True, null=True,\n",
      "        help_text='The first simulation day on which the maximum number of units in queue for vaccination was reached', )\n",
      "    vac_wait_animal_max = models.FloatField(blank=True, null=True,\n",
      "        help_text='Maximum number of animals in queue for vaccination on any given day over the course of the iteration', )\n",
      "    vac_wait_animal_max_day = models.IntegerField(blank=True, null=True,\n",
      "        help_text='The first simulation day on which the maximum number of animals in queue for vaccination was reached', )\n",
      "    vac_wait_unit_time_max = models.IntegerField(blank=True, null=True,\n",
      "        help_text='Maximum number of days spent in queue for vaccination by any single unit over the course of the iteration', )\n",
      "    vac_wait_unit_time_avg = models.FloatField(blank=True, null=True,\n",
      "        help_text='Average number of days spent in queue for vaccination by each unit that was vaccinated over the course of the iteration', )\n",
      "\n",
      "\n",
      "class IterationByUnit(models.Model):\n",
      "    iteration = models.IntegerField(blank=True, null=True,\n",
      "        help_text='The iteration during which the outputs in this records where generated.', )\n",
      "    unit = models.ForeignKey(Unit,\n",
      "        help_text='Identifier of the unit for which this event occurred.', )\n",
      "    last_status_code = models.CharField(max_length=255, blank=True,\n",
      "        help_text='Final status that a unit was in for an iteration', )\n",
      "    last_status_day = models.IntegerField(blank=True, null=True,\n",
      "        help_text='Day that a unit was in the final status for an iteration', )\n",
      "    last_control_state_code = models.CharField(max_length=255, blank=True,\n",
      "        help_text='Final Control State that a unit was in for an iteration', )\n",
      "    last_control_state_day = models.IntegerField(blank=True, null=True,\n",
      "        help_text='Day that a unit went in to the final status for an iteration', )\n",
      "\n",
      "\n",
      "class IterationByProductionType(models.Model):\n",
      "    iteration = models.IntegerField(blank=True, null=True,\n",
      "        help_text='The iteration during which the outputs in this records where generated.', )\n",
      "    production_type = models.ForeignKey(ProductionType,\n",
      "        help_text='The identifier of the production type that these outputs apply to.', )\n",
      "    transition_state_cum_unit_susceptible = models.IntegerField(blank=True, null=True,\n",
      "        help_text='Number of units that are or become susceptible over the course of an iteration', )\n",
      "    transition_state_cum_animal_susceptible = models.IntegerField(blank=True, null=True,\n",
      "        help_text='Total number of animals in all units that are or become susceptible over the course of an iteration', )\n",
      "    transition_state_cum_unit_latent = models.IntegerField(blank=True, null=True,\n",
      "        help_text='Number of units that are or become latent over the course of an iteration', )\n",
      "    transition_state_cum_animal_latent = models.IntegerField(blank=True, null=True,\n",
      "        help_text='Total number of animals in all units that are or become latent over the course of an iteration', )\n",
      "    transition_state_cum_unit_subclinical = models.IntegerField(blank=True, null=True,\n",
      "        help_text='Number of units that are or become subclinically infectious over the course of an iteration', )\n",
      "    transition_state_cum_animal_subclinical = models.IntegerField(blank=True, null=True,\n",
      "        help_text='Total number of animals in all units that are or become infectious over the course of an iteration', )\n",
      "    transition_state_cum_unit_clinical = models.IntegerField(blank=True, null=True,\n",
      "        help_text='Number of units that are or become clinical over the course of an iteration', )\n",
      "    transition_state_cum_animal_clinical = models.IntegerField(blank=True, null=True,\n",
      "        help_text='Total number of animals in all units that are or become clinical over the course of an iteration', )\n",
      "    transition_state_cum_unit_nat_immune = models.IntegerField(blank=True, null=True,\n",
      "        help_text='Number of units that are or become naturally immune over the course of an iteration', )\n",
      "    transition_state_cum_animal_nat_immune = models.IntegerField(blank=True, null=True,\n",
      "        help_text='Total number of animals in all units that are or become naturally immune over the course of an iteration', )\n",
      "    transition_state_cum_unit_vac_immune = models.IntegerField(blank=True, null=True,\n",
      "        help_text='Number of units that are or become vaccine immune over the course of an iteration', )\n",
      "    transition_state_cum_animal_vac_immune = models.IntegerField(blank=True, null=True,\n",
      "        help_text='Total number of animals in all units that are or become vaccine immune over the course of an iteration', )\n",
      "    transition_state_cum_unit_destroyed = models.IntegerField(blank=True, null=True,\n",
      "        help_text='Number of units that are destroyed over the course of an iteration', )\n",
      "    transition_state_cum_animal_destroyed = models.IntegerField(blank=True, null=True,\n",
      "        help_text='Total number of animals in all units that are destroyed over the course of an iteration', )\n",
      "    infection_cum_unit_initial = models.IntegerField(blank=True, null=True,\n",
      "        help_text='Number of units that are initially infected at the beginning of an iteration', )\n",
      "    infection_cum_animal_initial = models.IntegerField(blank=True, null=True,\n",
      "        help_text='Number of animals in units that are initially infected at the beginning of an iteration', )\n",
      "    infection_cum_unit_air = models.IntegerField(blank=True, null=True,\n",
      "        help_text='Number of units that become infected by airborne spread over the course of an iteration', )\n",
      "    infection_cum_animal_air = models.IntegerField(blank=True, null=True,\n",
      "        help_text='Number of animals in units that become infected by airborne spread over the course of an iteration', )\n",
      "    infection_cum_unit_dir = models.IntegerField(blank=True, null=True,\n",
      "        help_text='Number of units that become infected by direct contact over the course of an iteration', )\n",
      "    infection_cum_animal_dir = models.IntegerField(blank=True, null=True,\n",
      "        help_text='Number of animals that become infected by direct contact over the course of an iteration', )\n",
      "    infection_cum_unit_ind = models.IntegerField(blank=True, null=True,\n",
      "        help_text='Number of units that become infected by indirect contact over the course of an iteration', )\n",
      "    infection_cum_animal_ind = models.IntegerField(blank=True, null=True,\n",
      "        help_text='Number of animals in units that become infected by indirect contact over the course of an iteration', )\n",
      "    exposed_cum_unit_dir = models.IntegerField(blank=True, null=True,\n",
      "        help_text='Total number of units directly exposed to any infected unit over the course of an iteration', )\n",
      "    exposed_cum_animal_dir = models.IntegerField(blank=True, null=True,\n",
      "        help_text='Total number of animals in units directly exposed to any infected unit over the course of an iteration', )\n",
      "    exposed_cum_unit_ind = models.IntegerField(blank=True, null=True,\n",
      "        help_text='Total number of units indirectly exposed to any infected unit over the course of an iteration', )\n",
      "    exposed_cum_animal_ind = models.IntegerField(blank=True, null=True,\n",
      "        help_text='Total number of animals in units indirectly exposed to any infected unit over the course of an iteration', )\n",
      "    trace_cum_unit_dir_fwd = models.IntegerField(blank=True, null=True,\n",
      "        help_text='Total number of animals in all units directly exposed and successfully traced forward over the course of an iteration', )\n",
      "    trace_cum_animal_dir_fwd = models.IntegerField(blank=True, null=True,\n",
      "        help_text='Total number of animals in all units directly exposed and successfully traced forward over the course of an iteration', )\n",
      "    trace_cum_unit_ind_fwd = models.IntegerField(blank=True, null=True,\n",
      "        help_text='Number of units indirectly exposed and successfully traced forward over the course of an iteration', )\n",
      "    trace_cum_animal_ind_fwd = models.IntegerField(blank=True, null=True,\n",
      "        help_text='Total number of animals in all units indirectly exposed and successfully traced forward over the course of an iteration', )\n",
      "    trace_cum_unit_dir_p_fwd = models.IntegerField(blank=True, null=True,\n",
      "        help_text='Number of units directly exposed that could possibly have been traced forward over the course of an iteration', )\n",
      "    trace_cum_animal_dir_pfwd = models.IntegerField(blank=True, null=True,\n",
      "        help_text='Total number of animals in all units directly exposed that could possibly have been traced forward over the course of an iteration', )\n",
      "    trace_cum_unit_ind_p_fwd = models.IntegerField(blank=True, null=True,\n",
      "        help_text='Number of units indirectly exposed that could possibly have been traced forward over the course of an iteration', )\n",
      "    trace_cum_animal_ind_p_fwd = models.IntegerField(blank=True, null=True,\n",
      "        help_text='Total number of animals in units indirectly exposed that could possibly have been traced forward over the course of an iteration', )\n",
      "    trace_cum_unit_dir_back = models.IntegerField(blank=True, null=True,\n",
      "        help_text='Number of units successfully traced back from a detected unit after direct contact over the course of the iteration', )\n",
      "    trace_cum_animal_dir_back = models.IntegerField(blank=True, null=True,\n",
      "        help_text='Total number of animals in units successfully traced back from a detected unit over the course of the iteration', )\n",
      "    trace_cum_unit_ind_back = models.IntegerField(blank=True, null=True,\n",
      "        help_text='Number of units successfully traced back from a detected unit after indirect contact over the course of the iteration', )\n",
      "    trace_cum_animal_ind_back = models.IntegerField(blank=True, null=True,\n",
      "        help_text='Total number of animals in units successfully traced back from a detected unit after indirect contact over the course of the iteration', )\n",
      "    trace_cum_unit_dir_p_back = models.IntegerField(blank=True, null=True,\n",
      "        help_text='Number of units that could possibly have been traced back from a detected unit after direct contact over the course of the iteration', )\n",
      "    trace_cum_animal_dir_pback = models.IntegerField(blank=True, null=True,\n",
      "        help_text='Total number of animals in units that could possibly have been traced back from a detected unit after direct contact over the course of the iteration', )\n",
      "    trace_cum_unit_ind_p_back = models.IntegerField(blank=True, null=True,\n",
      "        help_text='Number of units that could possibly have been traced back from a detected unit after indirect contact over the course of the iteration', )\n",
      "    trace_cum_animal_ind_p_back = models.IntegerField(blank=True, null=True,\n",
      "        help_text='Total number of animals in units that could possibly have been traced back from a detected unit after indirect contact over the course of the iteration', )\n",
      "    trace_origin_cum_unit_dir_fwd = models.IntegerField(blank=True, null=True,\n",
      "        help_text='Number of trace-forwards of direct contact that originate at units of the designated type over the course of an iteration', )\n",
      "    trace_origin_cum_unit_ind_fwd = models.IntegerField(blank=True, null=True,\n",
      "        help_text='Number of trace-forwards of indirect contact that originate at units of the designated type over the course of an iteration', )\n",
      "    trace_origin_cum_unit_dir_back = models.IntegerField(blank=True, null=True,\n",
      "        help_text='Number of trace-backs of direct contact that originate at units of the designated type over the course of an iteration', )\n",
      "    trace_origin_cum_unit_ind_back = models.IntegerField(blank=True, null=True,\n",
      "        help_text='Number of trace-backs of indirect contact that originate at units of the designated type over the course of an iteration', )\n",
      "    exam_cum_unit_dir_fwd = models.IntegerField(blank=True, null=True,\n",
      "        help_text='Number of units subjected to a unit exam after a trace-forward of direct contact over the course of the iteration', )\n",
      "    exam_cum_animal_dir_fwd = models.IntegerField(blank=True, null=True,\n",
      "        help_text='Total number of animals in units subjected to a unit exam after a trace-forward of direct contact over the course of the iteration', )\n",
      "    exam_cum_unit_ind_fwd = models.IntegerField(blank=True, null=True,\n",
      "        help_text='Number of units subjected to a unit exam after a trace-forward of indirect contact over the course of the iteration', )\n",
      "    exam_cum_animal_ind_fwd = models.IntegerField(blank=True, null=True,\n",
      "        help_text='Total number of animals in units subjected to a unit exam after a trace-forward of indirect contact over the course of the iteration', )\n",
      "    exam_cum_unit_dir_back = models.IntegerField(blank=True, null=True,\n",
      "        help_text='Number of units subjected to a unit exam after a trace-back of direct contact over the course of the iteration', )\n",
      "    exam_cum_animal_dir_back = models.IntegerField(blank=True, null=True,\n",
      "        help_text='Total number of animals in units subjected to a unit exam after a trace-back of direct contact over the course of the iteration', )\n",
      "    exam_cum_unit_ind_back = models.IntegerField(blank=True, null=True,\n",
      "        help_text='Number of units subjected to a unit exam after a trace-back of indirect contact over the course of the iteration', )\n",
      "    exam_cum_animal_ind_back = models.IntegerField(blank=True, null=True,\n",
      "        help_text='Total number of animals in units subjected to a unit exam after a trace-back of indirect contact over the course of the iteration', )\n",
      "    test_cum_unit_dir_fwd = models.IntegerField(blank=True, null=True,\n",
      "        help_text='Number of units subjected to diagnostic testing after a trace-forward of direct contact over the course of the iteration', )\n",
      "    test_cum_animal_dir_fwd = models.IntegerField(blank=True, null=True,\n",
      "        help_text='Total number of animals in units subjected to diagnostic testing after a trace-forward of direct contact over the course of the iteration', )\n",
      "    test_cum_unit_ind_fwd = models.IntegerField(blank=True, null=True,\n",
      "        help_text='Number of units subjected to diagnostic testing after a trace-forward of indirect contact over the course of the iteration', )\n",
      "    test_cum_animal_ind_fwd = models.IntegerField(blank=True, null=True,\n",
      "        help_text='Total number of animals in units subjected to diagnostic testing after a trace-forward of indirect contact over the course of the iteration', )\n",
      "    test_cum_unit_dir_back = models.IntegerField(blank=True, null=True,\n",
      "        help_text='Number of units subjected to diagnostic testing after a trace-back of direct contact over the course of the iteration', )\n",
      "    test_cum_animal_dir_back = models.IntegerField(blank=True, null=True,\n",
      "        help_text='Total number of animals in units subjected to diagnostic testing after a trace-back of direct contact over the course of the iteration', )\n",
      "    test_cum_unit_ind_back = models.IntegerField(blank=True, null=True,\n",
      "        help_text='Number of units subjected to diagnostic testing after a trace-back of indirect contact over the course of the iteration', )\n",
      "    test_cum_animal_ind_back = models.IntegerField(blank=True, null=True,\n",
      "        help_text='Total number of animals in units subjected to diagnostic testing after a trace-back of indirect contact over the course of the iteration', )\n",
      "    test_cum_unit_true_pos = models.IntegerField(blank=True, null=True,\n",
      "        help_text='Number of tested units with a true positive diagnostic test result over the course of the iteration', )\n",
      "    test_cum_animal_true_pos = models.IntegerField(blank=True, null=True,\n",
      "        help_text='Total number of animals in tested units with a true positive diagnostic test result over the course of the iteration', )\n",
      "    test_cum_unit_true_neg = models.IntegerField(blank=True, null=True,\n",
      "        help_text='Number of tested units with a true negative diagnostic test result over the course of the iteration', )\n",
      "    test_cum_animal_true_neg = models.IntegerField(blank=True, null=True,\n",
      "        help_text='Total number of animals in tested units with a true negative diagnostic test result over the course of the iteration', )\n",
      "    test_cum_unit_false_pos = models.IntegerField(blank=True, null=True,\n",
      "        help_text='Number of tested units with a false positive diagnostic test result over the course of the iteration', )\n",
      "    test_cum_animal_false_pos = models.IntegerField(blank=True, null=True,\n",
      "        help_text='Total number of animals in tested units with a false positive diagnostic test result over the course of the iteration', )\n",
      "    test_cum_unit_false_neg = models.IntegerField(blank=True, null=True,\n",
      "        help_text='Number of tested units with a false negative diagnostic test result over the course of the iteration', )\n",
      "    test_cum_animal_false_neg = models.IntegerField(blank=True, null=True,\n",
      "        help_text='Total number of animals in tested units with a false negative diagnostic test result over the course of the iteration', )\n",
      "    detect_cum_unit_clin = models.IntegerField(blank=True, null=True,\n",
      "        help_text='Number of units detected by clinical signs over the course of an iteration', )\n",
      "    detect_cum_animal_clin = models.IntegerField(blank=True, null=True,\n",
      "        help_text='Total number of animals in all units detected by clinical signs over the course of an iteration', )\n",
      "    detect_cum_unit_test = models.IntegerField(blank=True, null=True,\n",
      "        help_text='Number of units detected by diagnostic testing over the course of the iteration. This value includes true- as well as false-positive units', )\n",
      "    detect_cum_animal_test = models.IntegerField(blank=True, null=True,\n",
      "        help_text='Total number of animals in units detected by diagnostic testing over the course of the iteration', )\n",
      "    destroy_cum_unit_initial = models.IntegerField(blank=True, null=True,\n",
      "        help_text='Number of units destroyed prior to the start of the simulation', )\n",
      "    destroy_cum_animal_initial = models.IntegerField(blank=True, null=True,\n",
      "        help_text='Total number of animals in units destroyed prior to the start of the simulation', )\n",
      "    destroy_cum_unit_detect = models.IntegerField(blank=True, null=True,\n",
      "        help_text='Number of units destroyed because disease was detected over the course of an iteration', )\n",
      "    destroy_cum_animal_detect = models.IntegerField(blank=True, null=True,\n",
      "        help_text='Total number of animals in units destroyed because disease was detected over the course of an iteration', )\n",
      "    destroy_cum_unit_dir_fwd = models.IntegerField(blank=True, null=True,\n",
      "        help_text='Number of units destroyed due to a successful trace forward of direct contact with an infected unit over the course of the iteration', )\n",
      "    destroy_cum_animal_dir_fwd = models.IntegerField(blank=True, null=True,\n",
      "        help_text='Total number of animals in units destroyed due to a successful trace forward of direct contact with an infected unit over the course of the iteration', )\n",
      "    destroy_cum_unit_ind_fwd = models.IntegerField(blank=True, null=True,\n",
      "        help_text='Number of units destroyed due to a successful trace forward of indirect contact with an infected unit over the course of the iteration', )\n",
      "    destroy_cum_animal_ind_fwd = models.IntegerField(blank=True, null=True,\n",
      "        help_text='Total number of animals in units destroyed due to a successful trace forward of indirect contact with an infected unit over the course of the iteration', )\n",
      "    destroy_cum_unit_dir_back = models.IntegerField(blank=True, null=True,\n",
      "        help_text='Number of units destroyed due to a successful trace back of direct contact with an infected unit over the course of the iteration', )\n",
      "    destroy_cum_animal_dir_back = models.IntegerField(blank=True, null=True,\n",
      "        help_text='Total number of animals in units destroyed due to a successful trace back of direct contact with an infected unit over the course of the iteration', )\n",
      "    destroy_cum_unit_ind_back = models.IntegerField(blank=True, null=True,\n",
      "        help_text='Number of units destroyed due to a successful trace back of indirect contact with an infected unit over the course of the iteration', )\n",
      "    destroy_cum_animal_ind_back = models.IntegerField(blank=True, null=True,\n",
      "        help_text='Total number of animals in units destroyed due to a successful trace back of indirect contact with an infected unit over the course of the iteration', )\n",
      "    destroy_cum_unit_ring = models.IntegerField(blank=True, null=True,\n",
      "        help_text='Number of units destroyed because they were in a destruction ring over the course of an iteration', )\n",
      "    destroy_cum_animal_ring = models.IntegerField(blank=True, null=True,\n",
      "        help_text='Total number of animals in units destroyed because they were in a destruction ring over the course of an iteration', )\n",
      "    destroy_wait_unit_max = models.IntegerField(blank=True, null=True,\n",
      "        help_text='Maximum number of units in queue for destruction on any given day over the course of the iteration', )\n",
      "    destroy_wait_animal_max = models.IntegerField(blank=True, null=True,\n",
      "        help_text='Maximum number of animals in queue for destruction on any given day over the course of the iteration', )\n",
      "    destroy_wait_unit_max_day = models.IntegerField(blank=True, null=True,\n",
      "        help_text='The first simulation day on which the maximum number of units in queue for destruction was reached', )\n",
      "    destroy_wait_animal_max_day = models.IntegerField(blank=True, null=True,\n",
      "        help_text='The first simulation day on which the maximum number of animals in queue for destruction was reached', )\n",
      "    destroy_wait_unit_time_max = models.IntegerField(blank=True, null=True,\n",
      "        help_text='Maximum number of days spent in queue for destruction by any single unit over the course of the iteration', )\n",
      "    destroy_wait_unit_time_avg = models.FloatField(blank=True, null=True,\n",
      "        help_text='Average number of days spent by each unit in queue for destruction over the course of the iteration', )\n",
      "    destroy_wait_unit_days_in_queue = models.FloatField(blank=True, null=True,\n",
      "        help_text='Total number of unit-days spent in queue for destruction', )\n",
      "    destroy_wait_animal_days_in_queue = models.FloatField(blank=True, null=True,\n",
      "        help_text='Total number of animal-days spent in queue for destruction', )\n",
      "    vac_cum_unit_initial = models.IntegerField(blank=True, null=True,\n",
      "        help_text='Number of units that were vaccine immune prior to the start of the simulation', )\n",
      "    vac_cum_animal_initial = models.IntegerField(blank=True, null=True,\n",
      "        help_text='Total number of animals in units that were vaccine immune prior to the start of the simulation', )\n",
      "    vac_cum_unit_ring = models.IntegerField(blank=True, null=True,\n",
      "        help_text='Number of units vaccinated in rings around detected-infected units over the course of an iteration', )\n",
      "    vac_cum_animal_ring = models.IntegerField(blank=True, null=True,\n",
      "        help_text='Total number of animals in all units vaccinated in rings around detected-infected units over the course of an iteration', )\n",
      "    vac_wait_unit_max = models.IntegerField(blank=True, null=True,\n",
      "        help_text='Maximum number of units in queue for vaccination on any given day over the course of the iteration', )\n",
      "    vac_wait_animal_max = models.FloatField(null=True, blank=True,\n",
      "        help_text='Maximum number of animals in queue for vaccination on any given day over the course of the iteration', )\n",
      "    vac_wait_unit_max_day = models.IntegerField(blank=True, null=True,\n",
      "        help_text='The first simulation day on which the maximum number of units in queue for vaccination was reached', )\n",
      "    vac_wait_animal_max_day = models.IntegerField(blank=True, null=True,\n",
      "        help_text='The first simulation day on which the maximum number of animals in queue for vaccination was reached', )\n",
      "    vac_wait_unit_time_max = models.FloatField(null=True, blank=True,\n",
      "        help_text='Maximum number of days spent in queue for vaccination by any single unit over the course of the iteration', )\n",
      "    vac_wait_unit_time_avg = models.IntegerField(blank=True, null=True,\n",
      "        help_text='Average number of days spent in queue for vaccination by each unit that was vaccinated over the course of the iteration', )\n",
      "    zone_cum_foci = models.IntegerField(blank=True, null=True,\n",
      "        help_text='Total number of new zone foci created around units of the indicated type over the course of an iteration',)\n",
      "    first_detection = models.IntegerField(blank=True, null=True,\n",
      "        help_text='Day of first detection of an infected unit in the specified iteration', )\n",
      "    first_det_unit_inf = models.IntegerField(blank=True, null=True,\n",
      "        help_text='Number of units already infected at the time of first detection of an infected unit of any production type in the specified iteration', )\n",
      "    first_detect_animal_inf = models.IntegerField(blank=True, null=True,\n",
      "        help_text='Number of animals in units already infected at the time of first detection of an infected unit of any production type in the specified iteration', )\n",
      "    first_destruction = models.IntegerField(blank=True, null=True,\n",
      "        help_text='Day of first destruction of a unit in the specified iteration', )\n",
      "    first_vaccination = models.IntegerField(blank=True, null=True,\n",
      "        help_text='Day of first vaccination of a unit in the specified iteration', )\n",
      "    last_detection = models.IntegerField(blank=True, null=True,\n",
      "        help_text='Day of last detection of an infected unit in the specified iteration', )\n",
      "\n",
      "\n",
      "class IterationByZone(models.Model):\n",
      "    iteration = models.IntegerField(blank=True, null=True,\n",
      "        help_text='The iteration during which the outputs in this records where generated.', )\n",
      "    zone = models.ForeignKey(Zone,\n",
      "        help_text='Identifier of the zone for which this event occurred.', )\n",
      "    max_zone_area = models.FloatField(blank=True, null=True,\n",
      "        help_text='Maximum area (in square kilometers) reached for the indicated zone over the course of an iteration', )\n",
      "    max_zone_area_day = models.IntegerField(blank=True, null=True,\n",
      "        help_text='Day on which maximum area for the indicated zone is reached', )\n",
      "    final_zone_area = models.FloatField(blank=True, null=True,\n",
      "        help_text='Area (in square kilometers) of the indicated zone at the end of an iteration', )\n",
      "    max_zone_perimeter = models.FloatField(blank=True, null=True,\n",
      "        help_text='Maximum perimeter (in kilometers) reached for the indicated zone over the course of an iteration', )\n",
      "    max_zone_perimeter_day = models.IntegerField(blank=True, null=True,\n",
      "        help_text='Day on which maximum perimeter for the indicated zone is reached', )\n",
      "    final_zone_perimeter = models.FloatField(blank=True, null=True,\n",
      "        help_text='Perimeter (in kilometers) of the indicated zone at the end of an iteration', )\n",
      "\n",
      "\n",
      "class IterationByZoneAndProductionType(models.Model):\n",
      "    iteration = models.IntegerField(blank=True, null=True,\n",
      "        help_text='The iteration during which the outputs in this records where generated.', )\n",
      "    zone = models.ForeignKey(Zone,\n",
      "        help_text='Identifier of the zone for which this event occurred.', )\n",
      "    production_type = models.ForeignKey(ProductionType,\n",
      "        help_text='The identifier of the production type that these outputs apply to.', )\n",
      "    unit_days_in_zone = models.IntegerField(blank=True, null=True,\n",
      "        help_text='Total number of unit days spent in a zone (1 unit for 1 day = 1 unit day 1 unit for 2 days = 2 unit days etc.)', )\n",
      "    animal_days_in_zone = models.IntegerField(blank=True, null=True,\n",
      "        help_text='Total number of animal days spent in a zone (1 animal for 1 day = 1 animal day 1 animal for 2 days = 2 animal days etc.)', )\n",
      "    cost_surveillance = models.FloatField(blank=True, null=True,\n",
      "        help_text='Total cost associated with surveillance in a zone over the course of an iteration.', )\n",
      "\n",
      "\n",
      "class IterationCosts(models.Model):\n",
      "    iteration = models.IntegerField(blank=True, null=True,\n",
      "        help_text='The iteration during which the outputs in this records where generated.', )\n",
      "    production_type = models.ForeignKey(ProductionType,\n",
      "        help_text='The identifier of the production type that these outputs apply to.', )\n",
      "    destroy_appraisal = models.FloatField(blank=True, null=True,\n",
      "        help_text='Total cost of appraisal for all units destroyed over the course of an iteration.', )\n",
      "    destroy_cleaning = models.FloatField(blank=True, null=True,\n",
      "        help_text='Total cost of cleaning and disinfection for all units destroyed over the course of an iteration.', )\n",
      "    destroy_euthanasia = models.FloatField(blank=True, null=True,\n",
      "        help_text='Total cost of euthanasia for all animals in units destroyed over the course of an iteration.', )\n",
      "    destroy_indemnification = models.FloatField(blank=True, null=True,\n",
      "        help_text='Total cost of indemnification for all animals in units destroyed over the course of an iteration.', )\n",
      "    destroy_disposal = models.FloatField(blank=True, null=True,\n",
      "        help_text='Total cost of carcass disposal for all animals in units destroyed over the course of an iteration.', )\n",
      "    vac_cum_setup = models.FloatField(blank=True, null=True,\n",
      "        help_text='Total cost of vaccination setup for all units vaccinated over the course of an iteration.', )\n",
      "    vac_cum_vaccination = models.FloatField(blank=True, null=True,\n",
      "        help_text='Total cost of vaccination for all animals in units vaccinated over the course of an iteration.', )\n",
      "\"\"\""
     ],
     "language": "python",
     "prompt_number": 5
    },
    {
     "cell_type": "code",
     "metadata": {},
     "outputs": [
      {
       "output_type": "pyout",
       "prompt_number": 6,
       "text": [
        "['hi there\\n', 'how are you?']"
       ],
       "metadata": {}
      }
     ],
     "input": [
      "from io import StringIO\n",
      "StringIO(\"\"\"hi there\n",
      "how are you?\"\"\").readlines()"
     ],
     "language": "python",
     "prompt_number": 6
    },
    {
     "cell_type": "code",
     "metadata": {},
     "outputs": [],
     "input": [
      "name_conversion_table = StringIO(\"\"\"General\tGeneralID\tGENERAL_ID\n",
      "General\tsimulationStartTime\tSIMULATION_START_TIME\n",
      "General\tsimulationEndTime\tSIMULATION_END_TIME\n",
      "General\tcompletedIterations\tCOMPLETED_ITERATIONS\n",
      "General\tversion\tVERSION\n",
      "\t\t\n",
      "DailyByProductionType\titeration\tITERATION\n",
      "DailyByProductionType\tproductionTypeID\t_PRODUCTIONTYPEID\n",
      "DailyByProductionType\tday\tDAY\n",
      "DailyByProductionType\ttsdUSusc\tTRANSITION_STATE_DAILY_UNIT_SUSCEPTIBLE\n",
      "DailyByProductionType\ttsdASusc\tTRANSITION_STATE_DAILY_ANIMAL_SUSCEPTIBLE\n",
      "DailyByProductionType\ttsdULat\tTRANSITION_STATE_DAILY_UNIT_LATENT\n",
      "DailyByProductionType\ttsdALat\tTRANSITION_STATE_DAILY_ANIMAL_LATENT\n",
      "DailyByProductionType\ttsdUSubc\tTRANSITION_STATE_DAILY_UNIT_SUBCLINICAL\n",
      "DailyByProductionType\ttsdASubc\tTRANSITION_STATE_DAILY_ANIMAL_SUBCLINICAL\n",
      "DailyByProductionType\ttsdUClin\tTRANSITION_STATE_DAILY_UNIT_CLINICAL\n",
      "DailyByProductionType\ttsdAClin\tTRANSITION_STATE_DAILY_ANIMAL_CLINICAL\n",
      "DailyByProductionType\ttsdUNImm\tTRANSITION_STATE_DAILY_UNIT_NAT_IMMUNE\n",
      "DailyByProductionType\ttsdANImm\tTRANSITION_STATE_DAILY_ANIMAL_NAT_IMMUNE\n",
      "DailyByProductionType\ttsdUVImm\tTRANSITION_STATE_DAILY_UNIT_VAC_IMMUNE\n",
      "DailyByProductionType\ttsdAVImm\tTRANSITION_STATE_DAILY_ANIMAL_VAC_IMMUNE\n",
      "DailyByProductionType\ttsdUDest\tTRANSITION_STATE_DAILY_UNIT_DESTROYED\n",
      "DailyByProductionType\ttsdADest\tTRANSITION_STATE_DAILY_ANIMAL_DESTROYED\n",
      "DailyByProductionType\ttscUSusc\tTRANSITION_STATE_CUM_UNIT_SUSCEPTIBLE\n",
      "DailyByProductionType\ttscASusc\tTRANSITION_STATE_CUM_ANIMAL_SUSCEPTIBLE\n",
      "DailyByProductionType\ttscULat\tTRANSITION_STATE_CUM_UNIT_LATENT\n",
      "DailyByProductionType\ttscALat\tTRANSITION_STATE_CUM_ANIMAL_LATENT\n",
      "DailyByProductionType\ttscUSubc\tTRANSITION_STATE_CUM_UNIT_SUBCLINICAL\n",
      "DailyByProductionType\ttscASubc\tTRANSITION_STATE_CUM_ANIMAL_SUBCLINICAL\n",
      "DailyByProductionType\ttscUClin\tTRANSITION_STATE_CUM_UNIT_CLINICAL\n",
      "DailyByProductionType\ttscAClin\tTRANSITION_STATE_CUM_ANIMAL_CLINICAL\n",
      "DailyByProductionType\ttscUNImm\tTRANSITION_STATE_CUM_UNIT_NAT_IMMUNE\n",
      "DailyByProductionType\ttscANImm\tTRANSITION_STATE_CUM_ANIMAL_NAT_IMMUNE\n",
      "DailyByProductionType\ttscUVImm\tTRANSITION_STATE_CUM_UNIT_VAC_IMMUNE\n",
      "DailyByProductionType\ttscAVImm\tTRANSITION_STATE_CUM_ANIMAL_VAC_IMMUNE\n",
      "DailyByProductionType\ttscUDest\tTRANSITION_STATE_CUM_UNIT_DESTROYED\n",
      "DailyByProductionType\ttscADest\tTRANSITION_STATE_CUM_ANIMAL_DESTROYED\n",
      "DailyByProductionType\tinfnUAir\tINFECTION_NEW_UNIT_AIR\n",
      "DailyByProductionType\tinfnAAir\tINFECTION_NEW_ANIMAL_AIR\n",
      "DailyByProductionType\tinfnUDir\tINFECTION_NEW_UNIT_DIR\n",
      "DailyByProductionType\tinfnADir\tINFECTION_NEW_ANIMAL_DIR\n",
      "DailyByProductionType\tinfnUInd\tINFECTION_NEW_UNIT_IND\n",
      "DailyByProductionType\tinfnAInd\tINFECTION_NEW_ANIMAL_IND\n",
      "DailyByProductionType\tinfcUIni\tINFECTION_CUM_UNIT_INITIAL\n",
      "DailyByProductionType\tinfcAIni\tINFECTION_CUM_ANIMAL_INITIAL\n",
      "DailyByProductionType\tinfcUAir\tINFECTION_CUM_UNIT_AIR\n",
      "DailyByProductionType\tinfcAAir\tINFECTION_CUM_ANIMAL_AIR\n",
      "DailyByProductionType\tinfcUDir\tINFECTION_CUM_UNIT_DIR\n",
      "DailyByProductionType\tinfcADir\tINFECTION_CUM_ANIMAL_DIR\n",
      "DailyByProductionType\tinfcUInd\tINFECTION_CUM_UNIT_IND\n",
      "DailyByProductionType\tinfcAInd\tINFECTION_CUM_ANIMAL_IND\n",
      "DailyByProductionType\texpcUDir\tEXPOSED_CUM_UNIT_DIR\n",
      "DailyByProductionType\texpcADir\tEXPOSED_CUM_ANIMAL_DIR\n",
      "DailyByProductionType\texpcUInd\tEXPOSED_CUM_UNIT_IND\n",
      "DailyByProductionType\texpcAInd\tEXPOSED_CUM_ANIMAL_IND\n",
      "DailyByProductionType\ttrcUDirFwd\tTRACE_CUM_UNIT_DIR_FWD\n",
      "DailyByProductionType\ttrcADirFwd\tTRACE_CUM_ANIMAL_DIR_FWD\n",
      "DailyByProductionType\ttrcUIndFwd\tTRACE_CUM_UNIT_IND_FWD\n",
      "DailyByProductionType\ttrcAIndFwd\tTRACE_CUM_ANIMAL_IND_FWD\n",
      "DailyByProductionType\ttrcUDirpFwd\tTRACE_CUM_UNIT_DIR_P_FWD\n",
      "DailyByProductionType\ttrcADirpFwd\tTRACE_CUM_ANIMAL_DIR_P_FWD\n",
      "DailyByProductionType\ttrcUIndpFwd\tTRACE_CUM_UNIT_IND_P_FWD\n",
      "DailyByProductionType\ttrcAIndpFwd\tTRACE_CUM_ANIMAL_IND_P_FWD\n",
      "DailyByProductionType\ttocUDirFwd\tTRACE_ORIGIN_CUM_UNIT_DIR_FWD\n",
      "DailyByProductionType\ttocUIndFwd\tTRACE_ORIGIN_CUM_UNIT_IND_FWD\n",
      "DailyByProductionType\ttocUDirBack\tTRACE_ORIGIN_CUM_UNIT_DIR_BACK\n",
      "DailyByProductionType\ttocUIndBack\tTRACE_ORIGIN_CUM_UNIT_IND_BACK\n",
      "DailyByProductionType\ttrnUDirFwd\tTRACE_NEW_UNIT_DIR_FWD\n",
      "DailyByProductionType\ttrnADirFwd\tTRACE_NEW_ANIMAL_DIR_FWD\n",
      "DailyByProductionType\ttrnUIndFwd\tTRACE_NEW_UNIT_IND_FWD\n",
      "DailyByProductionType\ttrnAIndFwd\tTRACE_NEW_ANIMAL_IND_FWD\n",
      "DailyByProductionType\ttrcUDirBack\tTRACE_CUM_UNIT_DIR_BACK\n",
      "DailyByProductionType\ttrcADirBack\tTRACE_CUM_ANIMAL_DIR_BACK\n",
      "DailyByProductionType\ttrcUIndBack\tTRACE_CUM_UNIT_IND_BACK\n",
      "DailyByProductionType\ttrcAIndBack\tTRACE_CUM_ANIMAL_IND_BACK\n",
      "DailyByProductionType\ttrcUDirpBack\tTRACE_CUM_UNIT_DIR_P_BACK\n",
      "DailyByProductionType\ttrcADirpBack\tTRACE_CUM_ANIMAL_DIR_P_BACK\n",
      "DailyByProductionType\ttrcUIndpBack\tTRACE_CUM_UNIT_IND_P_BACK\n",
      "DailyByProductionType\ttrcAIndpBack\tTRACE_CUM_ANIMAL_IND_P_BACK\n",
      "DailyByProductionType\ttrnUDirBack\tTRACE_NEW_UNIT_DIR_BACK\n",
      "DailyByProductionType\ttrnADirBack\tTRACE_NEW_ANIMAL_DIR_BACK\n",
      "DailyByProductionType\ttrnUIndBack\tTRACE_NEW_U_IND_BACK\n",
      "DailyByProductionType\ttrnAIndBack\tTRACE_NEW_ANIMAL_IND_BACK\n",
      "DailyByProductionType\ttonUDirFwd\tTRACE_ORIGIN_NEW_UNIT_DIR_FWD\n",
      "DailyByProductionType\ttonUIndFwd\tTRACE_ORIGIN_NEW_UNIT_IND_FWD\n",
      "DailyByProductionType\ttonUDirBack\tTRACE_ORIGIN_NEW_UNIT_DIR_BACK\n",
      "DailyByProductionType\ttonUIndBack\tTRACE_ORIGIN_NEW_UNIT_IND_BACK\n",
      "DailyByProductionType\texmcUDirFwd\tEXAM_CUM_UNIT_DIR_FWD\n",
      "DailyByProductionType\texmcADirFwd\tEXAM_CUM_ANIMAL_DIR_FWD\n",
      "DailyByProductionType\texmcUIndFwd\tEXAM_CUM_UNIT_IND_FWD\n",
      "DailyByProductionType\texmcAIndFwd\tEXAM_CUM_ANIMAL_IND_FWD\n",
      "DailyByProductionType\texmcUDirBack\tEXAM_CUM_UNIT_DIR_BACK\n",
      "DailyByProductionType\texmcADirBack\tEXAM_CUM_ANIMAL_DIR_BACK\n",
      "DailyByProductionType\texmcUIndBack\tEXAM_CUM_UNIT_IND_BACK\n",
      "DailyByProductionType\texmcAIndBack\tEXAM_CUM_ANIMAL_IND_BACK\n",
      "DailyByProductionType\texmnUAll\tEXAM_NEW_UNIT_ALL\n",
      "DailyByProductionType\texmnAAll\tEXAM_NEW_ANIMAL_ALL\n",
      "DailyByProductionType\ttstcUDirFwd\tTEST_CUM_UNIT_DIR_FWD\n",
      "DailyByProductionType\ttstcADirFwd\tTEST_CUM_ANIMAL_DIR_FWD\n",
      "DailyByProductionType\ttstcUIndFwd\tTEST_CUM_UNIT_IND_FWD\n",
      "DailyByProductionType\ttstcAIndFwd\tTEST_CUM_ANIMAL_IND_FWD\n",
      "DailyByProductionType\ttstcUDirBack\tTEST_CUM_UNIT_DIR_BACK\n",
      "DailyByProductionType\ttstcADirBack\tTEST_CUM_ANIMAL_DIR_BACK\n",
      "DailyByProductionType\ttstcUIndBack\tTEST_CUM_UNIT_IND_BACK\n",
      "DailyByProductionType\ttstcAIndBack\tTEST_CUM_ANIMAL_IND_BACK\n",
      "DailyByProductionType\ttstcUTruePos\tTEST_CUM_UNIT_TRUE_POS\n",
      "DailyByProductionType\ttstcATruePos\tTEST_CUM_ANIMAL_TRUE_POS\n",
      "DailyByProductionType\ttstnUTruePos\tTEST_NEW_UNIT_TRUE_POS\n",
      "DailyByProductionType\ttstnATruePos\tTEST_NEW_ANIMAL_TRUE_POS\n",
      "DailyByProductionType\ttstcUTrueNeg\tTEST_CUM_UNIT_TRUE_NEG\n",
      "DailyByProductionType\ttstcATrueNeg\tTEST_CUM_ANIMAL_TRUE_NEG\n",
      "DailyByProductionType\ttstnUTrueNeg\tTEST_NEW_UNIT_TRUE_NEG\n",
      "DailyByProductionType\ttstnATrueNeg\tTEST_NEW_ANIMAL_TRUE_NEG\n",
      "DailyByProductionType\ttstcUFalsePos\tTEST_CUM_UNIT_FALSE_POS\n",
      "DailyByProductionType\ttstcAFalsePos\tTEST_CUM_ANIMAL_FALSE_POS\n",
      "DailyByProductionType\ttstnUFalsePos\tTEST_NEW_UNIT_FALSE_POS\n",
      "DailyByProductionType\ttstnAFalsePos\tTEST_NEW_ANIMAL_FALSE_POS\n",
      "DailyByProductionType\ttstcUFalseNeg\tTEST_CUM_UNIT_FALSE_NEG\n",
      "DailyByProductionType\ttstcAFalseNeg\tTEST_CUM_ANIMAL_FALSE_NEG\n",
      "DailyByProductionType\ttstnUFalseNeg\tTEST_NEW_UNIT_FALSE_NEG\n",
      "DailyByProductionType\ttstnAFalseNeg\tTEST_NEW_ANIMAL_FALSE_NEG\n",
      "DailyByProductionType\tdetnUClin\tDETECT_NEW_UNIT_CLIN\n",
      "DailyByProductionType\tdetnAClin\tDETECT_NEW_ANIMAL_CLIN\n",
      "DailyByProductionType\tdetcUClin\tDETECT_CUM_UNIT_CLIN\n",
      "DailyByProductionType\tdetcAClin\tDETECT_CUM_ANIMAL_CLIN\n",
      "DailyByProductionType\tdetnUTest\tDETECT_NEW_UNIT_TEST\n",
      "DailyByProductionType\tdetnATest\tDETECT_NEW_ANIMAL_TEST\n",
      "DailyByProductionType\tdetcUTest\tDETECT_CUM_UNIT_TEST\n",
      "DailyByProductionType\tdetcATest\tDETECT_CUM_ANIMAL_TEST\n",
      "DailyByProductionType\tdescUIni\tDESTROY_CUM_UNIT_INITIAL\n",
      "DailyByProductionType\tdescAIni\tDESTROY_CUM_ANIMAL_INITIAL\n",
      "DailyByProductionType\tdescUDet\tDESTROY_CUM_UNIT_DETECT\n",
      "DailyByProductionType\tdescADet\tDESTROY_CUM_ANIMAL_DETECT\n",
      "DailyByProductionType\tdescUDirFwd\tDESTROY_CUM_UNIT_DIR_FWD\n",
      "DailyByProductionType\tdescADirFwd\tDESTROY_CUM_ANIMAL_DIR_FWD\n",
      "DailyByProductionType\tdescUIndFwd\tDESTROY_CUM_UNIT_IND_FWD\n",
      "DailyByProductionType\tdescAIndFwd\tDESTROY_CUM_ANIMAL_IND_FWD\n",
      "DailyByProductionType\tdescUDirBack\tDESTROY_CUM_UNIT_DIR_BACK\n",
      "DailyByProductionType\tdescADirBack\tDESTROY_CUM_ANIMAL_DIR_BACK\n",
      "DailyByProductionType\tdescUIndBack\tDESTROY_CUM_UNIT_IND_BACK\n",
      "DailyByProductionType\tdescAIndBack\tDESTROY_CUM_ANIMAL_IND_BACK\n",
      "DailyByProductionType\tdescURing\tDESTROY_CUM_UNIT_RING\n",
      "DailyByProductionType\tdescARing\tDESTROY_CUM_ANIMAL_RING\n",
      "DailyByProductionType\tdesnUAll\tDESTROY_NEW_UNIT_ALL\n",
      "DailyByProductionType\tdesnAAll\tDESTROY_NEW_ANIMAL_ALL\n",
      "DailyByProductionType\tdeswUAll\tDESTROY_WAIT_UNIT_ALL\n",
      "DailyByProductionType\tdeswAAll\tDESTROY_WAIT_ANIMAL_ALL\n",
      "DailyByProductionType\tvaccUIni\tVAC_CUM_UNIT_INITIAL\n",
      "DailyByProductionType\tvaccAIni\tVAC_CUM_ANIMAL_INITIAL\n",
      "DailyByProductionType\tvaccURing\tVAC_CUM_UNIT_RING\n",
      "DailyByProductionType\tvaccARing\tVAC_CUM_ANIMAL_RING\n",
      "DailyByProductionType\tvacnUAll\tVAC_NEW_UNIT_ALL\n",
      "DailyByProductionType\tvacnAAll\tVAC_NEW_ANIMAL_ALL\n",
      "DailyByProductionType\tvacwUAll\tVAC_WAIT_UNIT_ALL\n",
      "DailyByProductionType\tvacwAAll\tVAC_WAIT_ANIMAL_ALL\n",
      "DailyByProductionType\tzonnFoci\tZONE_NEW_FOCI\n",
      "DailyByProductionType\tzoncFoci\tZONE_CUM_FOCI\n",
      "\t\t\n",
      "DailyByZone\titeration\tITERATION\n",
      "DailyByZone\tday\tDAY\n",
      "DailyByZone\tzoneID\tZONE_ID\n",
      "DailyByZone\tzoneArea\tZONE_AREA\n",
      "DailyByZone\tzonePerimeter\tZONE_PERIMETER\n",
      "\t\t\n",
      "DailyByZoneAndProductionType\titeration\tITERATION\n",
      "DailyByZoneAndProductionType\tday\tDAY\n",
      "DailyByZoneAndProductionType\tzoneID\tZONE_ID\n",
      "DailyByZoneAndProductionType\tproductionTypeID\tPRODUCTION_TYPE_ID\n",
      "DailyByZoneAndProductionType\tunitDaysInZone\tUNIT_DAYS_IN_ZONE\n",
      "DailyByZoneAndProductionType\tanimalDaysInZone\tANIMAL_DAYS_IN_ZONE\n",
      "DailyByZoneAndProductionType\tunitsInZone\tUNITS_IN_ZONE\n",
      "DailyByZoneAndProductionType\tanimalsInZone\tANIMALS_IN_ZONE\n",
      "\t\t\n",
      "DailyEvents\titeration\tITERATION\n",
      "DailyEvents\tday\tDAY\n",
      "DailyEvents\tevent\tEVENT\n",
      "DailyEvents\tunitID\tUNIT_ID\n",
      "DailyEvents\tzoneID\tZONE_ID\n",
      "DailyEvents\teventCode\tEVENT_CODE\n",
      "DailyEvents\tnewStateCode\tNEW_STATE_CODE\n",
      "DailyEvents\ttestResultCode\tTEST_RESULT_CODE\n",
      "\t\t\n",
      "DailyExposures\titeration\tITERATION\n",
      "DailyExposures\tday\tDAY\n",
      "DailyExposures\texposure\tEXPOSURE\n",
      "DailyExposures\tinitiatedDay\tINITIATED_DAY\n",
      "DailyExposures\texposedUnitID\tEXPOSED_UNIT_ID\n",
      "DailyExposures\texposedZoneID\tEXPOSED_ZONE_ID\n",
      "DailyExposures\texposingUnitID\tEXPOSING_UNIT_ID\n",
      "DailyExposures\texposingZoneID\tEXPOSING_ZONE_ID\n",
      "DailyExposures\tspreadMethodCode\tSPREAD_METHOD_CODE\n",
      "DailyExposures\tisAdequate\tIS_ADEQUATE\n",
      "DailyExposures\texposingUnitStatusCode\tEXPOSING_UNIT_STATUS_CODE\n",
      "DailyExposures\texposedUnitStatusCode\tEXPOSED_UNIT_STATUS_CODE\n",
      "\t\t\n",
      "EpidemicCurves\titeration\tITERATION\n",
      "EpidemicCurves\tday\tDAY\n",
      "EpidemicCurves\tproductionTypeID\tPRODUCTION_TYPE_ID\n",
      "EpidemicCurves\tinfectedUnits\tINFECTED_UNITS\n",
      "EpidemicCurves\tinfectedAnimals\tINFECTED_ANIMALS\n",
      "EpidemicCurves\tdetectedUnits\tDETECTED_UNITS\n",
      "EpidemicCurves\tdetectedAnimals\tDETECTED_ANIMALS\n",
      "EpidemicCurves\tinfectiousUnits\tINFECTIOUS_UNITS\n",
      "EpidemicCurves\tapparentInfectiousUnits\tAPPARENT_INFECTIOUS_UNITS\n",
      "\t\t\n",
      "Iteration\titeration\tITERATION\n",
      "Iteration\tdiseaseEnded\tDISEASE_ENDED\n",
      "Iteration\tdiseaseEndDay\tDISEASE_END_DAY\n",
      "Iteration\tbreakEnded\tOUTBREAK_ENDED\n",
      "Iteration\tbreakEndDay\tOUTBREAK_END_DAY\n",
      "Iteration\tzoneFociCreated\tZONE_FOCI_CREATED\n",
      "Iteration\tdeswUMax\tDESTROY_WAIT_UNIT_MAX\n",
      "Iteration\tdeswUMaxDay\tDESTROY_WAIT_UNIT_MAX_DAY\n",
      "Iteration\tdeswAMax\tDESTROY_WAIT_ANIMAL_MAX\n",
      "Iteration\tdeswAMaxDay\tDESTROY_WAIT_ANIMAL_MAX_DAY\n",
      "Iteration\tdeswUTimeMax\tDESTROY_WAIT_UNIT_TIME_MAX\n",
      "Iteration\tdeswUTimeAvg\tDESTROY_WAIT_UNIT_TIME_AVG\n",
      "Iteration\tvacwUMax\tVAC_WAIT_UNIT_MAX\n",
      "Iteration\tvacwUMaxDay\tVAC_WAIT_UNIT_MAX_DAY\n",
      "Iteration\tvacwAMax\tVAC_WAIT_ANIMAL_MAX\n",
      "Iteration\tvacwAMaxDay\tVAC_WAIT_ANIMAL_MAX_DAY\n",
      "Iteration\tvacwUTimeMax\tVAC_WAIT_UNIT_TIME_MAX\n",
      "Iteration\tvacwUTimeAvg\tVAC_WAIT_UNIT_TIME_AVG\n",
      "\t\t\n",
      "IterationByUnit\titeration\tITERATION\n",
      "IterationByUnit\tunitID\tUNIT_ID\n",
      "IterationByUnit\tlastStatusCode\tLAST_STATUS_CODE\n",
      "IterationByUnit\tlastStatusDay\tLAST_STATUS_DAY\n",
      "IterationByUnit\tlastControlStateCode\tLAST_CONTROL_STATE_CODE\n",
      "IterationByUnit\tlastControlStateDay\tLAST_CONTROL_STATE_DAY\n",
      "\t\t\n",
      "IterationByProductionType\titeration\tITERATION\n",
      "IterationByProductionType\tproductionTypeID\tPRODUCTION_TYPE_ID\n",
      "IterationByProductionType\ttscUSusc\tTRANSITION_STATE_CUM_UNIT_SUSCEPTIBLE\n",
      "IterationByProductionType\ttscASusc\tTRANSITION_STATE_CUM_ANIMAL_SUSCEPTIBLE\n",
      "IterationByProductionType\ttscULat\tTRANSITION_STATE_CUM_UNIT_LATENT\n",
      "IterationByProductionType\ttscALat\tTRANSITION_STATE_CUM_ANIMAL_LATENT\n",
      "IterationByProductionType\ttscUSubc\tTRANSITION_STATE_CUM_UNIT_SUBCLINICAL\n",
      "IterationByProductionType\ttscASubc\tTRANSITION_STATE_CUM_ANIMAL_SUBCLINICAL\n",
      "IterationByProductionType\ttscUClin\tTRANSITION_STATE_CUM_UNIT_CLINICAL\n",
      "IterationByProductionType\ttscAClin\tTRANSITION_STATE_CUM_ANIMAL_CLINICAL\n",
      "IterationByProductionType\ttscUNImm\tTRANSITION_STATE_CUM_UNIT_NAT_IMMUNE\n",
      "IterationByProductionType\ttscANImm\tTRANSITION_STATE_CUM_ANIMAL_NAT_IMMUNE\n",
      "IterationByProductionType\ttscUVImm\tTRANSITION_STATE_CUM_UNIT_VAC_IMMUNE\n",
      "IterationByProductionType\ttscAVImm\tTRANSITION_STATE_CUM_ANIMAL_VAC_IMMUNE\n",
      "IterationByProductionType\ttscUDest\tTRANSITION_STATE_CUM_UNIT_DESTROYED\n",
      "IterationByProductionType\ttscADest\tTRANSITION_STATE_CUM_ANIMAL_DESTROYED\n",
      "IterationByProductionType\tinfcUIni\tINFECTION_CUM_UNIT_INITIAL\n",
      "IterationByProductionType\tinfcAIni\tINFECTION_CUM_ANIMAL_INITIAL\n",
      "IterationByProductionType\tinfcUAir\tINFECTION_CUM_UNIT_AIR\n",
      "IterationByProductionType\tinfcAAir\tINFECTION_CUM_ANIMAL_AIR\n",
      "IterationByProductionType\tinfcUDir\tINFECTION_CUM_UNIT_DIR\n",
      "IterationByProductionType\tinfcADir\tINFECTION_CUM_ANIMAL_DIR\n",
      "IterationByProductionType\tinfcUInd\tINFECTION_CUM_UNIT_IND\n",
      "IterationByProductionType\tinfcAInd\tINFECTION_CUM_ANIMAL_IND\n",
      "IterationByProductionType\texpcUDir\tEXPOSED_CUM_UNIT_DIR\n",
      "IterationByProductionType\texpcADir\tEXPOSED_CUM_ANIMAL_DIR\n",
      "IterationByProductionType\texpcUInd\tEXPOSED_CUM_UNIT_IND\n",
      "IterationByProductionType\texpcAInd\tEXPOSED_CUM_ANIMAL_IND\n",
      "IterationByProductionType\ttrcUDirFwd\tTRACE_CUM_UNIT_DIR_FWD\n",
      "IterationByProductionType\ttrcADirFwd\tTRACE_CUM_ANIMAL_DIR_FWD\n",
      "IterationByProductionType\ttrcUIndFwd\tTRACE_CUM_UNIT_IND_FWD\n",
      "IterationByProductionType\ttrcAIndFwd\tTRACE_CUM_ANIMAL_IND_FWD\n",
      "IterationByProductionType\ttrcUDirpFwd\tTRACE_CUM_UNIT_DIR_P_FWD\n",
      "IterationByProductionType\ttrcADirpFwd\tTRACE_CUM_ANIMAL_DIR_PFWD\n",
      "IterationByProductionType\ttrcUIndpFwd\tTRACE_CUM_UNIT_IND_P_FWD\n",
      "IterationByProductionType\ttrcAIndpFwd\tTRACE_CUM_ANIMAL_IND_P_FWD\n",
      "IterationByProductionType\ttrcUDirBack\tTRACE_CUM_UNIT_DIR_BACK\n",
      "IterationByProductionType\ttrcADirBack\tTRACE_CUM_ANIMAL_DIR_BACK\n",
      "IterationByProductionType\ttrcUIndBack\tTRACE_CUM_UNIT_IND_BACK\n",
      "IterationByProductionType\ttrcAIndBack\tTRACE_CUM_ANIMAL_IND_BACK\n",
      "IterationByProductionType\ttrcUDirpBack\tTRACE_CUM_UNIT_DIR_P_BACK\n",
      "IterationByProductionType\ttrcADirpBack\tTRACE_CUM_ANIMAL_DIR_PBACK\n",
      "IterationByProductionType\ttrcUIndpBack\tTRACE_CUM_UNIT_IND_P_BACK\n",
      "IterationByProductionType\ttrcAIndpBack\tTRACE_CUM_ANIMAL_IND_P_BACK\n",
      "IterationByProductionType\ttocUDirFwd\tTRACE_ORIGIN_CUM_UNIT_DIR_FWD\n",
      "IterationByProductionType\ttocUIndFwd\tTRACE_ORIGIN_CUM_UNIT_IND_FWD\n",
      "IterationByProductionType\ttocUDirBack\tTRACE_ORIGIN_CUM_UNIT_DIR_BACK\n",
      "IterationByProductionType\ttocUIndBack\tTRACE_ORIGIN_CUM_UNIT_IND_BACK\n",
      "IterationByProductionType\texmcUDirFwd\tEXAM_CUM_UNIT_DIR_FWD\n",
      "IterationByProductionType\texmcADirFwd\tEXAM_CUM_ANIMAL_DIR_FWD\n",
      "IterationByProductionType\texmcUIndFwd\tEXAM_CUM_UNIT_IND_FWD\n",
      "IterationByProductionType\texmcAIndFwd\tEXAM_CUM_ANIMAL_IND_FWD\n",
      "IterationByProductionType\texmcUDirBack\tEXAM_CUM_UNIT_DIR_BACK\n",
      "IterationByProductionType\texmcADirBack\tEXAM_CUM_ANIMAL_DIR_BACK\n",
      "IterationByProductionType\texmcUIndBack\tEXAM_CUM_UNIT_IND_BACK\n",
      "IterationByProductionType\texmcAIndBack\tEXAM_CUM_ANIMAL_IND_BACK\n",
      "IterationByProductionType\ttstcUDirFwd\tTEST_CUM_UNIT_DIR_FWD\n",
      "IterationByProductionType\ttstcADirFwd\tTEST_CUM_ANIMAL_DIR_FWD\n",
      "IterationByProductionType\ttstcUIndFwd\tTEST_CUM_UNIT_IND_FWD\n",
      "IterationByProductionType\ttstcAIndFwd\tTEST_CUM_ANIMAL_IND_FWD\n",
      "IterationByProductionType\ttstcUDirBack\tTEST_CUM_UNIT_DIR_BACK\n",
      "IterationByProductionType\ttstcADirBack\tTEST_CUM_ANIMAL_DIR_BACK\n",
      "IterationByProductionType\ttstcUIndBack\tTEST_CUM_UNIT_IND_BACK\n",
      "IterationByProductionType\ttstcAIndBack\tTEST_CUM_ANIMAL_IND_BACK\n",
      "IterationByProductionType\ttstcUTruePos\tTEST_CUM_UNIT_TRUE_POS\n",
      "IterationByProductionType\ttstcATruePos\tTEST_CUM_ANIMAL_TRUE_POS\n",
      "IterationByProductionType\ttstcUTrueNeg\tTEST_CUM_UNIT_TRUE_NEG\n",
      "IterationByProductionType\ttstcATrueNeg\tTEST_CUM_ANIMAL_TRUE_NEG\n",
      "IterationByProductionType\ttstcUFalsePos\tTEST_CUM_UNIT_FALSE_POS\n",
      "IterationByProductionType\ttstcAFalsePos\tTEST_CUM_ANIMAL_FALSE_POS\n",
      "IterationByProductionType\ttstcUFalseNeg\tTEST_CUM_UNIT_FALSE_NEG\n",
      "IterationByProductionType\ttstcAFalseNeg\tTEST_CUM_ANIMAL_FALSE_NEG\n",
      "IterationByProductionType\tdetcUClin\tDETECT_CUM_UNIT_CLIN\n",
      "IterationByProductionType\tdetcAClin\tDETECT_CUM_ANIMAL_CLIN\n",
      "IterationByProductionType\tdetcUTest\tDETECT_CUM_UNIT_TEST\n",
      "IterationByProductionType\tdetcATest\tDETECT_CUM_ANIMAL_TEST\n",
      "IterationByProductionType\tdescUIni\tDESTROY_CUM_UNIT_INITIAL\n",
      "IterationByProductionType\tdescAIni\tDESTROY_CUM_ANIMAL_INITIAL\n",
      "IterationByProductionType\tdescUDet\tDESTROY_CUM_UNIT_DETECT\n",
      "IterationByProductionType\tdescADet\tDESTROY_CUM_ANIMAL_DETECT\n",
      "IterationByProductionType\tdescUDirFwd\tDESTROY_CUM_UNIT_DIR_FWD\n",
      "IterationByProductionType\tdescADirFwd\tDESTROY_CUM_ANIMAL_DIR_FWD\n",
      "IterationByProductionType\tdescUIndFwd\tDESTROY_CUM_UNIT_IND_FWD\n",
      "IterationByProductionType\tdescAIndFwd\tDESTROY_CUM_ANIMAL_IND_FWD\n",
      "IterationByProductionType\tdescUDirBack\tDESTROY_CUM_UNIT_DIR_BACK\n",
      "IterationByProductionType\tdescADirBack\tDESTROY_CUM_ANIMAL_DIR_BACK\n",
      "IterationByProductionType\tdescUIndBack\tDESTROY_CUM_UNIT_IND_BACK\n",
      "IterationByProductionType\tdescAIndBack\tDESTROY_CUM_ANIMAL_IND_BACK\n",
      "IterationByProductionType\tdescURing\tDESTROY_CUM_UNIT_RING\n",
      "IterationByProductionType\tdescARing\tDESTROY_CUM_ANIMAL_RING\n",
      "IterationByProductionType\tdeswUMax\tDESTROY_WAIT_UNIT_MAX\n",
      "IterationByProductionType\tdeswAMax\tDESTROY_WAIT_ANIMAL_MAX\n",
      "IterationByProductionType\tdeswUMaxDay\tDESTROY_WAIT_UNIT_MAX_DAY\n",
      "IterationByProductionType\tdeswAMaxDay\tDESTROY_WAIT_ANIMAL_MAX_DAY\n",
      "IterationByProductionType\tdeswUTimeMax\tDESTROY_WAIT_UNIT_TIME_MAX\n",
      "IterationByProductionType\tdeswUTimeAvg\tDESTROY_WAIT_UNIT_TIME_AVG\n",
      "IterationByProductionType\tdeswUDaysInQueue\tDESTROY_WAIT_UNIT_DAYS_IN_QUEUE\n",
      "IterationByProductionType\tdeswADaysInQueue\tDESTROY_WAIT_ANIMAL_DAYS_IN_QUEUE\n",
      "IterationByProductionType\tvaccUIni\tVAC_CUM_UNIT_INITIAL\n",
      "IterationByProductionType\tvaccAIni\tVAC_CUM_ANIMAL_INITIAL\n",
      "IterationByProductionType\tvaccURing\tVAC_CUM_UNIT_RING\n",
      "IterationByProductionType\tvaccARing\tVAC_CUM_ANIMAL_RING\n",
      "IterationByProductionType\tvacwUMax\tVAC_WAIT_UNIT_MAX\n",
      "IterationByProductionType\tvacwAMax\tVAC_WAIT_ANIMAL_MAX\n",
      "IterationByProductionType\tvacwUMaxDay\tVAC_WAIT_UNIT_MAX_DAY\n",
      "IterationByProductionType\tvacwAMaxDay\tVAC_WAIT_ANIMAL_MAX_DAY\n",
      "IterationByProductionType\tvacwUTimeMax\tVAC_WAIT_UNIT_TIME_MAX\n",
      "IterationByProductionType\tvacwUTimeAvg\tVAC_WAIT_UNIT_TIME_AVG\n",
      "IterationByProductionType\tzoncFoci\tZONE_CUM_FOCI\n",
      "IterationByProductionType\tfirstDetection\tFIRST_DETECTION\n",
      "IterationByProductionType\tfirstDetUInf\tFIRST_DET_UNIT_INF\n",
      "IterationByProductionType\tfirstDetAInf\tFIRST_DETECT_ANIMAL_INF\n",
      "IterationByProductionType\tfirstDestruction\tFIRST_DESTRUCTION\n",
      "IterationByProductionType\tfirstVaccination\tFIRST_VACCINATION\n",
      "IterationByProductionType\tlastDetection\tLAST_DETECTION\n",
      "\t\t\n",
      "IterationByZone\titeration\tITERATION\n",
      "IterationByZone\tzoneID\tZONE_ID\n",
      "IterationByZone\tmaxZoneArea\tMAX_ZONE_AREA\n",
      "IterationByZone\tmaxZoneAreaDay\tMAX_ZONE_AREA_DAY\n",
      "IterationByZone\tfinalZoneArea\tFINAL_ZONE_AREA\n",
      "IterationByZone\tmaxZonePerimeter\tMAX_ZONE_PERIMETER\n",
      "IterationByZone\tmaxZonePerimeterDay\tMAX_ZONE_PERIMETER_DAY\n",
      "IterationByZone\tfinalZonePerimeter\tFINAL_ZONE_PERIMETER\n",
      "\t\t\n",
      "IterationByZoneAndProductionType\titeration\tITERATION\n",
      "IterationByZoneAndProductionType\tzoneID\tZONE_ID\n",
      "IterationByZoneAndProductionType\tproductionTypeID\tPRODUCTION_TYPE_ID\n",
      "IterationByZoneAndProductionType\tunitDaysInZone\tUNIT_DAYS_IN_ZONE\n",
      "IterationByZoneAndProductionType\tanimalDaysInZone\tANIMAL_DAYS_IN_ZONE\n",
      "IterationByZoneAndProductionType\tcostSurveillance\tCOST_SURVEILLANCE\n",
      "\t\t\n",
      "IterationCosts\titeration\tITERATION\n",
      "IterationCosts\tproductionTypeID\tPRODUCTION_TYPE_ID\n",
      "IterationCosts\tdestrAppraisal\tDESTROY_APPRAISAL\n",
      "IterationCosts\tdestrCleaning\tDESTROY_CLEANING\n",
      "IterationCosts\tdestrEuthanasia\tDESTROY_EUTHANASIA\n",
      "IterationCosts\tdestrIndemnification\tDESTROY_INDEMNIFICATION\n",
      "IterationCosts\tdestrDisposal\tDESTROY_DISPOSAL\n",
      "IterationCosts\tvaccSetup\tVAC_CUM_SETUP\n",
      "IterationCosts\tvaccVaccination\tVAC_CUM_VACCINATION\"\"\").readlines()"
     ],
     "language": "python",
     "prompt_number": 7
    },
    {
     "cell_type": "code",
     "metadata": {},
     "outputs": [
      {
       "output_type": "stream",
       "stream": "stdout",
       "text": [
        "['General\\tGeneralID\\tGENERAL_ID\\n', 'General\\tsimulationStartTime\\tSIMULATION_START_TIME\\n', 'General\\tsimulationEndTime\\tSIMULATION_END_TIME\\n', 'General\\tcompletedIterations\\tCOMPLETED_ITERATIONS\\n', 'General\\tversion\\tVERSION\\n', '\\t\\t\\n', 'DailyByProductionType\\titeration\\tITERATION\\n', 'DailyByProductionType\\tproductionTypeID\\t_PRODUCTIONTYPEID\\n', 'DailyByProductionType\\tday\\tDAY\\n', 'DailyByProductionType\\ttsdUSusc\\tTRANSITION_STATE_DAILY_UNIT_SUSCEPTIBLE\\n']\n"
       ]
      },
      {
       "output_type": "pyout",
       "prompt_number": 8,
       "text": [
        "[['General', 'GeneralID', 'GENERAL_ID'],\n",
        " ['General', 'simulationStartTime', 'SIMULATION_START_TIME'],\n",
        " ['General', 'simulationEndTime', 'SIMULATION_END_TIME'],\n",
        " ['General', 'completedIterations', 'COMPLETED_ITERATIONS'],\n",
        " ['General', 'version', 'VERSION'],\n",
        " [''],\n",
        " ['DailyByProductionType', 'iteration', 'ITERATION'],\n",
        " ['DailyByProductionType', 'productionTypeID', '_PRODUCTIONTYPEID'],\n",
        " ['DailyByProductionType', 'day', 'DAY'],\n",
        " ['DailyByProductionType',\n",
        "  'tsdUSusc',\n",
        "  'TRANSITION_STATE_DAILY_UNIT_SUSCEPTIBLE']]"
       ],
       "metadata": {}
      }
     ],
     "input": [
      "print(name_conversion_table[:10])\n",
      "name_conversion_array = [line.strip().split('\\t') for line in name_conversion_table]\n",
      "name_conversion_array[:10]"
     ],
     "language": "python",
     "prompt_number": 8
    },
    {
     "cell_type": "code",
     "metadata": {},
     "outputs": [
      {
       "output_type": "pyout",
       "prompt_number": 9,
       "text": [
        "[['General', 'GeneralID', 'general_id'],\n",
        " ['General', 'simulationStartTime', 'simulation_start_time'],\n",
        " ['General', 'simulationEndTime', 'simulation_end_time'],\n",
        " ['General', 'completedIterations', 'completed_iterations'],\n",
        " ['General', 'version', 'version'],\n",
        " [''],\n",
        " ['DailyByProductionType', 'iteration', 'iteration'],\n",
        " ['DailyByProductionType', 'productionTypeID', '_productiontypeid'],\n",
        " ['DailyByProductionType', 'day', 'day'],\n",
        " ['DailyByProductionType',\n",
        "  'tsdUSusc',\n",
        "  'transition_state_daily_unit_susceptible']]"
       ],
       "metadata": {}
      }
     ],
     "input": [
      "for index, row in enumerate(name_conversion_array):\n",
      "    if len(row) == 3:\n",
      "        name_conversion_array[index] = [row[0], row[1], row[2].lower()]\n",
      "name_conversion_array[:10]"
     ],
     "language": "python",
     "prompt_number": 9
    },
    {
     "cell_type": "code",
     "metadata": {},
     "outputs": [],
     "input": [
      ""
     ],
     "language": "python",
     "prompt_number": 9
    },
    {
     "cell_type": "code",
     "metadata": {},
     "outputs": [
      {
       "output_type": "stream",
       "stream": "stdout",
       "text": [
        "['class IterationCosts(models.Model):', '    iteration = models.IntegerField(blank=True, null=True,', \"        help_text='The iteration during which the outputs in this records where generated.', )\", '    production_type = models.ForeignKey(ProductionType,', \"        help_text='The identifier of the production type that these outputs apply to.', )\", '    destroy_appraisal = models.FloatField(blank=True, null=True,', \"        help_text='Total cost of appraisal for all units destroyed over the course of an iteration.', )\", '    destroy_cleaning = models.FloatField(blank=True, null=True,', \"        help_text='Total cost of cleaning and disinfection for all units destroyed over the course of an iteration.', )\", '    destroy_euthanasia = models.FloatField(blank=True, null=True,', \"        help_text='Total cost of euthanasia for all animals in units destroyed over the course of an iteration.', )\", '    destroy_indemnification = models.FloatField(blank=True, null=True,', \"        help_text='Total cost of indemnification for all animals in units destroyed over the course of an iteration.', )\", '    destroy_disposal = models.FloatField(blank=True, null=True,', \"        help_text='Total cost of carcass disposal for all animals in units destroyed over the course of an iteration.', )\", '    vac_cum_setup = models.FloatField(blank=True, null=True,', \"        help_text='Total cost of vaccination setup for all units vaccinated over the course of an iteration.', )\", '    vac_cum_vaccination = models.FloatField(blank=True, null=True,', \"        help_text='Total cost of vaccination for all animals in units vaccinated over the course of an iteration.', )\", '']\n",
        "13\n"
       ]
      }
     ],
     "input": [
      "code_chunks = [block.split('\\n') for block in tables_code.split('\\n\\n\\n')]\n",
      "print(code_chunks[-1])\n",
      "print(len(code_chunks))"
     ],
     "language": "python",
     "prompt_number": 10
    },
    {
     "cell_type": "code",
     "metadata": {},
     "outputs": [
      {
       "output_type": "pyout",
       "prompt_number": 11,
       "text": [
        "['class Iteration(models.Model):',\n",
        " '    iteration = models.IntegerField(blank=True, null=True,',\n",
        " \"        help_text='The iteration during which the outputs in this records where generated.', )\",\n",
        " '    disease_ended = models.NullBooleanField(blank=True, null=True,',\n",
        " \"        help_text='Indicator that disease spread has ended.', )  # Changed Booleans to NullBooleans so as not to restrict output\",\n",
        " '    disease_end_day = models.IntegerField(blank=True, null=True,',\n",
        " \"        help_text='Day of the end of disease spread.', )\",\n",
        " '    outbreak_ended = models.NullBooleanField(blank=True, null=True,',\n",
        " \"        help_text='Indicator that outbreak  has ended including all control measures supporting the scenario.', )  # Changed Booleans to NullBooleans so as not to restrict output\",\n",
        " '    outbreak_end_day = models.IntegerField(blank=True, null=True,',\n",
        " \"        help_text='Day of the end of the outbreak including all control measures supporting the scenario.', )\",\n",
        " '    zone_foci_created = models.NullBooleanField(blank=True, null=True,',\n",
        " \"        help_text='Indicator is a Zone focus was created', )  # Changed Booleans to NullBooleans so as not to restrict output\",\n",
        " '    destroy_wait_unit_max = models.IntegerField(blank=True, null=True,',\n",
        " \"        help_text='Maximum number of units in queue for destruction on any given day over the course of the iteration', )\",\n",
        " '    destroy_wait_unit_max_day = models.IntegerField(blank=True, null=True,',\n",
        " \"        help_text='The first simulation day on which the maximum number of units in queue for destruction was reached', )\",\n",
        " '    destroy_wait_animal_max = models.FloatField(blank=True, null=True,',\n",
        " \"        help_text='Maximum number of animals in queue for destruction on any given day over the course of the iteration', )\",\n",
        " '    destroy_wait_animal_max_day = models.IntegerField(blank=True, null=True,',\n",
        " \"        help_text='The first simulation day on which the maximum number of animals in queue for destruction was reached', )\",\n",
        " '    destroy_wait_unit_time_max = models.IntegerField(blank=True, null=True,',\n",
        " \"        help_text='Maximum number of days spent in queue for destruction by any single unit over the course of the iteration', )\",\n",
        " '    destroy_wait_unit_time_avg = models.FloatField(blank=True, null=True,',\n",
        " \"        help_text='Average number of days spent by each unit in queue for destruction over the course of the iteration', )\",\n",
        " '    vac_wait_unit_max = models.IntegerField(blank=True, null=True,',\n",
        " \"        help_text='Maximum number of units in queue for vaccination on any given day over the course of the iteration', )\",\n",
        " '    vac_wait_unit_max_day = models.IntegerField(blank=True, null=True,',\n",
        " \"        help_text='The first simulation day on which the maximum number of units in queue for vaccination was reached', )\",\n",
        " '    vac_wait_animal_max = models.FloatField(blank=True, null=True,',\n",
        " \"        help_text='Maximum number of animals in queue for vaccination on any given day over the course of the iteration', )\",\n",
        " '    vac_wait_animal_max_day = models.IntegerField(blank=True, null=True,',\n",
        " \"        help_text='The first simulation day on which the maximum number of animals in queue for vaccination was reached', )\",\n",
        " '    vac_wait_unit_time_max = models.IntegerField(blank=True, null=True,',\n",
        " \"        help_text='Maximum number of days spent in queue for vaccination by any single unit over the course of the iteration', )\",\n",
        " '    vac_wait_unit_time_avg = models.FloatField(blank=True, null=True,',\n",
        " \"        help_text='Average number of days spent in queue for vaccination by each unit that was vaccinated over the course of the iteration', )\"]"
       ],
       "metadata": {}
      }
     ],
     "input": [
      "# dictionary-ify code_blocks\n",
      "import re\n",
      "code_blocks = {re.sub('class |\\(models.Model\\):', '', block[0]) : block for block in code_chunks}\n",
      "code_blocks['Iteration']"
     ],
     "language": "python",
     "prompt_number": 11
    },
    {
     "cell_type": "code",
     "metadata": {},
     "outputs": [],
     "input": [
      "indentation = '    '"
     ],
     "language": "python",
     "prompt_number": 12
    },
    {
     "cell_type": "code",
     "metadata": {},
     "outputs": [],
     "input": [
      "def substr_indices(array, substr):\n",
      "    matches = []\n",
      "    for index, line in enumerate(array):\n",
      "        if substr in line:\n",
      "            matches.append(index)\n",
      "    return matches"
     ],
     "language": "python",
     "prompt_number": 13
    },
    {
     "cell_type": "code",
     "metadata": {},
     "outputs": [
      {
       "output_type": "pyout",
       "prompt_number": 14,
       "text": [
        "[0, 3]"
       ],
       "metadata": {}
      }
     ],
     "input": [
      "some_list = ['abc-123', 'def-456', 'ghi-789', 'abc-456']\n",
      "substr_indices(some_list, 'abc')"
     ],
     "language": "python",
     "prompt_number": 14
    },
    {
     "cell_type": "code",
     "metadata": {},
     "outputs": [
      {
       "output_type": "stream",
       "stream": "stdout",
       "text": [
        "    iteration = models.IntegerField(blank=True, null=True,\n"
       ]
      },
      {
       "output_type": "pyout",
       "prompt_number": 15,
       "text": [
        "\"    iteration = models.IntegerField(blank=True, null=True, db_column='iteration', \""
       ],
       "metadata": {}
      }
     ],
     "input": [
      "line = '    iteration = models.IntegerField(blank=True, null=True,'\n",
      "line.replace('iteration', 'itr')\n",
      "print(line)\n",
      "line += \" db_column='iteration', \"\n",
      "line"
     ],
     "language": "python",
     "prompt_number": 15
    },
    {
     "cell_type": "code",
     "metadata": {},
     "outputs": [
      {
       "output_type": "pyout",
       "prompt_number": 16,
       "text": [
        "'Ugly Underscores Of Oblivion'"
       ],
       "metadata": {}
      }
     ],
     "input": [
      "def printable_name(underscores_name):\n",
      "    spaced = re.sub(r'_', r' ', underscores_name)\n",
      "    return spaced.title()  # capitalize\n",
      "printable_name('ugly_underscores_of_oblivion')"
     ],
     "language": "python",
     "prompt_number": 16
    },
    {
     "cell_type": "code",
     "metadata": {},
     "outputs": [],
     "input": [
      ""
     ],
     "language": "python",
     "prompt_number": 16
    },
    {
     "cell_type": "code",
     "metadata": {},
     "outputs": [],
     "input": [
      "import copy\n",
      "def reorganize_names(old_blocks):\n",
      "    code_blocks = copy.deepcopy(old_blocks)\n",
      "    trouble_makers = {}\n",
      "    for row in name_conversion_array:\n",
      "        if len(row) == 3:\n",
      "            class_name, db_name, django_name = row[:]\n",
      "            block = code_blocks[class_name]\n",
      "            matching_lines = substr_indices(block, ' ' + django_name + ' = ')\n",
      "            if len(matching_lines) != 1:  #couldn't find or found too many\n",
      "                if '_id' not in django_name:\n",
      "                    trouble_makers[django_name] = (class_name, django_name, matching_lines)\n",
      "            else:\n",
      "#                 print(class_name, db_name, django_name, block[matching_lines[0]], end='\\n\\n')\n",
      "                line = block[matching_lines[0]].replace(django_name, db_name) # does not side effect the original\n",
      "                line += \" db_column='\" + django_name + \"', verbose_name=printable_name('\"+django_name+\"'), \"\n",
      "                block[matching_lines[0]] = line\n",
      "    print(\"Trouble:\", trouble_makers)\n",
      "    return code_blocks"
     ],
     "language": "python",
     "prompt_number": 17
    },
    {
     "cell_type": "code",
     "metadata": {},
     "outputs": [
      {
       "output_type": "stream",
       "stream": "stdout",
       "text": [
        "Trouble: {'day': ('DailyByZoneAndProductionType', 'day', [3, 10, 12]), '_productiontypeid': ('DailyByProductionType', '_productiontypeid', [])}\n"
       ]
      }
     ],
     "input": [
      "# print(reorganize_names(code_blocks))\n",
      "new_code = reorganize_names(code_blocks)"
     ],
     "language": "python",
     "prompt_number": 18
    },
    {
     "cell_type": "code",
     "metadata": {},
     "outputs": [
      {
       "output_type": "stream",
       "stream": "stdout",
       "text": [
        "class DailyByProductionType(models.Model):\n",
        "    iteration = models.IntegerField(blank=True, null=True, db_column='iteration', verbose_name=printable_name('iteration'), \n",
        "        help_text='The iteration during which the outputs in this records where generated.', )\n",
        "    production_type = models.ForeignKey(ProductionType,\n",
        "        help_text='The identifier of the production type that these outputs apply to.', )\n",
        "    day = models.IntegerField(blank=True, null=True, db_column='day', verbose_name=printable_name('day'), \n",
        "        help_text='The day within the iteration on which these outputs were generated.', )\n",
        "    tsdUSusc = models.IntegerField(blank=True, null=True, db_column='transition_state_daily_unit_susceptible', verbose_name=printable_name('transition_state_daily_unit_susceptible'), \n",
        "        help_text='Number of units that are or become susceptible on the given day', )\n",
        "    tsdASusc = models.IntegerField(blank=True, null=True, db_column='transition_state_daily_animal_susceptible', verbose_name=printable_name('transition_state_daily_animal_susceptible'), \n",
        "        help_text='Total number of animals in all units that are or become susceptible on the given day', )\n",
        "    tsdULat = models.IntegerField(blank=True, null=True, db_column='transition_state_daily_unit_latent', verbose_name=printable_name('transition_state_daily_unit_latent'), \n",
        "        help_text='Number of units that are or become latent on the given day', )\n",
        "    tsdALat = models.IntegerField(blank=True, null=True, db_column='transition_state_daily_animal_latent', verbose_name=printable_name('transition_state_daily_animal_latent'), \n",
        "        help_text='Total number of animals in all units that are or become latent on the given day', )\n",
        "    tsdUSubc = models.IntegerField(blank=True, null=True, db_column='transition_state_daily_unit_subclinical', verbose_name=printable_name('transition_state_daily_unit_subclinical'), \n",
        "        help_text='Number of units that are or become subclinically infectious on the given day', )\n",
        "    tsdASubc = models.IntegerField(blank=True, null=True, db_column='transition_state_daily_animal_subclinical', verbose_name=printable_name('transition_state_daily_animal_subclinical'), \n",
        "        help_text='Total number of animals in all units that are or become infectious on the given day', )\n",
        "    tsdUClin = models.IntegerField(blank=True, null=True, db_column='transition_state_daily_unit_clinical', verbose_name=printable_name('transition_state_daily_unit_clinical'), \n",
        "        help_text='Number of units that are or become clinical on the given day', )\n",
        "    tsdAClin = models.IntegerField(blank=True, null=True, db_column='transition_state_daily_animal_clinical', verbose_name=printable_name('transition_state_daily_animal_clinical'), \n",
        "        help_text='Total number of animals in all units that are or become clinical on the given day', )\n",
        "    tsdUNImm = models.IntegerField(blank=True, null=True, db_column='transition_state_daily_unit_nat_immune', verbose_name=printable_name('transition_state_daily_unit_nat_immune'), \n",
        "        help_text='Number of units that are or become naturally immune on the given day', )\n",
        "    tsdANImm = models.IntegerField(blank=True, null=True, db_column='transition_state_daily_animal_nat_immune', verbose_name=printable_name('transition_state_daily_animal_nat_immune'), \n",
        "        help_text='Total number of animals in all units that are or become naturally immune on the given day', )\n",
        "    tsdUVImm = models.IntegerField(blank=True, null=True, db_column='transition_state_daily_unit_vac_immune', verbose_name=printable_name('transition_state_daily_unit_vac_immune'), \n",
        "        help_text='Number of units that are or become vaccine immuneon the given day', )\n",
        "    tsdAVImm = models.IntegerField(blank=True, null=True, db_column='transition_state_daily_animal_vac_immune', verbose_name=printable_name('transition_state_daily_animal_vac_immune'), \n",
        "        help_text='Total number of animals in all units that are or become vaccine immune on the given day', )\n",
        "    tsdUDest = models.IntegerField(blank=True, null=True, db_column='transition_state_daily_unit_destroyed', verbose_name=printable_name('transition_state_daily_unit_destroyed'), \n",
        "        help_text='Number of units that are destroyed on the given day', )\n",
        "    tsdADest = models.IntegerField(blank=True, null=True, db_column='transition_state_daily_animal_destroyed', verbose_name=printable_name('transition_state_daily_animal_destroyed'), \n",
        "        help_text='Total number of animals in all units that are destroyed on the given day', )\n",
        "    tscUSusc = models.IntegerField(blank=True, null=True, db_column='transition_state_cum_unit_susceptible', verbose_name=printable_name('transition_state_cum_unit_susceptible'), \n",
        "        help_text='Number of units that are or become susceptible over the course of an iteration', )\n",
        "    tscASusc = models.IntegerField(blank=True, null=True, db_column='transition_state_cum_animal_susceptible', verbose_name=printable_name('transition_state_cum_animal_susceptible'), \n",
        "        help_text='Total number of animals in all units that are or become susceptible over the course of an iteration', )\n",
        "    tscULat = models.IntegerField(blank=True, null=True, db_column='transition_state_cum_unit_latent', verbose_name=printable_name('transition_state_cum_unit_latent'), \n",
        "        help_text='Number of units that are or become latent over the course of an iteration', )\n",
        "    tscALat = models.IntegerField(blank=True, null=True, db_column='transition_state_cum_animal_latent', verbose_name=printable_name('transition_state_cum_animal_latent'), \n",
        "        help_text='Total number of animals in all units that are or become latent over the course of an iteration', )\n",
        "    tscUSubc = models.IntegerField(blank=True, null=True, db_column='transition_state_cum_unit_subclinical', verbose_name=printable_name('transition_state_cum_unit_subclinical'), \n",
        "        help_text='Number of units that are or become subclinically infectious over the course of an iteration', )\n",
        "    tscASubc = models.IntegerField(blank=True, null=True, db_column='transition_state_cum_animal_subclinical', verbose_name=printable_name('transition_state_cum_animal_subclinical'), \n",
        "        help_text='Total number of animals in all units that are or become infectious over the course of an iteration', )\n",
        "    tscUClin = models.IntegerField(blank=True, null=True, db_column='transition_state_cum_unit_clinical', verbose_name=printable_name('transition_state_cum_unit_clinical'), \n",
        "        help_text='Number of units that are or become clinical over the course of an iteration', )\n",
        "    tscAClin = models.IntegerField(blank=True, null=True, db_column='transition_state_cum_animal_clinical', verbose_name=printable_name('transition_state_cum_animal_clinical'), \n",
        "        help_text='Total number of animals in all units that are or become clinical over the course of an iteration', )\n",
        "    tscUNImm = models.IntegerField(blank=True, null=True, db_column='transition_state_cum_unit_nat_immune', verbose_name=printable_name('transition_state_cum_unit_nat_immune'), \n",
        "        help_text='Number of units that are or become naturally immune over the course of an iteration', )\n",
        "    tscANImm = models.IntegerField(blank=True, null=True, db_column='transition_state_cum_animal_nat_immune', verbose_name=printable_name('transition_state_cum_animal_nat_immune'), \n",
        "        help_text='Total number of animals in all units that are or become naturally immune over the course of an iteration', )\n",
        "    tscUVImm = models.IntegerField(blank=True, null=True, db_column='transition_state_cum_unit_vac_immune', verbose_name=printable_name('transition_state_cum_unit_vac_immune'), \n",
        "        help_text='Number of units that are or become vaccine immune over the course of an iteration', )\n",
        "    tscAVImm = models.IntegerField(blank=True, null=True, db_column='transition_state_cum_animal_vac_immune', verbose_name=printable_name('transition_state_cum_animal_vac_immune'), \n",
        "        help_text='Total number of animals in all units that are or become vaccine immune over the course of an iteration', )\n",
        "    tscUDest = models.IntegerField(blank=True, null=True, db_column='transition_state_cum_unit_destroyed', verbose_name=printable_name('transition_state_cum_unit_destroyed'), \n",
        "        help_text='Number of units that are destroyed over the course of an iteration', )\n",
        "    tscADest = models.IntegerField(blank=True, null=True, db_column='transition_state_cum_animal_destroyed', verbose_name=printable_name('transition_state_cum_animal_destroyed'), \n",
        "        help_text='Total number of animals in all units that are destroyed over the course of an iteration', )\n",
        "    infnUAir = models.IntegerField(blank=True, null=True, db_column='infection_new_unit_air', verbose_name=printable_name('infection_new_unit_air'), \n",
        "        help_text='(infections new units airborne) Number of units that become infected by airborne spread on a given day', )\n",
        "    infnAAir = models.IntegerField(blank=True, null=True, db_column='infection_new_animal_air', verbose_name=printable_name('infection_new_animal_air'), \n",
        "        help_text='(infections new animals airborne) Number of animals in units that become infected by airborne spread on a given day', )\n",
        "    infnUDir = models.IntegerField(blank=True, null=True, db_column='infection_new_unit_dir', verbose_name=printable_name('infection_new_unit_dir'), \n",
        "        help_text='(infections new units direct)Number of units that become infected by direct contact on a given day', )\n",
        "    infnADir = models.IntegerField(blank=True, null=True, db_column='infection_new_animal_dir', verbose_name=printable_name('infection_new_animal_dir'), \n",
        "        help_text='(infections new animals direct)  Number of animals in units that become infected by direct contact on a given day', )\n",
        "    infnUInd = models.IntegerField(blank=True, null=True, db_column='infection_new_unit_ind', verbose_name=printable_name('infection_new_unit_ind'), \n",
        "        help_text='(infections new animals indirect) Number of units that become infected by indirect contact on a given day', )\n",
        "    infnAInd = models.IntegerField(blank=True, null=True, db_column='infection_new_animal_ind', verbose_name=printable_name('infection_new_animal_ind'), \n",
        "        help_text='(infections new animals indirect) Number of animals in units that become infected by indirect contact on a given day', )\n",
        "    infcUIni = models.IntegerField(blank=True, null=True, db_column='infection_cum_unit_initial', verbose_name=printable_name('infection_cum_unit_initial'), \n",
        "        help_text='Number of units that are initially infected at the beginning of an iteration', )\n",
        "    infcAIni = models.IntegerField(blank=True, null=True, db_column='infection_cum_animal_initial', verbose_name=printable_name('infection_cum_animal_initial'), \n",
        "        help_text='Number of animals in units that are initially infected at the beginning of an iteration', )\n",
        "    infcUAir = models.IntegerField(blank=True, null=True, db_column='infection_cum_unit_air', verbose_name=printable_name('infection_cum_unit_air'), \n",
        "        help_text='Number of units that become infected by airborne spread over the course of an iteration', )\n",
        "    infcAAir = models.IntegerField(blank=True, null=True, db_column='infection_cum_animal_air', verbose_name=printable_name('infection_cum_animal_air'), \n",
        "        help_text='Number of animals in units that become infected by airborne spread over the course of an iteration', )\n",
        "    infcUDir = models.IntegerField(blank=True, null=True, db_column='infection_cum_unit_dir', verbose_name=printable_name('infection_cum_unit_dir'), \n",
        "        help_text='Number of units that become infected by direct contact over the course of an iteration', )\n",
        "    infcADir = models.IntegerField(blank=True, null=True, db_column='infection_cum_animal_dir', verbose_name=printable_name('infection_cum_animal_dir'), \n",
        "        help_text='Number of animals that become infected by direct contact over the course of an iteration', )\n",
        "    infcUInd = models.IntegerField(blank=True, null=True, db_column='infection_cum_unit_ind', verbose_name=printable_name('infection_cum_unit_ind'), \n",
        "        help_text='Number of units that become infected by indirect contact over the course of an iteration', )\n",
        "    infcAInd = models.IntegerField(blank=True, null=True, db_column='infection_cum_animal_ind', verbose_name=printable_name('infection_cum_animal_ind'), \n",
        "        help_text='Number of animals in units that become infected by indirect contact over the course of an iteration', )\n",
        "    expcUDir = models.IntegerField(blank=True, null=True, db_column='exposed_cum_unit_dir', verbose_name=printable_name('exposed_cum_unit_dir'), \n",
        "        help_text='Total number of units directly exposed to any infected unit over the course of an iteration', )\n",
        "    expcADir = models.IntegerField(blank=True, null=True, db_column='exposed_cum_animal_dir', verbose_name=printable_name('exposed_cum_animal_dir'), \n",
        "        help_text='Total number of animals in units directly exposed to any infected unit over the course of an iteration', )\n",
        "    expcUInd = models.IntegerField(blank=True, null=True, db_column='exposed_cum_unit_ind', verbose_name=printable_name('exposed_cum_unit_ind'), \n",
        "        help_text='Total number of units indirectly exposed to any infected unit over the course of an iteration', )\n",
        "    expcAInd = models.IntegerField(blank=True, null=True, db_column='exposed_cum_animal_ind', verbose_name=printable_name('exposed_cum_animal_ind'), \n",
        "        help_text='Total number of animals in units indirectly exposed to any infected unit over the course of an iteration', )\n",
        "    trcUDirFwd = models.IntegerField(blank=True, null=True, db_column='trace_cum_unit_dir_fwd', verbose_name=printable_name('trace_cum_unit_dir_fwd'), \n",
        "        help_text='Total number of animals in all units directly exposed and successfully traced forward over the course of an iteration', )\n",
        "    trcADirFwd = models.IntegerField(blank=True, null=True, db_column='trace_cum_animal_dir_fwd', verbose_name=printable_name('trace_cum_animal_dir_fwd'), \n",
        "        help_text='Total number of animals in all units directly exposed and successfully traced forward over the course of an iteration', )\n",
        "    trcUIndFwd = models.IntegerField(blank=True, null=True, db_column='trace_cum_unit_ind_fwd', verbose_name=printable_name('trace_cum_unit_ind_fwd'), \n",
        "        help_text='Number of units indirectly exposed and successfully traced forward over the course of an iteration', )\n",
        "    trcAIndFwd = models.IntegerField(blank=True, null=True, db_column='trace_cum_animal_ind_fwd', verbose_name=printable_name('trace_cum_animal_ind_fwd'), \n",
        "        help_text='Total number of animals in all units indirectly exposed and successfully traced forward over the course of an iteration', )\n",
        "    trcUDirpFwd = models.IntegerField(blank=True, null=True, db_column='trace_cum_unit_dir_p_fwd', verbose_name=printable_name('trace_cum_unit_dir_p_fwd'), \n",
        "        help_text='Number of units directly exposed that could possibly have been traced forward over the course of an iteration', )\n",
        "    trcADirpFwd = models.IntegerField(blank=True, null=True, db_column='trace_cum_animal_dir_p_fwd', verbose_name=printable_name('trace_cum_animal_dir_p_fwd'), \n",
        "        help_text='Total number of animals in all units directly exposed that could possibly have been traced forward over the course of an iteration', )\n",
        "    trcUIndpFwd = models.IntegerField(blank=True, null=True, db_column='trace_cum_unit_ind_p_fwd', verbose_name=printable_name('trace_cum_unit_ind_p_fwd'), \n",
        "        help_text='Number of units indirectly exposed that could possibly have been traced forward over the course of an iteration', )\n",
        "    trcAIndpFwd = models.IntegerField(blank=True, null=True, db_column='trace_cum_animal_ind_p_fwd', verbose_name=printable_name('trace_cum_animal_ind_p_fwd'), \n",
        "        help_text='Total number of animals in units indirectly exposed that could possibly have been traced forward over the course of an iteration', )\n",
        "    tocUDirFwd = models.IntegerField(blank=True, null=True, db_column='trace_origin_cum_unit_dir_fwd', verbose_name=printable_name('trace_origin_cum_unit_dir_fwd'), \n",
        "        help_text='Number of trace-forwards of direct contact that originate at units of the designated type over the course of an iteration', )\n",
        "    tocUIndFwd = models.IntegerField(blank=True, null=True, db_column='trace_origin_cum_unit_ind_fwd', verbose_name=printable_name('trace_origin_cum_unit_ind_fwd'), \n",
        "        help_text='Number of trace-forwards of indirect contact that originate at units of the designated type over the course of an iteration', )\n",
        "    tocUDirBack = models.IntegerField(blank=True, null=True, db_column='trace_origin_cum_unit_dir_back', verbose_name=printable_name('trace_origin_cum_unit_dir_back'), \n",
        "        help_text='Number of trace-backs of direct contact that originate at units of the designated type over the course of an iteration', )\n",
        "    tocUIndBack = models.IntegerField(blank=True, null=True, db_column='trace_origin_cum_unit_ind_back', verbose_name=printable_name('trace_origin_cum_unit_ind_back'), \n",
        "        help_text='Number of trace-backs of indirect contact that originate at units of the designated type over the course of an iteration', )\n",
        "    trnUDirFwd = models.IntegerField(blank=True, null=True, db_column='trace_new_unit_dir_fwd', verbose_name=printable_name('trace_new_unit_dir_fwd'), \n",
        "        help_text='(trace new Units Direct contact Forward trace) Total number of units directly exposed and successfully traced forward on the given day', )\n",
        "    trnADirFwd = models.IntegerField(blank=True, null=True, db_column='trace_new_animal_dir_fwd', verbose_name=printable_name('trace_new_animal_dir_fwd'), \n",
        "        help_text='(trace new Animals Direct contact Forward trace) Total number of animals in all units directly exposed and successfully traced forward on the given day', )\n",
        "    trnUIndFwd = models.IntegerField(blank=True, null=True, db_column='trace_new_unit_ind_fwd', verbose_name=printable_name('trace_new_unit_ind_fwd'), \n",
        "        help_text='(trace new Units Indirect contact forward trace) Number of units indirectly exposed and successfully traced forward on the given day', )\n",
        "    trnAIndFwd = models.IntegerField(blank=True, null=True, db_column='trace_new_animal_ind_fwd', verbose_name=printable_name('trace_new_animal_ind_fwd'), \n",
        "        help_text='(trace new Animals Indirect contact forward trace) Total number of animals in all units indirectly exposed and successfully traced forward on the given day', )\n",
        "    trcUDirBack = models.IntegerField(blank=True, null=True, db_column='trace_cum_unit_dir_back', verbose_name=printable_name('trace_cum_unit_dir_back'), \n",
        "        help_text='Number of units successfully traced back from a detected unit after direct contact over the course of the iteration', )\n",
        "    trcADirBack = models.IntegerField(blank=True, null=True, db_column='trace_cum_animal_dir_back', verbose_name=printable_name('trace_cum_animal_dir_back'), \n",
        "        help_text='Total number of animals in units successfully traced back from a detected unit over the course of the iteration', )\n",
        "    trcUIndBack = models.IntegerField(blank=True, null=True, db_column='trace_cum_unit_ind_back', verbose_name=printable_name('trace_cum_unit_ind_back'), \n",
        "        help_text='Number of units successfully traced back from a detected unit after indirect contact over the course of the iteration', )\n",
        "    trcAIndBack = models.IntegerField(blank=True, null=True, db_column='trace_cum_animal_ind_back', verbose_name=printable_name('trace_cum_animal_ind_back'), \n",
        "        help_text='Total number of animals in units successfully traced back from a detected unit after indirect contact over the course of the iteration', )\n",
        "    trcUDirpBack = models.IntegerField(blank=True, null=True, db_column='trace_cum_unit_dir_p_back', verbose_name=printable_name('trace_cum_unit_dir_p_back'), \n",
        "        help_text='Number of units that could possibly have been traced back from a detected unit after direct contact over the course of the iteration', )\n",
        "    trcADirpBack = models.IntegerField(blank=True, null=True, db_column='trace_cum_animal_dir_p_back', verbose_name=printable_name('trace_cum_animal_dir_p_back'), \n",
        "        help_text='Total number of animals in units that could possibly have been traced back from a detected unit after direct contact over the course of the iteration', )\n",
        "    trcUIndpBack = models.IntegerField(blank=True, null=True, db_column='trace_cum_unit_ind_p_back', verbose_name=printable_name('trace_cum_unit_ind_p_back'), \n",
        "        help_text='Number of units that could possibly have been traced back from a detected unit after indirect contact over the course of the iteration', )\n",
        "    trcAIndpBack = models.IntegerField(blank=True, null=True, db_column='trace_cum_animal_ind_p_back', verbose_name=printable_name('trace_cum_animal_ind_p_back'), \n",
        "        help_text='Total number of animals in units that could possibly have been traced back from a detected unit after indirect contact over the course of the iteration', )\n",
        "    trnUDirBack = models.IntegerField(blank=True, null=True, db_column='trace_new_unit_dir_back', verbose_name=printable_name('trace_new_unit_dir_back'), \n",
        "        help_text='(trace new Units direct contact backwards trace) Number of units successfully traced back from a detected unit after direct contact on the given day', )\n",
        "    trnADirBack = models.IntegerField(blank=True, null=True, db_column='trace_new_animal_dir_back', verbose_name=printable_name('trace_new_animal_dir_back'), \n",
        "        help_text='(trace new Units direct contact backwards trace) Total number of animals in units successfully traced back from a detected unit on the given day', )\n",
        "    trnUIndBack = models.IntegerField(blank=True, null=True, db_column='trace_new_u_ind_back', verbose_name=printable_name('trace_new_u_ind_back'), \n",
        "        help_text='(trace new Units Indirect contact backwards trace)  Number of units successfully traced back from a detected unit after indirect contact on the given day', )\n",
        "    trnAIndBack = models.IntegerField(blank=True, null=True, db_column='trace_new_animal_ind_back', verbose_name=printable_name('trace_new_animal_ind_back'), \n",
        "        help_text='(trace new Units Indirect contact Backwards trace) Total number of animals in units successfully traced back from a detected unit after indirect contact on the given day', )\n",
        "    tonUDirFwd = models.IntegerField(blank=True, null=True, db_column='trace_origin_new_unit_dir_fwd', verbose_name=printable_name('trace_origin_new_unit_dir_fwd'), \n",
        "        help_text='(Trace origin new units direct contact forward)  Number of trace-forwards of direct contact that originate at units of the designated type on the given day', )\n",
        "    tonUIndFwd = models.IntegerField(blank=True, null=True, db_column='trace_origin_new_unit_ind_fwd', verbose_name=printable_name('trace_origin_new_unit_ind_fwd'), \n",
        "        help_text='Number of trace-backs of direct contact that originate at units of the designated type on the given day', )\n",
        "    tonUDirBack = models.IntegerField(blank=True, null=True, db_column='trace_origin_new_unit_dir_back', verbose_name=printable_name('trace_origin_new_unit_dir_back'), \n",
        "        help_text='Number of trace-forwards of indirect contact that originate at units of the designated type on the given day', )\n",
        "    tonUIndBack = models.IntegerField(blank=True, null=True, db_column='trace_origin_new_unit_ind_back', verbose_name=printable_name('trace_origin_new_unit_ind_back'), \n",
        "        help_text='Number of trace-backs of indirect contact that originate at units of the designated type on the given day', )\n",
        "    exmcUDirFwd = models.IntegerField(blank=True, null=True, db_column='exam_cum_unit_dir_fwd', verbose_name=printable_name('exam_cum_unit_dir_fwd'), \n",
        "        help_text='Number of units subjected to a unit exam after a trace-forward of direct contact over the course of the iteration', )\n",
        "    exmcADirFwd = models.IntegerField(blank=True, null=True, db_column='exam_cum_animal_dir_fwd', verbose_name=printable_name('exam_cum_animal_dir_fwd'), \n",
        "        help_text='Total number of animals in units subjected to a unit exam after a trace-forward of direct contact over the course of the iteration', )\n",
        "    exmcUIndFwd = models.IntegerField(blank=True, null=True, db_column='exam_cum_unit_ind_fwd', verbose_name=printable_name('exam_cum_unit_ind_fwd'), \n",
        "        help_text='Number of units subjected to a unit exam after a trace-forward of indirect contact over the course of the iteration', )\n",
        "    exmcAIndFwd = models.IntegerField(blank=True, null=True, db_column='exam_cum_animal_ind_fwd', verbose_name=printable_name('exam_cum_animal_ind_fwd'), \n",
        "        help_text='Total number of animals in units subjected to a unit exam after a trace-forward of indirect contact over the course of the iteration', )\n",
        "    exmcUDirBack = models.IntegerField(blank=True, null=True, db_column='exam_cum_unit_dir_back', verbose_name=printable_name('exam_cum_unit_dir_back'), \n",
        "        help_text='Number of units subjected to a unit exam after a trace-back of direct contact over the course of the iteration', )\n",
        "    exmcADirBack = models.IntegerField(blank=True, null=True, db_column='exam_cum_animal_dir_back', verbose_name=printable_name('exam_cum_animal_dir_back'), \n",
        "        help_text='Total number of animals in units subjected to a unit exam after a trace-back of direct contact over the course of the iteration', )\n",
        "    exmcUIndBack = models.IntegerField(blank=True, null=True, db_column='exam_cum_unit_ind_back', verbose_name=printable_name('exam_cum_unit_ind_back'), \n",
        "        help_text='Number of units subjected to a unit exam after a trace-back of indirect contact over the course of the iteration', )\n",
        "    exmcAIndBack = models.IntegerField(blank=True, null=True, db_column='exam_cum_animal_ind_back', verbose_name=printable_name('exam_cum_animal_ind_back'), \n",
        "        help_text='Total number of animals in units subjected to a unit exam after a trace-back of indirect contact over the course of the iteration', )\n",
        "    exmnUAll = models.IntegerField(blank=True, null=True, db_column='exam_new_unit_all', verbose_name=printable_name('exam_new_unit_all'), \n",
        "        help_text='(exam new Units All)  Number of units examined for any reason on the given day.', )\n",
        "    exmnAAll = models.IntegerField(blank=True, null=True, db_column='exam_new_animal_all', verbose_name=printable_name('exam_new_animal_all'), \n",
        "        help_text='(exam new Animals All)  Number of animals in units examined for any reason on the given day', )\n",
        "    tstcUDirFwd = models.IntegerField(blank=True, null=True, db_column='test_cum_unit_dir_fwd', verbose_name=printable_name('test_cum_unit_dir_fwd'), \n",
        "        help_text='Number of units subjected to diagnostic testing after a trace-forward of direct contact over the course of the iteration', )\n",
        "    tstcADirFwd = models.IntegerField(blank=True, null=True, db_column='test_cum_animal_dir_fwd', verbose_name=printable_name('test_cum_animal_dir_fwd'), \n",
        "        help_text='Total number of animals in units subjected to diagnostic testing after a trace-forward of direct contact over the course of the iteration', )\n",
        "    tstcUIndFwd = models.IntegerField(blank=True, null=True, db_column='test_cum_unit_ind_fwd', verbose_name=printable_name('test_cum_unit_ind_fwd'), \n",
        "        help_text='Number of units subjected to diagnostic testing after a trace-forward of indirect contact over the course of the iteration', )\n",
        "    tstcAIndFwd = models.IntegerField(blank=True, null=True, db_column='test_cum_animal_ind_fwd', verbose_name=printable_name('test_cum_animal_ind_fwd'), \n",
        "        help_text='Total number of animals in units subjected to diagnostic testing after a trace-forward of indirect contact over the course of the iteration', )\n",
        "    tstcUDirBack = models.IntegerField(blank=True, null=True, db_column='test_cum_unit_dir_back', verbose_name=printable_name('test_cum_unit_dir_back'), \n",
        "        help_text='Number of units subjected to diagnostic testing after a trace-back of direct contact over the course of the iteration', )\n",
        "    tstcADirBack = models.IntegerField(blank=True, null=True, db_column='test_cum_animal_dir_back', verbose_name=printable_name('test_cum_animal_dir_back'), \n",
        "        help_text='Total number of animals in units subjected to diagnostic testing after a trace-back of direct contact over the course of the iteration', )\n",
        "    tstcUIndBack = models.IntegerField(blank=True, null=True, db_column='test_cum_unit_ind_back', verbose_name=printable_name('test_cum_unit_ind_back'), \n",
        "        help_text='Number of units subjected to diagnostic testing after a trace-back of indirect contact over the course of the iteration', )\n",
        "    tstcAIndBack = models.IntegerField(blank=True, null=True, db_column='test_cum_animal_ind_back', verbose_name=printable_name('test_cum_animal_ind_back'), \n",
        "        help_text='Total number of animals in units subjected to diagnostic testing after a trace-back of indirect contact over the course of the iteration', )\n",
        "    tstcUTruePos = models.IntegerField(blank=True, null=True, db_column='test_cum_unit_true_pos', verbose_name=printable_name('test_cum_unit_true_pos'), \n",
        "        help_text='Number of tested units with a true positive diagnostic test result over the course of the iteration', )\n",
        "    tstcATruePos = models.IntegerField(blank=True, null=True, db_column='test_cum_animal_true_pos', verbose_name=printable_name('test_cum_animal_true_pos'), \n",
        "        help_text='Total number of animals in tested units with a true positive diagnostic test result over the course of the iteration', )\n",
        "    tstnUTruePos = models.IntegerField(blank=True, null=True, db_column='test_new_unit_true_pos', verbose_name=printable_name('test_new_unit_true_pos'), \n",
        "        help_text='(test new Units True Positive)  Number of tested units with a true positive diagnostic test on the given day.', )\n",
        "    tstnATruePos = models.IntegerField(blank=True, null=True, db_column='test_new_animal_true_pos', verbose_name=printable_name('test_new_animal_true_pos'), \n",
        "        help_text='(test new Animals True Positive)  Number of animals in tested units with a true positive diagnostic test on the given day.', )\n",
        "    tstcUTrueNeg = models.IntegerField(blank=True, null=True, db_column='test_cum_unit_true_neg', verbose_name=printable_name('test_cum_unit_true_neg'), \n",
        "        help_text='Number of tested units with a true negative diagnostic test result over the course of the iteration', )\n",
        "    tstcATrueNeg = models.IntegerField(blank=True, null=True, db_column='test_cum_animal_true_neg', verbose_name=printable_name('test_cum_animal_true_neg'), \n",
        "        help_text='Total number of animals in tested units with a true negative diagnostic test result over the course of the iteration', )\n",
        "    tstnUTrueNeg = models.IntegerField(blank=True, null=True, db_column='test_new_unit_true_neg', verbose_name=printable_name('test_new_unit_true_neg'), \n",
        "        help_text='(test cumulative Units True Negative) Number of tested units with a true negative diagnostic test result over the course of the iteration.', )\n",
        "    tstnATrueNeg = models.IntegerField(blank=True, null=True, db_column='test_new_animal_true_neg', verbose_name=printable_name('test_new_animal_true_neg'), \n",
        "        help_text='(test cumulative Animals True Negative) Total number of animals in tested units with a true negative diagnostic test result over the course of the iteration.', )\n",
        "    tstcUFalsePos = models.IntegerField(blank=True, null=True, db_column='test_cum_unit_false_pos', verbose_name=printable_name('test_cum_unit_false_pos'), \n",
        "        help_text='Number of tested units with a false positive diagnostic test result over the course of the iteration', )\n",
        "    tstcAFalsePos = models.IntegerField(blank=True, null=True, db_column='test_cum_animal_false_pos', verbose_name=printable_name('test_cum_animal_false_pos'), \n",
        "        help_text='Total number of animals in tested units with a false positive diagnostic test result over the course of the iteration', )\n",
        "    tstnUFalsePos = models.IntegerField(blank=True, null=True, db_column='test_new_unit_false_pos', verbose_name=printable_name('test_new_unit_false_pos'), \n",
        "        help_text='(test new Units False Positive) Number of tested units with a false positive diagnostic test on the given day.', )\n",
        "    tstnAFalsePos = models.IntegerField(blank=True, null=True, db_column='test_new_animal_false_pos', verbose_name=printable_name('test_new_animal_false_pos'), \n",
        "        help_text='(test new Animals False Positive) Number of animals in tested units with a false positive diagnostic test on the given day.', )\n",
        "    tstcUFalseNeg = models.IntegerField(blank=True, null=True, db_column='test_cum_unit_false_neg', verbose_name=printable_name('test_cum_unit_false_neg'), \n",
        "        help_text='Number of tested units with a false negative diagnostic test result over the course of the iteration', )\n",
        "    tstcAFalseNeg = models.IntegerField(blank=True, null=True, db_column='test_cum_animal_false_neg', verbose_name=printable_name('test_cum_animal_false_neg'), \n",
        "        help_text='Total number of animals in tested units with a false negative diagnostic test result over the course of the iteration', )\n",
        "    tstnUFalseNeg = models.IntegerField(blank=True, null=True, db_column='test_new_unit_false_neg', verbose_name=printable_name('test_new_unit_false_neg'), \n",
        "        help_text='(test new Units False Negative) Number of tested units with a false negative diagnostic test on the given day.', )\n",
        "    tstnAFalseNeg = models.IntegerField(blank=True, null=True, db_column='test_new_animal_false_neg', verbose_name=printable_name('test_new_animal_false_neg'), \n",
        "        help_text='(test new Animals False Negative) Number of animals in tested units with a false negative diagnostic test on the given day.', )\n",
        "    detnUClin = models.IntegerField(blank=True, null=True, db_column='detect_new_unit_clin', verbose_name=printable_name('detect_new_unit_clin'), \n",
        "        help_text='Number of units detected by clinical signs on the given day', )\n",
        "    detnAClin = models.IntegerField(blank=True, null=True, db_column='detect_new_animal_clin', verbose_name=printable_name('detect_new_animal_clin'), \n",
        "        help_text='Total number of animals in all units detected by clinical signs on the given day', )\n",
        "    detcUClin = models.IntegerField(blank=True, null=True, db_column='detect_cum_unit_clin', verbose_name=printable_name('detect_cum_unit_clin'), \n",
        "        help_text='Number of units detected by clinical signs over the course of an iteration', )\n",
        "    detcAClin = models.IntegerField(blank=True, null=True, db_column='detect_cum_animal_clin', verbose_name=printable_name('detect_cum_animal_clin'), \n",
        "        help_text='Total number of animals in all units detected by clinical signs over the course of an iteration', )\n",
        "    detnUTest = models.IntegerField(blank=True, null=True, db_column='detect_new_unit_test', verbose_name=printable_name('detect_new_unit_test'), \n",
        "        help_text='(detection new Units Tested)  Number of units detected by diagnostic testing on the given day.  This value includes true- as well as false-positive units.', )\n",
        "    detnATest = models.IntegerField(blank=True, null=True, db_column='detect_new_animal_test', verbose_name=printable_name('detect_new_animal_test'), \n",
        "        help_text='(detection new Animals Tested)  Total number of animals in units detected by diagnostic testing on the given day.', )\n",
        "    detcUTest = models.IntegerField(blank=True, null=True, db_column='detect_cum_unit_test', verbose_name=printable_name('detect_cum_unit_test'), \n",
        "        help_text='Number of units detected by diagnostic testing over the course of the iteration. This value includes true- as well as false-positive units', )\n",
        "    detcATest = models.IntegerField(blank=True, null=True, db_column='detect_cum_animal_test', verbose_name=printable_name('detect_cum_animal_test'), \n",
        "        help_text='Total number of animals in units detected by diagnostic testing over the course of the iteration', )\n",
        "    descUIni = models.IntegerField(blank=True, null=True, db_column='destroy_cum_unit_initial', verbose_name=printable_name('destroy_cum_unit_initial'), \n",
        "        help_text='Number of units destroyed prior to the start of the simulation', )\n",
        "    descAIni = models.IntegerField(blank=True, null=True, db_column='destroy_cum_animal_initial', verbose_name=printable_name('destroy_cum_animal_initial'), \n",
        "        help_text='Total number of animals in units destroyed prior to the start of the simulation', )\n",
        "    descUDet = models.IntegerField(blank=True, null=True, db_column='destroy_cum_unit_detect', verbose_name=printable_name('destroy_cum_unit_detect'), \n",
        "        help_text='Number of units destroyed because disease was detected over the course of an iteration', )\n",
        "    descADet = models.IntegerField(blank=True, null=True, db_column='destroy_cum_animal_detect', verbose_name=printable_name('destroy_cum_animal_detect'), \n",
        "        help_text='Total number of animals in units destroyed because disease was detected over the course of an iteration', )\n",
        "    descUDirFwd = models.IntegerField(blank=True, null=True, db_column='destroy_cum_unit_dir_fwd', verbose_name=printable_name('destroy_cum_unit_dir_fwd'), \n",
        "        help_text='Number of units destroyed due to a successful trace forward of direct contact with an infected unit over the course of the iteration', )\n",
        "    descADirFwd = models.IntegerField(blank=True, null=True, db_column='destroy_cum_animal_dir_fwd', verbose_name=printable_name('destroy_cum_animal_dir_fwd'), \n",
        "        help_text='Total number of animals in units destroyed due to a successful trace forward of direct contact with an infected unit over the course of the iteration', )\n",
        "    descUIndFwd = models.IntegerField(blank=True, null=True, db_column='destroy_cum_unit_ind_fwd', verbose_name=printable_name('destroy_cum_unit_ind_fwd'), \n",
        "        help_text='Number of units destroyed due to a successful trace forward of indirect contact with an infected unit over the course of the iteration', )\n",
        "    descAIndFwd = models.IntegerField(blank=True, null=True, db_column='destroy_cum_animal_ind_fwd', verbose_name=printable_name('destroy_cum_animal_ind_fwd'), \n",
        "        help_text='Total number of animals in units destroyed due to a successful trace forward of indirect contact with an infected unit over the course of the iteration', )\n",
        "    descUDirBack = models.IntegerField(blank=True, null=True, db_column='destroy_cum_unit_dir_back', verbose_name=printable_name('destroy_cum_unit_dir_back'), \n",
        "        help_text='Number of units destroyed due to a successful trace back of direct contact with an infected unit over the course of the iteration', )\n",
        "    descADirBack = models.IntegerField(blank=True, null=True, db_column='destroy_cum_animal_dir_back', verbose_name=printable_name('destroy_cum_animal_dir_back'), \n",
        "        help_text='Total number of animals in units destroyed due to a successful trace back of direct contact with an infected unit over the course of the iteration', )\n",
        "    descUIndBack = models.IntegerField(blank=True, null=True, db_column='destroy_cum_unit_ind_back', verbose_name=printable_name('destroy_cum_unit_ind_back'), \n",
        "        help_text='Number of units destroyed due to a successful trace back of indirect contact with an infected unit over the course of the iteration', )\n",
        "    descAIndBack = models.IntegerField(blank=True, null=True, db_column='destroy_cum_animal_ind_back', verbose_name=printable_name('destroy_cum_animal_ind_back'), \n",
        "        help_text='Total number of animals in units destroyed due to a successful trace back of indirect contact with an infected unit over the course of the iteration', )\n",
        "    descURing = models.IntegerField(blank=True, null=True, db_column='destroy_cum_unit_ring', verbose_name=printable_name('destroy_cum_unit_ring'), \n",
        "        help_text='Number of units destroyed because they were in a destruction ring over the course of an iteration', )\n",
        "    descARing = models.IntegerField(blank=True, null=True, db_column='destroy_cum_animal_ring', verbose_name=printable_name('destroy_cum_animal_ring'), \n",
        "        help_text='Total number of animals in units destroyed because they were in a destruction ring over the course of an iteration', )\n",
        "    desnUAll = models.IntegerField(blank=True, null=True, db_column='destroy_new_unit_all', verbose_name=printable_name('destroy_new_unit_all'), \n",
        "        help_text='Number of units that are new for a given day of all production types that have moved into tjhe destruction que.', )\n",
        "    desnAAll = models.IntegerField(blank=True, null=True, db_column='destroy_new_animal_all', verbose_name=printable_name('destroy_new_animal_all'), \n",
        "        help_text='Number of animals that are new for a given day of all production types that have moved into tjhe destruction que.', )\n",
        "    deswUAll = models.IntegerField(blank=True, null=True, db_column='destroy_wait_unit_all', verbose_name=printable_name('destroy_wait_unit_all'), \n",
        "        help_text='(destruction waiting Units All)  Total number of units awaiting destruction on the indicated day.', )\n",
        "    deswAAll = models.IntegerField(blank=True, null=True, db_column='destroy_wait_animal_all', verbose_name=printable_name('destroy_wait_animal_all'), \n",
        "        help_text='(destruction waiting Animals All)  Total number of animals awaiting destruction on the indicated day.', )\n",
        "    vaccUIni = models.IntegerField(blank=True, null=True, db_column='vac_cum_unit_initial', verbose_name=printable_name('vac_cum_unit_initial'), \n",
        "        help_text='Number of units that were vaccine immune prior to the start of the simulation', )\n",
        "    vaccAIni = models.IntegerField(blank=True, null=True, db_column='vac_cum_animal_initial', verbose_name=printable_name('vac_cum_animal_initial'), \n",
        "        help_text='Total number of animals in units that were vaccine immune prior to the start of the simulation', )\n",
        "    vaccURing = models.IntegerField(blank=True, null=True, db_column='vac_cum_unit_ring', verbose_name=printable_name('vac_cum_unit_ring'), \n",
        "        help_text='Number of units vaccinated in rings around detected-infected units over the course of an iteration', )\n",
        "    vaccARing = models.IntegerField(blank=True, null=True, db_column='vac_cum_animal_ring', verbose_name=printable_name('vac_cum_animal_ring'), \n",
        "        help_text='Total number of animals in all units vaccinated in rings around detected-infected units over the course of an iteration', )\n",
        "    vacnUAll = models.IntegerField(blank=True, null=True, db_column='vac_new_unit_all', verbose_name=printable_name('vac_new_unit_all'), \n",
        "        help_text='Number of units vaccinated for any reason over the course of an iteration (not including initially infected units)', )\n",
        "    vacnAAll = models.IntegerField(blank=True, null=True, db_column='vac_new_animal_all', verbose_name=printable_name('vac_new_animal_all'), \n",
        "        help_text='Total number of animals in all units vaccinated for any reason over the course of an iteration (not including initially infected units)', )\n",
        "    vacwUAll = models.IntegerField(blank=True, null=True, db_column='vac_wait_unit_all', verbose_name=printable_name('vac_wait_unit_all'), \n",
        "        help_text='(vaccination waiting Units All)  Total number of units awaiting vaccination on the indicated day.  Units that are present in the vaccination queue multiple times will count multiple times toward this total.', )\n",
        "    vacwAAll = models.IntegerField(blank=True, null=True, db_column='vac_wait_animal_all', verbose_name=printable_name('vac_wait_animal_all'), \n",
        "        help_text='(vaccination waiting Animals All)  Total number of animals awaiting vaccination on the indicated day.  Units that are present in the vaccination queue multiple times will count multiple times toward this total.', )\n",
        "    zonnFoci = models.IntegerField(blank=True, null=True, db_column='zone_new_foci', verbose_name=printable_name('zone_new_foci'), \n",
        "        help_text='Total number of new zone foci created around units of the indicated type on the given day ', )\n",
        "    zoncFoci = models.IntegerField(blank=True, null=True, db_column='zone_cum_foci', verbose_name=printable_name('zone_cum_foci'), \n",
        "        help_text='Total number of new zone foci created around units of the indicated type over the course of an iteration', )\n",
        "\n",
        "\n",
        "class DailyByZone(models.Model):\n",
        "    iteration = models.IntegerField(blank=True, null=True, db_column='iteration', verbose_name=printable_name('iteration'), \n",
        "        help_text='The iteration during which the outputs in this records where generated.', )\n",
        "    day = models.IntegerField(blank=True, null=True, db_column='day', verbose_name=printable_name('day'), \n",
        "        help_text='The day within the iteration on which these outputs were generated.', )\n",
        "    zone = models.ForeignKey(Zone,\n",
        "        help_text='Identifier of the zone for which this event occurred.', )\n",
        "    zoneArea = models.FloatField(blank=True, null=True, db_column='zone_area', verbose_name=printable_name('zone_area'), \n",
        "        help_text='In square Kilometers', )\n",
        "    zonePerimeter = models.FloatField(blank=True, null=True, db_column='zone_perimeter', verbose_name=printable_name('zone_perimeter'), \n",
        "        help_text='In Kilometers', )\n",
        "\n",
        "\n",
        "class DailyByZoneAndProductionType(models.Model):\n",
        "    iteration = models.IntegerField(blank=True, null=True, db_column='iteration', verbose_name=printable_name('iteration'), \n",
        "        help_text='The iteration during which the outputs in this records where generated.', )\n",
        "    day = models.IntegerField(blank=True, null=True,\n",
        "        help_text='The day within the iteration on which these outputs were generated.', )\n",
        "    zone = models.ForeignKey(Zone,\n",
        "        help_text='Identifier of the zone for which this event occurred.', )\n",
        "    production_type = models.ForeignKey(ProductionType,\n",
        "        help_text='The identifier of the production type that these outputs apply to.', )\n",
        "    unitDaysInZone = models.IntegerField(blank=True, null=True, db_column='unit_days_in_zone', verbose_name=printable_name('unit_days_in_zone'), \n",
        "        help_text='Total number of unit days spent in a zone (1 unit for 1 day = 1 unit day 1 unit for 2 days = 2 unit days etc.)', )\n",
        "    animalDaysInZone = models.IntegerField(blank=True, null=True, db_column='animal_days_in_zone', verbose_name=printable_name('animal_days_in_zone'), \n",
        "        help_text='Total number of animal days spent in a zone (1 animal for 1 day = 1 animal day 1 animal for 2 days = 2 animal days etc.)', )\n",
        "    unitsInZone = models.IntegerField(blank=True, null=True, db_column='units_in_zone', verbose_name=printable_name('units_in_zone'), \n",
        "        help_text='Number of units of the given production type in the zone', )\n",
        "    animalsInZone = models.IntegerField(blank=True, null=True, db_column='animals_in_zone', verbose_name=printable_name('animals_in_zone'), \n",
        "        help_text='Count of animals of the given production type in the zone', )\n",
        "\n",
        "\n",
        "class DailyEvents(models.Model):\n",
        "    iteration = models.IntegerField(blank=True, null=True, db_column='iteration', verbose_name=printable_name('iteration'), \n",
        "        help_text='The iteration during which the outputs in this records where generated.', )\n",
        "    day = models.IntegerField(blank=True, null=True, db_column='day', verbose_name=printable_name('day'), \n",
        "        help_text='The day within the iteration on which these outputs were generated.', )\n",
        "    event = models.IntegerField(blank=True, null=True, db_column='event', verbose_name=printable_name('event'), \n",
        "        help_text='A number used to identify each event.', )\n",
        "    unit = models.ForeignKey(Unit,\n",
        "        help_text='Identifier of the unit for which this event occurred.', )\n",
        "    zone = models.ForeignKey(Zone,\n",
        "        help_text='Identifier of the zone for which this event occurred.', )\n",
        "    eventCode = models.CharField(max_length=255, blank=True, db_column='event_code', verbose_name=printable_name('event_code'), \n",
        "        help_text='Code to indicate the type of event.', )\n",
        "    newStateCode = models.CharField(max_length=255, blank=True, db_column='new_state_code', verbose_name=printable_name('new_state_code'), \n",
        "        help_text='For transition state changesthis field indicates the state that results from the event.', )\n",
        "    testResultCode = models.CharField(max_length=255, blank=True, db_column='test_result_code', verbose_name=printable_name('test_result_code'), \n",
        "        help_text='For trace events this field indicates if the attempted trace succeeded.', )\n",
        "\n",
        "\n",
        "class DailyExposures(models.Model):\n",
        "    iteration = models.IntegerField(blank=True, null=True, db_column='iteration', verbose_name=printable_name('iteration'), \n",
        "        help_text='The iteration during which the outputs in this records where generated.', )\n",
        "    day = models.IntegerField(blank=True, null=True, db_column='day', verbose_name=printable_name('day'), \n",
        "        help_text='The day within the iteration on which these outputs were generated.', )\n",
        "    exposure = models.IntegerField(blank=True, null=True, db_column='exposure', verbose_name=printable_name('exposure'), \n",
        "        help_text='An identifier of each exposure.', )\n",
        "    initiatedDay = models.IntegerField(blank=True, null=True, db_column='initiated_day', verbose_name=printable_name('initiated_day'), \n",
        "        help_text='', )\n",
        "    exposed_unit = models.ForeignKey(Unit, related_name='events_where_unit_was_exposed',\n",
        "        help_text='The identifier of the source unit for the exposure.', )\n",
        "    exposed_zone = models.ForeignKey(Zone, related_name='events_that_exposed_this_zone',\n",
        "        help_text='The identifier of the zone of the source unit for the exposure.', )\n",
        "    exposing_unit = models.ForeignKey(Unit, related_name='events_where_unit_exposed_others',\n",
        "        help_text='The identifier of the recipient unit for the exposure.', )\n",
        "    exposing_zone = models.ForeignKey(Zone, related_name='events_that_exposed_others',\n",
        "        help_text='The identifier of the zone of the recipient unit for the exposure.', )\n",
        "    spreadMethodCode = models.CharField(max_length=255, blank=True, db_column='spread_method_code', verbose_name=printable_name('spread_method_code'), \n",
        "        help_text='Code indicating the mechanism of the disease spread.', )\n",
        "    isAdequate = models.NullBooleanField(blank=True, null=True, db_column='is_adequate', verbose_name=printable_name('is_adequate'), \n",
        "        help_text='Indicator if the exposure was adequate to transmit dieases.', )  # Changed Booleans to NullBooleans so as not to restrict output\n",
        "    exposingUnitStatusCode = models.CharField(max_length=255, blank=True, db_column='exposing_unit_status_code', verbose_name=printable_name('exposing_unit_status_code'), \n",
        "        help_text='Disease state of the exposing unit when the exposure occurred.', )\n",
        "    exposedUnitStatusCode = models.CharField(max_length=255, blank=True, db_column='exposed_unit_status_code', verbose_name=printable_name('exposed_unit_status_code'), \n",
        "        help_text='Disease state of the exposed unit when the exposure occurred.', )\n",
        "\n",
        "\n",
        "class EpidemicCurves(models.Model):\n",
        "    iteration = models.IntegerField(blank=True, null=True, db_column='iteration', verbose_name=printable_name('iteration'), \n",
        "        help_text='The iteration during which the outputs in this records where generated.', )\n",
        "    day = models.IntegerField(blank=True, null=True, db_column='day', verbose_name=printable_name('day'), \n",
        "        help_text='The day within the iteration on which these outputs were generated.', )\n",
        "    production_type = models.ForeignKey(ProductionType,\n",
        "        help_text='The identifier of the production type that these outputs apply to.', )\n",
        "    infectedUnits = models.IntegerField(blank=True, null=True, db_column='infected_units', verbose_name=printable_name('infected_units'), \n",
        "        help_text='The number of units of the specified production type infected by any mechanism on the specific day in a spcified iteration.', )\n",
        "    infectedAnimals = models.IntegerField(blank=True, null=True, db_column='infected_animals', verbose_name=printable_name('infected_animals'), \n",
        "        help_text='Total number of animals in an infected unit.', )\n",
        "    detectedUnits = models.IntegerField(blank=True, null=True, db_column='detected_units', verbose_name=printable_name('detected_units'), \n",
        "        help_text='The number of clinically ill units of the specified production type detected by any mechanism on the specified day in the specified iteration.', )\n",
        "    detectedAnimals = models.IntegerField(blank=True, null=True, db_column='detected_animals', verbose_name=printable_name('detected_animals'), \n",
        "        help_text='Total number of animals in the detected unit.', )\n",
        "    infectiousUnits = models.IntegerField(blank=True, null=True, db_column='infectious_units', verbose_name=printable_name('infectious_units'), \n",
        "        help_text='Number of infectious units both apparent and not apparent', )\n",
        "    apparentInfectiousUnits = models.IntegerField(blank=True, null=True, db_column='apparent_infectious_units', verbose_name=printable_name('apparent_infectious_units'), \n",
        "        help_text='APPARENT INFECTIOUS UNITS', )\n",
        "\n",
        "\n",
        "class General(models.Model):\n",
        "    simulationStartTime = models.DateTimeField(max_length=255, blank=True, db_column='simulation_start_time', verbose_name=printable_name('simulation_start_time'), \n",
        "        help_text='The actual clock time according to the system clock of when the simulation started.', )\n",
        "    simulationEndTime = models.DateTimeField(max_length=255, blank=True, db_column='simulation_end_time', verbose_name=printable_name('simulation_end_time'), \n",
        "        help_text='The actual clock time according to the system clock of when the simulation ended.', )\n",
        "    completedIterations = models.IntegerField(blank=True, null=True, db_column='completed_iterations', verbose_name=printable_name('completed_iterations'), \n",
        "        help_text='Number of iterations completed during the simulation run.', )\n",
        "    version = models.CharField(max_length=255, blank=True, db_column='version', verbose_name=printable_name('version'), \n",
        "        help_text='Number of the NAADSM Version used to run the simulation.', )\n",
        "\n",
        "\n",
        "class Iteration(models.Model):\n",
        "    iteration = models.IntegerField(blank=True, null=True, db_column='iteration', verbose_name=printable_name('iteration'), \n",
        "        help_text='The iteration during which the outputs in this records where generated.', )\n",
        "    diseaseEnded = models.NullBooleanField(blank=True, null=True, db_column='disease_ended', verbose_name=printable_name('disease_ended'), \n",
        "        help_text='Indicator that disease spread has ended.', )  # Changed Booleans to NullBooleans so as not to restrict output\n",
        "    diseaseEndDay = models.IntegerField(blank=True, null=True, db_column='disease_end_day', verbose_name=printable_name('disease_end_day'), \n",
        "        help_text='Day of the end of disease spread.', )\n",
        "    breakEnded = models.NullBooleanField(blank=True, null=True, db_column='outbreak_ended', verbose_name=printable_name('outbreak_ended'), \n",
        "        help_text='Indicator that outbreak  has ended including all control measures supporting the scenario.', )  # Changed Booleans to NullBooleans so as not to restrict output\n",
        "    breakEndDay = models.IntegerField(blank=True, null=True, db_column='outbreak_end_day', verbose_name=printable_name('outbreak_end_day'), \n",
        "        help_text='Day of the end of the outbreak including all control measures supporting the scenario.', )\n",
        "    zoneFociCreated = models.NullBooleanField(blank=True, null=True, db_column='zone_foci_created', verbose_name=printable_name('zone_foci_created'), \n",
        "        help_text='Indicator is a Zone focus was created', )  # Changed Booleans to NullBooleans so as not to restrict output\n",
        "    deswUMax = models.IntegerField(blank=True, null=True, db_column='destroy_wait_unit_max', verbose_name=printable_name('destroy_wait_unit_max'), \n",
        "        help_text='Maximum number of units in queue for destruction on any given day over the course of the iteration', )\n",
        "    deswUMaxDay = models.IntegerField(blank=True, null=True, db_column='destroy_wait_unit_max_day', verbose_name=printable_name('destroy_wait_unit_max_day'), \n",
        "        help_text='The first simulation day on which the maximum number of units in queue for destruction was reached', )\n",
        "    deswAMax = models.FloatField(blank=True, null=True, db_column='destroy_wait_animal_max', verbose_name=printable_name('destroy_wait_animal_max'), \n",
        "        help_text='Maximum number of animals in queue for destruction on any given day over the course of the iteration', )\n",
        "    deswAMaxDay = models.IntegerField(blank=True, null=True, db_column='destroy_wait_animal_max_day', verbose_name=printable_name('destroy_wait_animal_max_day'), \n",
        "        help_text='The first simulation day on which the maximum number of animals in queue for destruction was reached', )\n",
        "    deswUTimeMax = models.IntegerField(blank=True, null=True, db_column='destroy_wait_unit_time_max', verbose_name=printable_name('destroy_wait_unit_time_max'), \n",
        "        help_text='Maximum number of days spent in queue for destruction by any single unit over the course of the iteration', )\n",
        "    deswUTimeAvg = models.FloatField(blank=True, null=True, db_column='destroy_wait_unit_time_avg', verbose_name=printable_name('destroy_wait_unit_time_avg'), \n",
        "        help_text='Average number of days spent by each unit in queue for destruction over the course of the iteration', )\n",
        "    vacwUMax = models.IntegerField(blank=True, null=True, db_column='vac_wait_unit_max', verbose_name=printable_name('vac_wait_unit_max'), \n",
        "        help_text='Maximum number of units in queue for vaccination on any given day over the course of the iteration', )\n",
        "    vacwUMaxDay = models.IntegerField(blank=True, null=True, db_column='vac_wait_unit_max_day', verbose_name=printable_name('vac_wait_unit_max_day'), \n",
        "        help_text='The first simulation day on which the maximum number of units in queue for vaccination was reached', )\n",
        "    vacwAMax = models.FloatField(blank=True, null=True, db_column='vac_wait_animal_max', verbose_name=printable_name('vac_wait_animal_max'), \n",
        "        help_text='Maximum number of animals in queue for vaccination on any given day over the course of the iteration', )\n",
        "    vacwAMaxDay = models.IntegerField(blank=True, null=True, db_column='vac_wait_animal_max_day', verbose_name=printable_name('vac_wait_animal_max_day'), \n",
        "        help_text='The first simulation day on which the maximum number of animals in queue for vaccination was reached', )\n",
        "    vacwUTimeMax = models.IntegerField(blank=True, null=True, db_column='vac_wait_unit_time_max', verbose_name=printable_name('vac_wait_unit_time_max'), \n",
        "        help_text='Maximum number of days spent in queue for vaccination by any single unit over the course of the iteration', )\n",
        "    vacwUTimeAvg = models.FloatField(blank=True, null=True, db_column='vac_wait_unit_time_avg', verbose_name=printable_name('vac_wait_unit_time_avg'), \n",
        "        help_text='Average number of days spent in queue for vaccination by each unit that was vaccinated over the course of the iteration', )\n",
        "\n",
        "\n",
        "class IterationByProductionType(models.Model):\n",
        "    iteration = models.IntegerField(blank=True, null=True, db_column='iteration', verbose_name=printable_name('iteration'), \n",
        "        help_text='The iteration during which the outputs in this records where generated.', )\n",
        "    production_type = models.ForeignKey(ProductionType,\n",
        "        help_text='The identifier of the production type that these outputs apply to.', )\n",
        "    tscUSusc = models.IntegerField(blank=True, null=True, db_column='transition_state_cum_unit_susceptible', verbose_name=printable_name('transition_state_cum_unit_susceptible'), \n",
        "        help_text='Number of units that are or become susceptible over the course of an iteration', )\n",
        "    tscASusc = models.IntegerField(blank=True, null=True, db_column='transition_state_cum_animal_susceptible', verbose_name=printable_name('transition_state_cum_animal_susceptible'), \n",
        "        help_text='Total number of animals in all units that are or become susceptible over the course of an iteration', )\n",
        "    tscULat = models.IntegerField(blank=True, null=True, db_column='transition_state_cum_unit_latent', verbose_name=printable_name('transition_state_cum_unit_latent'), \n",
        "        help_text='Number of units that are or become latent over the course of an iteration', )\n",
        "    tscALat = models.IntegerField(blank=True, null=True, db_column='transition_state_cum_animal_latent', verbose_name=printable_name('transition_state_cum_animal_latent'), \n",
        "        help_text='Total number of animals in all units that are or become latent over the course of an iteration', )\n",
        "    tscUSubc = models.IntegerField(blank=True, null=True, db_column='transition_state_cum_unit_subclinical', verbose_name=printable_name('transition_state_cum_unit_subclinical'), \n",
        "        help_text='Number of units that are or become subclinically infectious over the course of an iteration', )\n",
        "    tscASubc = models.IntegerField(blank=True, null=True, db_column='transition_state_cum_animal_subclinical', verbose_name=printable_name('transition_state_cum_animal_subclinical'), \n",
        "        help_text='Total number of animals in all units that are or become infectious over the course of an iteration', )\n",
        "    tscUClin = models.IntegerField(blank=True, null=True, db_column='transition_state_cum_unit_clinical', verbose_name=printable_name('transition_state_cum_unit_clinical'), \n",
        "        help_text='Number of units that are or become clinical over the course of an iteration', )\n",
        "    tscAClin = models.IntegerField(blank=True, null=True, db_column='transition_state_cum_animal_clinical', verbose_name=printable_name('transition_state_cum_animal_clinical'), \n",
        "        help_text='Total number of animals in all units that are or become clinical over the course of an iteration', )\n",
        "    tscUNImm = models.IntegerField(blank=True, null=True, db_column='transition_state_cum_unit_nat_immune', verbose_name=printable_name('transition_state_cum_unit_nat_immune'), \n",
        "        help_text='Number of units that are or become naturally immune over the course of an iteration', )\n",
        "    tscANImm = models.IntegerField(blank=True, null=True, db_column='transition_state_cum_animal_nat_immune', verbose_name=printable_name('transition_state_cum_animal_nat_immune'), \n",
        "        help_text='Total number of animals in all units that are or become naturally immune over the course of an iteration', )\n",
        "    tscUVImm = models.IntegerField(blank=True, null=True, db_column='transition_state_cum_unit_vac_immune', verbose_name=printable_name('transition_state_cum_unit_vac_immune'), \n",
        "        help_text='Number of units that are or become vaccine immune over the course of an iteration', )\n",
        "    tscAVImm = models.IntegerField(blank=True, null=True, db_column='transition_state_cum_animal_vac_immune', verbose_name=printable_name('transition_state_cum_animal_vac_immune'), \n",
        "        help_text='Total number of animals in all units that are or become vaccine immune over the course of an iteration', )\n",
        "    tscUDest = models.IntegerField(blank=True, null=True, db_column='transition_state_cum_unit_destroyed', verbose_name=printable_name('transition_state_cum_unit_destroyed'), \n",
        "        help_text='Number of units that are destroyed over the course of an iteration', )\n",
        "    tscADest = models.IntegerField(blank=True, null=True, db_column='transition_state_cum_animal_destroyed', verbose_name=printable_name('transition_state_cum_animal_destroyed'), \n",
        "        help_text='Total number of animals in all units that are destroyed over the course of an iteration', )\n",
        "    infcUIni = models.IntegerField(blank=True, null=True, db_column='infection_cum_unit_initial', verbose_name=printable_name('infection_cum_unit_initial'), \n",
        "        help_text='Number of units that are initially infected at the beginning of an iteration', )\n",
        "    infcAIni = models.IntegerField(blank=True, null=True, db_column='infection_cum_animal_initial', verbose_name=printable_name('infection_cum_animal_initial'), \n",
        "        help_text='Number of animals in units that are initially infected at the beginning of an iteration', )\n",
        "    infcUAir = models.IntegerField(blank=True, null=True, db_column='infection_cum_unit_air', verbose_name=printable_name('infection_cum_unit_air'), \n",
        "        help_text='Number of units that become infected by airborne spread over the course of an iteration', )\n",
        "    infcAAir = models.IntegerField(blank=True, null=True, db_column='infection_cum_animal_air', verbose_name=printable_name('infection_cum_animal_air'), \n",
        "        help_text='Number of animals in units that become infected by airborne spread over the course of an iteration', )\n",
        "    infcUDir = models.IntegerField(blank=True, null=True, db_column='infection_cum_unit_dir', verbose_name=printable_name('infection_cum_unit_dir'), \n",
        "        help_text='Number of units that become infected by direct contact over the course of an iteration', )\n",
        "    infcADir = models.IntegerField(blank=True, null=True, db_column='infection_cum_animal_dir', verbose_name=printable_name('infection_cum_animal_dir'), \n",
        "        help_text='Number of animals that become infected by direct contact over the course of an iteration', )\n",
        "    infcUInd = models.IntegerField(blank=True, null=True, db_column='infection_cum_unit_ind', verbose_name=printable_name('infection_cum_unit_ind'), \n",
        "        help_text='Number of units that become infected by indirect contact over the course of an iteration', )\n",
        "    infcAInd = models.IntegerField(blank=True, null=True, db_column='infection_cum_animal_ind', verbose_name=printable_name('infection_cum_animal_ind'), \n",
        "        help_text='Number of animals in units that become infected by indirect contact over the course of an iteration', )\n",
        "    expcUDir = models.IntegerField(blank=True, null=True, db_column='exposed_cum_unit_dir', verbose_name=printable_name('exposed_cum_unit_dir'), \n",
        "        help_text='Total number of units directly exposed to any infected unit over the course of an iteration', )\n",
        "    expcADir = models.IntegerField(blank=True, null=True, db_column='exposed_cum_animal_dir', verbose_name=printable_name('exposed_cum_animal_dir'), \n",
        "        help_text='Total number of animals in units directly exposed to any infected unit over the course of an iteration', )\n",
        "    expcUInd = models.IntegerField(blank=True, null=True, db_column='exposed_cum_unit_ind', verbose_name=printable_name('exposed_cum_unit_ind'), \n",
        "        help_text='Total number of units indirectly exposed to any infected unit over the course of an iteration', )\n",
        "    expcAInd = models.IntegerField(blank=True, null=True, db_column='exposed_cum_animal_ind', verbose_name=printable_name('exposed_cum_animal_ind'), \n",
        "        help_text='Total number of animals in units indirectly exposed to any infected unit over the course of an iteration', )\n",
        "    trcUDirFwd = models.IntegerField(blank=True, null=True, db_column='trace_cum_unit_dir_fwd', verbose_name=printable_name('trace_cum_unit_dir_fwd'), \n",
        "        help_text='Total number of animals in all units directly exposed and successfully traced forward over the course of an iteration', )\n",
        "    trcADirFwd = models.IntegerField(blank=True, null=True, db_column='trace_cum_animal_dir_fwd', verbose_name=printable_name('trace_cum_animal_dir_fwd'), \n",
        "        help_text='Total number of animals in all units directly exposed and successfully traced forward over the course of an iteration', )\n",
        "    trcUIndFwd = models.IntegerField(blank=True, null=True, db_column='trace_cum_unit_ind_fwd', verbose_name=printable_name('trace_cum_unit_ind_fwd'), \n",
        "        help_text='Number of units indirectly exposed and successfully traced forward over the course of an iteration', )\n",
        "    trcAIndFwd = models.IntegerField(blank=True, null=True, db_column='trace_cum_animal_ind_fwd', verbose_name=printable_name('trace_cum_animal_ind_fwd'), \n",
        "        help_text='Total number of animals in all units indirectly exposed and successfully traced forward over the course of an iteration', )\n",
        "    trcUDirpFwd = models.IntegerField(blank=True, null=True, db_column='trace_cum_unit_dir_p_fwd', verbose_name=printable_name('trace_cum_unit_dir_p_fwd'), \n",
        "        help_text='Number of units directly exposed that could possibly have been traced forward over the course of an iteration', )\n",
        "    trcADirpFwd = models.IntegerField(blank=True, null=True, db_column='trace_cum_animal_dir_pfwd', verbose_name=printable_name('trace_cum_animal_dir_pfwd'), \n",
        "        help_text='Total number of animals in all units directly exposed that could possibly have been traced forward over the course of an iteration', )\n",
        "    trcUIndpFwd = models.IntegerField(blank=True, null=True, db_column='trace_cum_unit_ind_p_fwd', verbose_name=printable_name('trace_cum_unit_ind_p_fwd'), \n",
        "        help_text='Number of units indirectly exposed that could possibly have been traced forward over the course of an iteration', )\n",
        "    trcAIndpFwd = models.IntegerField(blank=True, null=True, db_column='trace_cum_animal_ind_p_fwd', verbose_name=printable_name('trace_cum_animal_ind_p_fwd'), \n",
        "        help_text='Total number of animals in units indirectly exposed that could possibly have been traced forward over the course of an iteration', )\n",
        "    trcUDirBack = models.IntegerField(blank=True, null=True, db_column='trace_cum_unit_dir_back', verbose_name=printable_name('trace_cum_unit_dir_back'), \n",
        "        help_text='Number of units successfully traced back from a detected unit after direct contact over the course of the iteration', )\n",
        "    trcADirBack = models.IntegerField(blank=True, null=True, db_column='trace_cum_animal_dir_back', verbose_name=printable_name('trace_cum_animal_dir_back'), \n",
        "        help_text='Total number of animals in units successfully traced back from a detected unit over the course of the iteration', )\n",
        "    trcUIndBack = models.IntegerField(blank=True, null=True, db_column='trace_cum_unit_ind_back', verbose_name=printable_name('trace_cum_unit_ind_back'), \n",
        "        help_text='Number of units successfully traced back from a detected unit after indirect contact over the course of the iteration', )\n",
        "    trcAIndBack = models.IntegerField(blank=True, null=True, db_column='trace_cum_animal_ind_back', verbose_name=printable_name('trace_cum_animal_ind_back'), \n",
        "        help_text='Total number of animals in units successfully traced back from a detected unit after indirect contact over the course of the iteration', )\n",
        "    trcUDirpBack = models.IntegerField(blank=True, null=True, db_column='trace_cum_unit_dir_p_back', verbose_name=printable_name('trace_cum_unit_dir_p_back'), \n",
        "        help_text='Number of units that could possibly have been traced back from a detected unit after direct contact over the course of the iteration', )\n",
        "    trcADirpBack = models.IntegerField(blank=True, null=True, db_column='trace_cum_animal_dir_pback', verbose_name=printable_name('trace_cum_animal_dir_pback'), \n",
        "        help_text='Total number of animals in units that could possibly have been traced back from a detected unit after direct contact over the course of the iteration', )\n",
        "    trcUIndpBack = models.IntegerField(blank=True, null=True, db_column='trace_cum_unit_ind_p_back', verbose_name=printable_name('trace_cum_unit_ind_p_back'), \n",
        "        help_text='Number of units that could possibly have been traced back from a detected unit after indirect contact over the course of the iteration', )\n",
        "    trcAIndpBack = models.IntegerField(blank=True, null=True, db_column='trace_cum_animal_ind_p_back', verbose_name=printable_name('trace_cum_animal_ind_p_back'), \n",
        "        help_text='Total number of animals in units that could possibly have been traced back from a detected unit after indirect contact over the course of the iteration', )\n",
        "    tocUDirFwd = models.IntegerField(blank=True, null=True, db_column='trace_origin_cum_unit_dir_fwd', verbose_name=printable_name('trace_origin_cum_unit_dir_fwd'), \n",
        "        help_text='Number of trace-forwards of direct contact that originate at units of the designated type over the course of an iteration', )\n",
        "    tocUIndFwd = models.IntegerField(blank=True, null=True, db_column='trace_origin_cum_unit_ind_fwd', verbose_name=printable_name('trace_origin_cum_unit_ind_fwd'), \n",
        "        help_text='Number of trace-forwards of indirect contact that originate at units of the designated type over the course of an iteration', )\n",
        "    tocUDirBack = models.IntegerField(blank=True, null=True, db_column='trace_origin_cum_unit_dir_back', verbose_name=printable_name('trace_origin_cum_unit_dir_back'), \n",
        "        help_text='Number of trace-backs of direct contact that originate at units of the designated type over the course of an iteration', )\n",
        "    tocUIndBack = models.IntegerField(blank=True, null=True, db_column='trace_origin_cum_unit_ind_back', verbose_name=printable_name('trace_origin_cum_unit_ind_back'), \n",
        "        help_text='Number of trace-backs of indirect contact that originate at units of the designated type over the course of an iteration', )\n",
        "    exmcUDirFwd = models.IntegerField(blank=True, null=True, db_column='exam_cum_unit_dir_fwd', verbose_name=printable_name('exam_cum_unit_dir_fwd'), \n",
        "        help_text='Number of units subjected to a unit exam after a trace-forward of direct contact over the course of the iteration', )\n",
        "    exmcADirFwd = models.IntegerField(blank=True, null=True, db_column='exam_cum_animal_dir_fwd', verbose_name=printable_name('exam_cum_animal_dir_fwd'), \n",
        "        help_text='Total number of animals in units subjected to a unit exam after a trace-forward of direct contact over the course of the iteration', )\n",
        "    exmcUIndFwd = models.IntegerField(blank=True, null=True, db_column='exam_cum_unit_ind_fwd', verbose_name=printable_name('exam_cum_unit_ind_fwd'), \n",
        "        help_text='Number of units subjected to a unit exam after a trace-forward of indirect contact over the course of the iteration', )\n",
        "    exmcAIndFwd = models.IntegerField(blank=True, null=True, db_column='exam_cum_animal_ind_fwd', verbose_name=printable_name('exam_cum_animal_ind_fwd'), \n",
        "        help_text='Total number of animals in units subjected to a unit exam after a trace-forward of indirect contact over the course of the iteration', )\n",
        "    exmcUDirBack = models.IntegerField(blank=True, null=True, db_column='exam_cum_unit_dir_back', verbose_name=printable_name('exam_cum_unit_dir_back'), \n",
        "        help_text='Number of units subjected to a unit exam after a trace-back of direct contact over the course of the iteration', )\n",
        "    exmcADirBack = models.IntegerField(blank=True, null=True, db_column='exam_cum_animal_dir_back', verbose_name=printable_name('exam_cum_animal_dir_back'), \n",
        "        help_text='Total number of animals in units subjected to a unit exam after a trace-back of direct contact over the course of the iteration', )\n",
        "    exmcUIndBack = models.IntegerField(blank=True, null=True, db_column='exam_cum_unit_ind_back', verbose_name=printable_name('exam_cum_unit_ind_back'), \n",
        "        help_text='Number of units subjected to a unit exam after a trace-back of indirect contact over the course of the iteration', )\n",
        "    exmcAIndBack = models.IntegerField(blank=True, null=True, db_column='exam_cum_animal_ind_back', verbose_name=printable_name('exam_cum_animal_ind_back'), \n",
        "        help_text='Total number of animals in units subjected to a unit exam after a trace-back of indirect contact over the course of the iteration', )\n",
        "    tstcUDirFwd = models.IntegerField(blank=True, null=True, db_column='test_cum_unit_dir_fwd', verbose_name=printable_name('test_cum_unit_dir_fwd'), \n",
        "        help_text='Number of units subjected to diagnostic testing after a trace-forward of direct contact over the course of the iteration', )\n",
        "    tstcADirFwd = models.IntegerField(blank=True, null=True, db_column='test_cum_animal_dir_fwd', verbose_name=printable_name('test_cum_animal_dir_fwd'), \n",
        "        help_text='Total number of animals in units subjected to diagnostic testing after a trace-forward of direct contact over the course of the iteration', )\n",
        "    tstcUIndFwd = models.IntegerField(blank=True, null=True, db_column='test_cum_unit_ind_fwd', verbose_name=printable_name('test_cum_unit_ind_fwd'), \n",
        "        help_text='Number of units subjected to diagnostic testing after a trace-forward of indirect contact over the course of the iteration', )\n",
        "    tstcAIndFwd = models.IntegerField(blank=True, null=True, db_column='test_cum_animal_ind_fwd', verbose_name=printable_name('test_cum_animal_ind_fwd'), \n",
        "        help_text='Total number of animals in units subjected to diagnostic testing after a trace-forward of indirect contact over the course of the iteration', )\n",
        "    tstcUDirBack = models.IntegerField(blank=True, null=True, db_column='test_cum_unit_dir_back', verbose_name=printable_name('test_cum_unit_dir_back'), \n",
        "        help_text='Number of units subjected to diagnostic testing after a trace-back of direct contact over the course of the iteration', )\n",
        "    tstcADirBack = models.IntegerField(blank=True, null=True, db_column='test_cum_animal_dir_back', verbose_name=printable_name('test_cum_animal_dir_back'), \n",
        "        help_text='Total number of animals in units subjected to diagnostic testing after a trace-back of direct contact over the course of the iteration', )\n",
        "    tstcUIndBack = models.IntegerField(blank=True, null=True, db_column='test_cum_unit_ind_back', verbose_name=printable_name('test_cum_unit_ind_back'), \n",
        "        help_text='Number of units subjected to diagnostic testing after a trace-back of indirect contact over the course of the iteration', )\n",
        "    tstcAIndBack = models.IntegerField(blank=True, null=True, db_column='test_cum_animal_ind_back', verbose_name=printable_name('test_cum_animal_ind_back'), \n",
        "        help_text='Total number of animals in units subjected to diagnostic testing after a trace-back of indirect contact over the course of the iteration', )\n",
        "    tstcUTruePos = models.IntegerField(blank=True, null=True, db_column='test_cum_unit_true_pos', verbose_name=printable_name('test_cum_unit_true_pos'), \n",
        "        help_text='Number of tested units with a true positive diagnostic test result over the course of the iteration', )\n",
        "    tstcATruePos = models.IntegerField(blank=True, null=True, db_column='test_cum_animal_true_pos', verbose_name=printable_name('test_cum_animal_true_pos'), \n",
        "        help_text='Total number of animals in tested units with a true positive diagnostic test result over the course of the iteration', )\n",
        "    tstcUTrueNeg = models.IntegerField(blank=True, null=True, db_column='test_cum_unit_true_neg', verbose_name=printable_name('test_cum_unit_true_neg'), \n",
        "        help_text='Number of tested units with a true negative diagnostic test result over the course of the iteration', )\n",
        "    tstcATrueNeg = models.IntegerField(blank=True, null=True, db_column='test_cum_animal_true_neg', verbose_name=printable_name('test_cum_animal_true_neg'), \n",
        "        help_text='Total number of animals in tested units with a true negative diagnostic test result over the course of the iteration', )\n",
        "    tstcUFalsePos = models.IntegerField(blank=True, null=True, db_column='test_cum_unit_false_pos', verbose_name=printable_name('test_cum_unit_false_pos'), \n",
        "        help_text='Number of tested units with a false positive diagnostic test result over the course of the iteration', )\n",
        "    tstcAFalsePos = models.IntegerField(blank=True, null=True, db_column='test_cum_animal_false_pos', verbose_name=printable_name('test_cum_animal_false_pos'), \n",
        "        help_text='Total number of animals in tested units with a false positive diagnostic test result over the course of the iteration', )\n",
        "    tstcUFalseNeg = models.IntegerField(blank=True, null=True, db_column='test_cum_unit_false_neg', verbose_name=printable_name('test_cum_unit_false_neg'), \n",
        "        help_text='Number of tested units with a false negative diagnostic test result over the course of the iteration', )\n",
        "    tstcAFalseNeg = models.IntegerField(blank=True, null=True, db_column='test_cum_animal_false_neg', verbose_name=printable_name('test_cum_animal_false_neg'), \n",
        "        help_text='Total number of animals in tested units with a false negative diagnostic test result over the course of the iteration', )\n",
        "    detcUClin = models.IntegerField(blank=True, null=True, db_column='detect_cum_unit_clin', verbose_name=printable_name('detect_cum_unit_clin'), \n",
        "        help_text='Number of units detected by clinical signs over the course of an iteration', )\n",
        "    detcAClin = models.IntegerField(blank=True, null=True, db_column='detect_cum_animal_clin', verbose_name=printable_name('detect_cum_animal_clin'), \n",
        "        help_text='Total number of animals in all units detected by clinical signs over the course of an iteration', )\n",
        "    detcUTest = models.IntegerField(blank=True, null=True, db_column='detect_cum_unit_test', verbose_name=printable_name('detect_cum_unit_test'), \n",
        "        help_text='Number of units detected by diagnostic testing over the course of the iteration. This value includes true- as well as false-positive units', )\n",
        "    detcATest = models.IntegerField(blank=True, null=True, db_column='detect_cum_animal_test', verbose_name=printable_name('detect_cum_animal_test'), \n",
        "        help_text='Total number of animals in units detected by diagnostic testing over the course of the iteration', )\n",
        "    descUIni = models.IntegerField(blank=True, null=True, db_column='destroy_cum_unit_initial', verbose_name=printable_name('destroy_cum_unit_initial'), \n",
        "        help_text='Number of units destroyed prior to the start of the simulation', )\n",
        "    descAIni = models.IntegerField(blank=True, null=True, db_column='destroy_cum_animal_initial', verbose_name=printable_name('destroy_cum_animal_initial'), \n",
        "        help_text='Total number of animals in units destroyed prior to the start of the simulation', )\n",
        "    descUDet = models.IntegerField(blank=True, null=True, db_column='destroy_cum_unit_detect', verbose_name=printable_name('destroy_cum_unit_detect'), \n",
        "        help_text='Number of units destroyed because disease was detected over the course of an iteration', )\n",
        "    descADet = models.IntegerField(blank=True, null=True, db_column='destroy_cum_animal_detect', verbose_name=printable_name('destroy_cum_animal_detect'), \n",
        "        help_text='Total number of animals in units destroyed because disease was detected over the course of an iteration', )\n",
        "    descUDirFwd = models.IntegerField(blank=True, null=True, db_column='destroy_cum_unit_dir_fwd', verbose_name=printable_name('destroy_cum_unit_dir_fwd'), \n",
        "        help_text='Number of units destroyed due to a successful trace forward of direct contact with an infected unit over the course of the iteration', )\n",
        "    descADirFwd = models.IntegerField(blank=True, null=True, db_column='destroy_cum_animal_dir_fwd', verbose_name=printable_name('destroy_cum_animal_dir_fwd'), \n",
        "        help_text='Total number of animals in units destroyed due to a successful trace forward of direct contact with an infected unit over the course of the iteration', )\n",
        "    descUIndFwd = models.IntegerField(blank=True, null=True, db_column='destroy_cum_unit_ind_fwd', verbose_name=printable_name('destroy_cum_unit_ind_fwd'), \n",
        "        help_text='Number of units destroyed due to a successful trace forward of indirect contact with an infected unit over the course of the iteration', )\n",
        "    descAIndFwd = models.IntegerField(blank=True, null=True, db_column='destroy_cum_animal_ind_fwd', verbose_name=printable_name('destroy_cum_animal_ind_fwd'), \n",
        "        help_text='Total number of animals in units destroyed due to a successful trace forward of indirect contact with an infected unit over the course of the iteration', )\n",
        "    descUDirBack = models.IntegerField(blank=True, null=True, db_column='destroy_cum_unit_dir_back', verbose_name=printable_name('destroy_cum_unit_dir_back'), \n",
        "        help_text='Number of units destroyed due to a successful trace back of direct contact with an infected unit over the course of the iteration', )\n",
        "    descADirBack = models.IntegerField(blank=True, null=True, db_column='destroy_cum_animal_dir_back', verbose_name=printable_name('destroy_cum_animal_dir_back'), \n",
        "        help_text='Total number of animals in units destroyed due to a successful trace back of direct contact with an infected unit over the course of the iteration', )\n",
        "    descUIndBack = models.IntegerField(blank=True, null=True, db_column='destroy_cum_unit_ind_back', verbose_name=printable_name('destroy_cum_unit_ind_back'), \n",
        "        help_text='Number of units destroyed due to a successful trace back of indirect contact with an infected unit over the course of the iteration', )\n",
        "    descAIndBack = models.IntegerField(blank=True, null=True, db_column='destroy_cum_animal_ind_back', verbose_name=printable_name('destroy_cum_animal_ind_back'), \n",
        "        help_text='Total number of animals in units destroyed due to a successful trace back of indirect contact with an infected unit over the course of the iteration', )\n",
        "    descURing = models.IntegerField(blank=True, null=True, db_column='destroy_cum_unit_ring', verbose_name=printable_name('destroy_cum_unit_ring'), \n",
        "        help_text='Number of units destroyed because they were in a destruction ring over the course of an iteration', )\n",
        "    descARing = models.IntegerField(blank=True, null=True, db_column='destroy_cum_animal_ring', verbose_name=printable_name('destroy_cum_animal_ring'), \n",
        "        help_text='Total number of animals in units destroyed because they were in a destruction ring over the course of an iteration', )\n",
        "    deswUMax = models.IntegerField(blank=True, null=True, db_column='destroy_wait_unit_max', verbose_name=printable_name('destroy_wait_unit_max'), \n",
        "        help_text='Maximum number of units in queue for destruction on any given day over the course of the iteration', )\n",
        "    deswAMax = models.IntegerField(blank=True, null=True, db_column='destroy_wait_animal_max', verbose_name=printable_name('destroy_wait_animal_max'), \n",
        "        help_text='Maximum number of animals in queue for destruction on any given day over the course of the iteration', )\n",
        "    deswUMaxDay = models.IntegerField(blank=True, null=True, db_column='destroy_wait_unit_max_day', verbose_name=printable_name('destroy_wait_unit_max_day'), \n",
        "        help_text='The first simulation day on which the maximum number of units in queue for destruction was reached', )\n",
        "    deswAMaxDay = models.IntegerField(blank=True, null=True, db_column='destroy_wait_animal_max_day', verbose_name=printable_name('destroy_wait_animal_max_day'), \n",
        "        help_text='The first simulation day on which the maximum number of animals in queue for destruction was reached', )\n",
        "    deswUTimeMax = models.IntegerField(blank=True, null=True, db_column='destroy_wait_unit_time_max', verbose_name=printable_name('destroy_wait_unit_time_max'), \n",
        "        help_text='Maximum number of days spent in queue for destruction by any single unit over the course of the iteration', )\n",
        "    deswUTimeAvg = models.FloatField(blank=True, null=True, db_column='destroy_wait_unit_time_avg', verbose_name=printable_name('destroy_wait_unit_time_avg'), \n",
        "        help_text='Average number of days spent by each unit in queue for destruction over the course of the iteration', )\n",
        "    deswUDaysInQueue = models.FloatField(blank=True, null=True, db_column='destroy_wait_unit_days_in_queue', verbose_name=printable_name('destroy_wait_unit_days_in_queue'), \n",
        "        help_text='Total number of unit-days spent in queue for destruction', )\n",
        "    deswADaysInQueue = models.FloatField(blank=True, null=True, db_column='destroy_wait_animal_days_in_queue', verbose_name=printable_name('destroy_wait_animal_days_in_queue'), \n",
        "        help_text='Total number of animal-days spent in queue for destruction', )\n",
        "    vaccUIni = models.IntegerField(blank=True, null=True, db_column='vac_cum_unit_initial', verbose_name=printable_name('vac_cum_unit_initial'), \n",
        "        help_text='Number of units that were vaccine immune prior to the start of the simulation', )\n",
        "    vaccAIni = models.IntegerField(blank=True, null=True, db_column='vac_cum_animal_initial', verbose_name=printable_name('vac_cum_animal_initial'), \n",
        "        help_text='Total number of animals in units that were vaccine immune prior to the start of the simulation', )\n",
        "    vaccURing = models.IntegerField(blank=True, null=True, db_column='vac_cum_unit_ring', verbose_name=printable_name('vac_cum_unit_ring'), \n",
        "        help_text='Number of units vaccinated in rings around detected-infected units over the course of an iteration', )\n",
        "    vaccARing = models.IntegerField(blank=True, null=True, db_column='vac_cum_animal_ring', verbose_name=printable_name('vac_cum_animal_ring'), \n",
        "        help_text='Total number of animals in all units vaccinated in rings around detected-infected units over the course of an iteration', )\n",
        "    vacwUMax = models.IntegerField(blank=True, null=True, db_column='vac_wait_unit_max', verbose_name=printable_name('vac_wait_unit_max'), \n",
        "        help_text='Maximum number of units in queue for vaccination on any given day over the course of the iteration', )\n",
        "    vacwAMax = models.FloatField(null=True, blank=True, db_column='vac_wait_animal_max', verbose_name=printable_name('vac_wait_animal_max'), \n",
        "        help_text='Maximum number of animals in queue for vaccination on any given day over the course of the iteration', )\n",
        "    vacwUMaxDay = models.IntegerField(blank=True, null=True, db_column='vac_wait_unit_max_day', verbose_name=printable_name('vac_wait_unit_max_day'), \n",
        "        help_text='The first simulation day on which the maximum number of units in queue for vaccination was reached', )\n",
        "    vacwAMaxDay = models.IntegerField(blank=True, null=True, db_column='vac_wait_animal_max_day', verbose_name=printable_name('vac_wait_animal_max_day'), \n",
        "        help_text='The first simulation day on which the maximum number of animals in queue for vaccination was reached', )\n",
        "    vacwUTimeMax = models.FloatField(null=True, blank=True, db_column='vac_wait_unit_time_max', verbose_name=printable_name('vac_wait_unit_time_max'), \n",
        "        help_text='Maximum number of days spent in queue for vaccination by any single unit over the course of the iteration', )\n",
        "    vacwUTimeAvg = models.IntegerField(blank=True, null=True, db_column='vac_wait_unit_time_avg', verbose_name=printable_name('vac_wait_unit_time_avg'), \n",
        "        help_text='Average number of days spent in queue for vaccination by each unit that was vaccinated over the course of the iteration', )\n",
        "    zoncFoci = models.IntegerField(blank=True, null=True, db_column='zone_cum_foci', verbose_name=printable_name('zone_cum_foci'), \n",
        "        help_text='Total number of new zone foci created around units of the indicated type over the course of an iteration',)\n",
        "    firstDetection = models.IntegerField(blank=True, null=True, db_column='first_detection', verbose_name=printable_name('first_detection'), \n",
        "        help_text='Day of first detection of an infected unit in the specified iteration', )\n",
        "    firstDetUInf = models.IntegerField(blank=True, null=True, db_column='first_det_unit_inf', verbose_name=printable_name('first_det_unit_inf'), \n",
        "        help_text='Number of units already infected at the time of first detection of an infected unit of any production type in the specified iteration', )\n",
        "    firstDetAInf = models.IntegerField(blank=True, null=True, db_column='first_detect_animal_inf', verbose_name=printable_name('first_detect_animal_inf'), \n",
        "        help_text='Number of animals in units already infected at the time of first detection of an infected unit of any production type in the specified iteration', )\n",
        "    firstDestruction = models.IntegerField(blank=True, null=True, db_column='first_destruction', verbose_name=printable_name('first_destruction'), \n",
        "        help_text='Day of first destruction of a unit in the specified iteration', )\n",
        "    firstVaccination = models.IntegerField(blank=True, null=True, db_column='first_vaccination', verbose_name=printable_name('first_vaccination'), \n",
        "        help_text='Day of first vaccination of a unit in the specified iteration', )\n",
        "    lastDetection = models.IntegerField(blank=True, null=True, db_column='last_detection', verbose_name=printable_name('last_detection'), \n",
        "        help_text='Day of last detection of an infected unit in the specified iteration', )\n",
        "\n",
        "\n",
        "class IterationByUnit(models.Model):\n",
        "    iteration = models.IntegerField(blank=True, null=True, db_column='iteration', verbose_name=printable_name('iteration'), \n",
        "        help_text='The iteration during which the outputs in this records where generated.', )\n",
        "    unit = models.ForeignKey(Unit,\n",
        "        help_text='Identifier of the unit for which this event occurred.', )\n",
        "    lastStatusCode = models.CharField(max_length=255, blank=True, db_column='last_status_code', verbose_name=printable_name('last_status_code'), \n",
        "        help_text='Final status that a unit was in for an iteration', )\n",
        "    lastStatusDay = models.IntegerField(blank=True, null=True, db_column='last_status_day', verbose_name=printable_name('last_status_day'), \n",
        "        help_text='Day that a unit was in the final status for an iteration', )\n",
        "    lastControlStateCode = models.CharField(max_length=255, blank=True, db_column='last_control_state_code', verbose_name=printable_name('last_control_state_code'), \n",
        "        help_text='Final Control State that a unit was in for an iteration', )\n",
        "    lastControlStateDay = models.IntegerField(blank=True, null=True, db_column='last_control_state_day', verbose_name=printable_name('last_control_state_day'), \n",
        "        help_text='Day that a unit went in to the final status for an iteration', )\n",
        "\n",
        "\n",
        "class IterationByZone(models.Model):\n",
        "    iteration = models.IntegerField(blank=True, null=True, db_column='iteration', verbose_name=printable_name('iteration'), \n",
        "        help_text='The iteration during which the outputs in this records where generated.', )\n",
        "    zone = models.ForeignKey(Zone,\n",
        "        help_text='Identifier of the zone for which this event occurred.', )\n",
        "    maxZoneArea = models.FloatField(blank=True, null=True, db_column='max_zone_area', verbose_name=printable_name('max_zone_area'), \n",
        "        help_text='Maximum area (in square kilometers) reached for the indicated zone over the course of an iteration', )\n",
        "    maxZoneAreaDay = models.IntegerField(blank=True, null=True, db_column='max_zone_area_day', verbose_name=printable_name('max_zone_area_day'), \n",
        "        help_text='Day on which maximum area for the indicated zone is reached', )\n",
        "    finalZoneArea = models.FloatField(blank=True, null=True, db_column='final_zone_area', verbose_name=printable_name('final_zone_area'), \n",
        "        help_text='Area (in square kilometers) of the indicated zone at the end of an iteration', )\n",
        "    maxZonePerimeter = models.FloatField(blank=True, null=True, db_column='max_zone_perimeter', verbose_name=printable_name('max_zone_perimeter'), \n",
        "        help_text='Maximum perimeter (in kilometers) reached for the indicated zone over the course of an iteration', )\n",
        "    maxZonePerimeterDay = models.IntegerField(blank=True, null=True, db_column='max_zone_perimeter_day', verbose_name=printable_name('max_zone_perimeter_day'), \n",
        "        help_text='Day on which maximum perimeter for the indicated zone is reached', )\n",
        "    finalZonePerimeter = models.FloatField(blank=True, null=True, db_column='final_zone_perimeter', verbose_name=printable_name('final_zone_perimeter'), \n",
        "        help_text='Perimeter (in kilometers) of the indicated zone at the end of an iteration', )\n",
        "\n",
        "\n",
        "class IterationByZoneAndProductionType(models.Model):\n",
        "    iteration = models.IntegerField(blank=True, null=True, db_column='iteration', verbose_name=printable_name('iteration'), \n",
        "        help_text='The iteration during which the outputs in this records where generated.', )\n",
        "    zone = models.ForeignKey(Zone,\n",
        "        help_text='Identifier of the zone for which this event occurred.', )\n",
        "    production_type = models.ForeignKey(ProductionType,\n",
        "        help_text='The identifier of the production type that these outputs apply to.', )\n",
        "    unitDaysInZone = models.IntegerField(blank=True, null=True, db_column='unit_days_in_zone', verbose_name=printable_name('unit_days_in_zone'), \n",
        "        help_text='Total number of unit days spent in a zone (1 unit for 1 day = 1 unit day 1 unit for 2 days = 2 unit days etc.)', )\n",
        "    animalDaysInZone = models.IntegerField(blank=True, null=True, db_column='animal_days_in_zone', verbose_name=printable_name('animal_days_in_zone'), \n",
        "        help_text='Total number of animal days spent in a zone (1 animal for 1 day = 1 animal day 1 animal for 2 days = 2 animal days etc.)', )\n",
        "    costSurveillance = models.FloatField(blank=True, null=True, db_column='cost_surveillance', verbose_name=printable_name('cost_surveillance'), \n",
        "        help_text='Total cost associated with surveillance in a zone over the course of an iteration.', )\n",
        "\n",
        "\n",
        "class IterationCosts(models.Model):\n",
        "    iteration = models.IntegerField(blank=True, null=True, db_column='iteration', verbose_name=printable_name('iteration'), \n",
        "        help_text='The iteration during which the outputs in this records where generated.', )\n",
        "    production_type = models.ForeignKey(ProductionType,\n",
        "        help_text='The identifier of the production type that these outputs apply to.', )\n",
        "    destrAppraisal = models.FloatField(blank=True, null=True, db_column='destroy_appraisal', verbose_name=printable_name('destroy_appraisal'), \n",
        "        help_text='Total cost of appraisal for all units destroyed over the course of an iteration.', )\n",
        "    destrCleaning = models.FloatField(blank=True, null=True, db_column='destroy_cleaning', verbose_name=printable_name('destroy_cleaning'), \n",
        "        help_text='Total cost of cleaning and disinfection for all units destroyed over the course of an iteration.', )\n",
        "    destrEuthanasia = models.FloatField(blank=True, null=True, db_column='destroy_euthanasia', verbose_name=printable_name('destroy_euthanasia'), \n",
        "        help_text='Total cost of euthanasia for all animals in units destroyed over the course of an iteration.', )\n",
        "    destrIndemnification = models.FloatField(blank=True, null=True, db_column='destroy_indemnification', verbose_name=printable_name('destroy_indemnification'), \n",
        "        help_text='Total cost of indemnification for all animals in units destroyed over the course of an iteration.', )\n",
        "    destrDisposal = models.FloatField(blank=True, null=True, db_column='destroy_disposal', verbose_name=printable_name('destroy_disposal'), \n",
        "        help_text='Total cost of carcass disposal for all animals in units destroyed over the course of an iteration.', )\n",
        "    vaccSetup = models.FloatField(blank=True, null=True, db_column='vac_cum_setup', verbose_name=printable_name('vac_cum_setup'), \n",
        "        help_text='Total cost of vaccination setup for all units vaccinated over the course of an iteration.', )\n",
        "    vaccVaccination = models.FloatField(blank=True, null=True, db_column='vac_cum_vaccination', verbose_name=printable_name('vac_cum_vaccination'), \n",
        "        help_text='Total cost of vaccination for all animals in units vaccinated over the course of an iteration.', )\n",
        "\n"
       ]
      }
     ],
     "input": [
      "# order = 'DailyByProductionType DailyByZone DailyByZoneAndProductionType DailyEvents DailyExposures EpidemicCurves General Iteration IterationByUnit IterationByProductionType IterationByZone IterationByZoneAndProductionType IterationCosts'.split()\n",
      "order = sorted(new_code.keys())\n",
      "code_string = str('\\n\\n\\n'.join( ['\\n'.join(new_code[key]) for key in order ]  ))\n",
      "print(code_string)"
     ],
     "language": "python",
     "prompt_number": 19
    },
    {
     "cell_type": "code",
     "metadata": {},
     "outputs": [
      {
       "output_type": "stream",
       "stream": "stdout",
       "text": [
        "    iteration = models.IntegerField(blank=True, null=True, db_column='iteration', verbose_name=printable_name('iteration'), \n",
        "        help_text='The iteration during which the outputs in this records where generated.', )\n",
        "    day = models.IntegerField(blank=True, null=True,\n",
        "        help_text='The day within the iteration on which these outputs were generated.', )\n",
        "\n"
       ]
      }
     ],
     "input": [
      "#find lines that didn't get modified but should have\n",
      "code_lines = code_string.split('\\n')\n",
      "for index, line in enumerate(code_lines):\n",
      "    if 'ForeignKey' not in line and 'class' not in line and 'db_column' not in line and 'help_text' not in line and line.strip():\n",
      "        print('\\n'.join(code_lines[index-2 : index+2]))\n",
      "        print()"
     ],
     "language": "python",
     "prompt_number": 20
    },
    {
     "cell_type": "code",
     "metadata": {},
     "outputs": [
      {
       "output_type": "pyout",
       "prompt_number": 21,
       "text": [
        "['class EpidemicCurves(models.Model):',\n",
        " \"    iteration = models.IntegerField(blank=True, null=True, db_column='iteration', verbose_name=printable_name('iteration'), \",\n",
        " \"        help_text='The iteration during which the outputs in this records where generated.', )\",\n",
        " \"    day = models.IntegerField(blank=True, null=True, db_column='day', verbose_name=printable_name('day'), \",\n",
        " \"        help_text='The day within the iteration on which these outputs were generated.', )\",\n",
        " '    production_type = models.ForeignKey(ProductionType,',\n",
        " \"        help_text='The identifier of the production type that these outputs apply to.', )\",\n",
        " \"    infectedUnits = models.IntegerField(blank=True, null=True, db_column='infected_units', verbose_name=printable_name('infected_units'), \",\n",
        " \"        help_text='The number of units of the specified production type infected by any mechanism on the specific day in a spcified iteration.', )\",\n",
        " \"    infectedAnimals = models.IntegerField(blank=True, null=True, db_column='infected_animals', verbose_name=printable_name('infected_animals'), \",\n",
        " \"        help_text='Total number of animals in an infected unit.', )\",\n",
        " \"    detectedUnits = models.IntegerField(blank=True, null=True, db_column='detected_units', verbose_name=printable_name('detected_units'), \",\n",
        " \"        help_text='The number of clinically ill units of the specified production type detected by any mechanism on the specified day in the specified iteration.', )\",\n",
        " \"    detectedAnimals = models.IntegerField(blank=True, null=True, db_column='detected_animals', verbose_name=printable_name('detected_animals'), \",\n",
        " \"        help_text='Total number of animals in the detected unit.', )\",\n",
        " \"    infectiousUnits = models.IntegerField(blank=True, null=True, db_column='infectious_units', verbose_name=printable_name('infectious_units'), \",\n",
        " \"        help_text='Number of infectious units both apparent and not apparent', )\",\n",
        " \"    apparentInfectiousUnits = models.IntegerField(blank=True, null=True, db_column='apparent_infectious_units', verbose_name=printable_name('apparent_infectious_units'), \",\n",
        " \"        help_text='APPARENT INFECTIOUS UNITS', )\"]"
       ],
       "metadata": {}
      }
     ],
     "input": [
      "new_code['EpidemicCurves']"
     ],
     "language": "python",
     "prompt_number": 21
    },
    {
     "cell_type": "heading",
     "metadata": {},
     "level": 1,
     "source": [
      "\n"
     ]
    },
    {
     "cell_type": "heading",
     "metadata": {},
     "level": 1,
     "source": [
      "Parsing"
     ]
    },
    {
     "cell_type": "code",
     "metadata": {},
     "outputs": [],
     "input": [
      "headers = \"Run,Day,outbreakDuration,infnUAll,infnUDir,infnUInd,infnUAir,infnUIni,infnUB,infnUBDS,infnUS,infnUBD,infnUBS,infnUD,infnUDS,infnUP,infnUDirB,infnUDirBDS,infnUDirS,infnUDirBD,infnUDirBS,infnUDirD,infnUDirDS,infnUDirP,infnUIndB,infnUIndBDS,infnUIndS,infnUIndBD,infnUIndBS,infnUIndD,infnUIndDS,infnUIndP,infnUAirB,infnUAirBDS,infnUAirS,infnUAirBD,infnUAirBS,infnUAirD,infnUAirDS,infnUAirP,infnUIniB,infnUIniBDS,infnUIniS,infnUIniBD,infnUIniBS,infnUIniD,infnUIniDS,infnUIniP,infcUAll,infcUDir,infcUInd,infcUAir,infcUIni,infcUB,infcUBDS,infcUS,infcUBD,infcUBS,infcUD,infcUDS,infcUP,infcUDirB,infcUDirBDS,infcUDirS,infcUDirBD,infcUDirBS,infcUDirD,infcUDirDS,infcUDirP,infcUIndB,infcUIndBDS,infcUIndS,infcUIndBD,infcUIndBS,infcUIndD,infcUIndDS,infcUIndP,infcUAirB,infcUAirBDS,infcUAirS,infcUAirBD,infcUAirBS,infcUAirD,infcUAirDS,infcUAirP,infcUIniB,infcUIniBDS,infcUIniS,infcUIniBD,infcUIniBS,infcUIniD,infcUIniDS,infcUIniP,infnAAll,infnADir,infnAInd,infnAAir,infnAIni,infnAB,infnABDS,infnAS,infnABD,infnABS,infnAD,infnADS,infnAP,infnADirB,infnADirBDS,infnADirS,infnADirBD,infnADirBS,infnADirD,infnADirDS,infnADirP,infnAIndB,infnAIndBDS,infnAIndS,infnAIndBD,infnAIndBS,infnAIndD,infnAIndDS,infnAIndP,infnAAirB,infnAAirBDS,infnAAirS,infnAAirBD,infnAAirBS,infnAAirD,infnAAirDS,infnAAirP,infnAIniB,infnAIniBDS,infnAIniS,infnAIniBD,infnAIniBS,infnAIniD,infnAIniDS,infnAIniP,infcAAll,infcADir,infcAInd,infcAAir,infcAIni,infcAB,infcABDS,infcAS,infcABD,infcABS,infcAD,infcADS,infcAP,infcADirB,infcADirBDS,infcADirS,infcADirBD,infcADirBS,infcADirD,infcADirDS,infcADirP,infcAIndB,infcAIndBDS,infcAIndS,infcAIndBD,infcAIndBS,infcAIndD,infcAIndDS,infcAIndP,infcAAirB,infcAAirBDS,infcAAirS,infcAAirBD,infcAAirBS,infcAAirD,infcAAirDS,infcAAirP,infcAIniB,infcAIniBDS,infcAIniS,infcAIniBD,infcAIniBS,infcAIniD,infcAIniDS,infcAIniP,firstDetUInfAll,firstDetAInfAll,ratio,tsdUSusc,tsdULat,tsdUSubc,tsdUClin,tsdUNImm,tsdUVImm,tsdUDest,tsdUBSusc,tsdUBLat,tsdUBSubc,tsdUBClin,tsdUBNImm,tsdUBVImm,tsdUBDest,tsdUBDSSusc,tsdUBDSLat,tsdUBDSSubc,tsdUBDSClin,tsdUBDSNImm,tsdUBDSVImm,tsdUBDSDest,tsdUSSusc,tsdUSLat,tsdUSSubc,tsdUSClin,tsdUSNImm,tsdUSVImm,tsdUSDest,tsdUBDSusc,tsdUBDLat,tsdUBDSubc,tsdUBDClin,tsdUBDNImm,tsdUBDVImm,tsdUBDDest,tsdUBSSusc,tsdUBSLat,tsdUBSSubc,tsdUBSClin,tsdUBSNImm,tsdUBSVImm,tsdUBSDest,tsdUDSusc,tsdUDLat,tsdUDSubc,tsdUDClin,tsdUDNImm,tsdUDVImm,tsdUDDest,tsdUDSSusc,tsdUDSLat,tsdUDSSubc,tsdUDSClin,tsdUDSNImm,tsdUDSVImm,tsdUDSDest,tsdUPSusc,tsdUPLat,tsdUPSubc,tsdUPClin,tsdUPNImm,tsdUPVImm,tsdUPDest,tsdASusc,tsdALat,tsdASubc,tsdAClin,tsdANImm,tsdAVImm,tsdADest,tsdABSusc,tsdABLat,tsdABSubc,tsdABClin,tsdABNImm,tsdABVImm,tsdABDest,tsdABDSSusc,tsdABDSLat,tsdABDSSubc,tsdABDSClin,tsdABDSNImm,tsdABDSVImm,tsdABDSDest,tsdASSusc,tsdASLat,tsdASSubc,tsdASClin,tsdASNImm,tsdASVImm,tsdASDest,tsdABDSusc,tsdABDLat,tsdABDSubc,tsdABDClin,tsdABDNImm,tsdABDVImm,tsdABDDest,tsdABSSusc,tsdABSLat,tsdABSSubc,tsdABSClin,tsdABSNImm,tsdABSVImm,tsdABSDest,tsdADSusc,tsdADLat,tsdADSubc,tsdADClin,tsdADNImm,tsdADVImm,tsdADDest,tsdADSSusc,tsdADSLat,tsdADSSubc,tsdADSClin,tsdADSNImm,tsdADSVImm,tsdADSDest,tsdAPSusc,tsdAPLat,tsdAPSubc,tsdAPClin,tsdAPNImm,tsdAPVImm,tsdAPDest,average-prevalence,diseaseDuration,vacwUAll,vacwUB,vacwUBDS,vacwUS,vacwUBD,vacwUBS,vacwUD,vacwUDS,vacwUP,vacwAAll,vacwAB,vacwABDS,vacwAS,vacwABD,vacwABS,vacwAD,vacwADS,vacwAP,vacwUMax,vacwUMaxDay,vacwAMax,vacwAMaxDay,vacwUTimeMax,vacwUTimeAvg,vacwUDaysInQueue,vacwADaysInQueue,zoneAreaHighRisk,zoneAreaMediumRisk,maxZoneAreaHighRisk,maxZoneAreaMediumRisk,maxZoneAreaDayHighRisk,maxZoneAreaDayMediumRisk,finalZoneAreaHighRisk,finalZoneAreaMediumRisk,zonePerimeterHighRisk,zonePerimeterMediumRisk,maxZonePerimeterHighRisk,maxZonePerimeterMediumRisk,maxZonePerimeterDayHighRisk,maxZonePerimeterDayMediumRisk,finalZonePerimeterHighRisk,finalZonePerimeterMediumRisk,num-separate-areasHighRisk,num-separate-areasMediumRisk,unitsInZoneHighRisk,unitsInZoneMediumRisk,unitsInZoneBackground,unitsInZoneHighRiskB,unitsInZoneHighRiskBDS,unitsInZoneHighRiskS,unitsInZoneHighRiskBD,unitsInZoneHighRiskBS,unitsInZoneHighRiskD,unitsInZoneHighRiskDS,unitsInZoneHighRiskP,unitsInZoneMediumRiskB,unitsInZoneMediumRiskBDS,unitsInZoneMediumRiskS,unitsInZoneMediumRiskBD,unitsInZoneMediumRiskBS,unitsInZoneMediumRiskD,unitsInZoneMediumRiskDS,unitsInZoneMediumRiskP,unitsInZoneBackgroundB,unitsInZoneBackgroundBDS,unitsInZoneBackgroundS,unitsInZoneBackgroundBD,unitsInZoneBackgroundBS,unitsInZoneBackgroundD,unitsInZoneBackgroundDS,unitsInZoneBackgroundP,unitDaysInZoneHighRisk,unitDaysInZoneMediumRisk,unitDaysInZoneBackground,unitDaysInZoneHighRiskB,unitDaysInZoneHighRiskBDS,unitDaysInZoneHighRiskS,unitDaysInZoneHighRiskBD,unitDaysInZoneHighRiskBS,unitDaysInZoneHighRiskD,unitDaysInZoneHighRiskDS,unitDaysInZoneHighRiskP,unitDaysInZoneMediumRiskB,unitDaysInZoneMediumRiskBDS,unitDaysInZoneMediumRiskS,unitDaysInZoneMediumRiskBD,unitDaysInZoneMediumRiskBS,unitDaysInZoneMediumRiskD,unitDaysInZoneMediumRiskDS,unitDaysInZoneMediumRiskP,unitDaysInZoneBackgroundB,unitDaysInZoneBackgroundBDS,unitDaysInZoneBackgroundS,unitDaysInZoneBackgroundBD,unitDaysInZoneBackgroundBS,unitDaysInZoneBackgroundD,unitDaysInZoneBackgroundDS,unitDaysInZoneBackgroundP,animalDaysInZoneHighRisk,animalDaysInZoneMediumRisk,animalDaysInZoneBackground,animalDaysInZoneHighRiskB,animalDaysInZoneHighRiskBDS,animalDaysInZoneHighRiskS,animalDaysInZoneHighRiskBD,animalDaysInZoneHighRiskBS,animalDaysInZoneHighRiskD,animalDaysInZoneHighRiskDS,animalDaysInZoneHighRiskP,animalDaysInZoneMediumRiskB,animalDaysInZoneMediumRiskBDS,animalDaysInZoneMediumRiskS,animalDaysInZoneMediumRiskBD,animalDaysInZoneMediumRiskBS,animalDaysInZoneMediumRiskD,animalDaysInZoneMediumRiskDS,animalDaysInZoneMediumRiskP,animalDaysInZoneBackgroundB,animalDaysInZoneBackgroundBDS,animalDaysInZoneBackgroundS,animalDaysInZoneBackgroundBD,animalDaysInZoneBackgroundBS,animalDaysInZoneBackgroundD,animalDaysInZoneBackgroundDS,animalDaysInZoneBackgroundP,trnUAllp,trnUDirp,trnUIndp,trnUBp,trnUBDSp,trnUSp,trnUBDp,trnUBSp,trnUDp,trnUDSp,trnUPp,trnUDirBp,trnUDirBDSp,trnUDirSp,trnUDirBDp,trnUDirBSp,trnUDirDp,trnUDirDSp,trnUDirPp,trnUIndBp,trnUIndBDSp,trnUIndSp,trnUIndBDp,trnUIndBSp,trnUIndDp,trnUIndDSp,trnUIndPp,trcUAllp,trcUDirp,trcUIndp,trcUBp,trcUBDSp,trcUSp,trcUBDp,trcUBSp,trcUDp,trcUDSp,trcUPp,trcUDirBp,trcUDirBDSp,trcUDirSp,trcUDirBDp,trcUDirBSp,trcUDirDp,trcUDirDSp,trcUDirPp,trcUIndBp,trcUIndBDSp,trcUIndSp,trcUIndBDp,trcUIndBSp,trcUIndDp,trcUIndDSp,trcUIndPp,trnUAll,trnUDir,trnUInd,trnUB,trnUBDS,trnUS,trnUBD,trnUBS,trnUD,trnUDS,trnUP,trnUDirB,trnUDirBDS,trnUDirS,trnUDirBD,trnUDirBS,trnUDirD,trnUDirDS,trnUDirP,trnUIndB,trnUIndBDS,trnUIndS,trnUIndBD,trnUIndBS,trnUIndD,trnUIndDS,trnUIndP,trcUAll,trcUDir,trcUInd,trcUB,trcUBDS,trcUS,trcUBD,trcUBS,trcUD,trcUDS,trcUP,trcUDirB,trcUDirBDS,trcUDirS,trcUDirBD,trcUDirBS,trcUDirD,trcUDirDS,trcUDirP,trcUIndB,trcUIndBDS,trcUIndS,trcUIndBD,trcUIndBS,trcUIndD,trcUIndDS,trcUIndP,trnAAllp,trnADirp,trnAIndp,trnABp,trnABDSp,trnASp,trnABDp,trnABSp,trnADp,trnADSp,trnAPp,trnADirBp,trnADirBDSp,trnADirSp,trnADirBDp,trnADirBSp,trnADirDp,trnADirDSp,trnADirPp,trnAIndBp,trnAIndBDSp,trnAIndSp,trnAIndBDp,trnAIndBSp,trnAIndDp,trnAIndDSp,trnAIndPp,trcAAllp,trcADirp,trcAIndp,trcABp,trcABDSp,trcASp,trcABDp,trcABSp,trcADp,trcADSp,trcAPp,trcADirBp,trcADirBDSp,trcADirSp,trcADirBDp,trcADirBSp,trcADirDp,trcADirDSp,trcADirPp,trcAIndBp,trcAIndBDSp,trcAIndSp,trcAIndBDp,trcAIndBSp,trcAIndDp,trcAIndDSp,trcAIndPp,trnAAll,trnADir,trnAInd,trnAB,trnABDS,trnAS,trnABD,trnABS,trnAD,trnADS,trnAP,trnADirB,trnADirBDS,trnADirS,trnADirBD,trnADirBS,trnADirD,trnADirDS,trnADirP,trnAIndB,trnAIndBDS,trnAIndS,trnAIndBD,trnAIndBS,trnAIndD,trnAIndDS,trnAIndP,trcAAll,trcADir,trcAInd,trcAB,trcABDS,trcAS,trcABD,trcABS,trcAD,trcADS,trcAP,trcADirB,trcADirBDS,trcADirS,trcADirBD,trcADirBS,trcADirD,trcADirDS,trcADirP,trcAIndB,trcAIndBDS,trcAIndS,trcAIndBD,trcAIndBS,trcAIndD,trcAIndDS,trcAIndP,destrOccurred,firstDestruction,firstDestructionUnsp,firstDestructionRing,firstDestructionDirFwd,firstDestructionIndFwd,firstDestructionDirBack,firstDestructionIndBack,firstDestructionDet,firstDestructionIni,firstDestructionB,firstDestructionBDS,firstDestructionS,firstDestructionBD,firstDestructionBS,firstDestructionD,firstDestructionDS,firstDestructionP,firstDestructionUnspB,firstDestructionUnspBDS,firstDestructionUnspS,firstDestructionUnspBD,firstDestructionUnspBS,firstDestructionUnspD,firstDestructionUnspDS,firstDestructionUnspP,firstDestructionRingB,firstDestructionRingBDS,firstDestructionRingS,firstDestructionRingBD,firstDestructionRingBS,firstDestructionRingD,firstDestructionRingDS,firstDestructionRingP,firstDestructionDirFwdB,firstDestructionDirFwdBDS,firstDestructionDirFwdS,firstDestructionDirFwdBD,firstDestructionDirFwdBS,firstDestructionDirFwdD,firstDestructionDirFwdDS,firstDestructionDirFwdP,firstDestructionIndFwdB,firstDestructionIndFwdBDS,firstDestructionIndFwdS,firstDestructionIndFwdBD,firstDestructionIndFwdBS,firstDestructionIndFwdD,firstDestructionIndFwdDS,firstDestructionIndFwdP,firstDestructionDirBackB,firstDestructionDirBackBDS,firstDestructionDirBackS,firstDestructionDirBackBD,firstDestructionDirBackBS,firstDestructionDirBackD,firstDestructionDirBackDS,firstDestructionDirBackP,firstDestructionIndBackB,firstDestructionIndBackBDS,firstDestructionIndBackS,firstDestructionIndBackBD,firstDestructionIndBackBS,firstDestructionIndBackD,firstDestructionIndBackDS,firstDestructionIndBackP,firstDestructionDetB,firstDestructionDetBDS,firstDestructionDetS,firstDestructionDetBD,firstDestructionDetBS,firstDestructionDetD,firstDestructionDetDS,firstDestructionDetP,firstDestructionIniB,firstDestructionIniBDS,firstDestructionIniS,firstDestructionIniBD,firstDestructionIniBS,firstDestructionIniD,firstDestructionIniDS,firstDestructionIniP,desnUAll,desnUIni,desnUUnsp,desnURing,desnUDirFwd,desnUIndFwd,desnUDirBack,desnUIndBack,desnUDet,desnUB,desnUBDS,desnUS,desnUBD,desnUBS,desnUD,desnUDS,desnUP,desnUIniB,desnUIniBDS,desnUIniS,desnUIniBD,desnUIniBS,desnUIniD,desnUIniDS,desnUIniP,desnUUnspB,desnUUnspBDS,desnUUnspS,desnUUnspBD,desnUUnspBS,desnUUnspD,desnUUnspDS,desnUUnspP,desnURingB,desnURingBDS,desnURingS,desnURingBD,desnURingBS,desnURingD,desnURingDS,desnURingP,desnUDirFwdB,desnUDirFwdBDS,desnUDirFwdS,desnUDirFwdBD,desnUDirFwdBS,desnUDirFwdD,desnUDirFwdDS,desnUDirFwdP,desnUIndFwdB,desnUIndFwdBDS,desnUIndFwdS,desnUIndFwdBD,desnUIndFwdBS,desnUIndFwdD,desnUIndFwdDS,desnUIndFwdP,desnUDirBackB,desnUDirBackBDS,desnUDirBackS,desnUDirBackBD,desnUDirBackBS,desnUDirBackD,desnUDirBackDS,desnUDirBackP,desnUIndBackB,desnUIndBackBDS,desnUIndBackS,desnUIndBackBD,desnUIndBackBS,desnUIndBackD,desnUIndBackDS,desnUIndBackP,desnUDetB,desnUDetBDS,desnUDetS,desnUDetBD,desnUDetBS,desnUDetD,desnUDetDS,desnUDetP,descUAll,descUIni,descUUnsp,descURing,descUDirFwd,descUIndFwd,descUDirBack,descUIndBack,descUDet,descUB,descUBDS,descUS,descUBD,descUBS,descUD,descUDS,descUP,descUIniB,descUIniBDS,descUIniS,descUIniBD,descUIniBS,descUIniD,descUIniDS,descUIniP,descUUnspB,descUUnspBDS,descUUnspS,descUUnspBD,descUUnspBS,descUUnspD,descUUnspDS,descUUnspP,descURingB,descURingBDS,descURingS,descURingBD,descURingBS,descURingD,descURingDS,descURingP,descUDirFwdB,descUDirFwdBDS,descUDirFwdS,descUDirFwdBD,descUDirFwdBS,descUDirFwdD,descUDirFwdDS,descUDirFwdP,descUIndFwdB,descUIndFwdBDS,descUIndFwdS,descUIndFwdBD,descUIndFwdBS,descUIndFwdD,descUIndFwdDS,descUIndFwdP,descUDirBackB,descUDirBackBDS,descUDirBackS,descUDirBackBD,descUDirBackBS,descUDirBackD,descUDirBackDS,descUDirBackP,descUIndBackB,descUIndBackBDS,descUIndBackS,descUIndBackBD,descUIndBackBS,descUIndBackD,descUIndBackDS,descUIndBackP,descUDetB,descUDetBDS,descUDetS,descUDetBD,descUDetBS,descUDetD,descUDetDS,descUDetP,desnAAll,desnAIni,desnAUnsp,desnARing,desnADirFwd,desnAIndFwd,desnADirBack,desnAIndBack,desnADet,desnAB,desnABDS,desnAS,desnABD,desnABS,desnAD,desnADS,desnAP,desnAIniB,desnAIniBDS,desnAIniS,desnAIniBD,desnAIniBS,desnAIniD,desnAIniDS,desnAIniP,desnAUnspB,desnAUnspBDS,desnAUnspS,desnAUnspBD,desnAUnspBS,desnAUnspD,desnAUnspDS,desnAUnspP,desnARingB,desnARingBDS,desnARingS,desnARingBD,desnARingBS,desnARingD,desnARingDS,desnARingP,desnADirFwdB,desnADirFwdBDS,desnADirFwdS,desnADirFwdBD,desnADirFwdBS,desnADirFwdD,desnADirFwdDS,desnADirFwdP,desnAIndFwdB,desnAIndFwdBDS,desnAIndFwdS,desnAIndFwdBD,desnAIndFwdBS,desnAIndFwdD,desnAIndFwdDS,desnAIndFwdP,desnADirBackB,desnADirBackBDS,desnADirBackS,desnADirBackBD,desnADirBackBS,desnADirBackD,desnADirBackDS,desnADirBackP,desnAIndBackB,desnAIndBackBDS,desnAIndBackS,desnAIndBackBD,desnAIndBackBS,desnAIndBackD,desnAIndBackDS,desnAIndBackP,desnADetB,desnADetBDS,desnADetS,desnADetBD,desnADetBS,desnADetD,desnADetDS,desnADetP,descAAll,descAIni,descAUnsp,descARing,descADirFwd,descAIndFwd,descADirBack,descAIndBack,descADet,descAB,descABDS,descAS,descABD,descABS,descAD,descADS,descAP,descAIniB,descAIniBDS,descAIniS,descAIniBD,descAIniBS,descAIniD,descAIniDS,descAIniP,descAUnspB,descAUnspBDS,descAUnspS,descAUnspBD,descAUnspBS,descAUnspD,descAUnspDS,descAUnspP,descARingB,descARingBDS,descARingS,descARingBD,descARingBS,descARingD,descARingDS,descARingP,descADirFwdB,descADirFwdBDS,descADirFwdS,descADirFwdBD,descADirFwdBS,descADirFwdD,descADirFwdDS,descADirFwdP,descAIndFwdB,descAIndFwdBDS,descAIndFwdS,descAIndFwdBD,descAIndFwdBS,descAIndFwdD,descAIndFwdDS,descAIndFwdP,descADirBackB,descADirBackBDS,descADirBackS,descADirBackBD,descADirBackBS,descADirBackD,descADirBackDS,descADirBackP,descAIndBackB,descAIndBackBDS,descAIndBackS,descAIndBackBD,descAIndBackBS,descAIndBackD,descAIndBackDS,descAIndBackP,descADetB,descADetBDS,descADetS,descADetBD,descADetBS,descADetD,descADetDS,descADetP,vaccOccurred,firstVaccination,firstVaccinationRing,firstVaccinationB,firstVaccinationBDS,firstVaccinationS,firstVaccinationBD,firstVaccinationBS,firstVaccinationD,firstVaccinationDS,firstVaccinationP,firstVaccinationRingB,firstVaccinationRingBDS,firstVaccinationRingS,firstVaccinationRingBD,firstVaccinationRingBS,firstVaccinationRingD,firstVaccinationRingDS,firstVaccinationRingP,vacnUAll,vacnUIni,vacnURing,vacnUB,vacnUBDS,vacnUS,vacnUBD,vacnUBS,vacnUD,vacnUDS,vacnUP,vacnUIniB,vacnUIniBDS,vacnUIniS,vacnUIniBD,vacnUIniBS,vacnUIniD,vacnUIniDS,vacnUIniP,vacnURingB,vacnURingBDS,vacnURingS,vacnURingBD,vacnURingBS,vacnURingD,vacnURingDS,vacnURingP,vaccUAll,vaccUIni,vaccURing,vaccUB,vaccUBDS,vaccUS,vaccUBD,vaccUBS,vaccUD,vaccUDS,vaccUP,vaccUIniB,vaccUIniBDS,vaccUIniS,vaccUIniBD,vaccUIniBS,vaccUIniD,vaccUIniDS,vaccUIniP,vaccURingB,vaccURingBDS,vaccURingS,vaccURingBD,vaccURingBS,vaccURingD,vaccURingDS,vaccURingP,vacnAAll,vacnAIni,vacnARing,vacnAB,vacnABDS,vacnAS,vacnABD,vacnABS,vacnAD,vacnADS,vacnAP,vacnAIniB,vacnAIniBDS,vacnAIniS,vacnAIniBD,vacnAIniBS,vacnAIniD,vacnAIniDS,vacnAIniP,vacnARingB,vacnARingBDS,vacnARingS,vacnARingBD,vacnARingBS,vacnARingD,vacnARingDS,vacnARingP,vaccAAll,vaccAIni,vaccARing,vaccAB,vaccABDS,vaccAS,vaccABD,vaccABS,vaccAD,vaccADS,vaccAP,vaccAIniB,vaccAIniBDS,vaccAIniS,vaccAIniBD,vaccAIniBS,vaccAIniD,vaccAIniDS,vaccAIniP,vaccARingB,vaccARingBDS,vaccARingS,vaccARingBD,vaccARingBS,vaccARingD,vaccARingDS,vaccARingP,deswUAll,deswUB,deswUBDS,deswUS,deswUBD,deswUBS,deswUD,deswUDS,deswUP,deswAAll,deswAB,deswABDS,deswAS,deswABD,deswABS,deswAD,deswADS,deswAP,deswUMax,deswUMaxDay,deswAMax,deswAMaxDay,deswUTimeMax,deswUTimeAvg,deswUDaysInQueue,deswADaysInQueue,tstnUTruePos,tstnUTruePosB,tstnUTruePosBDS,tstnUTruePosS,tstnUTruePosBD,tstnUTruePosBS,tstnUTruePosD,tstnUTruePosDS,tstnUTruePosP,tstnUTrueNeg,tstnUTrueNegB,tstnUTrueNegBDS,tstnUTrueNegS,tstnUTrueNegBD,tstnUTrueNegBS,tstnUTrueNegD,tstnUTrueNegDS,tstnUTrueNegP,tstnUFalsePos,tstnUFalsePosB,tstnUFalsePosBDS,tstnUFalsePosS,tstnUFalsePosBD,tstnUFalsePosBS,tstnUFalsePosD,tstnUFalsePosDS,tstnUFalsePosP,tstnUFalseNeg,tstnUFalseNegB,tstnUFalseNegBDS,tstnUFalseNegS,tstnUFalseNegBD,tstnUFalseNegBS,tstnUFalseNegD,tstnUFalseNegDS,tstnUFalseNegP,tstcUAll,tstcUDirFwd,tstcUIndFwd,tstcUDirBack,tstcUIndBack,tstcUB,tstcUBDS,tstcUS,tstcUBD,tstcUBS,tstcUD,tstcUDS,tstcUP,tstcUDirFwdB,tstcUDirFwdBDS,tstcUDirFwdS,tstcUDirFwdBD,tstcUDirFwdBS,tstcUDirFwdD,tstcUDirFwdDS,tstcUDirFwdP,tstcUIndFwdB,tstcUIndFwdBDS,tstcUIndFwdS,tstcUIndFwdBD,tstcUIndFwdBS,tstcUIndFwdD,tstcUIndFwdDS,tstcUIndFwdP,tstcUDirBackB,tstcUDirBackBDS,tstcUDirBackS,tstcUDirBackBD,tstcUDirBackBS,tstcUDirBackD,tstcUDirBackDS,tstcUDirBackP,tstcUIndBackB,tstcUIndBackBDS,tstcUIndBackS,tstcUIndBackBD,tstcUIndBackBS,tstcUIndBackD,tstcUIndBackDS,tstcUIndBackP,tstcUTruePos,tstcUTruePosB,tstcUTruePosBDS,tstcUTruePosS,tstcUTruePosBD,tstcUTruePosBS,tstcUTruePosD,tstcUTruePosDS,tstcUTruePosP,tstcUTrueNeg,tstcUTrueNegB,tstcUTrueNegBDS,tstcUTrueNegS,tstcUTrueNegBD,tstcUTrueNegBS,tstcUTrueNegD,tstcUTrueNegDS,tstcUTrueNegP,tstcUFalsePos,tstcUFalsePosB,tstcUFalsePosBDS,tstcUFalsePosS,tstcUFalsePosBD,tstcUFalsePosBS,tstcUFalsePosD,tstcUFalsePosDS,tstcUFalsePosP,tstcUFalseNeg,tstcUFalseNegB,tstcUFalseNegBDS,tstcUFalseNegS,tstcUFalseNegBD,tstcUFalseNegBS,tstcUFalseNegD,tstcUFalseNegDS,tstcUFalseNegP,tstcAAll,tstcADirFwd,tstcAIndFwd,tstcADirBack,tstcAIndBack,tstcAB,tstcABDS,tstcAS,tstcABD,tstcABS,tstcAD,tstcADS,tstcAP,tstcADirFwdB,tstcADirFwdBDS,tstcADirFwdS,tstcADirFwdBD,tstcADirFwdBS,tstcADirFwdD,tstcADirFwdDS,tstcADirFwdP,tstcAIndFwdB,tstcAIndFwdBDS,tstcAIndFwdS,tstcAIndFwdBD,tstcAIndFwdBS,tstcAIndFwdD,tstcAIndFwdDS,tstcAIndFwdP,tstcADirBackB,tstcADirBackBDS,tstcADirBackS,tstcADirBackBD,tstcADirBackBS,tstcADirBackD,tstcADirBackDS,tstcADirBackP,tstcAIndBackB,tstcAIndBackBDS,tstcAIndBackS,tstcAIndBackBD,tstcAIndBackBS,tstcAIndBackD,tstcAIndBackDS,tstcAIndBackP,detOccurred,firstDetection,firstDetectionClin,firstDetectionTest,firstDetectionB,firstDetectionBDS,firstDetectionS,firstDetectionBD,firstDetectionBS,firstDetectionD,firstDetectionDS,firstDetectionP,firstDetectionClinB,firstDetectionClinBDS,firstDetectionClinS,firstDetectionClinBD,firstDetectionClinBS,firstDetectionClinD,firstDetectionClinDS,firstDetectionClinP,firstDetectionTestB,firstDetectionTestBDS,firstDetectionTestS,firstDetectionTestBD,firstDetectionTestBS,firstDetectionTestD,firstDetectionTestDS,firstDetectionTestP,lastDetection,lastDetectionClin,lastDetectionTest,lastDetectionB,lastDetectionBDS,lastDetectionS,lastDetectionBD,lastDetectionBS,lastDetectionD,lastDetectionDS,lastDetectionP,lastDetectionClinB,lastDetectionClinBDS,lastDetectionClinS,lastDetectionClinBD,lastDetectionClinBS,lastDetectionClinD,lastDetectionClinDS,lastDetectionClinP,lastDetectionTestB,lastDetectionTestBDS,lastDetectionTestS,lastDetectionTestBD,lastDetectionTestBS,lastDetectionTestD,lastDetectionTestDS,lastDetectionTestP,detnUAll,detnUClin,detnUTest,detnUB,detnUBDS,detnUS,detnUBD,detnUBS,detnUD,detnUDS,detnUP,detnUClinB,detnUClinBDS,detnUClinS,detnUClinBD,detnUClinBS,detnUClinD,detnUClinDS,detnUClinP,detnUTestB,detnUTestBDS,detnUTestS,detnUTestBD,detnUTestBS,detnUTestD,detnUTestDS,detnUTestP,detnAAll,detnAClin,detnATest,detnAB,detnABDS,detnAS,detnABD,detnABS,detnAD,detnADS,detnAP,detnAClinB,detnAClinBDS,detnAClinS,detnAClinBD,detnAClinBS,detnAClinD,detnAClinDS,detnAClinP,detnATestB,detnATestBDS,detnATestS,detnATestBD,detnATestBS,detnATestD,detnATestDS,detnATestP,detcUAll,detcUClin,detcUTest,detcUB,detcUBDS,detcUS,detcUBD,detcUBS,detcUD,detcUDS,detcUP,detcUClinB,detcUClinBDS,detcUClinS,detcUClinBD,detcUClinBS,detcUClinD,detcUClinDS,detcUClinP,detcUTestB,detcUTestBDS,detcUTestS,detcUTestBD,detcUTestBS,detcUTestD,detcUTestDS,detcUTestP,detcUqAll,detcAAll,detcAClin,detcATest,detcAB,detcABDS,detcAS,detcABD,detcABS,detcAD,detcADS,detcAP,detcAClinB,detcAClinBDS,detcAClinS,detcAClinBD,detcAClinBS,detcAClinD,detcAClinDS,detcAClinP,detcATestB,detcATestBDS,detcATestS,detcATestBD,detcATestBS,detcATestD,detcATestDS,detcATestP,expnUAll,expnUDir,expnUInd,expnUAir,expnUB,expnUBDS,expnUS,expnUBD,expnUBS,expnUD,expnUDS,expnUP,expnUDirB,expnUDirBDS,expnUDirS,expnUDirBD,expnUDirBS,expnUDirD,expnUDirDS,expnUDirP,expnUIndB,expnUIndBDS,expnUIndS,expnUIndBD,expnUIndBS,expnUIndD,expnUIndDS,expnUIndP,expnUAirB,expnUAirBDS,expnUAirS,expnUAirBD,expnUAirBS,expnUAirD,expnUAirDS,expnUAirP,expcUAll,expcUDir,expcUInd,expcUAir,expcUB,expcUBDS,expcUS,expcUBD,expcUBS,expcUD,expcUDS,expcUP,expcUDirB,expcUDirBDS,expcUDirS,expcUDirBD,expcUDirBS,expcUDirD,expcUDirDS,expcUDirP,expcUIndB,expcUIndBDS,expcUIndS,expcUIndBD,expcUIndBS,expcUIndD,expcUIndDS,expcUIndP,expcUAirB,expcUAirBDS,expcUAirS,expcUAirBD,expcUAirBS,expcUAirD,expcUAirDS,expcUAirP,expnAAll,expnADir,expnAInd,expnAAir,expnAB,expnABDS,expnAS,expnABD,expnABS,expnAD,expnADS,expnAP,expnADirB,expnADirBDS,expnADirS,expnADirBD,expnADirBS,expnADirD,expnADirDS,expnADirP,expnAIndB,expnAIndBDS,expnAIndS,expnAIndBD,expnAIndBS,expnAIndD,expnAIndDS,expnAIndP,expnAAirB,expnAAirBDS,expnAAirS,expnAAirBD,expnAAirBS,expnAAirD,expnAAirDS,expnAAirP,expcAAll,expcADir,expcAInd,expcAAir,expcAB,expcABDS,expcAS,expcABD,expcABS,expcAD,expcADS,expcAP,expcADirB,expcADirBDS,expcADirS,expcADirBD,expcADirBS,expcADirD,expcADirDS,expcADirP,expcAIndB,expcAIndBDS,expcAIndS,expcAIndBD,expcAIndBS,expcAIndD,expcAIndDS,expcAIndP,expcAAirB,expcAAirBDS,expcAAirS,expcAAirBD,expcAAirBS,expcAAirD,expcAAirDS,expcAAirP,adqnUAll,adqcUAll,exmnUAll,exmnURing,exmnUDirFwd,exmnUIndFwd,exmnUDirBack,exmnUIndBack,exmnUDet,exmnUB,exmnUBDS,exmnUS,exmnUBD,exmnUBS,exmnUD,exmnUDS,exmnUP,exmnURingB,exmnURingBDS,exmnURingS,exmnURingBD,exmnURingBS,exmnURingD,exmnURingDS,exmnURingP,exmnUDirFwdB,exmnUDirFwdBDS,exmnUDirFwdS,exmnUDirFwdBD,exmnUDirFwdBS,exmnUDirFwdD,exmnUDirFwdDS,exmnUDirFwdP,exmnUIndFwdB,exmnUIndFwdBDS,exmnUIndFwdS,exmnUIndFwdBD,exmnUIndFwdBS,exmnUIndFwdD,exmnUIndFwdDS,exmnUIndFwdP,exmnUDirBackB,exmnUDirBackBDS,exmnUDirBackS,exmnUDirBackBD,exmnUDirBackBS,exmnUDirBackD,exmnUDirBackDS,exmnUDirBackP,exmnUIndBackB,exmnUIndBackBDS,exmnUIndBackS,exmnUIndBackBD,exmnUIndBackBS,exmnUIndBackD,exmnUIndBackDS,exmnUIndBackP,exmnUDetB,exmnUDetBDS,exmnUDetS,exmnUDetBD,exmnUDetBS,exmnUDetD,exmnUDetDS,exmnUDetP,exmnAAll,exmnARing,exmnADirFwd,exmnAIndFwd,exmnADirBack,exmnAIndBack,exmnADet,exmnAB,exmnABDS,exmnAS,exmnABD,exmnABS,exmnAD,exmnADS,exmnAP,exmnARingB,exmnARingBDS,exmnARingS,exmnARingBD,exmnARingBS,exmnARingD,exmnARingDS,exmnARingP,exmnADirFwdB,exmnADirFwdBDS,exmnADirFwdS,exmnADirFwdBD,exmnADirFwdBS,exmnADirFwdD,exmnADirFwdDS,exmnADirFwdP,exmnAIndFwdB,exmnAIndFwdBDS,exmnAIndFwdS,exmnAIndFwdBD,exmnAIndFwdBS,exmnAIndFwdD,exmnAIndFwdDS,exmnAIndFwdP,exmnADirBackB,exmnADirBackBDS,exmnADirBackS,exmnADirBackBD,exmnADirBackBS,exmnADirBackD,exmnADirBackDS,exmnADirBackP,exmnAIndBackB,exmnAIndBackBDS,exmnAIndBackS,exmnAIndBackBD,exmnAIndBackBS,exmnAIndBackD,exmnAIndBackDS,exmnAIndBackP,exmnADetB,exmnADetBDS,exmnADetS,exmnADetBD,exmnADetBS,exmnADetD,exmnADetDS,exmnADetP,exmcUAll,exmcURing,exmcUDirFwd,exmcUIndFwd,exmcUDirBack,exmcUIndBack,exmcUDet,exmcUB,exmcUBDS,exmcUS,exmcUBD,exmcUBS,exmcUD,exmcUDS,exmcUP,exmcURingB,exmcURingBDS,exmcURingS,exmcURingBD,exmcURingBS,exmcURingD,exmcURingDS,exmcURingP,exmcUDirFwdB,exmcUDirFwdBDS,exmcUDirFwdS,exmcUDirFwdBD,exmcUDirFwdBS,exmcUDirFwdD,exmcUDirFwdDS,exmcUDirFwdP,exmcUIndFwdB,exmcUIndFwdBDS,exmcUIndFwdS,exmcUIndFwdBD,exmcUIndFwdBS,exmcUIndFwdD,exmcUIndFwdDS,exmcUIndFwdP,exmcUDirBackB,exmcUDirBackBDS,exmcUDirBackS,exmcUDirBackBD,exmcUDirBackBS,exmcUDirBackD,exmcUDirBackDS,exmcUDirBackP,exmcUIndBackB,exmcUIndBackBDS,exmcUIndBackS,exmcUIndBackBD,exmcUIndBackBS,exmcUIndBackD,exmcUIndBackDS,exmcUIndBackP,exmcUDetB,exmcUDetBDS,exmcUDetS,exmcUDetBD,exmcUDetBS,exmcUDetD,exmcUDetDS,exmcUDetP,exmcAAll,exmcARing,exmcADirFwd,exmcAIndFwd,exmcADirBack,exmcAIndBack,exmcADet,exmcAB,exmcABDS,exmcAS,exmcABD,exmcABS,exmcAD,exmcADS,exmcAP,exmcARingB,exmcARingBDS,exmcARingS,exmcARingBD,exmcARingBS,exmcARingD,exmcARingDS,exmcARingP,exmcADirFwdB,exmcADirFwdBDS,exmcADirFwdS,exmcADirFwdBD,exmcADirFwdBS,exmcADirFwdD,exmcADirFwdDS,exmcADirFwdP,exmcAIndFwdB,exmcAIndFwdBDS,exmcAIndFwdS,exmcAIndFwdBD,exmcAIndFwdBS,exmcAIndFwdD,exmcAIndFwdDS,exmcAIndFwdP,exmcADirBackB,exmcADirBackBDS,exmcADirBackS,exmcADirBackBD,exmcADirBackBS,exmcADirBackD,exmcADirBackDS,exmcADirBackP,exmcAIndBackB,exmcAIndBackBDS,exmcAIndBackS,exmcAIndBackBD,exmcAIndBackBS,exmcAIndBackD,exmcAIndBackDS,exmcAIndBackP,exmcADetB,exmcADetBDS,exmcADetS,exmcADetBD,exmcADetBS,exmcADetD,exmcADetDS,exmcADetP\".split(',')\n",
      "output_line = '5,9,,0,0,0,0,0,0,0,0,0,0,0,0,0,0,0,0,0,0,0,0,0,0,0,0,0,0,0,0,0,0,0,0,0,0,0,0,0,0,0,0,0,0,0,0,0,0,0,0,0,1,0,0,0,0,0,0,0,0,0,0,0,0,0,0,0,0,0,0,0,0,0,0,0,0,0,0,0,0,0,0,0,0,0,0,0,0,1,0,0,0,0,0,0,0,0,0,0,0,0,0,0,0,0,0,0,0,0,0,0,0,0,0,0,0,0,0,0,0,0,0,0,0,0,0,0,0,0,0,0,0,0,0,0,0,0,0,0,0,0,226,0,0,0,0,0,0,0,0,0,0,0,0,0,0,0,0,0,0,0,0,0,0,0,0,0,0,0,0,0,0,0,0,0,0,0,0,226,0,0,0,,,,20,0,1,0,0,0,0,10,0,0,0,0,0,0,1,0,0,0,0,0,0,1,0,0,0,0,0,0,3,0,0,0,0,0,0,2,0,1,0,0,0,0,1,0,0,0,0,0,0,1,0,0,0,0,0,0,1,0,0,0,0,0,0,2026,0,226,0,0,0,0,1082,0,0,0,0,0,0,109,0,0,0,0,0,0,84,0,0,0,0,0,0,114,0,0,0,0,0,0,214,0,226,0,0,0,0,92,0,0,0,0,0,0,192,0,0,0,0,0,0,139,0,0,0,0,0,0,1,,0,0,0,0,0,0,0,0,0,0,4328,436,336,456,856,368,768,556,0,,0,,,,0,0,0,0,0,0,,,,,0,0,0,0,,,,,0,0,0,0,21,0,0,0,0,0,0,0,0,0,0,0,0,0,0,0,0,10,1,1,3,3,1,1,1,0,0,189,0,0,0,0,0,0,0,0,0,0,0,0,0,0,0,0,90,9,9,27,27,9,9,9,0,0,20268,0,0,0,0,0,0,0,0,0,0,0,0,0,0,0,0,9738,981,756,1026,3960,828,1728,1251,0,0,0,0,0,0,0,0,0,0,0,0,0,0,0,0,0,0,0,0,0,0,0,0,0,0,0,0,0,0,0,0,0,0,0,0,0,0,0,0,0,0,0,0,0,0,0,0,0,0,0,0,0,0,0,0,0,0,0,0,0,0,0,0,0,0,0,0,0,0,0,0,0,0,0,0,0,0,0,0,0,0,0,0,0,0,0,0,0,0,0,0,0,0,0,0,0,0,0,0,0,0,0,0,0,0,0,0,0,0,0,0,0,0,0,0,0,0,0,0,0,0,0,0,0,0,0,0,0,0,0,0,0,0,0,0,0,0,0,0,0,0,0,0,0,0,0,0,0,0,0,0,0,0,0,0,0,0,0,0,0,0,0,0,0,0,0,0,0,0,0,0,0,0,0,0,0,0,0,0,0,0,0,0,0,0,0,0,0,0,0,0,0,0,0,0,0,0,0,0,0,0,0,0,0,0,0,0,0,0,0,0,0,0,0,0,0,,,,,,,,,,,,,,,,,,,,,,,,,,,,,,,,,,,,,,,,,,,,,,,,,,,,,,,,,,,,,,,,,,,,,,,,,,,,,,,,,,0,0,0,0,0,0,0,0,0,0,0,0,0,0,0,0,0,0,0,0,0,0,0,0,0,0,0,0,0,0,0,0,0,0,0,0,0,0,0,0,0,0,0,0,0,0,0,0,0,0,0,0,0,0,0,0,0,0,0,0,0,0,0,0,0,0,0,0,0,0,0,0,0,0,0,0,0,0,0,0,0,0,0,0,0,0,0,0,0,0,0,0,0,0,0,0,0,0,0,0,0,0,0,0,0,0,0,0,0,0,0,0,0,0,0,0,0,0,0,0,0,0,0,0,0,0,0,0,0,0,0,0,0,0,0,0,0,0,0,0,0,0,0,0,0,0,0,0,0,0,0,0,0,0,0,0,0,0,0,0,0,0,0,0,0,0,0,0,0,0,0,0,0,0,0,0,0,0,0,0,0,0,0,0,0,0,0,0,0,0,0,0,0,0,0,0,0,0,0,0,0,0,0,0,0,0,0,0,0,0,0,0,0,0,0,0,0,0,0,0,0,0,0,0,0,0,0,0,0,0,0,0,0,0,0,0,0,0,0,0,0,0,0,0,0,0,0,0,0,0,0,0,0,0,0,0,0,0,0,0,0,0,0,0,0,0,0,0,0,0,0,0,0,0,0,0,0,0,0,0,0,0,0,0,0,0,0,0,0,0,0,0,0,0,0,0,0,0,0,0,0,0,0,0,0,0,0,0,0,0,0,0,0,0,0,0,0,0,0,0,0,0,0,0,0,,,,,,,,,,,,,,,,,,,0,0,0,0,0,0,0,0,0,0,0,0,0,0,0,0,0,0,0,0,0,0,0,0,0,0,0,0,0,0,0,0,0,0,0,0,0,0,0,0,0,0,0,0,0,0,0,0,0,0,0,0,0,0,0,0,0,0,0,0,0,0,0,0,0,0,0,0,0,0,0,0,0,0,0,0,0,0,0,0,0,0,0,0,0,0,0,0,0,0,0,0,0,0,0,0,0,0,0,0,0,0,0,0,0,0,0,0,0,0,0,0,0,0,0,0,0,0,0,0,0,0,0,0,0,0,0,,0,,,,0,0,0,0,0,0,0,0,0,0,0,0,0,0,0,0,0,0,0,0,0,0,0,0,0,0,0,0,0,0,0,0,0,0,0,0,0,0,0,0,0,0,0,0,0,0,0,0,0,0,0,0,0,0,0,0,0,0,0,0,0,0,0,0,0,0,0,0,0,0,0,0,0,0,0,0,0,0,0,0,0,0,0,0,0,0,0,0,0,0,0,0,0,0,0,0,0,0,0,0,0,0,0,0,0,0,0,0,0,0,0,0,0,0,0,0,0,0,0,0,0,0,0,0,0,0,0,0,0,0,0,0,0,0,0,0,0,0,0,0,0,0,0,0,0,0,0,0,0,0,0,0,0,0,0,0,0,0,0,0,0,0,0,0,0,,,,,,,,,,,,,,,,,,,,,,,,,,,,,,,,,,,,,,,,,,,,,,,,,,,,,,,0,0,0,0,0,0,0,0,0,0,0,0,0,0,0,0,0,0,0,0,0,0,0,0,0,0,0,0,0,0,0,0,0,0,0,0,0,0,0,0,0,0,0,0,0,0,0,0,0,0,0,0,0,0,0,0,0,0,0,0,0,0,0,0,0,0,0,0,0,0,0,0,0,0,0,0,0,0,0,0,0,0,0,0,0,0,0,0,0,0,0,0,0,0,0,0,0,0,0,0,0,0,0,0,0,0,0,0,0,0,0,0,0,0,0,0,0,0,0,0,0,0,0,0,0,0,0,0,0,0,0,0,0,0,0,0,0,0,0,0,0,0,0,0,0,0,0,0,0,0,0,0,0,0,0,0,0,0,0,0,0,0,0,0,0,0,0,0,0,0,0,0,0,0,0,0,0,0,0,0,0,0,0,0,0,0,0,0,0,0,0,0,0,0,0,0,0,0,0,0,0,0,0,0,0,0,0,0,0,0,0,0,0,0,0,0,0,0,0,0,0,0,0,0,0,0,0,0,0,0,0,0,0,0,0,0,0,0,0,0,0,0,0,0,0,0,0,0,0,0,0,0,0,0,0,0,0,0,0,0,0,0,0,0,0,0,0,0,0,0,0,0,0,0,0,0,0,0,0,0,0,0,0,0,0,0,0,0,0,0,0,0,0,0,0,0,0,0,0,0,0,0,0,0,0,0,0,0,0,0,0,0,0,0,0,0,0,0,0,0,0,0,0,0,0,0,0,0,0,0,0,0,0,0,0,0,0,0,0,0,0,0,0,0,0,0,0,0,0,0,0,0,0,0,0,0,0,0,0,0,0,0,0,0,0,0,0,0,0,0,0,0,0,0,0,0,0,0,0,0,0,0,0,0,0,0,0,0,0,0,0,0,0,0,0,0,0,0,0,0,0,0,0,0,0,0,0,0,0,0,0,0,0,0,0,0,0,0,0,0,0,0,0,0,0,0,0,0,0,0,0,0,0,0,0,0,0,0,0,0,0,0,0,0,0,0,0,0,0,0,0,0,0,0,0,0,0,0,0,0,0,0,0,0,0,0,0,0,0,0,0,0,0,0,0,0,0,0,0,0,0,0,0,0,0,0,0,0,0,0,0,0,0,0,0,0,0,0,0,0,0,0,0,0,0,0,0'.split(',')"
     ],
     "language": "python",
     "prompt_number": 22
    },
    {
     "cell_type": "code",
     "metadata": {},
     "outputs": [
      {
       "output_type": "stream",
       "stream": "stdout",
       "text": [
        "1938 1938\n"
       ]
      }
     ],
     "input": [
      "print(len(headers), len(output_line))"
     ],
     "language": "python",
     "prompt_number": 23
    },
    {
     "cell_type": "code",
     "metadata": {},
     "outputs": [
      {
       "output_type": "pyout",
       "prompt_number": 24,
       "text": [
        "'Run=5, Day=9, outbreakDuration=0, infnUAll=0, infnUDir=0, infnUInd=0, infnUAir=0, infnUIni=0, infnUB=0, infnUBDS=0, infnUS=0, infnUBD=0, infnUBS=0, infnUD=0, infnUDS=0, infnUP=0, infnUDirB=0, infnUDirBDS=0, infnUDirS=0, infnUDirBD=0, infnUDirBS=0, infnUDirD=0, infnUDirDS=0, infnUDirP=0, infnUIndB=0, infnUIndBDS=0, infnUIndS=0, infnUIndBD=0, infnUIndBS=0, infnUIndD=0, infnUIndDS=0, infnUIndP=0, infnUAirB=0, infnUAirBDS=0, infnUAirS=0, infnUAirBD=0, infnUAirBS=0, infnUAirD=0, infnUAirDS=0, infnUAirP=0, infnUIniB=0, infnUIniBDS=0, infnUIniS=0, infnUIniBD=0, infnUIniBS=0, infnUIniD=0, infnUIniDS=0, infnUIniP=0, infcUAll=0, infcUDir=0, infcUInd=0, infcUAir=0, infcUIni=1, infcUB=0, infcUBDS=0, infcUS=0, infcUBD=0, infcUBS=0, infcUD=0, infcUDS=0, infcUP=0, infcUDirB=0, infcUDirBDS=0, infcUDirS=0, infcUDirBD=0, infcUDirBS=0, infcUDirD=0, infcUDirDS=0, infcUDirP=0, infcUIndB=0, infcUIndBDS=0, infcUIndS=0, infcUIndBD=0, infcUIndBS=0, infcUIndD=0, infcUIndDS=0, infcUIndP=0, infcUAirB=0, infcUAirB'"
       ],
       "metadata": {}
      }
     ],
     "input": [
      "str(', '.join(assignments for assignments in [x[0]+ '='+ (x[1] if x[1] != '' else '0') for x in zip(headers, output_line)]))[:1000]"
     ],
     "language": "python",
     "prompt_number": 24
    },
    {
     "cell_type": "code",
     "metadata": {},
     "outputs": [
      {
       "output_type": "stream",
       "stream": "stdout",
       "text": [
        "yes\n"
       ]
      }
     ],
     "input": [
      "if '0': print('yes')"
     ],
     "language": "python",
     "prompt_number": 25
    },
    {
     "cell_type": "code",
     "metadata": {},
     "outputs": [
      {
       "output_type": "pyout",
       "prompt_number": 26,
       "text": [
        "{1: 'a', 2: 'b'}"
       ],
       "metadata": {}
      }
     ],
     "input": [
      "import ast\n",
      "ast.literal_eval(str({1:'a', 2:'b'}))"
     ],
     "language": "python",
     "prompt_number": 26
    },
    {
     "cell_type": "code",
     "metadata": {},
     "outputs": [],
     "input": [
      ""
     ],
     "language": "python",
     "prompt_number": 26
    },
    {
     "cell_type": "code",
     "metadata": {},
     "outputs": [],
     "input": [
      ""
     ],
     "language": "python",
     "prompt_number": 26
    },
    {
     "cell_type": "code",
     "metadata": {},
     "outputs": [],
     "input": [
      ""
     ],
     "language": "python",
     "prompt_number": 26
    },
    {
     "cell_type": "code",
     "metadata": {},
     "outputs": [
      {
       "output_type": "stream",
       "stream": "stdout",
       "text": [
        "zoneAreaHighRisk\n",
        "zoneAreaMediumRisk\n",
        "zonePerimeterHighRisk\n",
        "zonePerimeterMediumRisk\n",
        "maxZoneAreaHighRisk\n",
        "maxZoneAreaMediumRisk\n",
        "maxZoneAreaDayHighRisk\n",
        "maxZoneAreaDayMediumRisk\n",
        "finalZoneAreaHighRisk\n",
        "finalZoneAreaMediumRisk\n",
        "maxZonePerimeterHighRisk\n",
        "maxZonePerimeterMediumRisk\n",
        "maxZonePerimeterDayHighRisk\n",
        "maxZonePerimeterDayMediumRisk\n",
        "finalZonePerimeterHighRisk\n",
        "finalZonePerimeterMediumRisk\n",
        "unitsInZoneHighRisk\n",
        "unitsInZoneMediumRisk\n",
        "unitsInZoneBackground\n",
        "unitsInZoneHighRiskB\n",
        "unitsInZoneHighRiskBDS\n",
        "unitsInZoneHighRiskS\n",
        "unitsInZoneHighRiskBD\n",
        "unitsInZoneHighRiskBS\n",
        "unitsInZoneHighRiskD\n",
        "unitsInZoneHighRiskDS\n",
        "unitsInZoneHighRiskP\n",
        "unitsInZoneMediumRiskB\n",
        "unitsInZoneMediumRiskBDS\n",
        "unitsInZoneMediumRiskS\n",
        "unitsInZoneMediumRiskBD\n",
        "unitsInZoneMediumRiskBS\n",
        "unitsInZoneMediumRiskD\n",
        "unitsInZoneMediumRiskDS\n",
        "unitsInZoneMediumRiskP\n",
        "unitsInZoneBackgroundB\n",
        "unitsInZoneBackgroundBDS\n",
        "unitsInZoneBackgroundS\n",
        "unitsInZoneBackgroundBD\n",
        "unitsInZoneBackgroundBS\n",
        "unitsInZoneBackgroundD\n",
        "unitsInZoneBackgroundDS\n",
        "unitsInZoneBackgroundP\n",
        "unitDaysInZoneHighRisk\n",
        "unitDaysInZoneMediumRisk\n",
        "unitDaysInZoneBackground\n",
        "unitDaysInZoneHighRiskB\n",
        "unitDaysInZoneHighRiskBDS\n",
        "unitDaysInZoneHighRiskS\n",
        "unitDaysInZoneHighRiskBD\n",
        "unitDaysInZoneHighRiskBS\n",
        "unitDaysInZoneHighRiskD\n",
        "unitDaysInZoneHighRiskDS\n",
        "unitDaysInZoneHighRiskP\n",
        "unitDaysInZoneMediumRiskB\n",
        "unitDaysInZoneMediumRiskBDS\n",
        "unitDaysInZoneMediumRiskS\n",
        "unitDaysInZoneMediumRiskBD\n",
        "unitDaysInZoneMediumRiskBS\n",
        "unitDaysInZoneMediumRiskD\n",
        "unitDaysInZoneMediumRiskDS\n",
        "unitDaysInZoneMediumRiskP\n",
        "unitDaysInZoneBackgroundB\n",
        "unitDaysInZoneBackgroundBDS\n",
        "unitDaysInZoneBackgroundS\n",
        "unitDaysInZoneBackgroundBD\n",
        "unitDaysInZoneBackgroundBS\n",
        "unitDaysInZoneBackgroundD\n",
        "unitDaysInZoneBackgroundDS\n",
        "unitDaysInZoneBackgroundP\n",
        "animalDaysInZoneHighRisk\n",
        "animalDaysInZoneMediumRisk\n",
        "animalDaysInZoneBackground\n",
        "animalDaysInZoneHighRiskB\n",
        "animalDaysInZoneHighRiskBDS\n",
        "animalDaysInZoneHighRiskS\n",
        "animalDaysInZoneHighRiskBD\n",
        "animalDaysInZoneHighRiskBS\n",
        "animalDaysInZoneHighRiskD\n",
        "animalDaysInZoneHighRiskDS\n",
        "animalDaysInZoneHighRiskP\n",
        "animalDaysInZoneMediumRiskB\n",
        "animalDaysInZoneMediumRiskBDS\n",
        "animalDaysInZoneMediumRiskS\n",
        "animalDaysInZoneMediumRiskBD\n",
        "animalDaysInZoneMediumRiskBS\n",
        "animalDaysInZoneMediumRiskD\n",
        "animalDaysInZoneMediumRiskDS\n",
        "animalDaysInZoneMediumRiskP\n",
        "animalDaysInZoneBackgroundB\n",
        "animalDaysInZoneBackgroundBDS\n",
        "animalDaysInZoneBackgroundS\n",
        "animalDaysInZoneBackgroundBD\n",
        "animalDaysInZoneBackgroundBS\n",
        "animalDaysInZoneBackgroundD\n",
        "animalDaysInZoneBackgroundDS\n",
        "animalDaysInZoneBackgroundP\n"
       ]
      }
     ],
     "input": [
      "lx = substr_indices(headers, 'zon') + substr_indices(headers, 'Zon')\n",
      "print('\\n'.join([headers[x] for x in lx]))"
     ],
     "language": "python",
     "prompt_number": 27
    },
    {
     "cell_type": "code",
     "metadata": {},
     "outputs": [
      {
       "output_type": "stream",
       "stream": "stdout",
       "text": [
        "1938\n"
       ]
      }
     ],
     "input": [
      "print(len(headers))\n",
      "# for h in headers:\n",
      "#     print(h)"
     ],
     "language": "python",
     "prompt_number": 28
    },
    {
     "cell_type": "code",
     "metadata": {},
     "outputs": [
      {
       "output_type": "pyout",
       "prompt_number": 29,
       "text": [
        "\"    day = models.IntegerField(blank=True, null=True, db_column='day', verbose_name=printable_name('day'), \""
       ],
       "metadata": {}
      }
     ],
     "input": [
      "new_code['EpidemicCurves'][3]"
     ],
     "language": "python",
     "prompt_number": 29
    },
    {
     "cell_type": "code",
     "metadata": {},
     "outputs": [
      {
       "output_type": "pyout",
       "prompt_number": 30,
       "text": [
        "False"
       ],
       "metadata": {}
      }
     ],
     "input": [
      "import re\n",
      "s = 'a number of things said'\n",
      "m = bool(re.match(r'aasdasd (\\w+) of', s))\n",
      "m"
     ],
     "language": "python",
     "prompt_number": 30
    },
    {
     "cell_type": "code",
     "metadata": {},
     "outputs": [],
     "input": [
      "headers = \"Run,Day,outbreakDuration,infnUAll,infnUDir,infnUInd,infnUAir,infnUIni,infnUCattle,infnU_Dogsheep_,infnUSwine,infnU_Bulldog_,infnU_Brownsheep_,infnU_Doe_,infnU_Pig_,infnUDirCattle,infnUDir_Dogsheep_,infnUDirSwine,infnUDir_Bulldog_,infnUDir_Brownsheep_,infnUDir_Doe_,infnUDir_Pig_,infnUIndCattle,infnUInd_Dogsheep_,infnUIndSwine,infnUInd_Bulldog_,infnUInd_Brownsheep_,infnUInd_Doe_,infnUInd_Pig_,infnUAirCattle,infnUAir_Dogsheep_,infnUAirSwine,infnUAir_Bulldog_,infnUAir_Brownsheep_,infnUAir_Doe_,infnUAir_Pig_,infnUIniCattle,infnUIni_Dogsheep_,infnUIniSwine,infnUIni_Bulldog_,infnUIni_Brownsheep_,infnUIni_Doe_,infnUIni_Pig_,infcUAll,infcUDir,infcUInd,infcUAir,infcUIni,infcUCattle,infcU_Dogsheep_,infcUSwine,infcU_Bulldog_,infcU_Brownsheep_,infcU_Doe_,infcU_Pig_,infcUDirCattle,infcUDir_Dogsheep_,infcUDirSwine,infcUDir_Bulldog_,infcUDir_Brownsheep_,infcUDir_Doe_,infcUDir_Pig_,infcUIndCattle,infcUInd_Dogsheep_,infcUIndSwine,infcUInd_Bulldog_,infcUInd_Brownsheep_,infcUInd_Doe_,infcUInd_Pig_,infcUAirCattle,infcUAir_Dogsheep_,infcUAirSwine,infcUAir_Bulldog_,infcUAir_Brownsheep_,infcUAir_Doe_,infcUAir_Pig_,infcUIniCattle,infcUIni_Dogsheep_,infcUIniSwine,infcUIni_Bulldog_,infcUIni_Brownsheep_,infcUIni_Doe_,infcUIni_Pig_,infnAAll,infnADir,infnAInd,infnAAir,infnAIni,infnACattle,infnA_Dogsheep_,infnASwine,infnA_Bulldog_,infnA_Brownsheep_,infnA_Doe_,infnA_Pig_,infnADirCattle,infnADir_Dogsheep_,infnADirSwine,infnADir_Bulldog_,infnADir_Brownsheep_,infnADir_Doe_,infnADir_Pig_,infnAIndCattle,infnAInd_Dogsheep_,infnAIndSwine,infnAInd_Bulldog_,infnAInd_Brownsheep_,infnAInd_Doe_,infnAInd_Pig_,infnAAirCattle,infnAAir_Dogsheep_,infnAAirSwine,infnAAir_Bulldog_,infnAAir_Brownsheep_,infnAAir_Doe_,infnAAir_Pig_,infnAIniCattle,infnAIni_Dogsheep_,infnAIniSwine,infnAIni_Bulldog_,infnAIni_Brownsheep_,infnAIni_Doe_,infnAIni_Pig_,infcAAll,infcADir,infcAInd,infcAAir,infcAIni,infcACattle,infcA_Dogsheep_,infcASwine,infcA_Bulldog_,infcA_Brownsheep_,infcA_Doe_,infcA_Pig_,infcADirCattle,infcADir_Dogsheep_,infcADirSwine,infcADir_Bulldog_,infcADir_Brownsheep_,infcADir_Doe_,infcADir_Pig_,infcAIndCattle,infcAInd_Dogsheep_,infcAIndSwine,infcAInd_Bulldog_,infcAInd_Brownsheep_,infcAInd_Doe_,infcAInd_Pig_,infcAAirCattle,infcAAir_Dogsheep_,infcAAirSwine,infcAAir_Bulldog_,infcAAir_Brownsheep_,infcAAir_Doe_,infcAAir_Pig_,infcAIniCattle,infcAIni_Dogsheep_,infcAIniSwine,infcAIni_Bulldog_,infcAIni_Brownsheep_,infcAIni_Doe_,infcAIni_Pig_,firstDetUInfAll,firstDetAInfAll,ratio,expnUAll,expnUDir,expnUInd,expnUAir,expnUCattle,expnU_Dogsheep_,expnUSwine,expnU_Bulldog_,expnU_Brownsheep_,expnU_Doe_,expnU_Pig_,expnUDirCattle,expnUDir_Dogsheep_,expnUDirSwine,expnUDir_Bulldog_,expnUDir_Brownsheep_,expnUDir_Doe_,expnUDir_Pig_,expnUIndCattle,expnUInd_Dogsheep_,expnUIndSwine,expnUInd_Bulldog_,expnUInd_Brownsheep_,expnUInd_Doe_,expnUInd_Pig_,expnUAirCattle,expnUAir_Dogsheep_,expnUAirSwine,expnUAir_Bulldog_,expnUAir_Brownsheep_,expnUAir_Doe_,expnUAir_Pig_,expcUAll,expcUDir,expcUInd,expcUAir,expcUCattle,expcU_Dogsheep_,expcUSwine,expcU_Bulldog_,expcU_Brownsheep_,expcU_Doe_,expcU_Pig_,expcUDirCattle,expcUDir_Dogsheep_,expcUDirSwine,expcUDir_Bulldog_,expcUDir_Brownsheep_,expcUDir_Doe_,expcUDir_Pig_,expcUIndCattle,expcUInd_Dogsheep_,expcUIndSwine,expcUInd_Bulldog_,expcUInd_Brownsheep_,expcUInd_Doe_,expcUInd_Pig_,expcUAirCattle,expcUAir_Dogsheep_,expcUAirSwine,expcUAir_Bulldog_,expcUAir_Brownsheep_,expcUAir_Doe_,expcUAir_Pig_,expnAAll,expnADir,expnAInd,expnAAir,expnACattle,expnA_Dogsheep_,expnASwine,expnA_Bulldog_,expnA_Brownsheep_,expnA_Doe_,expnA_Pig_,expnADirCattle,expnADir_Dogsheep_,expnADirSwine,expnADir_Bulldog_,expnADir_Brownsheep_,expnADir_Doe_,expnADir_Pig_,expnAIndCattle,expnAInd_Dogsheep_,expnAIndSwine,expnAInd_Bulldog_,expnAInd_Brownsheep_,expnAInd_Doe_,expnAInd_Pig_,expnAAirCattle,expnAAir_Dogsheep_,expnAAirSwine,expnAAir_Bulldog_,expnAAir_Brownsheep_,expnAAir_Doe_,expnAAir_Pig_,expcAAll,expcADir,expcAInd,expcAAir,expcACattle,expcA_Dogsheep_,expcASwine,expcA_Bulldog_,expcA_Brownsheep_,expcA_Doe_,expcA_Pig_,expcADirCattle,expcADir_Dogsheep_,expcADirSwine,expcADir_Bulldog_,expcADir_Brownsheep_,expcADir_Doe_,expcADir_Pig_,expcAIndCattle,expcAInd_Dogsheep_,expcAIndSwine,expcAInd_Bulldog_,expcAInd_Brownsheep_,expcAInd_Doe_,expcAInd_Pig_,expcAAirCattle,expcAAir_Dogsheep_,expcAAirSwine,expcAAir_Bulldog_,expcAAir_Brownsheep_,expcAAir_Doe_,expcAAir_Pig_,adqnUAll,adqcUAll,vacwUAll,vacwUCattle,vacwU_Dogsheep_,vacwUSwine,vacwU_Bulldog_,vacwU_Brownsheep_,vacwU_Doe_,vacwU_Pig_,vacwAAll,vacwACattle,vacwA_Dogsheep_,vacwASwine,vacwA_Bulldog_,vacwA_Brownsheep_,vacwA_Doe_,vacwA_Pig_,vacwUMax,vacwUMaxDay,vacwAMax,vacwAMaxDay,vacwUTimeMax,vacwUTimeAvg,vacwUDaysInQueue,vacwADaysInQueue,zoneAreaHighRisk,zoneAreaMediumRisk,maxZoneAreaHighRisk,maxZoneAreaMediumRisk,maxZoneAreaDayHighRisk,maxZoneAreaDayMediumRisk,finalZoneAreaHighRisk,finalZoneAreaMediumRisk,zonePerimeterHighRisk,zonePerimeterMediumRisk,maxZonePerimeterHighRisk,maxZonePerimeterMediumRisk,maxZonePerimeterDayHighRisk,maxZonePerimeterDayMediumRisk,finalZonePerimeterHighRisk,finalZonePerimeterMediumRisk,num-separate-areasHighRisk,num-separate-areasMediumRisk,unitsInZoneHighRisk,unitsInZoneMediumRisk,unitsInZoneBackground,unitsInZoneHighRiskCattle,unitsInZoneHighRisk_Dogsheep_,unitsInZoneHighRiskSwine,unitsInZoneHighRisk_Bulldog_,unitsInZoneHighRisk_Brownsheep_,unitsInZoneHighRisk_Doe_,unitsInZoneHighRisk_Pig_,unitsInZoneMediumRiskCattle,unitsInZoneMediumRisk_Dogsheep_,unitsInZoneMediumRiskSwine,unitsInZoneMediumRisk_Bulldog_,unitsInZoneMediumRisk_Brownsheep_,unitsInZoneMediumRisk_Doe_,unitsInZoneMediumRisk_Pig_,unitsInZoneBackgroundCattle,unitsInZoneBackground_Dogsheep_,unitsInZoneBackgroundSwine,unitsInZoneBackground_Bulldog_,unitsInZoneBackground_Brownsheep_,unitsInZoneBackground_Doe_,unitsInZoneBackground_Pig_,unitDaysInZoneHighRisk,unitDaysInZoneMediumRisk,unitDaysInZoneBackground,unitDaysInZoneHighRiskCattle,unitDaysInZoneHighRisk_Dogsheep_,unitDaysInZoneHighRiskSwine,unitDaysInZoneHighRisk_Bulldog_,unitDaysInZoneHighRisk_Brownsheep_,unitDaysInZoneHighRisk_Doe_,unitDaysInZoneHighRisk_Pig_,unitDaysInZoneMediumRiskCattle,unitDaysInZoneMediumRisk_Dogsheep_,unitDaysInZoneMediumRiskSwine,unitDaysInZoneMediumRisk_Bulldog_,unitDaysInZoneMediumRisk_Brownsheep_,unitDaysInZoneMediumRisk_Doe_,unitDaysInZoneMediumRisk_Pig_,unitDaysInZoneBackgroundCattle,unitDaysInZoneBackground_Dogsheep_,unitDaysInZoneBackgroundSwine,unitDaysInZoneBackground_Bulldog_,unitDaysInZoneBackground_Brownsheep_,unitDaysInZoneBackground_Doe_,unitDaysInZoneBackground_Pig_,animalDaysInZoneHighRisk,animalDaysInZoneMediumRisk,animalDaysInZoneBackground,animalDaysInZoneHighRiskCattle,animalDaysInZoneHighRisk_Dogsheep_,animalDaysInZoneHighRiskSwine,animalDaysInZoneHighRisk_Bulldog_,animalDaysInZoneHighRisk_Brownsheep_,animalDaysInZoneHighRisk_Doe_,animalDaysInZoneHighRisk_Pig_,animalDaysInZoneMediumRiskCattle,animalDaysInZoneMediumRisk_Dogsheep_,animalDaysInZoneMediumRiskSwine,animalDaysInZoneMediumRisk_Bulldog_,animalDaysInZoneMediumRisk_Brownsheep_,animalDaysInZoneMediumRisk_Doe_,animalDaysInZoneMediumRisk_Pig_,animalDaysInZoneBackgroundCattle,animalDaysInZoneBackground_Dogsheep_,animalDaysInZoneBackgroundSwine,animalDaysInZoneBackground_Bulldog_,animalDaysInZoneBackground_Brownsheep_,animalDaysInZoneBackground_Doe_,animalDaysInZoneBackground_Pig_,deswUAll,deswUCattle,deswU_Dogsheep_,deswUSwine,deswU_Bulldog_,deswU_Brownsheep_,deswU_Doe_,deswU_Pig_,deswAAll,deswACattle,deswA_Dogsheep_,deswASwine,deswA_Bulldog_,deswA_Brownsheep_,deswA_Doe_,deswA_Pig_,deswUMax,deswUMaxDay,deswAMax,deswAMaxDay,deswUTimeMax,deswUTimeAvg,deswUDaysInQueue,deswADaysInQueue,destrOccurred,firstDestruction,firstDestructionUnsp,firstDestructionRing,firstDestructionDirFwd,firstDestructionIndFwd,firstDestructionDirBack,firstDestructionIndBack,firstDestructionDet,firstDestructionIni,firstDestructionCattle,firstDestruction_Dogsheep_,firstDestructionSwine,firstDestruction_Bulldog_,firstDestruction_Brownsheep_,firstDestruction_Doe_,firstDestruction_Pig_,firstDestructionUnspCattle,firstDestructionUnsp_Dogsheep_,firstDestructionUnspSwine,firstDestructionUnsp_Bulldog_,firstDestructionUnsp_Brownsheep_,firstDestructionUnsp_Doe_,firstDestructionUnsp_Pig_,firstDestructionRingCattle,firstDestructionRing_Dogsheep_,firstDestructionRingSwine,firstDestructionRing_Bulldog_,firstDestructionRing_Brownsheep_,firstDestructionRing_Doe_,firstDestructionRing_Pig_,firstDestructionDirFwdCattle,firstDestructionDirFwd_Dogsheep_,firstDestructionDirFwdSwine,firstDestructionDirFwd_Bulldog_,firstDestructionDirFwd_Brownsheep_,firstDestructionDirFwd_Doe_,firstDestructionDirFwd_Pig_,firstDestructionIndFwdCattle,firstDestructionIndFwd_Dogsheep_,firstDestructionIndFwdSwine,firstDestructionIndFwd_Bulldog_,firstDestructionIndFwd_Brownsheep_,firstDestructionIndFwd_Doe_,firstDestructionIndFwd_Pig_,firstDestructionDirBackCattle,firstDestructionDirBack_Dogsheep_,firstDestructionDirBackSwine,firstDestructionDirBack_Bulldog_,firstDestructionDirBack_Brownsheep_,firstDestructionDirBack_Doe_,firstDestructionDirBack_Pig_,firstDestructionIndBackCattle,firstDestructionIndBack_Dogsheep_,firstDestructionIndBackSwine,firstDestructionIndBack_Bulldog_,firstDestructionIndBack_Brownsheep_,firstDestructionIndBack_Doe_,firstDestructionIndBack_Pig_,firstDestructionDetCattle,firstDestructionDet_Dogsheep_,firstDestructionDetSwine,firstDestructionDet_Bulldog_,firstDestructionDet_Brownsheep_,firstDestructionDet_Doe_,firstDestructionDet_Pig_,firstDestructionIniCattle,firstDestructionIni_Dogsheep_,firstDestructionIniSwine,firstDestructionIni_Bulldog_,firstDestructionIni_Brownsheep_,firstDestructionIni_Doe_,firstDestructionIni_Pig_,desnUAll,desnUIni,desnUUnsp,desnURing,desnUDirFwd,desnUIndFwd,desnUDirBack,desnUIndBack,desnUDet,desnUCattle,desnU_Dogsheep_,desnUSwine,desnU_Bulldog_,desnU_Brownsheep_,desnU_Doe_,desnU_Pig_,desnUIniCattle,desnUIni_Dogsheep_,desnUIniSwine,desnUIni_Bulldog_,desnUIni_Brownsheep_,desnUIni_Doe_,desnUIni_Pig_,desnUUnspCattle,desnUUnsp_Dogsheep_,desnUUnspSwine,desnUUnsp_Bulldog_,desnUUnsp_Brownsheep_,desnUUnsp_Doe_,desnUUnsp_Pig_,desnURingCattle,desnURing_Dogsheep_,desnURingSwine,desnURing_Bulldog_,desnURing_Brownsheep_,desnURing_Doe_,desnURing_Pig_,desnUDirFwdCattle,desnUDirFwd_Dogsheep_,desnUDirFwdSwine,desnUDirFwd_Bulldog_,desnUDirFwd_Brownsheep_,desnUDirFwd_Doe_,desnUDirFwd_Pig_,desnUIndFwdCattle,desnUIndFwd_Dogsheep_,desnUIndFwdSwine,desnUIndFwd_Bulldog_,desnUIndFwd_Brownsheep_,desnUIndFwd_Doe_,desnUIndFwd_Pig_,desnUDirBackCattle,desnUDirBack_Dogsheep_,desnUDirBackSwine,desnUDirBack_Bulldog_,desnUDirBack_Brownsheep_,desnUDirBack_Doe_,desnUDirBack_Pig_,desnUIndBackCattle,desnUIndBack_Dogsheep_,desnUIndBackSwine,desnUIndBack_Bulldog_,desnUIndBack_Brownsheep_,desnUIndBack_Doe_,desnUIndBack_Pig_,desnUDetCattle,desnUDet_Dogsheep_,desnUDetSwine,desnUDet_Bulldog_,desnUDet_Brownsheep_,desnUDet_Doe_,desnUDet_Pig_,descUAll,descUIni,descUUnsp,descURing,descUDirFwd,descUIndFwd,descUDirBack,descUIndBack,descUDet,descUCattle,descU_Dogsheep_,descUSwine,descU_Bulldog_,descU_Brownsheep_,descU_Doe_,descU_Pig_,descUIniCattle,descUIni_Dogsheep_,descUIniSwine,descUIni_Bulldog_,descUIni_Brownsheep_,descUIni_Doe_,descUIni_Pig_,descUUnspCattle,descUUnsp_Dogsheep_,descUUnspSwine,descUUnsp_Bulldog_,descUUnsp_Brownsheep_,descUUnsp_Doe_,descUUnsp_Pig_,descURingCattle,descURing_Dogsheep_,descURingSwine,descURing_Bulldog_,descURing_Brownsheep_,descURing_Doe_,descURing_Pig_,descUDirFwdCattle,descUDirFwd_Dogsheep_,descUDirFwdSwine,descUDirFwd_Bulldog_,descUDirFwd_Brownsheep_,descUDirFwd_Doe_,descUDirFwd_Pig_,descUIndFwdCattle,descUIndFwd_Dogsheep_,descUIndFwdSwine,descUIndFwd_Bulldog_,descUIndFwd_Brownsheep_,descUIndFwd_Doe_,descUIndFwd_Pig_,descUDirBackCattle,descUDirBack_Dogsheep_,descUDirBackSwine,descUDirBack_Bulldog_,descUDirBack_Brownsheep_,descUDirBack_Doe_,descUDirBack_Pig_,descUIndBackCattle,descUIndBack_Dogsheep_,descUIndBackSwine,descUIndBack_Bulldog_,descUIndBack_Brownsheep_,descUIndBack_Doe_,descUIndBack_Pig_,descUDetCattle,descUDet_Dogsheep_,descUDetSwine,descUDet_Bulldog_,descUDet_Brownsheep_,descUDet_Doe_,descUDet_Pig_,desnAAll,desnAIni,desnAUnsp,desnARing,desnADirFwd,desnAIndFwd,desnADirBack,desnAIndBack,desnADet,desnACattle,desnA_Dogsheep_,desnASwine,desnA_Bulldog_,desnA_Brownsheep_,desnA_Doe_,desnA_Pig_,desnAIniCattle,desnAIni_Dogsheep_,desnAIniSwine,desnAIni_Bulldog_,desnAIni_Brownsheep_,desnAIni_Doe_,desnAIni_Pig_,desnAUnspCattle,desnAUnsp_Dogsheep_,desnAUnspSwine,desnAUnsp_Bulldog_,desnAUnsp_Brownsheep_,desnAUnsp_Doe_,desnAUnsp_Pig_,desnARingCattle,desnARing_Dogsheep_,desnARingSwine,desnARing_Bulldog_,desnARing_Brownsheep_,desnARing_Doe_,desnARing_Pig_,desnADirFwdCattle,desnADirFwd_Dogsheep_,desnADirFwdSwine,desnADirFwd_Bulldog_,desnADirFwd_Brownsheep_,desnADirFwd_Doe_,desnADirFwd_Pig_,desnAIndFwdCattle,desnAIndFwd_Dogsheep_,desnAIndFwdSwine,desnAIndFwd_Bulldog_,desnAIndFwd_Brownsheep_,desnAIndFwd_Doe_,desnAIndFwd_Pig_,desnADirBackCattle,desnADirBack_Dogsheep_,desnADirBackSwine,desnADirBack_Bulldog_,desnADirBack_Brownsheep_,desnADirBack_Doe_,desnADirBack_Pig_,desnAIndBackCattle,desnAIndBack_Dogsheep_,desnAIndBackSwine,desnAIndBack_Bulldog_,desnAIndBack_Brownsheep_,desnAIndBack_Doe_,desnAIndBack_Pig_,desnADetCattle,desnADet_Dogsheep_,desnADetSwine,desnADet_Bulldog_,desnADet_Brownsheep_,desnADet_Doe_,desnADet_Pig_,descAAll,descAIni,descAUnsp,descARing,descADirFwd,descAIndFwd,descADirBack,descAIndBack,descADet,descACattle,descA_Dogsheep_,descASwine,descA_Bulldog_,descA_Brownsheep_,descA_Doe_,descA_Pig_,descAIniCattle,descAIni_Dogsheep_,descAIniSwine,descAIni_Bulldog_,descAIni_Brownsheep_,descAIni_Doe_,descAIni_Pig_,descAUnspCattle,descAUnsp_Dogsheep_,descAUnspSwine,descAUnsp_Bulldog_,descAUnsp_Brownsheep_,descAUnsp_Doe_,descAUnsp_Pig_,descARingCattle,descARing_Dogsheep_,descARingSwine,descARing_Bulldog_,descARing_Brownsheep_,descARing_Doe_,descARing_Pig_,descADirFwdCattle,descADirFwd_Dogsheep_,descADirFwdSwine,descADirFwd_Bulldog_,descADirFwd_Brownsheep_,descADirFwd_Doe_,descADirFwd_Pig_,descAIndFwdCattle,descAIndFwd_Dogsheep_,descAIndFwdSwine,descAIndFwd_Bulldog_,descAIndFwd_Brownsheep_,descAIndFwd_Doe_,descAIndFwd_Pig_,descADirBackCattle,descADirBack_Dogsheep_,descADirBackSwine,descADirBack_Bulldog_,descADirBack_Brownsheep_,descADirBack_Doe_,descADirBack_Pig_,descAIndBackCattle,descAIndBack_Dogsheep_,descAIndBackSwine,descAIndBack_Bulldog_,descAIndBack_Brownsheep_,descAIndBack_Doe_,descAIndBack_Pig_,descADetCattle,descADet_Dogsheep_,descADetSwine,descADet_Bulldog_,descADet_Brownsheep_,descADet_Doe_,descADet_Pig_,trnUAllp,trnUDirp,trnUIndp,trnUCattlep,trnU_Dogsheep_p,trnUSwinep,trnU_Bulldog_p,trnU_Brownsheep_p,trnU_Doe_p,trnU_Pig_p,trnUDirCattlep,trnUDir_Dogsheep_p,trnUDirSwinep,trnUDir_Bulldog_p,trnUDir_Brownsheep_p,trnUDir_Doe_p,trnUDir_Pig_p,trnUIndCattlep,trnUInd_Dogsheep_p,trnUIndSwinep,trnUInd_Bulldog_p,trnUInd_Brownsheep_p,trnUInd_Doe_p,trnUInd_Pig_p,trcUAllp,trcUDirp,trcUIndp,trcUCattlep,trcU_Dogsheep_p,trcUSwinep,trcU_Bulldog_p,trcU_Brownsheep_p,trcU_Doe_p,trcU_Pig_p,trcUDirCattlep,trcUDir_Dogsheep_p,trcUDirSwinep,trcUDir_Bulldog_p,trcUDir_Brownsheep_p,trcUDir_Doe_p,trcUDir_Pig_p,trcUIndCattlep,trcUInd_Dogsheep_p,trcUIndSwinep,trcUInd_Bulldog_p,trcUInd_Brownsheep_p,trcUInd_Doe_p,trcUInd_Pig_p,trnUAll,trnUDir,trnUInd,trnUCattle,trnU_Dogsheep_,trnUSwine,trnU_Bulldog_,trnU_Brownsheep_,trnU_Doe_,trnU_Pig_,trnUDirCattle,trnUDir_Dogsheep_,trnUDirSwine,trnUDir_Bulldog_,trnUDir_Brownsheep_,trnUDir_Doe_,trnUDir_Pig_,trnUIndCattle,trnUInd_Dogsheep_,trnUIndSwine,trnUInd_Bulldog_,trnUInd_Brownsheep_,trnUInd_Doe_,trnUInd_Pig_,trcUAll,trcUDir,trcUInd,trcUCattle,trcU_Dogsheep_,trcUSwine,trcU_Bulldog_,trcU_Brownsheep_,trcU_Doe_,trcU_Pig_,trcUDirCattle,trcUDir_Dogsheep_,trcUDirSwine,trcUDir_Bulldog_,trcUDir_Brownsheep_,trcUDir_Doe_,trcUDir_Pig_,trcUIndCattle,trcUInd_Dogsheep_,trcUIndSwine,trcUInd_Bulldog_,trcUInd_Brownsheep_,trcUInd_Doe_,trcUInd_Pig_,trnAAllp,trnADirp,trnAIndp,trnACattlep,trnA_Dogsheep_p,trnASwinep,trnA_Bulldog_p,trnA_Brownsheep_p,trnA_Doe_p,trnA_Pig_p,trnADirCattlep,trnADir_Dogsheep_p,trnADirSwinep,trnADir_Bulldog_p,trnADir_Brownsheep_p,trnADir_Doe_p,trnADir_Pig_p,trnAIndCattlep,trnAInd_Dogsheep_p,trnAIndSwinep,trnAInd_Bulldog_p,trnAInd_Brownsheep_p,trnAInd_Doe_p,trnAInd_Pig_p,trcAAllp,trcADirp,trcAIndp,trcACattlep,trcA_Dogsheep_p,trcASwinep,trcA_Bulldog_p,trcA_Brownsheep_p,trcA_Doe_p,trcA_Pig_p,trcADirCattlep,trcADir_Dogsheep_p,trcADirSwinep,trcADir_Bulldog_p,trcADir_Brownsheep_p,trcADir_Doe_p,trcADir_Pig_p,trcAIndCattlep,trcAInd_Dogsheep_p,trcAIndSwinep,trcAInd_Bulldog_p,trcAInd_Brownsheep_p,trcAInd_Doe_p,trcAInd_Pig_p,trnAAll,trnADir,trnAInd,trnACattle,trnA_Dogsheep_,trnASwine,trnA_Bulldog_,trnA_Brownsheep_,trnA_Doe_,trnA_Pig_,trnADirCattle,trnADir_Dogsheep_,trnADirSwine,trnADir_Bulldog_,trnADir_Brownsheep_,trnADir_Doe_,trnADir_Pig_,trnAIndCattle,trnAInd_Dogsheep_,trnAIndSwine,trnAInd_Bulldog_,trnAInd_Brownsheep_,trnAInd_Doe_,trnAInd_Pig_,trcAAll,trcADir,trcAInd,trcACattle,trcA_Dogsheep_,trcASwine,trcA_Bulldog_,trcA_Brownsheep_,trcA_Doe_,trcA_Pig_,trcADirCattle,trcADir_Dogsheep_,trcADirSwine,trcADir_Bulldog_,trcADir_Brownsheep_,trcADir_Doe_,trcADir_Pig_,trcAIndCattle,trcAInd_Dogsheep_,trcAIndSwine,trcAInd_Bulldog_,trcAInd_Brownsheep_,trcAInd_Doe_,trcAInd_Pig_,detOccurred,firstDetection,firstDetectionClin,firstDetectionTest,firstDetectionCattle,firstDetection_Dogsheep_,firstDetectionSwine,firstDetection_Bulldog_,firstDetection_Brownsheep_,firstDetection_Doe_,firstDetection_Pig_,firstDetectionClinCattle,firstDetectionClin_Dogsheep_,firstDetectionClinSwine,firstDetectionClin_Bulldog_,firstDetectionClin_Brownsheep_,firstDetectionClin_Doe_,firstDetectionClin_Pig_,firstDetectionTestCattle,firstDetectionTest_Dogsheep_,firstDetectionTestSwine,firstDetectionTest_Bulldog_,firstDetectionTest_Brownsheep_,firstDetectionTest_Doe_,firstDetectionTest_Pig_,lastDetection,lastDetectionClin,lastDetectionTest,lastDetectionCattle,lastDetection_Dogsheep_,lastDetectionSwine,lastDetection_Bulldog_,lastDetection_Brownsheep_,lastDetection_Doe_,lastDetection_Pig_,lastDetectionClinCattle,lastDetectionClin_Dogsheep_,lastDetectionClinSwine,lastDetectionClin_Bulldog_,lastDetectionClin_Brownsheep_,lastDetectionClin_Doe_,lastDetectionClin_Pig_,lastDetectionTestCattle,lastDetectionTest_Dogsheep_,lastDetectionTestSwine,lastDetectionTest_Bulldog_,lastDetectionTest_Brownsheep_,lastDetectionTest_Doe_,lastDetectionTest_Pig_,detnUAll,detnUClin,detnUTest,detnUCattle,detnU_Dogsheep_,detnUSwine,detnU_Bulldog_,detnU_Brownsheep_,detnU_Doe_,detnU_Pig_,detnUClinCattle,detnUClin_Dogsheep_,detnUClinSwine,detnUClin_Bulldog_,detnUClin_Brownsheep_,detnUClin_Doe_,detnUClin_Pig_,detnUTestCattle,detnUTest_Dogsheep_,detnUTestSwine,detnUTest_Bulldog_,detnUTest_Brownsheep_,detnUTest_Doe_,detnUTest_Pig_,detnAAll,detnAClin,detnATest,detnACattle,detnA_Dogsheep_,detnASwine,detnA_Bulldog_,detnA_Brownsheep_,detnA_Doe_,detnA_Pig_,detnAClinCattle,detnAClin_Dogsheep_,detnAClinSwine,detnAClin_Bulldog_,detnAClin_Brownsheep_,detnAClin_Doe_,detnAClin_Pig_,detnATestCattle,detnATest_Dogsheep_,detnATestSwine,detnATest_Bulldog_,detnATest_Brownsheep_,detnATest_Doe_,detnATest_Pig_,detcUAll,detcUClin,detcUTest,detcUCattle,detcU_Dogsheep_,detcUSwine,detcU_Bulldog_,detcU_Brownsheep_,detcU_Doe_,detcU_Pig_,detcUClinCattle,detcUClin_Dogsheep_,detcUClinSwine,detcUClin_Bulldog_,detcUClin_Brownsheep_,detcUClin_Doe_,detcUClin_Pig_,detcUTestCattle,detcUTest_Dogsheep_,detcUTestSwine,detcUTest_Bulldog_,detcUTest_Brownsheep_,detcUTest_Doe_,detcUTest_Pig_,detcUqAll,detcAAll,detcAClin,detcATest,detcACattle,detcA_Dogsheep_,detcASwine,detcA_Bulldog_,detcA_Brownsheep_,detcA_Doe_,detcA_Pig_,detcAClinCattle,detcAClin_Dogsheep_,detcAClinSwine,detcAClin_Bulldog_,detcAClin_Brownsheep_,detcAClin_Doe_,detcAClin_Pig_,detcATestCattle,detcATest_Dogsheep_,detcATestSwine,detcATest_Bulldog_,detcATest_Brownsheep_,detcATest_Doe_,detcATest_Pig_,tsdUSusc,tsdULat,tsdUSubc,tsdUClin,tsdUNImm,tsdUVImm,tsdUDest,tsdUCattleSusc,tsdUCattleLat,tsdUCattleSubc,tsdUCattleClin,tsdUCattleNImm,tsdUCattleVImm,tsdUCattleDest,tsdU_Dogsheep_Susc,tsdU_Dogsheep_Lat,tsdU_Dogsheep_Subc,tsdU_Dogsheep_Clin,tsdU_Dogsheep_NImm,tsdU_Dogsheep_VImm,tsdU_Dogsheep_Dest,tsdUSwineSusc,tsdUSwineLat,tsdUSwineSubc,tsdUSwineClin,tsdUSwineNImm,tsdUSwineVImm,tsdUSwineDest,tsdU_Bulldog_Susc,tsdU_Bulldog_Lat,tsdU_Bulldog_Subc,tsdU_Bulldog_Clin,tsdU_Bulldog_NImm,tsdU_Bulldog_VImm,tsdU_Bulldog_Dest,tsdU_Brownsheep_Susc,tsdU_Brownsheep_Lat,tsdU_Brownsheep_Subc,tsdU_Brownsheep_Clin,tsdU_Brownsheep_NImm,tsdU_Brownsheep_VImm,tsdU_Brownsheep_Dest,tsdU_Doe_Susc,tsdU_Doe_Lat,tsdU_Doe_Subc,tsdU_Doe_Clin,tsdU_Doe_NImm,tsdU_Doe_VImm,tsdU_Doe_Dest,tsdU_Pig_Susc,tsdU_Pig_Lat,tsdU_Pig_Subc,tsdU_Pig_Clin,tsdU_Pig_NImm,tsdU_Pig_VImm,tsdU_Pig_Dest,tsdASusc,tsdALat,tsdASubc,tsdAClin,tsdANImm,tsdAVImm,tsdADest,tsdACattleSusc,tsdACattleLat,tsdACattleSubc,tsdACattleClin,tsdACattleNImm,tsdACattleVImm,tsdACattleDest,tsdA_Dogsheep_Susc,tsdA_Dogsheep_Lat,tsdA_Dogsheep_Subc,tsdA_Dogsheep_Clin,tsdA_Dogsheep_NImm,tsdA_Dogsheep_VImm,tsdA_Dogsheep_Dest,tsdASwineSusc,tsdASwineLat,tsdASwineSubc,tsdASwineClin,tsdASwineNImm,tsdASwineVImm,tsdASwineDest,tsdA_Bulldog_Susc,tsdA_Bulldog_Lat,tsdA_Bulldog_Subc,tsdA_Bulldog_Clin,tsdA_Bulldog_NImm,tsdA_Bulldog_VImm,tsdA_Bulldog_Dest,tsdA_Brownsheep_Susc,tsdA_Brownsheep_Lat,tsdA_Brownsheep_Subc,tsdA_Brownsheep_Clin,tsdA_Brownsheep_NImm,tsdA_Brownsheep_VImm,tsdA_Brownsheep_Dest,tsdA_Doe_Susc,tsdA_Doe_Lat,tsdA_Doe_Subc,tsdA_Doe_Clin,tsdA_Doe_NImm,tsdA_Doe_VImm,tsdA_Doe_Dest,tsdA_Pig_Susc,tsdA_Pig_Lat,tsdA_Pig_Subc,tsdA_Pig_Clin,tsdA_Pig_NImm,tsdA_Pig_VImm,tsdA_Pig_Dest,average-prevalence,diseaseDuration,tstnUTruePos,tstnUTruePosCattle,tstnUTruePos_Dogsheep_,tstnUTruePosSwine,tstnUTruePos_Bulldog_,tstnUTruePos_Brownsheep_,tstnUTruePos_Doe_,tstnUTruePos_Pig_,tstnUTrueNeg,tstnUTrueNegCattle,tstnUTrueNeg_Dogsheep_,tstnUTrueNegSwine,tstnUTrueNeg_Bulldog_,tstnUTrueNeg_Brownsheep_,tstnUTrueNeg_Doe_,tstnUTrueNeg_Pig_,tstnUFalsePos,tstnUFalsePosCattle,tstnUFalsePos_Dogsheep_,tstnUFalsePosSwine,tstnUFalsePos_Bulldog_,tstnUFalsePos_Brownsheep_,tstnUFalsePos_Doe_,tstnUFalsePos_Pig_,tstnUFalseNeg,tstnUFalseNegCattle,tstnUFalseNeg_Dogsheep_,tstnUFalseNegSwine,tstnUFalseNeg_Bulldog_,tstnUFalseNeg_Brownsheep_,tstnUFalseNeg_Doe_,tstnUFalseNeg_Pig_,tstcUAll,tstcUDirFwd,tstcUIndFwd,tstcUDirBack,tstcUIndBack,tstcUCattle,tstcU_Dogsheep_,tstcUSwine,tstcU_Bulldog_,tstcU_Brownsheep_,tstcU_Doe_,tstcU_Pig_,tstcUDirFwdCattle,tstcUDirFwd_Dogsheep_,tstcUDirFwdSwine,tstcUDirFwd_Bulldog_,tstcUDirFwd_Brownsheep_,tstcUDirFwd_Doe_,tstcUDirFwd_Pig_,tstcUIndFwdCattle,tstcUIndFwd_Dogsheep_,tstcUIndFwdSwine,tstcUIndFwd_Bulldog_,tstcUIndFwd_Brownsheep_,tstcUIndFwd_Doe_,tstcUIndFwd_Pig_,tstcUDirBackCattle,tstcUDirBack_Dogsheep_,tstcUDirBackSwine,tstcUDirBack_Bulldog_,tstcUDirBack_Brownsheep_,tstcUDirBack_Doe_,tstcUDirBack_Pig_,tstcUIndBackCattle,tstcUIndBack_Dogsheep_,tstcUIndBackSwine,tstcUIndBack_Bulldog_,tstcUIndBack_Brownsheep_,tstcUIndBack_Doe_,tstcUIndBack_Pig_,tstcUTruePos,tstcUTruePosCattle,tstcUTruePos_Dogsheep_,tstcUTruePosSwine,tstcUTruePos_Bulldog_,tstcUTruePos_Brownsheep_,tstcUTruePos_Doe_,tstcUTruePos_Pig_,tstcUTrueNeg,tstcUTrueNegCattle,tstcUTrueNeg_Dogsheep_,tstcUTrueNegSwine,tstcUTrueNeg_Bulldog_,tstcUTrueNeg_Brownsheep_,tstcUTrueNeg_Doe_,tstcUTrueNeg_Pig_,tstcUFalsePos,tstcUFalsePosCattle,tstcUFalsePos_Dogsheep_,tstcUFalsePosSwine,tstcUFalsePos_Bulldog_,tstcUFalsePos_Brownsheep_,tstcUFalsePos_Doe_,tstcUFalsePos_Pig_,tstcUFalseNeg,tstcUFalseNegCattle,tstcUFalseNeg_Dogsheep_,tstcUFalseNegSwine,tstcUFalseNeg_Bulldog_,tstcUFalseNeg_Brownsheep_,tstcUFalseNeg_Doe_,tstcUFalseNeg_Pig_,tstcAAll,tstcADirFwd,tstcAIndFwd,tstcADirBack,tstcAIndBack,tstcACattle,tstcA_Dogsheep_,tstcASwine,tstcA_Bulldog_,tstcA_Brownsheep_,tstcA_Doe_,tstcA_Pig_,tstcADirFwdCattle,tstcADirFwd_Dogsheep_,tstcADirFwdSwine,tstcADirFwd_Bulldog_,tstcADirFwd_Brownsheep_,tstcADirFwd_Doe_,tstcADirFwd_Pig_,tstcAIndFwdCattle,tstcAIndFwd_Dogsheep_,tstcAIndFwdSwine,tstcAIndFwd_Bulldog_,tstcAIndFwd_Brownsheep_,tstcAIndFwd_Doe_,tstcAIndFwd_Pig_,tstcADirBackCattle,tstcADirBack_Dogsheep_,tstcADirBackSwine,tstcADirBack_Bulldog_,tstcADirBack_Brownsheep_,tstcADirBack_Doe_,tstcADirBack_Pig_,tstcAIndBackCattle,tstcAIndBack_Dogsheep_,tstcAIndBackSwine,tstcAIndBack_Bulldog_,tstcAIndBack_Brownsheep_,tstcAIndBack_Doe_,tstcAIndBack_Pig_,vaccOccurred,firstVaccination,firstVaccinationRing,firstVaccinationCattle,firstVaccination_Dogsheep_,firstVaccinationSwine,firstVaccination_Bulldog_,firstVaccination_Brownsheep_,firstVaccination_Doe_,firstVaccination_Pig_,firstVaccinationRingCattle,firstVaccinationRing_Dogsheep_,firstVaccinationRingSwine,firstVaccinationRing_Bulldog_,firstVaccinationRing_Brownsheep_,firstVaccinationRing_Doe_,firstVaccinationRing_Pig_,vacnUAll,vacnUIni,vacnURing,vacnUCattle,vacnU_Dogsheep_,vacnUSwine,vacnU_Bulldog_,vacnU_Brownsheep_,vacnU_Doe_,vacnU_Pig_,vacnUIniCattle,vacnUIni_Dogsheep_,vacnUIniSwine,vacnUIni_Bulldog_,vacnUIni_Brownsheep_,vacnUIni_Doe_,vacnUIni_Pig_,vacnURingCattle,vacnURing_Dogsheep_,vacnURingSwine,vacnURing_Bulldog_,vacnURing_Brownsheep_,vacnURing_Doe_,vacnURing_Pig_,vaccUAll,vaccUIni,vaccURing,vaccUCattle,vaccU_Dogsheep_,vaccUSwine,vaccU_Bulldog_,vaccU_Brownsheep_,vaccU_Doe_,vaccU_Pig_,vaccUIniCattle,vaccUIni_Dogsheep_,vaccUIniSwine,vaccUIni_Bulldog_,vaccUIni_Brownsheep_,vaccUIni_Doe_,vaccUIni_Pig_,vaccURingCattle,vaccURing_Dogsheep_,vaccURingSwine,vaccURing_Bulldog_,vaccURing_Brownsheep_,vaccURing_Doe_,vaccURing_Pig_,vacnAAll,vacnAIni,vacnARing,vacnACattle,vacnA_Dogsheep_,vacnASwine,vacnA_Bulldog_,vacnA_Brownsheep_,vacnA_Doe_,vacnA_Pig_,vacnAIniCattle,vacnAIni_Dogsheep_,vacnAIniSwine,vacnAIni_Bulldog_,vacnAIni_Brownsheep_,vacnAIni_Doe_,vacnAIni_Pig_,vacnARingCattle,vacnARing_Dogsheep_,vacnARingSwine,vacnARing_Bulldog_,vacnARing_Brownsheep_,vacnARing_Doe_,vacnARing_Pig_,vaccAAll,vaccAIni,vaccARing,vaccACattle,vaccA_Dogsheep_,vaccASwine,vaccA_Bulldog_,vaccA_Brownsheep_,vaccA_Doe_,vaccA_Pig_,vaccAIniCattle,vaccAIni_Dogsheep_,vaccAIniSwine,vaccAIni_Bulldog_,vaccAIni_Brownsheep_,vaccAIni_Doe_,vaccAIni_Pig_,vaccARingCattle,vaccARing_Dogsheep_,vaccARingSwine,vaccARing_Bulldog_,vaccARing_Brownsheep_,vaccARing_Doe_,vaccARing_Pig_,exmnUAll,exmnURing,exmnUDirFwd,exmnUIndFwd,exmnUDirBack,exmnUIndBack,exmnUDet,exmnUCattle,exmnU_Dogsheep_,exmnUSwine,exmnU_Bulldog_,exmnU_Brownsheep_,exmnU_Doe_,exmnU_Pig_,exmnURingCattle,exmnURing_Dogsheep_,exmnURingSwine,exmnURing_Bulldog_,exmnURing_Brownsheep_,exmnURing_Doe_,exmnURing_Pig_,exmnUDirFwdCattle,exmnUDirFwd_Dogsheep_,exmnUDirFwdSwine,exmnUDirFwd_Bulldog_,exmnUDirFwd_Brownsheep_,exmnUDirFwd_Doe_,exmnUDirFwd_Pig_,exmnUIndFwdCattle,exmnUIndFwd_Dogsheep_,exmnUIndFwdSwine,exmnUIndFwd_Bulldog_,exmnUIndFwd_Brownsheep_,exmnUIndFwd_Doe_,exmnUIndFwd_Pig_,exmnUDirBackCattle,exmnUDirBack_Dogsheep_,exmnUDirBackSwine,exmnUDirBack_Bulldog_,exmnUDirBack_Brownsheep_,exmnUDirBack_Doe_,exmnUDirBack_Pig_,exmnUIndBackCattle,exmnUIndBack_Dogsheep_,exmnUIndBackSwine,exmnUIndBack_Bulldog_,exmnUIndBack_Brownsheep_,exmnUIndBack_Doe_,exmnUIndBack_Pig_,exmnUDetCattle,exmnUDet_Dogsheep_,exmnUDetSwine,exmnUDet_Bulldog_,exmnUDet_Brownsheep_,exmnUDet_Doe_,exmnUDet_Pig_,exmnAAll,exmnARing,exmnADirFwd,exmnAIndFwd,exmnADirBack,exmnAIndBack,exmnADet,exmnACattle,exmnA_Dogsheep_,exmnASwine,exmnA_Bulldog_,exmnA_Brownsheep_,exmnA_Doe_,exmnA_Pig_,exmnARingCattle,exmnARing_Dogsheep_,exmnARingSwine,exmnARing_Bulldog_,exmnARing_Brownsheep_,exmnARing_Doe_,exmnARing_Pig_,exmnADirFwdCattle,exmnADirFwd_Dogsheep_,exmnADirFwdSwine,exmnADirFwd_Bulldog_,exmnADirFwd_Brownsheep_,exmnADirFwd_Doe_,exmnADirFwd_Pig_,exmnAIndFwdCattle,exmnAIndFwd_Dogsheep_,exmnAIndFwdSwine,exmnAIndFwd_Bulldog_,exmnAIndFwd_Brownsheep_,exmnAIndFwd_Doe_,exmnAIndFwd_Pig_,exmnADirBackCattle,exmnADirBack_Dogsheep_,exmnADirBackSwine,exmnADirBack_Bulldog_,exmnADirBack_Brownsheep_,exmnADirBack_Doe_,exmnADirBack_Pig_,exmnAIndBackCattle,exmnAIndBack_Dogsheep_,exmnAIndBackSwine,exmnAIndBack_Bulldog_,exmnAIndBack_Brownsheep_,exmnAIndBack_Doe_,exmnAIndBack_Pig_,exmnADetCattle,exmnADet_Dogsheep_,exmnADetSwine,exmnADet_Bulldog_,exmnADet_Brownsheep_,exmnADet_Doe_,exmnADet_Pig_,exmcUAll,exmcURing,exmcUDirFwd,exmcUIndFwd,exmcUDirBack,exmcUIndBack,exmcUDet,exmcUCattle,exmcU_Dogsheep_,exmcUSwine,exmcU_Bulldog_,exmcU_Brownsheep_,exmcU_Doe_,exmcU_Pig_,exmcURingCattle,exmcURing_Dogsheep_,exmcURingSwine,exmcURing_Bulldog_,exmcURing_Brownsheep_,exmcURing_Doe_,exmcURing_Pig_,exmcUDirFwdCattle,exmcUDirFwd_Dogsheep_,exmcUDirFwdSwine,exmcUDirFwd_Bulldog_,exmcUDirFwd_Brownsheep_,exmcUDirFwd_Doe_,exmcUDirFwd_Pig_,exmcUIndFwdCattle,exmcUIndFwd_Dogsheep_,exmcUIndFwdSwine,exmcUIndFwd_Bulldog_,exmcUIndFwd_Brownsheep_,exmcUIndFwd_Doe_,exmcUIndFwd_Pig_,exmcUDirBackCattle,exmcUDirBack_Dogsheep_,exmcUDirBackSwine,exmcUDirBack_Bulldog_,exmcUDirBack_Brownsheep_,exmcUDirBack_Doe_,exmcUDirBack_Pig_,exmcUIndBackCattle,exmcUIndBack_Dogsheep_,exmcUIndBackSwine,exmcUIndBack_Bulldog_,exmcUIndBack_Brownsheep_,exmcUIndBack_Doe_,exmcUIndBack_Pig_,exmcUDetCattle,exmcUDet_Dogsheep_,exmcUDetSwine,exmcUDet_Bulldog_,exmcUDet_Brownsheep_,exmcUDet_Doe_,exmcUDet_Pig_,exmcAAll,exmcARing,exmcADirFwd,exmcAIndFwd,exmcADirBack,exmcAIndBack,exmcADet,exmcACattle,exmcA_Dogsheep_,exmcASwine,exmcA_Bulldog_,exmcA_Brownsheep_,exmcA_Doe_,exmcA_Pig_,exmcARingCattle,exmcARing_Dogsheep_,exmcARingSwine,exmcARing_Bulldog_,exmcARing_Brownsheep_,exmcARing_Doe_,exmcARing_Pig_,exmcADirFwdCattle,exmcADirFwd_Dogsheep_,exmcADirFwdSwine,exmcADirFwd_Bulldog_,exmcADirFwd_Brownsheep_,exmcADirFwd_Doe_,exmcADirFwd_Pig_,exmcAIndFwdCattle,exmcAIndFwd_Dogsheep_,exmcAIndFwdSwine,exmcAIndFwd_Bulldog_,exmcAIndFwd_Brownsheep_,exmcAIndFwd_Doe_,exmcAIndFwd_Pig_,exmcADirBackCattle,exmcADirBack_Dogsheep_,exmcADirBackSwine,exmcADirBack_Bulldog_,exmcADirBack_Brownsheep_,exmcADirBack_Doe_,exmcADirBack_Pig_,exmcAIndBackCattle,exmcAIndBack_Dogsheep_,exmcAIndBackSwine,exmcAIndBack_Bulldog_,exmcAIndBack_Brownsheep_,exmcAIndBack_Doe_,exmcAIndBack_Pig_,exmcADetCattle,exmcADet_Dogsheep_,exmcADetSwine,exmcADet_Bulldog_,exmcADet_Brownsheep_,exmcADet_Doe_,exmcADet_Pig_\"\n",
      "headers = re.sub('_\\w+_|All', '', headers) #removes production types\n",
      "headers = re.sub('HighRisk|MediumRisk', '', headers) #removes zone names\n",
      "# headers = re.sub('-', '_', headers) #there are 2 hyphenated fields:  average-prevalence num-separate-areasMediumRisk \n",
      "headers = headers.split(',')"
     ],
     "language": "python",
     "prompt_number": 31
    },
    {
     "cell_type": "code",
     "metadata": {},
     "outputs": [],
     "input": [
      "def count_empty_matches(field_matches):\n",
      "    count = 0\n",
      "    for field, matches in field_matches.items():\n",
      "        if len(matches) == 0:\n",
      "            count += 1\n",
      "            print(field)\n",
      "    print(\"Total:\", count)"
     ],
     "language": "python",
     "prompt_number": 32
    },
    {
     "cell_type": "code",
     "metadata": {},
     "outputs": [],
     "input": [
      "def list_fields_from_code(new_code):\n",
      "    class_and_field = {}\n",
      "    for cls, code in new_code.items():\n",
      "        class_and_field[cls] = {}\n",
      "        for line in code:\n",
      "            test = r'    (\\w+) = '\n",
      "            field = re.match(test, line).group(1) if re.match(test, line) else None\n",
      "            if field:\n",
      "                class_and_field[cls][field] = line\n",
      "    return class_and_field\n",
      "\n",
      "class_and_field = list_fields_from_code(new_code)"
     ],
     "language": "python",
     "prompt_number": 33
    },
    {
     "cell_type": "code",
     "metadata": {},
     "outputs": [
      {
       "output_type": "stream",
       "stream": "stdout",
       "text": [
        "exmcADetSwine\n",
        "expnADirCattle\n",
        "trcASwine\n",
        "deswASwine\n",
        "expnAInd\n",
        "vacwACattle\n",
        "detcUq\n",
        "expnUDirCattle\n",
        "desnUIniCattle\n",
        "tsdACattleClin\n",
        "vacnARing\n",
        "expcUAirCattle\n",
        "infnUIniSwine\n",
        "desnADirBack\n",
        "trnUDirp\n",
        "expnUSwine\n",
        "trcAIndCattle\n",
        "detnASwine\n",
        "desnURingSwine\n",
        "desnAIndFwd\n",
        "desnUDirFwdCattle\n",
        "trcADirSwine\n",
        "trcUIndCattle\n",
        "exmnAIndFwd\n",
        "infnASwine\n",
        "desnAUnspSwine\n",
        "desnUUnspCattle\n",
        "trnUSwinep\n",
        "trcAIndCattlep\n",
        "expnAAirCattle\n",
        "exmnURingSwine\n",
        "vacnUSwine\n",
        "exmnAIndFwdSwine\n",
        "expnADirSwine\n",
        "infcACattle\n",
        "infnACattle\n",
        "expnAAir\n",
        "expcAAir\n",
        "infnUIni\n",
        "vacnURing\n",
        "exmnURing\n",
        "tsdASwineSubc\n",
        "desnACattle\n",
        "expcUAir\n",
        "trcAIndSwinep\n",
        "trcUp\n",
        "desnUIndFwdCattle\n",
        "detcACattle\n",
        "expcUAirSwine\n",
        "tsdUSwineVImm\n",
        "exmnUDirFwdSwine\n",
        "trnAIndCattlep\n",
        "trnUCattlep\n",
        "detnUCattle\n",
        "desnUCattle\n",
        "tsdUSwineLat\n",
        "vacnUCattle\n",
        "desnAIni\n",
        "trcAIndSwine\n",
        "exmnUDirBackCattle\n",
        "vaccASwine\n",
        "exmnUDetCattle\n",
        "trnADirSwinep\n",
        "exmcARingCattle\n",
        "desnADirBackCattle\n",
        "expcASwine\n",
        "trnUIndSwine\n",
        "trnUp\n",
        "exmnACattle\n",
        "descACattle\n",
        "exmnARingSwine\n",
        "trnUIndp\n",
        "tstcACattle\n",
        "exmnUIndBackSwine\n",
        "trnASwinep\n",
        "vacwUCattle\n",
        "vacnURingCattle\n",
        "infnUSwine\n",
        "trnAIndCattle\n",
        "desnARing\n",
        "vacnUIniCattle\n",
        "desnADirBackSwine\n",
        "desnURing\n",
        "expnUIndSwine\n",
        "exmcACattle\n",
        "infnAIniCattle\n",
        "desnADetSwine\n",
        "desnAIndBackCattle\n",
        "exmnUIndFwd\n",
        "trcUSwine\n",
        "infcUCattle\n",
        "expnUAir\n",
        "tsdACattleDest\n",
        "trnAIndSwinep\n",
        "num-separate-areas\n",
        "trnUDirCattle\n",
        "outbreakDuration\n",
        "trnUIndCattle\n",
        "vacnASwine\n",
        "exmcURing\n",
        "exmnUDetSwine\n",
        "exmnURingCattle\n",
        "exmnAIndFwdCattle\n",
        "desnUUnsp\n",
        "exmnADetCattle\n",
        "vacwASwine\n",
        "desnUIniSwine\n",
        "vaccUSwine\n",
        "tsdUSwineDest\n",
        "exmcUSwine\n",
        "trcASwinep\n",
        "trnACattle\n",
        "exmnUIndBack\n",
        "tsdUCattleDest\n",
        "trnUSwine\n",
        "trcUDirCattle\n",
        "descAUnspSwine\n",
        "desnARingCattle\n",
        "trcUSwinep\n",
        "tsdASwineNImm\n",
        "expnUIndCattle\n",
        "exmnUDirBackSwine\n",
        "exmnUDirFwd\n",
        "deswACattle\n",
        "tsdUCattleSusc\n",
        "desnADet\n",
        "detOccurred\n",
        "tsdASwineLat\n",
        "infnUCattle\n",
        "trnACattlep\n",
        "trcADirSwinep\n",
        "tsdUSwineClin\n",
        "vacnURingSwine\n",
        "expnAIndCattle\n",
        "exmnADirFwd\n",
        "infcASwine\n",
        "expnASwine\n",
        "tsdASwineVImm\n",
        "expnUInd\n",
        "descUUnsp\n",
        "expnADir\n",
        "desnUSwine\n",
        "desnAIniCattle\n",
        "descASwine\n",
        "expnUCattle\n",
        "exmnAIndBackSwine\n",
        "trnUDirCattlep\n",
        "expnUAirCattle\n",
        "tsdUSwineSusc\n",
        "exmnUIndBackCattle\n",
        "adqnU\n",
        "diseaseDuration\n",
        "exmcURingCattle\n",
        "detcASwine\n",
        "exmnUSwine\n",
        "tsdACattleNImm\n",
        "descAUnsp\n",
        "descUCattle\n",
        "tsdASwineDest\n",
        "expcAAirSwine\n",
        "trnUIndSwinep\n",
        "desnUIndBack\n",
        "trcUIndCattlep\n",
        "exmcARing\n",
        "tstcUSwine\n",
        "exmnUDet\n",
        "desnUDetSwine\n",
        "exmcUDet\n",
        "desnURingCattle\n",
        "trnUCattle\n",
        "expnUDirSwine\n",
        "exmnADirBack\n",
        "exmnADirBackSwine\n",
        "deswUSwine\n",
        "tstcASwine\n",
        "desnUIndBackSwine\n",
        "expcUSwine\n",
        "desnAIniSwine\n",
        "trcADirCattle\n",
        "vacnUIni\n",
        "infnUIniCattle\n",
        "desnUDirFwd\n",
        "trcUDirSwine\n",
        "expcUCattle\n",
        "vacnARingSwine\n",
        "average-prevalence\n",
        "trnAp\n",
        "trcADirCattlep\n",
        "desnADirFwdCattle\n",
        "descUUnspSwine\n",
        "desnADetCattle\n",
        "trnUIndCattlep\n",
        "trnUDirSwine\n",
        "tsdASwineClin\n",
        "desnUDirBackCattle\n",
        "exmnADet\n",
        "tsdUSwineNImm\n",
        "trcAp\n",
        "tsdUCattleNImm\n",
        "expcAAirCattle\n",
        "expnU\n",
        "exmnADetSwine\n",
        "vacwUSwine\n",
        "tsdUCattleVImm\n",
        "expnA\n",
        "trnADirCattle\n",
        "desnAUnsp\n",
        "detcUSwine\n",
        "vacnUIniSwine\n",
        "expnAIndSwine\n",
        "vacwADaysInQueue\n",
        "infcUSwine\n",
        "trcUIndSwine\n",
        "tstcUCattle\n",
        "trcACattlep\n",
        "exmnADirFwdSwine\n",
        "vaccUCattle\n",
        "desnUIndBackCattle\n",
        "expnUDir\n",
        "desnUIndFwd\n",
        "trcUCattle\n",
        "vacnAIniSwine\n",
        "tsdASwineSusc\n",
        "exmnARingCattle\n",
        "desnUDetCattle\n",
        "tsdUCattleLat\n",
        "trcUDirSwinep\n",
        "trnAIndSwine\n",
        "exmcUCattle\n",
        "exmcURingSwine\n",
        "exmnUIndFwdSwine\n",
        "vaccOccurred\n",
        "exmnUIndFwdCattle\n",
        "exmcADet\n",
        "trnADirCattlep\n",
        "desnUIndFwdSwine\n",
        "descAUnspCattle\n",
        "infnAIniSwine\n",
        "vacnAIniCattle\n",
        "exmcUDetSwine\n",
        "tsdACattleLat\n",
        "desnUDet\n",
        "trnAIndp\n",
        "exmnUDirFwdCattle\n",
        "expnUAirSwine\n",
        "desnARingSwine\n",
        "desnUDirBackSwine\n",
        "vaccACattle\n",
        "exmnAIndBack\n",
        "exmcASwine\n",
        "tsdACattleVImm\n",
        "exmcUDetCattle\n",
        "vacwUDaysInQueue\n",
        "exmcARingSwine\n",
        "desnUDirFwdSwine\n",
        "exmcADetCattle\n",
        "desnAIndBackSwine\n",
        "vacnARingCattle\n",
        "trcUIndSwinep\n",
        "deswUCattle\n",
        "exmnUDirBack\n",
        "trnUDirSwinep\n",
        "detnACattle\n",
        "desnUDirBack\n",
        "tsdUCattleClin\n",
        "trcUDirCattlep\n",
        "expnAAirSwine\n",
        "trnASwine\n",
        "desnUUnspSwine\n",
        "desnAIndFwdCattle\n",
        "desnAIndBack\n",
        "trcUCattlep\n",
        "vacnAIni\n",
        "adqcU\n",
        "trcACattle\n",
        "detnUSwine\n",
        "Run\n",
        "exmnADirFwdCattle\n",
        "exmnARing\n",
        "desnAIndFwdSwine\n",
        "tsdACattleSusc\n",
        "exmnADirBackCattle\n",
        "tsdUCattleSubc\n",
        "exmnASwine\n",
        "tsdUSwineSubc\n",
        "exmnUCattle\n",
        "expcACattle\n",
        "descUSwine\n",
        "desnUIni\n",
        "trnADirSwine\n",
        "expnACattle\n",
        "destrOccurred\n",
        "detcUCattle\n",
        "exmnAIndBackCattle\n",
        "infnAIni\n",
        "vacnACattle\n",
        "desnASwine\n",
        "desnADirFwdSwine\n",
        "desnADirFwd\n",
        "desnAUnspCattle\n",
        "trnADirp\n",
        "tsdACattleSubc\n",
        "descUUnspCattle\n",
        "Total: 303\n"
       ]
      }
     ],
     "input": [
      "def match_c_headers_to_model(class_and_field, headers):\n",
      "    matches = {}\n",
      "    for query_h in headers:\n",
      "#         print('.', end='')\n",
      "        matches[query_h] = []\n",
      "        for cls, fields in class_and_field.items():\n",
      "            for field in fields:\n",
      "                if field in query_h or query_h in field:\n",
      "                    matches[query_h].append( (field, cls) )\n",
      "    return matches\n",
      "\n",
      "matches = match_c_headers_to_model(class_and_field, headers)\n",
      "count_empty_matches(matches)"
     ],
     "language": "python",
     "prompt_number": 34
    },
    {
     "cell_type": "code",
     "metadata": {},
     "outputs": [],
     "input": [
      ""
     ],
     "language": "python",
     "prompt_number": 34
    },
    {
     "cell_type": "code",
     "metadata": {},
     "outputs": [
      {
       "output_type": "stream",
       "stream": "stdout",
       "text": [
        "exposedUnitStatusCode\n",
        "detectedAnimals\n",
        "spreadMethodCode\n",
        "tscULat\n",
        "apparentInfectiousUnits\n",
        "destrCleaning\n",
        "exposed_zone\n",
        "zoncFoci\n",
        "tscANImm\n",
        "tscAVImm\n",
        "simulationStartTime\n",
        "tstnAFalsePos\n",
        "event\n",
        "detectedUnits\n",
        "tonUDirFwd\n",
        "tocUDirFwd\n",
        "diseaseEnded\n",
        "tscAClin\n",
        "lastControlStateCode\n",
        "tscUClin\n",
        "tstnAFalseNeg\n",
        "day\n",
        "zonnFoci\n",
        "exposing_zone\n",
        "tonUIndFwd\n",
        "infectiousUnits\n",
        "tonUIndBack\n",
        "destrEuthanasia\n",
        "exposure\n",
        "tocUIndBack\n",
        "infectedAnimals\n",
        "version\n",
        "newStateCode\n",
        "tscUVImm\n",
        "tstnATruePos\n",
        "tscUDest\n",
        "tstnATrueNeg\n",
        "destrIndemnification\n",
        "destrDisposal\n",
        "exposed_unit\n",
        "production_type\n",
        "isAdequate\n",
        "simulationEndTime\n",
        "tscASusc\n",
        "lastStatusCode\n",
        "destrAppraisal\n",
        "tscUSusc\n",
        "tscASubc\n",
        "costSurveillance\n",
        "infectedUnits\n",
        "breakEnded\n",
        "animalsInZone\n",
        "tocUDirBack\n",
        "zoneFociCreated\n",
        "vaccSetup\n",
        "tocUIndFwd\n",
        "vaccVaccination\n",
        "eventCode\n",
        "tonUDirBack\n",
        "testResultCode\n",
        "tscALat\n",
        "exposing_unit\n",
        "tscADest\n",
        "tscUNImm\n",
        "tscUSubc\n",
        "exposingUnitStatusCode\n",
        "Total: 66\n"
       ]
      }
     ],
     "input": [
      "def match_model_to_c_headers(class_and_field, headers):\n",
      "    matches = {}\n",
      "    for cls, fields in class_and_field.items():\n",
      "        for field in fields:\n",
      "#             print('.', end='')\n",
      "            matches[field] = []\n",
      "            for query_h in headers:\n",
      "                if field in query_h or query_h in field:\n",
      "                    matches[field].append( query_h )\n",
      "    return matches\n",
      "\n",
      "field_matches = match_model_to_c_headers(class_and_field, headers)\n",
      "count_empty_matches(field_matches)"
     ],
     "language": "python",
     "prompt_number": 35
    },
    {
     "cell_type": "code",
     "metadata": {},
     "outputs": [
      {
       "output_type": "pyout",
       "prompt_number": 36,
       "text": [
        "['trcUp',\n",
        " 'trcUDirp',\n",
        " 'trcUIndp',\n",
        " 'trcUCattlep',\n",
        " 'trcUp',\n",
        " 'trcUSwinep',\n",
        " 'trcUp',\n",
        " 'trcUp',\n",
        " 'trcUp',\n",
        " 'trcUp',\n",
        " 'trcUDirCattlep',\n",
        " 'trcUDirp',\n",
        " 'trcUDirSwinep',\n",
        " 'trcUDirp',\n",
        " 'trcUDirp',\n",
        " 'trcUDirp',\n",
        " 'trcUDirp',\n",
        " 'trcUIndCattlep',\n",
        " 'trcUIndp',\n",
        " 'trcUIndSwinep',\n",
        " 'trcUIndp',\n",
        " 'trcUIndp',\n",
        " 'trcUIndp',\n",
        " 'trcUIndp',\n",
        " 'trcU',\n",
        " 'trcUDir',\n",
        " 'trcUInd',\n",
        " 'trcUCattle',\n",
        " 'trcU',\n",
        " 'trcUSwine',\n",
        " 'trcU',\n",
        " 'trcU',\n",
        " 'trcU',\n",
        " 'trcU',\n",
        " 'trcUDirCattle',\n",
        " 'trcUDir',\n",
        " 'trcUDirSwine',\n",
        " 'trcUDir',\n",
        " 'trcUDir',\n",
        " 'trcUDir',\n",
        " 'trcUDir',\n",
        " 'trcUIndCattle',\n",
        " 'trcUInd',\n",
        " 'trcUIndSwine',\n",
        " 'trcUInd',\n",
        " 'trcUInd',\n",
        " 'trcUInd',\n",
        " 'trcUInd',\n",
        " 'trcAp',\n",
        " 'trcADirp',\n",
        " 'trcAIndp',\n",
        " 'trcACattlep',\n",
        " 'trcAp',\n",
        " 'trcASwinep',\n",
        " 'trcAp',\n",
        " 'trcAp',\n",
        " 'trcAp',\n",
        " 'trcAp',\n",
        " 'trcADirCattlep',\n",
        " 'trcADirp',\n",
        " 'trcADirSwinep',\n",
        " 'trcADirp',\n",
        " 'trcADirp',\n",
        " 'trcADirp',\n",
        " 'trcADirp',\n",
        " 'trcAIndCattlep',\n",
        " 'trcAIndp',\n",
        " 'trcAIndSwinep',\n",
        " 'trcAIndp',\n",
        " 'trcAIndp',\n",
        " 'trcAIndp',\n",
        " 'trcAIndp',\n",
        " 'trcA',\n",
        " 'trcADir',\n",
        " 'trcAInd',\n",
        " 'trcACattle',\n",
        " 'trcA',\n",
        " 'trcASwine',\n",
        " 'trcA',\n",
        " 'trcA',\n",
        " 'trcA',\n",
        " 'trcA',\n",
        " 'trcADirCattle',\n",
        " 'trcADir',\n",
        " 'trcADirSwine',\n",
        " 'trcADir',\n",
        " 'trcADir',\n",
        " 'trcADir',\n",
        " 'trcADir',\n",
        " 'trcAIndCattle',\n",
        " 'trcAInd',\n",
        " 'trcAIndSwine',\n",
        " 'trcAInd',\n",
        " 'trcAInd',\n",
        " 'trcAInd',\n",
        " 'trcAInd']"
       ],
       "metadata": {}
      }
     ],
     "input": [
      "[h for h in headers if 'trc' in h]"
     ],
     "language": "python",
     "prompt_number": 36
    },
    {
     "cell_type": "code",
     "metadata": {},
     "outputs": [],
     "input": [
      ""
     ],
     "language": "python",
     "prompt_number": 36
    },
    {
     "cell_type": "heading",
     "metadata": {},
     "level": 2,
     "source": [
      "Fields that don't match up:"
     ]
    },
    {
     "cell_type": "markdown",
     "metadata": {},
     "source": [
      "Separate Fwd and Back:  \n",
      "trcUDirp  \n",
      "    \t [('trcUDirpBack', 'DailyByProductionType'), ('trcUDirpFwd', 'DailyByProductionType'), ('trcUDirpBack', 'IterationByProductionType'), ('trcUDirpFwd', 'IterationByProductionType')]"
     ]
    },
    {
     "cell_type": "markdown",
     "metadata": {},
     "source": [
      "desnUIndBack_Brownsheep_  \n",
      "        desnUAll\n",
      "        desnAAll"
     ]
    },
    {
     "cell_type": "markdown",
     "metadata": {},
     "source": [
      "average-prevalence\n",
      "    nothing even close"
     ]
    },
    {
     "cell_type": "markdown",
     "metadata": {},
     "source": [
      "infnAIni\n",
      "    infnAInd is there.  Ini suffix is never seen"
     ]
    },
    {
     "cell_type": "code",
     "metadata": {},
     "outputs": [],
     "input": [
      ""
     ],
     "language": "python",
     "prompt_number": 36
    },
    {
     "cell_type": "code",
     "metadata": {},
     "outputs": [],
     "input": [
      ""
     ],
     "language": "python",
     "prompt_number": 36
    },
    {
     "cell_type": "markdown",
     "metadata": {},
     "source": [
      "#New Output Spec\n",
      "\n",
      "* Start with All columns generated by C Sim - listed in [Output Docs](https://github.com/NAVADMC/SpreadModel/wiki/Outputs)\n",
      "* Break down redundant information into tables based on Breakdown columns\n",
      "* One Table for each Breakdown Permutation (possibly not \"Cause / Reason\")\n",
      " * Fields broken down by Cause/Reason will ForeignKey to a complex type with BackDirect,ForwardDirect,BackIndirect,ForwardDirect\n",
      "* Use Strippable column substrings to determine destination table\n",
      "* Calculate \"Iteration\" level statistics only after gathering \"Daily Statistics\""
     ]
    },
    {
     "cell_type": "code",
     "metadata": {},
     "outputs": [],
     "input": [
      "spec_headers = \"expnU,expcU,expnA,expcA,infnU,infcU,infnA,infcA,firstDetection,lastDetection,detnU,detcU,detnA,detcA,trnUp,trnU,trcUp,trcU,trnAp,trnA,trcAp,trcA,exmnU,exmcU,exmnA,exmcA,tstcU,tstcA,firstVaccination,vacnU,vaccU,vacnA,vaccA,firstDestruction,desnU,descU,desnA,descA,tsdUSusc,tsdULat,tsdUSubc,tsdUClin,tsdUNImm,tsdUVImm,tsdUDest,tsdASusc,tsdALat,tsdASubc,tsdAClin,tsdANImm,tsdAVImm,tsdADest,tstcUTruePos,tstcUTrueNeg,tstcUFalsePos,tstcUFalseNeg,vacwU,vacwA,deswU,deswA,unitsInZone,unitDaysInZone,animalDaysInZone,zoneArea,maxZoneArea,maxZoneAreaDay,zonePerimeter,maxZonePerimeter,maxZonePerimeterDay,diseaseDuration,adqnU,adqcU,detOccurred,costSurveillance,vaccOccurred,vacwUMax,vacwUMaxDay,vacwUDaysInQueue,vacwUTimeAvg,vacwUTimeMax,vacwAMax,vacwAMaxDay,vacwADaysInQueue,vaccSetup,vaccVaccination,vaccSubtotal,destrOccurred,deswUMax,deswUMaxDay,deswUDaysInQueue,deswUTimeAvg,deswUTimeMax,deswAMax,deswAMaxDay,deswADaysInQueue,destrAppraisal,destrEuthanasia,destrIndemnification,destrDisposal,destrCleaning,destrSubtotal,outbreakDuration,costsTotal\".split(',')"
     ],
     "language": "python",
     "prompt_number": 37
    },
    {
     "cell_type": "code",
     "metadata": {},
     "outputs": [
      {
       "output_type": "stream",
       "stream": "stdout",
       "text": [
        "costSurveillance\n",
        "vaccSetup\n",
        "vaccVaccination\n",
        "vaccSubtotal\n",
        "destrAppraisal\n",
        "destrEuthanasia\n",
        "destrIndemnification\n",
        "destrDisposal\n",
        "destrCleaning\n",
        "destrSubtotal\n",
        "costsTotal\n"
       ]
      }
     ],
     "input": [
      "print('\\n'.join([column for column in spec_headers if not len(substr_indices(headers, column))]))"
     ],
     "language": "python",
     "prompt_number": 38
    },
    {
     "cell_type": "code",
     "metadata": {},
     "outputs": [
      {
       "output_type": "stream",
       "stream": "stdout",
       "text": [
        "['expnU', 'expcU', 'expnA', 'expcA', 'exmnU', 'exmcU', 'exmnA', 'exmcA']\n"
       ]
      }
     ],
     "input": [
      "print([h for h in spec_headers if 'ex' in h])"
     ],
     "language": "python",
     "prompt_number": 39
    },
    {
     "cell_type": "heading",
     "metadata": {},
     "level": 3,
     "source": [
      "New Spec Declaration"
     ]
    },
    {
     "cell_type": "code",
     "metadata": {},
     "outputs": [],
     "input": [
      "new_spec = {}\n",
      "new_spec['DailyByProductionType'] = \"expnU,expcU,expnA,expcA,infnU,infcU,infnA,infcA,firstDetection,lastDetection,detnU,detcU,detnA,detcA,trnUp,trnU,trcUp,trcU,trnAp,trnA,trcAp,trcA,exmnU,exmcU,exmnA,exmcA,tstcU,tstcA,firstVaccination,vacnU,vaccU,vacnA,vaccA,firstDestruction,desnU,descU,desnA,descA,tsdUSusc,tsdULat,tsdUSubc,tsdUClin,tsdUNImm,tsdUVImm,tsdUDest,tsdASusc,tsdALat,tsdASubc,tsdAClin,tsdANImm,tsdAVImm,tsdADest,tstcUTruePos,tstcUTrueNeg,tstcUFalsePos,tstcUFalseNeg,vacwU,vacwA,deswU,deswA\".split(',')\n",
      "new_spec['DailyByZoneAndProductionType'] = \"unitsInZone,unitDaysInZone,animalDaysInZone\".split(',')\n",
      "new_spec['DailyByZone'] = \"zoneArea,maxZoneArea,maxZoneAreaDay,zonePerimeter,maxZonePerimeter,maxZonePerimeterDay\".split(',')\n",
      "new_spec['DailyControls'] = \"diseaseDuration,adqnU,adqcU,detOccurred,costSurveillance,vaccOccurred,vacwUMax,vacwUMaxDay,vacwUDaysInQueue,vacwUTimeAvg,vacwUTimeMax,vacwAMax,vacwAMaxDay,vacwADaysInQueue,vaccSetup,vaccVaccination,vaccSubtotal,destrOccurred,deswUMax,deswUMaxDay,deswUDaysInQueue,deswUTimeAvg,deswUTimeMax,deswAMax,deswAMaxDay,deswADaysInQueue,destrAppraisal,destrEuthanasia,destrIndemnification,destrDisposal,destrCleaning,destrSubtotal,outbreakDuration,costsTotal\".split(',')"
     ],
     "language": "python",
     "prompt_number": 40
    },
    {
     "cell_type": "code",
     "metadata": {},
     "outputs": [],
     "input": [
      "raw_headers = \"Run,Day,outbreakDuration,infnUAll,infnUDir,infnUInd,infnUAir,infnUIni,infnUCattle,infnU_Dogsheep_,infnUSwine,infnU_Bulldog_,infnU_Brownsheep_,infnU_Doe_,infnU_Pig_,infnUDirCattle,infnUDir_Dogsheep_,infnUDirSwine,infnUDir_Bulldog_,infnUDir_Brownsheep_,infnUDir_Doe_,infnUDir_Pig_,infnUIndCattle,infnUInd_Dogsheep_,infnUIndSwine,infnUInd_Bulldog_,infnUInd_Brownsheep_,infnUInd_Doe_,infnUInd_Pig_,infnUAirCattle,infnUAir_Dogsheep_,infnUAirSwine,infnUAir_Bulldog_,infnUAir_Brownsheep_,infnUAir_Doe_,infnUAir_Pig_,infnUIniCattle,infnUIni_Dogsheep_,infnUIniSwine,infnUIni_Bulldog_,infnUIni_Brownsheep_,infnUIni_Doe_,infnUIni_Pig_,infcUAll,infcUDir,infcUInd,infcUAir,infcUIni,infcUCattle,infcU_Dogsheep_,infcUSwine,infcU_Bulldog_,infcU_Brownsheep_,infcU_Doe_,infcU_Pig_,infcUDirCattle,infcUDir_Dogsheep_,infcUDirSwine,infcUDir_Bulldog_,infcUDir_Brownsheep_,infcUDir_Doe_,infcUDir_Pig_,infcUIndCattle,infcUInd_Dogsheep_,infcUIndSwine,infcUInd_Bulldog_,infcUInd_Brownsheep_,infcUInd_Doe_,infcUInd_Pig_,infcUAirCattle,infcUAir_Dogsheep_,infcUAirSwine,infcUAir_Bulldog_,infcUAir_Brownsheep_,infcUAir_Doe_,infcUAir_Pig_,infcUIniCattle,infcUIni_Dogsheep_,infcUIniSwine,infcUIni_Bulldog_,infcUIni_Brownsheep_,infcUIni_Doe_,infcUIni_Pig_,infnAAll,infnADir,infnAInd,infnAAir,infnAIni,infnACattle,infnA_Dogsheep_,infnASwine,infnA_Bulldog_,infnA_Brownsheep_,infnA_Doe_,infnA_Pig_,infnADirCattle,infnADir_Dogsheep_,infnADirSwine,infnADir_Bulldog_,infnADir_Brownsheep_,infnADir_Doe_,infnADir_Pig_,infnAIndCattle,infnAInd_Dogsheep_,infnAIndSwine,infnAInd_Bulldog_,infnAInd_Brownsheep_,infnAInd_Doe_,infnAInd_Pig_,infnAAirCattle,infnAAir_Dogsheep_,infnAAirSwine,infnAAir_Bulldog_,infnAAir_Brownsheep_,infnAAir_Doe_,infnAAir_Pig_,infnAIniCattle,infnAIni_Dogsheep_,infnAIniSwine,infnAIni_Bulldog_,infnAIni_Brownsheep_,infnAIni_Doe_,infnAIni_Pig_,infcAAll,infcADir,infcAInd,infcAAir,infcAIni,infcACattle,infcA_Dogsheep_,infcASwine,infcA_Bulldog_,infcA_Brownsheep_,infcA_Doe_,infcA_Pig_,infcADirCattle,infcADir_Dogsheep_,infcADirSwine,infcADir_Bulldog_,infcADir_Brownsheep_,infcADir_Doe_,infcADir_Pig_,infcAIndCattle,infcAInd_Dogsheep_,infcAIndSwine,infcAInd_Bulldog_,infcAInd_Brownsheep_,infcAInd_Doe_,infcAInd_Pig_,infcAAirCattle,infcAAir_Dogsheep_,infcAAirSwine,infcAAir_Bulldog_,infcAAir_Brownsheep_,infcAAir_Doe_,infcAAir_Pig_,infcAIniCattle,infcAIni_Dogsheep_,infcAIniSwine,infcAIni_Bulldog_,infcAIni_Brownsheep_,infcAIni_Doe_,infcAIni_Pig_,firstDetUInfAll,firstDetAInfAll,ratio,expnUAll,expnUDir,expnUInd,expnUAir,expnUCattle,expnU_Dogsheep_,expnUSwine,expnU_Bulldog_,expnU_Brownsheep_,expnU_Doe_,expnU_Pig_,expnUDirCattle,expnUDir_Dogsheep_,expnUDirSwine,expnUDir_Bulldog_,expnUDir_Brownsheep_,expnUDir_Doe_,expnUDir_Pig_,expnUIndCattle,expnUInd_Dogsheep_,expnUIndSwine,expnUInd_Bulldog_,expnUInd_Brownsheep_,expnUInd_Doe_,expnUInd_Pig_,expnUAirCattle,expnUAir_Dogsheep_,expnUAirSwine,expnUAir_Bulldog_,expnUAir_Brownsheep_,expnUAir_Doe_,expnUAir_Pig_,expcUAll,expcUDir,expcUInd,expcUAir,expcUCattle,expcU_Dogsheep_,expcUSwine,expcU_Bulldog_,expcU_Brownsheep_,expcU_Doe_,expcU_Pig_,expcUDirCattle,expcUDir_Dogsheep_,expcUDirSwine,expcUDir_Bulldog_,expcUDir_Brownsheep_,expcUDir_Doe_,expcUDir_Pig_,expcUIndCattle,expcUInd_Dogsheep_,expcUIndSwine,expcUInd_Bulldog_,expcUInd_Brownsheep_,expcUInd_Doe_,expcUInd_Pig_,expcUAirCattle,expcUAir_Dogsheep_,expcUAirSwine,expcUAir_Bulldog_,expcUAir_Brownsheep_,expcUAir_Doe_,expcUAir_Pig_,expnAAll,expnADir,expnAInd,expnAAir,expnACattle,expnA_Dogsheep_,expnASwine,expnA_Bulldog_,expnA_Brownsheep_,expnA_Doe_,expnA_Pig_,expnADirCattle,expnADir_Dogsheep_,expnADirSwine,expnADir_Bulldog_,expnADir_Brownsheep_,expnADir_Doe_,expnADir_Pig_,expnAIndCattle,expnAInd_Dogsheep_,expnAIndSwine,expnAInd_Bulldog_,expnAInd_Brownsheep_,expnAInd_Doe_,expnAInd_Pig_,expnAAirCattle,expnAAir_Dogsheep_,expnAAirSwine,expnAAir_Bulldog_,expnAAir_Brownsheep_,expnAAir_Doe_,expnAAir_Pig_,expcAAll,expcADir,expcAInd,expcAAir,expcACattle,expcA_Dogsheep_,expcASwine,expcA_Bulldog_,expcA_Brownsheep_,expcA_Doe_,expcA_Pig_,expcADirCattle,expcADir_Dogsheep_,expcADirSwine,expcADir_Bulldog_,expcADir_Brownsheep_,expcADir_Doe_,expcADir_Pig_,expcAIndCattle,expcAInd_Dogsheep_,expcAIndSwine,expcAInd_Bulldog_,expcAInd_Brownsheep_,expcAInd_Doe_,expcAInd_Pig_,expcAAirCattle,expcAAir_Dogsheep_,expcAAirSwine,expcAAir_Bulldog_,expcAAir_Brownsheep_,expcAAir_Doe_,expcAAir_Pig_,adqnUAll,adqcUAll,vacwUAll,vacwUCattle,vacwU_Dogsheep_,vacwUSwine,vacwU_Bulldog_,vacwU_Brownsheep_,vacwU_Doe_,vacwU_Pig_,vacwAAll,vacwACattle,vacwA_Dogsheep_,vacwASwine,vacwA_Bulldog_,vacwA_Brownsheep_,vacwA_Doe_,vacwA_Pig_,vacwUMax,vacwUMaxDay,vacwAMax,vacwAMaxDay,vacwUTimeMax,vacwUTimeAvg,vacwUDaysInQueue,vacwADaysInQueue,zoneAreaHighRisk,zoneAreaMediumRisk,maxZoneAreaHighRisk,maxZoneAreaMediumRisk,maxZoneAreaDayHighRisk,maxZoneAreaDayMediumRisk,finalZoneAreaHighRisk,finalZoneAreaMediumRisk,zonePerimeterHighRisk,zonePerimeterMediumRisk,maxZonePerimeterHighRisk,maxZonePerimeterMediumRisk,maxZonePerimeterDayHighRisk,maxZonePerimeterDayMediumRisk,finalZonePerimeterHighRisk,finalZonePerimeterMediumRisk,num-separate-areasHighRisk,num-separate-areasMediumRisk,unitsInZoneHighRisk,unitsInZoneMediumRisk,unitsInZoneBackground,unitsInZoneHighRiskCattle,unitsInZoneHighRisk_Dogsheep_,unitsInZoneHighRiskSwine,unitsInZoneHighRisk_Bulldog_,unitsInZoneHighRisk_Brownsheep_,unitsInZoneHighRisk_Doe_,unitsInZoneHighRisk_Pig_,unitsInZoneMediumRiskCattle,unitsInZoneMediumRisk_Dogsheep_,unitsInZoneMediumRiskSwine,unitsInZoneMediumRisk_Bulldog_,unitsInZoneMediumRisk_Brownsheep_,unitsInZoneMediumRisk_Doe_,unitsInZoneMediumRisk_Pig_,unitsInZoneBackgroundCattle,unitsInZoneBackground_Dogsheep_,unitsInZoneBackgroundSwine,unitsInZoneBackground_Bulldog_,unitsInZoneBackground_Brownsheep_,unitsInZoneBackground_Doe_,unitsInZoneBackground_Pig_,unitDaysInZoneHighRisk,unitDaysInZoneMediumRisk,unitDaysInZoneBackground,unitDaysInZoneHighRiskCattle,unitDaysInZoneHighRisk_Dogsheep_,unitDaysInZoneHighRiskSwine,unitDaysInZoneHighRisk_Bulldog_,unitDaysInZoneHighRisk_Brownsheep_,unitDaysInZoneHighRisk_Doe_,unitDaysInZoneHighRisk_Pig_,unitDaysInZoneMediumRiskCattle,unitDaysInZoneMediumRisk_Dogsheep_,unitDaysInZoneMediumRiskSwine,unitDaysInZoneMediumRisk_Bulldog_,unitDaysInZoneMediumRisk_Brownsheep_,unitDaysInZoneMediumRisk_Doe_,unitDaysInZoneMediumRisk_Pig_,unitDaysInZoneBackgroundCattle,unitDaysInZoneBackground_Dogsheep_,unitDaysInZoneBackgroundSwine,unitDaysInZoneBackground_Bulldog_,unitDaysInZoneBackground_Brownsheep_,unitDaysInZoneBackground_Doe_,unitDaysInZoneBackground_Pig_,animalDaysInZoneHighRisk,animalDaysInZoneMediumRisk,animalDaysInZoneBackground,animalDaysInZoneHighRiskCattle,animalDaysInZoneHighRisk_Dogsheep_,animalDaysInZoneHighRiskSwine,animalDaysInZoneHighRisk_Bulldog_,animalDaysInZoneHighRisk_Brownsheep_,animalDaysInZoneHighRisk_Doe_,animalDaysInZoneHighRisk_Pig_,animalDaysInZoneMediumRiskCattle,animalDaysInZoneMediumRisk_Dogsheep_,animalDaysInZoneMediumRiskSwine,animalDaysInZoneMediumRisk_Bulldog_,animalDaysInZoneMediumRisk_Brownsheep_,animalDaysInZoneMediumRisk_Doe_,animalDaysInZoneMediumRisk_Pig_,animalDaysInZoneBackgroundCattle,animalDaysInZoneBackground_Dogsheep_,animalDaysInZoneBackgroundSwine,animalDaysInZoneBackground_Bulldog_,animalDaysInZoneBackground_Brownsheep_,animalDaysInZoneBackground_Doe_,animalDaysInZoneBackground_Pig_,deswUAll,deswUCattle,deswU_Dogsheep_,deswUSwine,deswU_Bulldog_,deswU_Brownsheep_,deswU_Doe_,deswU_Pig_,deswAAll,deswACattle,deswA_Dogsheep_,deswASwine,deswA_Bulldog_,deswA_Brownsheep_,deswA_Doe_,deswA_Pig_,deswUMax,deswUMaxDay,deswAMax,deswAMaxDay,deswUTimeMax,deswUTimeAvg,deswUDaysInQueue,deswADaysInQueue,destrOccurred,firstDestruction,firstDestructionUnsp,firstDestructionRing,firstDestructionDirFwd,firstDestructionIndFwd,firstDestructionDirBack,firstDestructionIndBack,firstDestructionDet,firstDestructionIni,firstDestructionCattle,firstDestruction_Dogsheep_,firstDestructionSwine,firstDestruction_Bulldog_,firstDestruction_Brownsheep_,firstDestruction_Doe_,firstDestruction_Pig_,firstDestructionUnspCattle,firstDestructionUnsp_Dogsheep_,firstDestructionUnspSwine,firstDestructionUnsp_Bulldog_,firstDestructionUnsp_Brownsheep_,firstDestructionUnsp_Doe_,firstDestructionUnsp_Pig_,firstDestructionRingCattle,firstDestructionRing_Dogsheep_,firstDestructionRingSwine,firstDestructionRing_Bulldog_,firstDestructionRing_Brownsheep_,firstDestructionRing_Doe_,firstDestructionRing_Pig_,firstDestructionDirFwdCattle,firstDestructionDirFwd_Dogsheep_,firstDestructionDirFwdSwine,firstDestructionDirFwd_Bulldog_,firstDestructionDirFwd_Brownsheep_,firstDestructionDirFwd_Doe_,firstDestructionDirFwd_Pig_,firstDestructionIndFwdCattle,firstDestructionIndFwd_Dogsheep_,firstDestructionIndFwdSwine,firstDestructionIndFwd_Bulldog_,firstDestructionIndFwd_Brownsheep_,firstDestructionIndFwd_Doe_,firstDestructionIndFwd_Pig_,firstDestructionDirBackCattle,firstDestructionDirBack_Dogsheep_,firstDestructionDirBackSwine,firstDestructionDirBack_Bulldog_,firstDestructionDirBack_Brownsheep_,firstDestructionDirBack_Doe_,firstDestructionDirBack_Pig_,firstDestructionIndBackCattle,firstDestructionIndBack_Dogsheep_,firstDestructionIndBackSwine,firstDestructionIndBack_Bulldog_,firstDestructionIndBack_Brownsheep_,firstDestructionIndBack_Doe_,firstDestructionIndBack_Pig_,firstDestructionDetCattle,firstDestructionDet_Dogsheep_,firstDestructionDetSwine,firstDestructionDet_Bulldog_,firstDestructionDet_Brownsheep_,firstDestructionDet_Doe_,firstDestructionDet_Pig_,firstDestructionIniCattle,firstDestructionIni_Dogsheep_,firstDestructionIniSwine,firstDestructionIni_Bulldog_,firstDestructionIni_Brownsheep_,firstDestructionIni_Doe_,firstDestructionIni_Pig_,desnUAll,desnUIni,desnUUnsp,desnURing,desnUDirFwd,desnUIndFwd,desnUDirBack,desnUIndBack,desnUDet,desnUCattle,desnU_Dogsheep_,desnUSwine,desnU_Bulldog_,desnU_Brownsheep_,desnU_Doe_,desnU_Pig_,desnUIniCattle,desnUIni_Dogsheep_,desnUIniSwine,desnUIni_Bulldog_,desnUIni_Brownsheep_,desnUIni_Doe_,desnUIni_Pig_,desnUUnspCattle,desnUUnsp_Dogsheep_,desnUUnspSwine,desnUUnsp_Bulldog_,desnUUnsp_Brownsheep_,desnUUnsp_Doe_,desnUUnsp_Pig_,desnURingCattle,desnURing_Dogsheep_,desnURingSwine,desnURing_Bulldog_,desnURing_Brownsheep_,desnURing_Doe_,desnURing_Pig_,desnUDirFwdCattle,desnUDirFwd_Dogsheep_,desnUDirFwdSwine,desnUDirFwd_Bulldog_,desnUDirFwd_Brownsheep_,desnUDirFwd_Doe_,desnUDirFwd_Pig_,desnUIndFwdCattle,desnUIndFwd_Dogsheep_,desnUIndFwdSwine,desnUIndFwd_Bulldog_,desnUIndFwd_Brownsheep_,desnUIndFwd_Doe_,desnUIndFwd_Pig_,desnUDirBackCattle,desnUDirBack_Dogsheep_,desnUDirBackSwine,desnUDirBack_Bulldog_,desnUDirBack_Brownsheep_,desnUDirBack_Doe_,desnUDirBack_Pig_,desnUIndBackCattle,desnUIndBack_Dogsheep_,desnUIndBackSwine,desnUIndBack_Bulldog_,desnUIndBack_Brownsheep_,desnUIndBack_Doe_,desnUIndBack_Pig_,desnUDetCattle,desnUDet_Dogsheep_,desnUDetSwine,desnUDet_Bulldog_,desnUDet_Brownsheep_,desnUDet_Doe_,desnUDet_Pig_,descUAll,descUIni,descUUnsp,descURing,descUDirFwd,descUIndFwd,descUDirBack,descUIndBack,descUDet,descUCattle,descU_Dogsheep_,descUSwine,descU_Bulldog_,descU_Brownsheep_,descU_Doe_,descU_Pig_,descUIniCattle,descUIni_Dogsheep_,descUIniSwine,descUIni_Bulldog_,descUIni_Brownsheep_,descUIni_Doe_,descUIni_Pig_,descUUnspCattle,descUUnsp_Dogsheep_,descUUnspSwine,descUUnsp_Bulldog_,descUUnsp_Brownsheep_,descUUnsp_Doe_,descUUnsp_Pig_,descURingCattle,descURing_Dogsheep_,descURingSwine,descURing_Bulldog_,descURing_Brownsheep_,descURing_Doe_,descURing_Pig_,descUDirFwdCattle,descUDirFwd_Dogsheep_,descUDirFwdSwine,descUDirFwd_Bulldog_,descUDirFwd_Brownsheep_,descUDirFwd_Doe_,descUDirFwd_Pig_,descUIndFwdCattle,descUIndFwd_Dogsheep_,descUIndFwdSwine,descUIndFwd_Bulldog_,descUIndFwd_Brownsheep_,descUIndFwd_Doe_,descUIndFwd_Pig_,descUDirBackCattle,descUDirBack_Dogsheep_,descUDirBackSwine,descUDirBack_Bulldog_,descUDirBack_Brownsheep_,descUDirBack_Doe_,descUDirBack_Pig_,descUIndBackCattle,descUIndBack_Dogsheep_,descUIndBackSwine,descUIndBack_Bulldog_,descUIndBack_Brownsheep_,descUIndBack_Doe_,descUIndBack_Pig_,descUDetCattle,descUDet_Dogsheep_,descUDetSwine,descUDet_Bulldog_,descUDet_Brownsheep_,descUDet_Doe_,descUDet_Pig_,desnAAll,desnAIni,desnAUnsp,desnARing,desnADirFwd,desnAIndFwd,desnADirBack,desnAIndBack,desnADet,desnACattle,desnA_Dogsheep_,desnASwine,desnA_Bulldog_,desnA_Brownsheep_,desnA_Doe_,desnA_Pig_,desnAIniCattle,desnAIni_Dogsheep_,desnAIniSwine,desnAIni_Bulldog_,desnAIni_Brownsheep_,desnAIni_Doe_,desnAIni_Pig_,desnAUnspCattle,desnAUnsp_Dogsheep_,desnAUnspSwine,desnAUnsp_Bulldog_,desnAUnsp_Brownsheep_,desnAUnsp_Doe_,desnAUnsp_Pig_,desnARingCattle,desnARing_Dogsheep_,desnARingSwine,desnARing_Bulldog_,desnARing_Brownsheep_,desnARing_Doe_,desnARing_Pig_,desnADirFwdCattle,desnADirFwd_Dogsheep_,desnADirFwdSwine,desnADirFwd_Bulldog_,desnADirFwd_Brownsheep_,desnADirFwd_Doe_,desnADirFwd_Pig_,desnAIndFwdCattle,desnAIndFwd_Dogsheep_,desnAIndFwdSwine,desnAIndFwd_Bulldog_,desnAIndFwd_Brownsheep_,desnAIndFwd_Doe_,desnAIndFwd_Pig_,desnADirBackCattle,desnADirBack_Dogsheep_,desnADirBackSwine,desnADirBack_Bulldog_,desnADirBack_Brownsheep_,desnADirBack_Doe_,desnADirBack_Pig_,desnAIndBackCattle,desnAIndBack_Dogsheep_,desnAIndBackSwine,desnAIndBack_Bulldog_,desnAIndBack_Brownsheep_,desnAIndBack_Doe_,desnAIndBack_Pig_,desnADetCattle,desnADet_Dogsheep_,desnADetSwine,desnADet_Bulldog_,desnADet_Brownsheep_,desnADet_Doe_,desnADet_Pig_,descAAll,descAIni,descAUnsp,descARing,descADirFwd,descAIndFwd,descADirBack,descAIndBack,descADet,descACattle,descA_Dogsheep_,descASwine,descA_Bulldog_,descA_Brownsheep_,descA_Doe_,descA_Pig_,descAIniCattle,descAIni_Dogsheep_,descAIniSwine,descAIni_Bulldog_,descAIni_Brownsheep_,descAIni_Doe_,descAIni_Pig_,descAUnspCattle,descAUnsp_Dogsheep_,descAUnspSwine,descAUnsp_Bulldog_,descAUnsp_Brownsheep_,descAUnsp_Doe_,descAUnsp_Pig_,descARingCattle,descARing_Dogsheep_,descARingSwine,descARing_Bulldog_,descARing_Brownsheep_,descARing_Doe_,descARing_Pig_,descADirFwdCattle,descADirFwd_Dogsheep_,descADirFwdSwine,descADirFwd_Bulldog_,descADirFwd_Brownsheep_,descADirFwd_Doe_,descADirFwd_Pig_,descAIndFwdCattle,descAIndFwd_Dogsheep_,descAIndFwdSwine,descAIndFwd_Bulldog_,descAIndFwd_Brownsheep_,descAIndFwd_Doe_,descAIndFwd_Pig_,descADirBackCattle,descADirBack_Dogsheep_,descADirBackSwine,descADirBack_Bulldog_,descADirBack_Brownsheep_,descADirBack_Doe_,descADirBack_Pig_,descAIndBackCattle,descAIndBack_Dogsheep_,descAIndBackSwine,descAIndBack_Bulldog_,descAIndBack_Brownsheep_,descAIndBack_Doe_,descAIndBack_Pig_,descADetCattle,descADet_Dogsheep_,descADetSwine,descADet_Bulldog_,descADet_Brownsheep_,descADet_Doe_,descADet_Pig_,trnUAllp,trnUDirp,trnUIndp,trnUCattlep,trnU_Dogsheep_p,trnUSwinep,trnU_Bulldog_p,trnU_Brownsheep_p,trnU_Doe_p,trnU_Pig_p,trnUDirCattlep,trnUDir_Dogsheep_p,trnUDirSwinep,trnUDir_Bulldog_p,trnUDir_Brownsheep_p,trnUDir_Doe_p,trnUDir_Pig_p,trnUIndCattlep,trnUInd_Dogsheep_p,trnUIndSwinep,trnUInd_Bulldog_p,trnUInd_Brownsheep_p,trnUInd_Doe_p,trnUInd_Pig_p,trcUAllp,trcUDirp,trcUIndp,trcUCattlep,trcU_Dogsheep_p,trcUSwinep,trcU_Bulldog_p,trcU_Brownsheep_p,trcU_Doe_p,trcU_Pig_p,trcUDirCattlep,trcUDir_Dogsheep_p,trcUDirSwinep,trcUDir_Bulldog_p,trcUDir_Brownsheep_p,trcUDir_Doe_p,trcUDir_Pig_p,trcUIndCattlep,trcUInd_Dogsheep_p,trcUIndSwinep,trcUInd_Bulldog_p,trcUInd_Brownsheep_p,trcUInd_Doe_p,trcUInd_Pig_p,trnUAll,trnUDir,trnUInd,trnUCattle,trnU_Dogsheep_,trnUSwine,trnU_Bulldog_,trnU_Brownsheep_,trnU_Doe_,trnU_Pig_,trnUDirCattle,trnUDir_Dogsheep_,trnUDirSwine,trnUDir_Bulldog_,trnUDir_Brownsheep_,trnUDir_Doe_,trnUDir_Pig_,trnUIndCattle,trnUInd_Dogsheep_,trnUIndSwine,trnUInd_Bulldog_,trnUInd_Brownsheep_,trnUInd_Doe_,trnUInd_Pig_,trcUAll,trcUDir,trcUInd,trcUCattle,trcU_Dogsheep_,trcUSwine,trcU_Bulldog_,trcU_Brownsheep_,trcU_Doe_,trcU_Pig_,trcUDirCattle,trcUDir_Dogsheep_,trcUDirSwine,trcUDir_Bulldog_,trcUDir_Brownsheep_,trcUDir_Doe_,trcUDir_Pig_,trcUIndCattle,trcUInd_Dogsheep_,trcUIndSwine,trcUInd_Bulldog_,trcUInd_Brownsheep_,trcUInd_Doe_,trcUInd_Pig_,trnAAllp,trnADirp,trnAIndp,trnACattlep,trnA_Dogsheep_p,trnASwinep,trnA_Bulldog_p,trnA_Brownsheep_p,trnA_Doe_p,trnA_Pig_p,trnADirCattlep,trnADir_Dogsheep_p,trnADirSwinep,trnADir_Bulldog_p,trnADir_Brownsheep_p,trnADir_Doe_p,trnADir_Pig_p,trnAIndCattlep,trnAInd_Dogsheep_p,trnAIndSwinep,trnAInd_Bulldog_p,trnAInd_Brownsheep_p,trnAInd_Doe_p,trnAInd_Pig_p,trcAAllp,trcADirp,trcAIndp,trcACattlep,trcA_Dogsheep_p,trcASwinep,trcA_Bulldog_p,trcA_Brownsheep_p,trcA_Doe_p,trcA_Pig_p,trcADirCattlep,trcADir_Dogsheep_p,trcADirSwinep,trcADir_Bulldog_p,trcADir_Brownsheep_p,trcADir_Doe_p,trcADir_Pig_p,trcAIndCattlep,trcAInd_Dogsheep_p,trcAIndSwinep,trcAInd_Bulldog_p,trcAInd_Brownsheep_p,trcAInd_Doe_p,trcAInd_Pig_p,trnAAll,trnADir,trnAInd,trnACattle,trnA_Dogsheep_,trnASwine,trnA_Bulldog_,trnA_Brownsheep_,trnA_Doe_,trnA_Pig_,trnADirCattle,trnADir_Dogsheep_,trnADirSwine,trnADir_Bulldog_,trnADir_Brownsheep_,trnADir_Doe_,trnADir_Pig_,trnAIndCattle,trnAInd_Dogsheep_,trnAIndSwine,trnAInd_Bulldog_,trnAInd_Brownsheep_,trnAInd_Doe_,trnAInd_Pig_,trcAAll,trcADir,trcAInd,trcACattle,trcA_Dogsheep_,trcASwine,trcA_Bulldog_,trcA_Brownsheep_,trcA_Doe_,trcA_Pig_,trcADirCattle,trcADir_Dogsheep_,trcADirSwine,trcADir_Bulldog_,trcADir_Brownsheep_,trcADir_Doe_,trcADir_Pig_,trcAIndCattle,trcAInd_Dogsheep_,trcAIndSwine,trcAInd_Bulldog_,trcAInd_Brownsheep_,trcAInd_Doe_,trcAInd_Pig_,detOccurred,firstDetection,firstDetectionClin,firstDetectionTest,firstDetectionCattle,firstDetection_Dogsheep_,firstDetectionSwine,firstDetection_Bulldog_,firstDetection_Brownsheep_,firstDetection_Doe_,firstDetection_Pig_,firstDetectionClinCattle,firstDetectionClin_Dogsheep_,firstDetectionClinSwine,firstDetectionClin_Bulldog_,firstDetectionClin_Brownsheep_,firstDetectionClin_Doe_,firstDetectionClin_Pig_,firstDetectionTestCattle,firstDetectionTest_Dogsheep_,firstDetectionTestSwine,firstDetectionTest_Bulldog_,firstDetectionTest_Brownsheep_,firstDetectionTest_Doe_,firstDetectionTest_Pig_,lastDetection,lastDetectionClin,lastDetectionTest,lastDetectionCattle,lastDetection_Dogsheep_,lastDetectionSwine,lastDetection_Bulldog_,lastDetection_Brownsheep_,lastDetection_Doe_,lastDetection_Pig_,lastDetectionClinCattle,lastDetectionClin_Dogsheep_,lastDetectionClinSwine,lastDetectionClin_Bulldog_,lastDetectionClin_Brownsheep_,lastDetectionClin_Doe_,lastDetectionClin_Pig_,lastDetectionTestCattle,lastDetectionTest_Dogsheep_,lastDetectionTestSwine,lastDetectionTest_Bulldog_,lastDetectionTest_Brownsheep_,lastDetectionTest_Doe_,lastDetectionTest_Pig_,detnUAll,detnUClin,detnUTest,detnUCattle,detnU_Dogsheep_,detnUSwine,detnU_Bulldog_,detnU_Brownsheep_,detnU_Doe_,detnU_Pig_,detnUClinCattle,detnUClin_Dogsheep_,detnUClinSwine,detnUClin_Bulldog_,detnUClin_Brownsheep_,detnUClin_Doe_,detnUClin_Pig_,detnUTestCattle,detnUTest_Dogsheep_,detnUTestSwine,detnUTest_Bulldog_,detnUTest_Brownsheep_,detnUTest_Doe_,detnUTest_Pig_,detnAAll,detnAClin,detnATest,detnACattle,detnA_Dogsheep_,detnASwine,detnA_Bulldog_,detnA_Brownsheep_,detnA_Doe_,detnA_Pig_,detnAClinCattle,detnAClin_Dogsheep_,detnAClinSwine,detnAClin_Bulldog_,detnAClin_Brownsheep_,detnAClin_Doe_,detnAClin_Pig_,detnATestCattle,detnATest_Dogsheep_,detnATestSwine,detnATest_Bulldog_,detnATest_Brownsheep_,detnATest_Doe_,detnATest_Pig_,detcUAll,detcUClin,detcUTest,detcUCattle,detcU_Dogsheep_,detcUSwine,detcU_Bulldog_,detcU_Brownsheep_,detcU_Doe_,detcU_Pig_,detcUClinCattle,detcUClin_Dogsheep_,detcUClinSwine,detcUClin_Bulldog_,detcUClin_Brownsheep_,detcUClin_Doe_,detcUClin_Pig_,detcUTestCattle,detcUTest_Dogsheep_,detcUTestSwine,detcUTest_Bulldog_,detcUTest_Brownsheep_,detcUTest_Doe_,detcUTest_Pig_,detcUqAll,detcAAll,detcAClin,detcATest,detcACattle,detcA_Dogsheep_,detcASwine,detcA_Bulldog_,detcA_Brownsheep_,detcA_Doe_,detcA_Pig_,detcAClinCattle,detcAClin_Dogsheep_,detcAClinSwine,detcAClin_Bulldog_,detcAClin_Brownsheep_,detcAClin_Doe_,detcAClin_Pig_,detcATestCattle,detcATest_Dogsheep_,detcATestSwine,detcATest_Bulldog_,detcATest_Brownsheep_,detcATest_Doe_,detcATest_Pig_,tsdUSusc,tsdULat,tsdUSubc,tsdUClin,tsdUNImm,tsdUVImm,tsdUDest,tsdUCattleSusc,tsdUCattleLat,tsdUCattleSubc,tsdUCattleClin,tsdUCattleNImm,tsdUCattleVImm,tsdUCattleDest,tsdU_Dogsheep_Susc,tsdU_Dogsheep_Lat,tsdU_Dogsheep_Subc,tsdU_Dogsheep_Clin,tsdU_Dogsheep_NImm,tsdU_Dogsheep_VImm,tsdU_Dogsheep_Dest,tsdUSwineSusc,tsdUSwineLat,tsdUSwineSubc,tsdUSwineClin,tsdUSwineNImm,tsdUSwineVImm,tsdUSwineDest,tsdU_Bulldog_Susc,tsdU_Bulldog_Lat,tsdU_Bulldog_Subc,tsdU_Bulldog_Clin,tsdU_Bulldog_NImm,tsdU_Bulldog_VImm,tsdU_Bulldog_Dest,tsdU_Brownsheep_Susc,tsdU_Brownsheep_Lat,tsdU_Brownsheep_Subc,tsdU_Brownsheep_Clin,tsdU_Brownsheep_NImm,tsdU_Brownsheep_VImm,tsdU_Brownsheep_Dest,tsdU_Doe_Susc,tsdU_Doe_Lat,tsdU_Doe_Subc,tsdU_Doe_Clin,tsdU_Doe_NImm,tsdU_Doe_VImm,tsdU_Doe_Dest,tsdU_Pig_Susc,tsdU_Pig_Lat,tsdU_Pig_Subc,tsdU_Pig_Clin,tsdU_Pig_NImm,tsdU_Pig_VImm,tsdU_Pig_Dest,tsdASusc,tsdALat,tsdASubc,tsdAClin,tsdANImm,tsdAVImm,tsdADest,tsdACattleSusc,tsdACattleLat,tsdACattleSubc,tsdACattleClin,tsdACattleNImm,tsdACattleVImm,tsdACattleDest,tsdA_Dogsheep_Susc,tsdA_Dogsheep_Lat,tsdA_Dogsheep_Subc,tsdA_Dogsheep_Clin,tsdA_Dogsheep_NImm,tsdA_Dogsheep_VImm,tsdA_Dogsheep_Dest,tsdASwineSusc,tsdASwineLat,tsdASwineSubc,tsdASwineClin,tsdASwineNImm,tsdASwineVImm,tsdASwineDest,tsdA_Bulldog_Susc,tsdA_Bulldog_Lat,tsdA_Bulldog_Subc,tsdA_Bulldog_Clin,tsdA_Bulldog_NImm,tsdA_Bulldog_VImm,tsdA_Bulldog_Dest,tsdA_Brownsheep_Susc,tsdA_Brownsheep_Lat,tsdA_Brownsheep_Subc,tsdA_Brownsheep_Clin,tsdA_Brownsheep_NImm,tsdA_Brownsheep_VImm,tsdA_Brownsheep_Dest,tsdA_Doe_Susc,tsdA_Doe_Lat,tsdA_Doe_Subc,tsdA_Doe_Clin,tsdA_Doe_NImm,tsdA_Doe_VImm,tsdA_Doe_Dest,tsdA_Pig_Susc,tsdA_Pig_Lat,tsdA_Pig_Subc,tsdA_Pig_Clin,tsdA_Pig_NImm,tsdA_Pig_VImm,tsdA_Pig_Dest,average-prevalence,diseaseDuration,tstnUTruePos,tstnUTruePosCattle,tstnUTruePos_Dogsheep_,tstnUTruePosSwine,tstnUTruePos_Bulldog_,tstnUTruePos_Brownsheep_,tstnUTruePos_Doe_,tstnUTruePos_Pig_,tstnUTrueNeg,tstnUTrueNegCattle,tstnUTrueNeg_Dogsheep_,tstnUTrueNegSwine,tstnUTrueNeg_Bulldog_,tstnUTrueNeg_Brownsheep_,tstnUTrueNeg_Doe_,tstnUTrueNeg_Pig_,tstnUFalsePos,tstnUFalsePosCattle,tstnUFalsePos_Dogsheep_,tstnUFalsePosSwine,tstnUFalsePos_Bulldog_,tstnUFalsePos_Brownsheep_,tstnUFalsePos_Doe_,tstnUFalsePos_Pig_,tstnUFalseNeg,tstnUFalseNegCattle,tstnUFalseNeg_Dogsheep_,tstnUFalseNegSwine,tstnUFalseNeg_Bulldog_,tstnUFalseNeg_Brownsheep_,tstnUFalseNeg_Doe_,tstnUFalseNeg_Pig_,tstcUAll,tstcUDirFwd,tstcUIndFwd,tstcUDirBack,tstcUIndBack,tstcUCattle,tstcU_Dogsheep_,tstcUSwine,tstcU_Bulldog_,tstcU_Brownsheep_,tstcU_Doe_,tstcU_Pig_,tstcUDirFwdCattle,tstcUDirFwd_Dogsheep_,tstcUDirFwdSwine,tstcUDirFwd_Bulldog_,tstcUDirFwd_Brownsheep_,tstcUDirFwd_Doe_,tstcUDirFwd_Pig_,tstcUIndFwdCattle,tstcUIndFwd_Dogsheep_,tstcUIndFwdSwine,tstcUIndFwd_Bulldog_,tstcUIndFwd_Brownsheep_,tstcUIndFwd_Doe_,tstcUIndFwd_Pig_,tstcUDirBackCattle,tstcUDirBack_Dogsheep_,tstcUDirBackSwine,tstcUDirBack_Bulldog_,tstcUDirBack_Brownsheep_,tstcUDirBack_Doe_,tstcUDirBack_Pig_,tstcUIndBackCattle,tstcUIndBack_Dogsheep_,tstcUIndBackSwine,tstcUIndBack_Bulldog_,tstcUIndBack_Brownsheep_,tstcUIndBack_Doe_,tstcUIndBack_Pig_,tstcUTruePos,tstcUTruePosCattle,tstcUTruePos_Dogsheep_,tstcUTruePosSwine,tstcUTruePos_Bulldog_,tstcUTruePos_Brownsheep_,tstcUTruePos_Doe_,tstcUTruePos_Pig_,tstcUTrueNeg,tstcUTrueNegCattle,tstcUTrueNeg_Dogsheep_,tstcUTrueNegSwine,tstcUTrueNeg_Bulldog_,tstcUTrueNeg_Brownsheep_,tstcUTrueNeg_Doe_,tstcUTrueNeg_Pig_,tstcUFalsePos,tstcUFalsePosCattle,tstcUFalsePos_Dogsheep_,tstcUFalsePosSwine,tstcUFalsePos_Bulldog_,tstcUFalsePos_Brownsheep_,tstcUFalsePos_Doe_,tstcUFalsePos_Pig_,tstcUFalseNeg,tstcUFalseNegCattle,tstcUFalseNeg_Dogsheep_,tstcUFalseNegSwine,tstcUFalseNeg_Bulldog_,tstcUFalseNeg_Brownsheep_,tstcUFalseNeg_Doe_,tstcUFalseNeg_Pig_,tstcAAll,tstcADirFwd,tstcAIndFwd,tstcADirBack,tstcAIndBack,tstcACattle,tstcA_Dogsheep_,tstcASwine,tstcA_Bulldog_,tstcA_Brownsheep_,tstcA_Doe_,tstcA_Pig_,tstcADirFwdCattle,tstcADirFwd_Dogsheep_,tstcADirFwdSwine,tstcADirFwd_Bulldog_,tstcADirFwd_Brownsheep_,tstcADirFwd_Doe_,tstcADirFwd_Pig_,tstcAIndFwdCattle,tstcAIndFwd_Dogsheep_,tstcAIndFwdSwine,tstcAIndFwd_Bulldog_,tstcAIndFwd_Brownsheep_,tstcAIndFwd_Doe_,tstcAIndFwd_Pig_,tstcADirBackCattle,tstcADirBack_Dogsheep_,tstcADirBackSwine,tstcADirBack_Bulldog_,tstcADirBack_Brownsheep_,tstcADirBack_Doe_,tstcADirBack_Pig_,tstcAIndBackCattle,tstcAIndBack_Dogsheep_,tstcAIndBackSwine,tstcAIndBack_Bulldog_,tstcAIndBack_Brownsheep_,tstcAIndBack_Doe_,tstcAIndBack_Pig_,vaccOccurred,firstVaccination,firstVaccinationRing,firstVaccinationCattle,firstVaccination_Dogsheep_,firstVaccinationSwine,firstVaccination_Bulldog_,firstVaccination_Brownsheep_,firstVaccination_Doe_,firstVaccination_Pig_,firstVaccinationRingCattle,firstVaccinationRing_Dogsheep_,firstVaccinationRingSwine,firstVaccinationRing_Bulldog_,firstVaccinationRing_Brownsheep_,firstVaccinationRing_Doe_,firstVaccinationRing_Pig_,vacnUAll,vacnUIni,vacnURing,vacnUCattle,vacnU_Dogsheep_,vacnUSwine,vacnU_Bulldog_,vacnU_Brownsheep_,vacnU_Doe_,vacnU_Pig_,vacnUIniCattle,vacnUIni_Dogsheep_,vacnUIniSwine,vacnUIni_Bulldog_,vacnUIni_Brownsheep_,vacnUIni_Doe_,vacnUIni_Pig_,vacnURingCattle,vacnURing_Dogsheep_,vacnURingSwine,vacnURing_Bulldog_,vacnURing_Brownsheep_,vacnURing_Doe_,vacnURing_Pig_,vaccUAll,vaccUIni,vaccURing,vaccUCattle,vaccU_Dogsheep_,vaccUSwine,vaccU_Bulldog_,vaccU_Brownsheep_,vaccU_Doe_,vaccU_Pig_,vaccUIniCattle,vaccUIni_Dogsheep_,vaccUIniSwine,vaccUIni_Bulldog_,vaccUIni_Brownsheep_,vaccUIni_Doe_,vaccUIni_Pig_,vaccURingCattle,vaccURing_Dogsheep_,vaccURingSwine,vaccURing_Bulldog_,vaccURing_Brownsheep_,vaccURing_Doe_,vaccURing_Pig_,vacnAAll,vacnAIni,vacnARing,vacnACattle,vacnA_Dogsheep_,vacnASwine,vacnA_Bulldog_,vacnA_Brownsheep_,vacnA_Doe_,vacnA_Pig_,vacnAIniCattle,vacnAIni_Dogsheep_,vacnAIniSwine,vacnAIni_Bulldog_,vacnAIni_Brownsheep_,vacnAIni_Doe_,vacnAIni_Pig_,vacnARingCattle,vacnARing_Dogsheep_,vacnARingSwine,vacnARing_Bulldog_,vacnARing_Brownsheep_,vacnARing_Doe_,vacnARing_Pig_,vaccAAll,vaccAIni,vaccARing,vaccACattle,vaccA_Dogsheep_,vaccASwine,vaccA_Bulldog_,vaccA_Brownsheep_,vaccA_Doe_,vaccA_Pig_,vaccAIniCattle,vaccAIni_Dogsheep_,vaccAIniSwine,vaccAIni_Bulldog_,vaccAIni_Brownsheep_,vaccAIni_Doe_,vaccAIni_Pig_,vaccARingCattle,vaccARing_Dogsheep_,vaccARingSwine,vaccARing_Bulldog_,vaccARing_Brownsheep_,vaccARing_Doe_,vaccARing_Pig_,exmnUAll,exmnURing,exmnUDirFwd,exmnUIndFwd,exmnUDirBack,exmnUIndBack,exmnUDet,exmnUCattle,exmnU_Dogsheep_,exmnUSwine,exmnU_Bulldog_,exmnU_Brownsheep_,exmnU_Doe_,exmnU_Pig_,exmnURingCattle,exmnURing_Dogsheep_,exmnURingSwine,exmnURing_Bulldog_,exmnURing_Brownsheep_,exmnURing_Doe_,exmnURing_Pig_,exmnUDirFwdCattle,exmnUDirFwd_Dogsheep_,exmnUDirFwdSwine,exmnUDirFwd_Bulldog_,exmnUDirFwd_Brownsheep_,exmnUDirFwd_Doe_,exmnUDirFwd_Pig_,exmnUIndFwdCattle,exmnUIndFwd_Dogsheep_,exmnUIndFwdSwine,exmnUIndFwd_Bulldog_,exmnUIndFwd_Brownsheep_,exmnUIndFwd_Doe_,exmnUIndFwd_Pig_,exmnUDirBackCattle,exmnUDirBack_Dogsheep_,exmnUDirBackSwine,exmnUDirBack_Bulldog_,exmnUDirBack_Brownsheep_,exmnUDirBack_Doe_,exmnUDirBack_Pig_,exmnUIndBackCattle,exmnUIndBack_Dogsheep_,exmnUIndBackSwine,exmnUIndBack_Bulldog_,exmnUIndBack_Brownsheep_,exmnUIndBack_Doe_,exmnUIndBack_Pig_,exmnUDetCattle,exmnUDet_Dogsheep_,exmnUDetSwine,exmnUDet_Bulldog_,exmnUDet_Brownsheep_,exmnUDet_Doe_,exmnUDet_Pig_,exmnAAll,exmnARing,exmnADirFwd,exmnAIndFwd,exmnADirBack,exmnAIndBack,exmnADet,exmnACattle,exmnA_Dogsheep_,exmnASwine,exmnA_Bulldog_,exmnA_Brownsheep_,exmnA_Doe_,exmnA_Pig_,exmnARingCattle,exmnARing_Dogsheep_,exmnARingSwine,exmnARing_Bulldog_,exmnARing_Brownsheep_,exmnARing_Doe_,exmnARing_Pig_,exmnADirFwdCattle,exmnADirFwd_Dogsheep_,exmnADirFwdSwine,exmnADirFwd_Bulldog_,exmnADirFwd_Brownsheep_,exmnADirFwd_Doe_,exmnADirFwd_Pig_,exmnAIndFwdCattle,exmnAIndFwd_Dogsheep_,exmnAIndFwdSwine,exmnAIndFwd_Bulldog_,exmnAIndFwd_Brownsheep_,exmnAIndFwd_Doe_,exmnAIndFwd_Pig_,exmnADirBackCattle,exmnADirBack_Dogsheep_,exmnADirBackSwine,exmnADirBack_Bulldog_,exmnADirBack_Brownsheep_,exmnADirBack_Doe_,exmnADirBack_Pig_,exmnAIndBackCattle,exmnAIndBack_Dogsheep_,exmnAIndBackSwine,exmnAIndBack_Bulldog_,exmnAIndBack_Brownsheep_,exmnAIndBack_Doe_,exmnAIndBack_Pig_,exmnADetCattle,exmnADet_Dogsheep_,exmnADetSwine,exmnADet_Bulldog_,exmnADet_Brownsheep_,exmnADet_Doe_,exmnADet_Pig_,exmcUAll,exmcURing,exmcUDirFwd,exmcUIndFwd,exmcUDirBack,exmcUIndBack,exmcUDet,exmcUCattle,exmcU_Dogsheep_,exmcUSwine,exmcU_Bulldog_,exmcU_Brownsheep_,exmcU_Doe_,exmcU_Pig_,exmcURingCattle,exmcURing_Dogsheep_,exmcURingSwine,exmcURing_Bulldog_,exmcURing_Brownsheep_,exmcURing_Doe_,exmcURing_Pig_,exmcUDirFwdCattle,exmcUDirFwd_Dogsheep_,exmcUDirFwdSwine,exmcUDirFwd_Bulldog_,exmcUDirFwd_Brownsheep_,exmcUDirFwd_Doe_,exmcUDirFwd_Pig_,exmcUIndFwdCattle,exmcUIndFwd_Dogsheep_,exmcUIndFwdSwine,exmcUIndFwd_Bulldog_,exmcUIndFwd_Brownsheep_,exmcUIndFwd_Doe_,exmcUIndFwd_Pig_,exmcUDirBackCattle,exmcUDirBack_Dogsheep_,exmcUDirBackSwine,exmcUDirBack_Bulldog_,exmcUDirBack_Brownsheep_,exmcUDirBack_Doe_,exmcUDirBack_Pig_,exmcUIndBackCattle,exmcUIndBack_Dogsheep_,exmcUIndBackSwine,exmcUIndBack_Bulldog_,exmcUIndBack_Brownsheep_,exmcUIndBack_Doe_,exmcUIndBack_Pig_,exmcUDetCattle,exmcUDet_Dogsheep_,exmcUDetSwine,exmcUDet_Bulldog_,exmcUDet_Brownsheep_,exmcUDet_Doe_,exmcUDet_Pig_,exmcAAll,exmcARing,exmcADirFwd,exmcAIndFwd,exmcADirBack,exmcAIndBack,exmcADet,exmcACattle,exmcA_Dogsheep_,exmcASwine,exmcA_Bulldog_,exmcA_Brownsheep_,exmcA_Doe_,exmcA_Pig_,exmcARingCattle,exmcARing_Dogsheep_,exmcARingSwine,exmcARing_Bulldog_,exmcARing_Brownsheep_,exmcARing_Doe_,exmcARing_Pig_,exmcADirFwdCattle,exmcADirFwd_Dogsheep_,exmcADirFwdSwine,exmcADirFwd_Bulldog_,exmcADirFwd_Brownsheep_,exmcADirFwd_Doe_,exmcADirFwd_Pig_,exmcAIndFwdCattle,exmcAIndFwd_Dogsheep_,exmcAIndFwdSwine,exmcAIndFwd_Bulldog_,exmcAIndFwd_Brownsheep_,exmcAIndFwd_Doe_,exmcAIndFwd_Pig_,exmcADirBackCattle,exmcADirBack_Dogsheep_,exmcADirBackSwine,exmcADirBack_Bulldog_,exmcADirBack_Brownsheep_,exmcADirBack_Doe_,exmcADirBack_Pig_,exmcAIndBackCattle,exmcAIndBack_Dogsheep_,exmcAIndBackSwine,exmcAIndBack_Bulldog_,exmcAIndBack_Brownsheep_,exmcAIndBack_Doe_,exmcAIndBack_Pig_,exmcADetCattle,exmcADet_Dogsheep_,exmcADetSwine,exmcADet_Bulldog_,exmcADet_Brownsheep_,exmcADet_Doe_,exmcADet_Pig_\"\n",
      "actual_headers = re.sub('_\\w+_|All', '', raw_headers) #removes production types\n",
      "actual_headers = re.sub('HighRisk|MediumRisk', '', actual_headers) #removes zone names\n",
      "headers = re.sub('-', '_', actual_headers) #there are 2 hyphenated fields:  average-prevalence num-separate-areasMediumRisk \n",
      "actual_headers = actual_headers.split(',')"
     ],
     "language": "python",
     "prompt_number": 41
    },
    {
     "cell_type": "code",
     "metadata": {},
     "outputs": [],
     "input": [
      ""
     ],
     "language": "python",
     "prompt_number": 41
    },
    {
     "cell_type": "code",
     "metadata": {},
     "outputs": [
      {
       "output_type": "stream",
       "stream": "stdout",
       "text": [
        "Total: 0\n"
       ]
      }
     ],
     "input": [
      "field_matches = match_model_to_c_headers(new_spec, spec_headers)\n",
      "count_empty_matches(field_matches)"
     ],
     "language": "python",
     "prompt_number": 42
    },
    {
     "cell_type": "code",
     "metadata": {},
     "outputs": [
      {
       "output_type": "stream",
       "stream": "stdout",
       "text": [
        "Total: 0\n"
       ]
      }
     ],
     "input": [
      "field_matches = match_c_headers_to_model(new_spec, spec_headers)\n",
      "count_empty_matches(field_matches)"
     ],
     "language": "python",
     "prompt_number": 43
    },
    {
     "cell_type": "code",
     "metadata": {},
     "outputs": [
      {
       "output_type": "stream",
       "stream": "stdout",
       "text": [
        "costSurveillance\n",
        "destrCleaning\n",
        "destrIndemnification\n",
        "destrAppraisal\n",
        "destrDisposal\n",
        "destrEuthanasia\n",
        "vaccSetup\n",
        "destrSubtotal\n",
        "vaccVaccination\n",
        "costsTotal\n",
        "vaccSubtotal\n",
        "Total: 11\n"
       ]
      }
     ],
     "input": [
      "field_matches = match_model_to_c_headers(new_spec, actual_headers)\n",
      "count_empty_matches(field_matches)"
     ],
     "language": "python",
     "prompt_number": 44
    },
    {
     "cell_type": "code",
     "metadata": {},
     "outputs": [
      {
       "output_type": "stream",
       "stream": "stdout",
       "text": [
        "tsdACattleClin\n",
        "firstDetAInf\n",
        "firstDetUInf\n",
        "tsdASwineSubc\n",
        "tstnUFalseNegSwine\n",
        "tsdUSwineVImm\n",
        "tsdUSwineLat\n",
        "tstnUTrueNegCattle\n",
        "tstnUFalsePosSwine\n",
        "tsdACattleDest\n",
        "num-separate-areas\n",
        "finalZoneArea\n",
        "tsdUSwineDest\n",
        "tsdUCattleDest\n",
        "tsdASwineNImm\n",
        "tsdUCattleSusc\n",
        "tsdASwineLat\n",
        "tsdUSwineClin\n",
        "tsdASwineVImm\n",
        "tsdUSwineSusc\n",
        "tsdACattleNImm\n",
        "tsdASwineDest\n",
        "tstnUTrueNegSwine\n",
        "average-prevalence\n",
        "tstnUTruePosCattle\n",
        "tstnUFalseNegCattle\n",
        "tsdASwineClin\n",
        "tsdUSwineNImm\n",
        "tsdUCattleNImm\n",
        "tsdUCattleVImm\n",
        "tstnUFalsePos\n",
        "tsdASwineSusc\n",
        "tsdUCattleLat\n",
        "tstnUTrueNeg\n",
        "tsdACattleLat\n",
        "tstnUFalsePosCattle\n",
        "finalZonePerimeter\n",
        "tstnUTruePosSwine\n",
        "tsdACattleVImm\n",
        "tsdUCattleClin\n",
        "tstnUTruePos\n",
        "Run\n",
        "tstnUFalseNeg\n",
        "tsdACattleSusc\n",
        "tsdUCattleSubc\n",
        "tsdUSwineSubc\n",
        "tsdACattleSubc\n",
        "Total: 47\n"
       ]
      }
     ],
     "input": [
      "field_matches = match_c_headers_to_model(new_spec, actual_headers)\n",
      "count_empty_matches(field_matches)"
     ],
     "language": "python",
     "prompt_number": 45
    },
    {
     "cell_type": "heading",
     "metadata": {},
     "level": 2,
     "source": [
      "Header Grammars"
     ]
    },
    {
     "cell_type": "code",
     "metadata": {},
     "outputs": [
      {
       "output_type": "stream",
       "stream": "stdout",
       "text": [
        "678\n"
       ]
      }
     ],
     "input": [
      "cause_sweep = raw_headers.split(',')\n",
      "removed_pts = '_Bulldog_ _Brownsheep_ _Doe_ _Pig_ _Dogsheep_'.split()\n",
      "cause_sweep = [h for h in cause_sweep if not any([pt in h for pt in removed_pts])]\n",
      "print(len(cause_sweep))"
     ],
     "language": "python",
     "prompt_number": 46
    },
    {
     "cell_type": "code",
     "metadata": {},
     "outputs": [],
     "input": [
      "def matching_headers(prefix, exclude=None):\n",
      "    matches = [h for h in cause_sweep if h.startswith(prefix)]\n",
      "    if exclude is not None:\n",
      "        matches = [m for m in matches if exclude not in m]\n",
      "    print('\\n'.join(matches))\n",
      "    print('Total:', len(matches))"
     ],
     "language": "python",
     "prompt_number": 47
    },
    {
     "cell_type": "code",
     "metadata": {},
     "outputs": [
      {
       "output_type": "stream",
       "stream": "stdout",
       "text": [
        "expnUAll\n",
        "expnUDir\n",
        "expnUInd\n",
        "expnUAir\n",
        "expnUCattle\n",
        "expnUSwine\n",
        "expnUDirCattle\n",
        "expnUDirSwine\n",
        "expnUIndCattle\n",
        "expnUIndSwine\n",
        "expnUAirCattle\n",
        "expnUAirSwine\n",
        "expcUAll\n",
        "expcUDir\n",
        "expcUInd\n",
        "expcUAir\n",
        "expcUCattle\n",
        "expcUSwine\n",
        "expcUDirCattle\n",
        "expcUDirSwine\n",
        "expcUIndCattle\n",
        "expcUIndSwine\n",
        "expcUAirCattle\n",
        "expcUAirSwine\n",
        "expnAAll\n",
        "expnADir\n",
        "expnAInd\n",
        "expnAAir\n",
        "expnACattle\n",
        "expnASwine\n",
        "expnADirCattle\n",
        "expnADirSwine\n",
        "expnAIndCattle\n",
        "expnAIndSwine\n",
        "expnAAirCattle\n",
        "expnAAirSwine\n",
        "expcAAll\n",
        "expcADir\n",
        "expcAInd\n",
        "expcAAir\n",
        "expcACattle\n",
        "expcASwine\n",
        "expcADirCattle\n",
        "expcADirSwine\n",
        "expcAIndCattle\n",
        "expcAIndSwine\n",
        "expcAAirCattle\n",
        "expcAAirSwine\n",
        "Total: 48\n"
       ]
      }
     ],
     "input": [
      "matching_headers('exp')"
     ],
     "language": "python",
     "prompt_number": 48
    },
    {
     "cell_type": "code",
     "metadata": {},
     "outputs": [],
     "input": [
      "grammars = {'exp': [('c', 'n'), ('U', 'A'), ('', 'Dir', 'Ind', 'Air'), ('All', 'Cattle', 'Swine')]}"
     ],
     "language": "python",
     "prompt_number": 49
    },
    {
     "cell_type": "code",
     "metadata": {},
     "outputs": [
      {
       "output_type": "stream",
       "stream": "stdout",
       "text": [
        "\n",
        "Total: 0\n"
       ]
      }
     ],
     "input": [
      "matching_headers('etection')"
     ],
     "language": "python",
     "prompt_number": 50
    },
    {
     "cell_type": "code",
     "metadata": {},
     "outputs": [],
     "input": [
      "grammars['firstDetection'] = [('', 'Clin', 'Test'), ('', 'Cattle', 'Swine')]# 18 = 2*3*3"
     ],
     "language": "python",
     "prompt_number": 51
    },
    {
     "cell_type": "code",
     "metadata": {},
     "outputs": [
      {
       "output_type": "stream",
       "stream": "stdout",
       "text": [
        "detOccurred\n",
        "detnUAll\n",
        "detnUClin\n",
        "detnUTest\n",
        "detnUCattle\n",
        "detnUSwine\n",
        "detnUClinCattle\n",
        "detnUClinSwine\n",
        "detnUTestCattle\n",
        "detnUTestSwine\n",
        "detnAAll\n",
        "detnAClin\n",
        "detnATest\n",
        "detnACattle\n",
        "detnASwine\n",
        "detnAClinCattle\n",
        "detnAClinSwine\n",
        "detnATestCattle\n",
        "detnATestSwine\n",
        "detcUAll\n",
        "detcUClin\n",
        "detcUTest\n",
        "detcUCattle\n",
        "detcUSwine\n",
        "detcUClinCattle\n",
        "detcUClinSwine\n",
        "detcUTestCattle\n",
        "detcUTestSwine\n",
        "detcUqAll\n",
        "detcAAll\n",
        "detcAClin\n",
        "detcATest\n",
        "detcACattle\n",
        "detcASwine\n",
        "detcAClinCattle\n",
        "detcAClinSwine\n",
        "detcATestCattle\n",
        "detcATestSwine\n",
        "Total: 38\n"
       ]
      }
     ],
     "input": [
      "matching_headers('det')"
     ],
     "language": "python",
     "prompt_number": 52
    },
    {
     "cell_type": "code",
     "metadata": {},
     "outputs": [
      {
       "output_type": "stream",
       "stream": "stdout",
       "text": [
        "36\n"
       ]
      }
     ],
     "input": [
      "print(2*2*3*3)  # There are two unnaccounted for in this set"
     ],
     "language": "python",
     "prompt_number": 53
    },
    {
     "cell_type": "code",
     "metadata": {},
     "outputs": [],
     "input": [
      "grammars['det'] = [('c', 'n'), ('U', 'A'), ('All', 'Clin', 'Test'), ('', 'Cattle', 'Swine')]"
     ],
     "language": "python",
     "prompt_number": 54
    },
    {
     "cell_type": "code",
     "metadata": {},
     "outputs": [],
     "input": [
      "from collections import defaultdict\n",
      "a = {'All':'from Either method', 'Clin':'from Clinical signs', 'Test': 'from Lab Tests', 'U':'Units', 'A':'Animals', 'p':'Possible',\n",
      "     'Dir': 'Direct Spread', 'Ind':'Indirect Spread', 'Air':'Airborne Spread'}\n",
      "explain = defaultdict(lambda: '', a)"
     ],
     "language": "python",
     "prompt_number": 55
    },
    {
     "cell_type": "code",
     "metadata": {},
     "outputs": [
      {
       "output_type": "stream",
       "stream": "stdout",
       "text": [
        "    UAll = models.IntegerField(blank=True, null=True, verbose_name=\"from Either method\")\n",
        "    UClin = models.IntegerField(blank=True, null=True, verbose_name=\"from Clinical signs\")\n",
        "    UTest = models.IntegerField(blank=True, null=True, verbose_name=\"from Lab Tests\")\n",
        "    AAll = models.IntegerField(blank=True, null=True, verbose_name=\"from Either method\")\n",
        "    AClin = models.IntegerField(blank=True, null=True, verbose_name=\"from Clinical signs\")\n",
        "    ATest = models.IntegerField(blank=True, null=True, verbose_name=\"from Lab Tests\")\n"
       ]
      }
     ],
     "input": [
      "for a in ('U', 'A'):\n",
      "    for b in ('All', 'Clin', 'Test'):\n",
      "        print('    '+a+b+ ' = models.IntegerField(blank=True, null=True, verbose_name=\"'+explain[b]+'\")')"
     ],
     "language": "python",
     "prompt_number": 56
    },
    {
     "cell_type": "code",
     "metadata": {},
     "outputs": [
      {
       "output_type": "stream",
       "stream": "stdout",
       "text": [
        "    UAll = models.IntegerField(blank=True, null=True, verbose_name=\"from Either method\")\n",
        "    UClin = models.IntegerField(blank=True, null=True, verbose_name=\"from Clinical signs\")\n",
        "    UTest = models.IntegerField(blank=True, null=True, verbose_name=\"from Lab Tests\")\n",
        "    AAll = models.IntegerField(blank=True, null=True, verbose_name=\"from Either method\")\n",
        "    AClin = models.IntegerField(blank=True, null=True, verbose_name=\"from Clinical signs\")\n",
        "    ATest = models.IntegerField(blank=True, null=True, verbose_name=\"from Lab Tests\")\n"
       ]
      }
     ],
     "input": [
      "for a in ('U', 'A'):\n",
      "    for b, verbose in (('All','from Either method'), ('Clin','from Clinical signs'), ('Test', 'from Lab Tests')):\n",
      "        print('    '+a+b+ ' = models.IntegerField(blank=True, null=True, verbose_name=\"'+verbose+'\")')"
     ],
     "language": "python",
     "prompt_number": 57
    },
    {
     "cell_type": "code",
     "metadata": {},
     "outputs": [
      {
       "output_type": "stream",
       "stream": "stdout",
       "text": [
        "trnUAllp\n",
        "trnUDirp\n",
        "trnUIndp\n",
        "trnUCattlep\n",
        "trnUSwinep\n",
        "trnUDirCattlep\n",
        "trnUDirSwinep\n",
        "trnUIndCattlep\n",
        "trnUIndSwinep\n",
        "trcUAllp\n",
        "trcUDirp\n",
        "trcUIndp\n",
        "trcUCattlep\n",
        "trcUSwinep\n",
        "trcUDirCattlep\n",
        "trcUDirSwinep\n",
        "trcUIndCattlep\n",
        "trcUIndSwinep\n",
        "trnUAll\n",
        "trnUDir\n",
        "trnUInd\n",
        "trnUCattle\n",
        "trnUSwine\n",
        "trnUDirCattle\n",
        "trnUDirSwine\n",
        "trnUIndCattle\n",
        "trnUIndSwine\n",
        "trcUAll\n",
        "trcUDir\n",
        "trcUInd\n",
        "trcUCattle\n",
        "trcUSwine\n",
        "trcUDirCattle\n",
        "trcUDirSwine\n",
        "trcUIndCattle\n",
        "trcUIndSwine\n",
        "trnAAllp\n",
        "trnADirp\n",
        "trnAIndp\n",
        "trnACattlep\n",
        "trnASwinep\n",
        "trnADirCattlep\n",
        "trnADirSwinep\n",
        "trnAIndCattlep\n",
        "trnAIndSwinep\n",
        "trcAAllp\n",
        "trcADirp\n",
        "trcAIndp\n",
        "trcACattlep\n",
        "trcASwinep\n",
        "trcADirCattlep\n",
        "trcADirSwinep\n",
        "trcAIndCattlep\n",
        "trcAIndSwinep\n",
        "trnAAll\n",
        "trnADir\n",
        "trnAInd\n",
        "trnACattle\n",
        "trnASwine\n",
        "trnADirCattle\n",
        "trnADirSwine\n",
        "trnAIndCattle\n",
        "trnAIndSwine\n",
        "trcAAll\n",
        "trcADir\n",
        "trcAInd\n",
        "trcACattle\n",
        "trcASwine\n",
        "trcADirCattle\n",
        "trcADirSwine\n",
        "trcAIndCattle\n",
        "trcAIndSwine\n",
        "Total: 72\n"
       ]
      }
     ],
     "input": [
      "matching_headers('tr')"
     ],
     "language": "python",
     "prompt_number": 58
    },
    {
     "cell_type": "code",
     "metadata": {},
     "outputs": [
      {
       "output_type": "stream",
       "stream": "stdout",
       "text": [
        "72\n"
       ]
      }
     ],
     "input": [
      "grammars['tr'] = [('n','c'), ('U', 'A'), ('All', 'Dir', 'Ind'), ('', 'Cattle', 'Swine'), ('', 'p')]  # 2*3*3*2\n",
      "print(2*2*3*3*2)"
     ],
     "language": "python",
     "prompt_number": 59
    },
    {
     "cell_type": "code",
     "metadata": {},
     "outputs": [
      {
       "output_type": "pyout",
       "prompt_number": 60,
       "text": [
        "[('U', 'All', ''),\n",
        " ('U', 'All', 'Cattle'),\n",
        " ('U', 'All', 'Swine'),\n",
        " ('U', 'Dir', ''),\n",
        " ('U', 'Dir', 'Cattle'),\n",
        " ('U', 'Dir', 'Swine'),\n",
        " ('U', 'Ind', ''),\n",
        " ('U', 'Ind', 'Cattle'),\n",
        " ('U', 'Ind', 'Swine'),\n",
        " ('A', 'All', ''),\n",
        " ('A', 'All', 'Cattle'),\n",
        " ('A', 'All', 'Swine'),\n",
        " ('A', 'Dir', ''),\n",
        " ('A', 'Dir', 'Cattle'),\n",
        " ('A', 'Dir', 'Swine'),\n",
        " ('A', 'Ind', ''),\n",
        " ('A', 'Ind', 'Cattle'),\n",
        " ('A', 'Ind', 'Swine')]"
       ],
       "metadata": {}
      }
     ],
     "input": [
      "from itertools import product, combinations, permutations\n",
      "list(product(('U', 'A'), ('All', 'Dir', 'Ind'), ('', 'Cattle', 'Swine')))"
     ],
     "language": "python",
     "prompt_number": 60
    },
    {
     "cell_type": "code",
     "metadata": {},
     "outputs": [],
     "input": [
      "def stat_group_code(grammar):\n",
      "    combos = product(*grammar)\n",
      "    for line in combos:\n",
      "        explanation = ' '.join([explain[part] for part in line])\n",
      "        print('    '+''.join(line)+ ' = models.IntegerField(blank=True, null=True, verbose_name=\"'+explanation+'\")')"
     ],
     "language": "python",
     "prompt_number": 61
    },
    {
     "cell_type": "code",
     "metadata": {},
     "outputs": [
      {
       "output_type": "stream",
       "stream": "stdout",
       "text": [
        "    UAll = models.IntegerField(blank=True, null=True, verbose_name=\"Units from Either method \")\n",
        "    UAllp = models.IntegerField(blank=True, null=True, verbose_name=\"Units from Either method Possible\")\n",
        "    UDir = models.IntegerField(blank=True, null=True, verbose_name=\"Units Direct Spread \")\n",
        "    UDirp = models.IntegerField(blank=True, null=True, verbose_name=\"Units Direct Spread Possible\")\n",
        "    UInd = models.IntegerField(blank=True, null=True, verbose_name=\"Units Indirect Spread \")\n",
        "    UIndp = models.IntegerField(blank=True, null=True, verbose_name=\"Units Indirect Spread Possible\")\n",
        "    AAll = models.IntegerField(blank=True, null=True, verbose_name=\"Animals from Either method \")\n",
        "    AAllp = models.IntegerField(blank=True, null=True, verbose_name=\"Animals from Either method Possible\")\n",
        "    ADir = models.IntegerField(blank=True, null=True, verbose_name=\"Animals Direct Spread \")\n",
        "    ADirp = models.IntegerField(blank=True, null=True, verbose_name=\"Animals Direct Spread Possible\")\n",
        "    AInd = models.IntegerField(blank=True, null=True, verbose_name=\"Animals Indirect Spread \")\n",
        "    AIndp = models.IntegerField(blank=True, null=True, verbose_name=\"Animals Indirect Spread Possible\")\n"
       ]
      }
     ],
     "input": [
      "stat_group_code( [('U', 'A'), ('All', 'Dir', 'Ind'), ('', 'p')] )"
     ],
     "language": "python",
     "prompt_number": 62
    },
    {
     "cell_type": "code",
     "metadata": {},
     "outputs": [
      {
       "output_type": "stream",
       "stream": "stdout",
       "text": [
        "exmnUAll\n",
        "exmnURing\n",
        "exmnUDirFwd\n",
        "exmnUIndFwd\n",
        "exmnUDirBack\n",
        "exmnUIndBack\n",
        "exmnUDet\n",
        "exmnUCattle\n",
        "exmnUSwine\n",
        "exmnURingCattle\n",
        "exmnURingSwine\n",
        "exmnUDirFwdCattle\n",
        "exmnUDirFwdSwine\n",
        "exmnUIndFwdCattle\n",
        "exmnUIndFwdSwine\n",
        "exmnUDirBackCattle\n",
        "exmnUDirBackSwine\n",
        "exmnUIndBackCattle\n",
        "exmnUIndBackSwine\n",
        "exmnUDetCattle\n",
        "exmnUDetSwine\n",
        "exmnAAll\n",
        "exmnARing\n",
        "exmnADirFwd\n",
        "exmnAIndFwd\n",
        "exmnADirBack\n",
        "exmnAIndBack\n",
        "exmnADet\n",
        "exmnACattle\n",
        "exmnASwine\n",
        "exmnARingCattle\n",
        "exmnARingSwine\n",
        "exmnADirFwdCattle\n",
        "exmnADirFwdSwine\n",
        "exmnAIndFwdCattle\n",
        "exmnAIndFwdSwine\n",
        "exmnADirBackCattle\n",
        "exmnADirBackSwine\n",
        "exmnAIndBackCattle\n",
        "exmnAIndBackSwine\n",
        "exmnADetCattle\n",
        "exmnADetSwine\n",
        "exmcUAll\n",
        "exmcURing\n",
        "exmcUDirFwd\n",
        "exmcUIndFwd\n",
        "exmcUDirBack\n",
        "exmcUIndBack\n",
        "exmcUDet\n",
        "exmcUCattle\n",
        "exmcUSwine\n",
        "exmcURingCattle\n",
        "exmcURingSwine\n",
        "exmcUDirFwdCattle\n",
        "exmcUDirFwdSwine\n",
        "exmcUIndFwdCattle\n",
        "exmcUIndFwdSwine\n",
        "exmcUDirBackCattle\n",
        "exmcUDirBackSwine\n",
        "exmcUIndBackCattle\n",
        "exmcUIndBackSwine\n",
        "exmcUDetCattle\n",
        "exmcUDetSwine\n",
        "exmcAAll\n",
        "exmcARing\n",
        "exmcADirFwd\n",
        "exmcAIndFwd\n",
        "exmcADirBack\n",
        "exmcAIndBack\n",
        "exmcADet\n",
        "exmcACattle\n",
        "exmcASwine\n",
        "exmcARingCattle\n",
        "exmcARingSwine\n",
        "exmcADirFwdCattle\n",
        "exmcADirFwdSwine\n",
        "exmcAIndFwdCattle\n",
        "exmcAIndFwdSwine\n",
        "exmcADirBackCattle\n",
        "exmcADirBackSwine\n",
        "exmcAIndBackCattle\n",
        "exmcAIndBackSwine\n",
        "exmcADetCattle\n",
        "exmcADetSwine\n",
        "Total: 84\n"
       ]
      }
     ],
     "input": [
      "matching_headers('exm')"
     ],
     "language": "python",
     "prompt_number": 63
    },
    {
     "cell_type": "code",
     "metadata": {},
     "outputs": [
      {
       "output_type": "stream",
       "stream": "stdout",
       "text": [
        "84\n"
       ]
      }
     ],
     "input": [
      "grammars['exm'] = [('n','c'), ('U','A'), ('All','Ring','DirFwd','IndFwd','DirBack','IndBack','Det'), ('','Cattle','Swine')]\n",
      "print(2*2*7*3)"
     ],
     "language": "python",
     "prompt_number": 64
    },
    {
     "cell_type": "code",
     "metadata": {},
     "outputs": [
      {
       "output_type": "stream",
       "stream": "stdout",
       "text": [
        "nUAll\n",
        "exmnUAllCattle\n",
        "exmnUAllSwine\n",
        "exmnURing\n",
        "exmnURingCattle\n",
        "exmnURingSwine\n",
        "exmnUDirFwd\n",
        "exmnUDirFwdCattle\n",
        "exmnUDirFwdSwine\n",
        "exmnUIndFwd\n",
        "exmnUIndFwdCattle\n",
        "exmnUIndFwdSwine\n",
        "exmnUDirBack\n",
        "exmnUDirBackCattle\n",
        "exmnUDirBackSwine\n",
        "exmnUIndBack\n",
        "exmnUIndBackCattle\n",
        "exmnUIndBackSwine\n",
        "exmnUDet\n",
        "exmnUDetCattle\n",
        "exmnUDetSwine\n",
        "exmnAAll\n",
        "exmnAAllCattle\n",
        "exmnAAllSwine\n",
        "exmnARing\n",
        "exmnARingCattle\n",
        "exmnARingSwine\n",
        "exmnADirFwd\n",
        "exmnADirFwdCattle\n",
        "exmnADirFwdSwine\n",
        "exmnAIndFwd\n",
        "exmnAIndFwdCattle\n",
        "exmnAIndFwdSwine\n",
        "exmnADirBack\n",
        "exmnADirBackCattle\n",
        "exmnADirBackSwine\n",
        "exmnAIndBack\n",
        "exmnAIndBackCattle\n",
        "exmnAIndBackSwine\n",
        "exmnADet\n",
        "exmnADetCattle\n",
        "exmnADetSwine\n",
        "exmcUAll\n",
        "exmcUAllCattle\n",
        "exmcUAllSwine\n",
        "exmcURing\n",
        "exmcURingCattle\n",
        "exmcURingSwine\n",
        "exmcUDirFwd\n",
        "exmcUDirFwdCattle\n",
        "exmcUDirFwdSwine\n",
        "exmcUIndFwd\n",
        "exmcUIndFwdCattle\n",
        "exmcUIndFwdSwine\n",
        "exmcUDirBack\n",
        "exmcUDirBackCattle\n",
        "exmcUDirBackSwine\n",
        "exmcUIndBack\n",
        "exmcUIndBackCattle\n",
        "exmcUIndBackSwine\n",
        "exmcUDet\n",
        "exmcUDetCattle\n",
        "exmcUDetSwine\n",
        "exmcAAll\n",
        "exmcAAllCattle\n",
        "exmcAAllSwine\n",
        "exmcARing\n",
        "exmcARingCattle\n",
        "exmcARingSwine\n",
        "exmcADirFwd\n",
        "exmcADirFwdCattle\n",
        "exmcADirFwdSwine\n",
        "exmcAIndFwd\n",
        "exmcAIndFwdCattle\n",
        "exmcAIndFwdSwine\n",
        "exmcADirBack\n",
        "exmcADirBackCattle\n",
        "exmcADirBackSwine\n",
        "exmcAIndBack\n",
        "exmcAIndBackCattle\n",
        "exmcAIndBackSwine\n",
        "exmcADet\n",
        "exmcADetCattle\n",
        "exmcADetSwine\n"
       ]
      }
     ],
     "input": [
      "combos = product(('n','c'), ('U','A'), ('All','Ring','DirFwd','IndFwd','DirBack','IndBack','Det'), ('','Cattle','Swine'))\n",
      "close = '\\nexm'.join([''.join(line) for line in combos])\n",
      "print(re.sub(r'All_', '_', close))  # special rule implemented"
     ],
     "language": "python",
     "prompt_number": 65
    },
    {
     "cell_type": "markdown",
     "metadata": {},
     "source": [
      "<u>exm Grammar exception</u>\n",
      "=====================\n",
      "When 'All' is followed by a Production Type, remove the word 'All'.\n",
      "`re.sub(r'All_', '_', close)`  The database will follow the expected format that includes \"All\" in these cases, but the exception will need to be added to the switcher that take CEngine output and finds the DB match.\n",
      "* Same rule applies to `tstcA`"
     ]
    },
    {
     "cell_type": "code",
     "metadata": {},
     "outputs": [
      {
       "output_type": "stream",
       "stream": "stdout",
       "text": [
        "    UAll = models.IntegerField(blank=True, null=True, verbose_name=\"Units from Either method\")\n",
        "    URing = models.IntegerField(blank=True, null=True, verbose_name=\"Units because of Ring\")\n",
        "    UDirFwd = models.IntegerField(blank=True, null=True, verbose_name=\"Units because of Direct Forward trace\")\n",
        "    UIndFwd = models.IntegerField(blank=True, null=True, verbose_name=\"Units because of Indirect Forward trace\")\n",
        "    UDirBack = models.IntegerField(blank=True, null=True, verbose_name=\"Units because of Direct Back trace\")\n",
        "    UIndBack = models.IntegerField(blank=True, null=True, verbose_name=\"Units because of Indirect Back trace\")\n",
        "    UDet = models.IntegerField(blank=True, null=True, verbose_name=\"Units \")\n",
        "    AAll = models.IntegerField(blank=True, null=True, verbose_name=\"Animals from Either method\")\n",
        "    ARing = models.IntegerField(blank=True, null=True, verbose_name=\"Animals because of Ring\")\n",
        "    ADirFwd = models.IntegerField(blank=True, null=True, verbose_name=\"Animals because of Direct Forward trace\")\n",
        "    AIndFwd = models.IntegerField(blank=True, null=True, verbose_name=\"Animals because of Indirect Forward trace\")\n",
        "    ADirBack = models.IntegerField(blank=True, null=True, verbose_name=\"Animals because of Direct Back trace\")\n",
        "    AIndBack = models.IntegerField(blank=True, null=True, verbose_name=\"Animals because of Indirect Back trace\")\n",
        "    ADet = models.IntegerField(blank=True, null=True, verbose_name=\"Animals \")\n"
       ]
      }
     ],
     "input": [
      "grammar = [('U','A'), ('All','Ring','DirFwd','IndFwd','DirBack','IndBack','Det')]\n",
      "explain.update({'DirFwd':'because of Direct Forward trace', \n",
      "                'IndFwd':'because of Indirect Forward trace', \n",
      "                'DirBack':'because of Direct Back trace', \n",
      "                'IndBack':'because of Indirect Back trace', \n",
      "                'Ring':'because of Ring'})\n",
      "stat_group_code(grammar)"
     ],
     "language": "python",
     "prompt_number": 66
    },
    {
     "cell_type": "heading",
     "metadata": {},
     "level": 3,
     "source": [
      "tst Header"
     ]
    },
    {
     "cell_type": "code",
     "metadata": {},
     "outputs": [
      {
       "output_type": "stream",
       "stream": "stdout",
       "text": [
        "tstnUTruePos\n",
        "tstnUTruePosCattle\n",
        "tstnUTruePosSwine\n",
        "tstnUTrueNeg\n",
        "tstnUTrueNegCattle\n",
        "tstnUTrueNegSwine\n",
        "tstnUFalsePos\n",
        "tstnUFalsePosCattle\n",
        "tstnUFalsePosSwine\n",
        "tstnUFalseNeg\n",
        "tstnUFalseNegCattle\n",
        "tstnUFalseNegSwine\n",
        "tstcUAll\n",
        "tstcUDirFwd\n",
        "tstcUIndFwd\n",
        "tstcUDirBack\n",
        "tstcUIndBack\n",
        "tstcUCattle\n",
        "tstcUSwine\n",
        "tstcUDirFwdCattle\n",
        "tstcUDirFwdSwine\n",
        "tstcUIndFwdCattle\n",
        "tstcUIndFwdSwine\n",
        "tstcUDirBackCattle\n",
        "tstcUDirBackSwine\n",
        "tstcUIndBackCattle\n",
        "tstcUIndBackSwine\n",
        "tstcUTruePos\n",
        "tstcUTruePosCattle\n",
        "tstcUTruePosSwine\n",
        "tstcUTrueNeg\n",
        "tstcUTrueNegCattle\n",
        "tstcUTrueNegSwine\n",
        "tstcUFalsePos\n",
        "tstcUFalsePosCattle\n",
        "tstcUFalsePosSwine\n",
        "tstcUFalseNeg\n",
        "tstcUFalseNegCattle\n",
        "tstcUFalseNegSwine\n",
        "tstcAAll\n",
        "tstcADirFwd\n",
        "tstcAIndFwd\n",
        "tstcADirBack\n",
        "tstcAIndBack\n",
        "tstcACattle\n",
        "tstcASwine\n",
        "tstcADirFwdCattle\n",
        "tstcADirFwdSwine\n",
        "tstcAIndFwdCattle\n",
        "tstcAIndFwdSwine\n",
        "tstcADirBackCattle\n",
        "tstcADirBackSwine\n",
        "tstcAIndBackCattle\n",
        "tstcAIndBackSwine\n",
        "Total: 54\n"
       ]
      }
     ],
     "input": [
      "matching_headers('tst')"
     ],
     "language": "python",
     "prompt_number": 67
    },
    {
     "cell_type": "code",
     "metadata": {},
     "outputs": [
      {
       "output_type": "pyout",
       "prompt_number": 68,
       "text": [
        "51"
       ],
       "metadata": {}
      }
     ],
     "input": [
      "grammars['tst'] = ['tstnU', 'tstcU', 'tstcA']  # references the three exclusive branches\n",
      "grammars['tstnU'] = [('TruePos', 'FalsePos', 'TrueNeg','FalseNeg'), ('','Cattle','Swine')]  # first part only\n",
      "grammars['tstcU'] = [('All', 'DirFwd','IndFwd','DirBack','IndBack', 'TruePos','FalsePos','TrueNeg','FalseNeg'), ('','Cattle','Swine')]  # direction and pos/neg are exclusive\n",
      "grammars['tstcA'] = [('All','DirFwd','IndFwd','DirBack','IndBack'), ('','Cattle','Swine')]  # direction and pos/neg are exclusive\n",
      "\n",
      "4*3 + 8*3 + 5*3"
     ],
     "language": "python",
     "prompt_number": 68
    },
    {
     "cell_type": "code",
     "metadata": {},
     "outputs": [],
     "input": [
      "def combo_set(*prefixes):\n",
      "    combos = set()\n",
      "    for prefix in prefixes:\n",
      "        tree = grammars[prefix]\n",
      "        parts = product(*tree)\n",
      "        combos = combos.union({prefix + ''.join(line) for line in parts})\n",
      "    return combos"
     ],
     "language": "python",
     "prompt_number": 69
    },
    {
     "cell_type": "code",
     "metadata": {},
     "outputs": [
      {
       "output_type": "pyout",
       "prompt_number": 70,
       "text": [
        "54"
       ],
       "metadata": {}
      }
     ],
     "input": [
      "the54 = combo_set(*grammars['tst'])\n",
      "len(combo_set(*grammars['tst']))"
     ],
     "language": "python",
     "prompt_number": 70
    },
    {
     "cell_type": "code",
     "metadata": {},
     "outputs": [],
     "input": [
      "def subset_check(full_list, sub_list):\n",
      "    print(\"Subset Check:\", set(sub_list).issubset(set(full_list)))\n",
      "    stragglers = set(sub_list) - set(full_list).intersection(set(sub_list))\n",
      "    return stragglers"
     ],
     "language": "python",
     "prompt_number": 71
    },
    {
     "cell_type": "code",
     "metadata": {},
     "outputs": [
      {
       "output_type": "stream",
       "stream": "stdout",
       "text": [
        "Subset Check: False\n"
       ]
      },
      {
       "output_type": "pyout",
       "prompt_number": 72,
       "text": [
        "{'tstcAAllCattle', 'tstcAAllSwine', 'tstcUAllCattle', 'tstcUAllSwine'}"
       ],
       "metadata": {}
      }
     ],
     "input": [
      "x = [h for h in cause_sweep if 'tst' in h]\n",
      "subset_check(x, the54)\n",
      "# x"
     ],
     "language": "python",
     "prompt_number": 72
    },
    {
     "cell_type": "markdown",
     "metadata": {},
     "source": [
      "The four that don't match here are from the exm grammar exception about 'All' already noted above.  \n",
      "So what are we still missing?"
     ]
    },
    {
     "cell_type": "code",
     "metadata": {},
     "outputs": [
      {
       "output_type": "stream",
       "stream": "stdout",
       "text": [
        "Subset Check: False\n"
       ]
      },
      {
       "output_type": "pyout",
       "prompt_number": 73,
       "text": [
        "{'tstcAAllCattle', 'tstcAAllSwine', 'tstcUAllCattle', 'tstcUAllSwine'}"
       ],
       "metadata": {}
      }
     ],
     "input": [
      "subset_check(x, the54)"
     ],
     "language": "python",
     "prompt_number": 73
    },
    {
     "cell_type": "markdown",
     "metadata": {},
     "source": [
      "That's the same exception as before.  We're done."
     ]
    },
    {
     "cell_type": "code",
     "metadata": {},
     "outputs": [],
     "input": [
      "explain.update({'TruePos':'True Positives', 'FalsePos':'False Positives', 'TrueNeg':'True Negatives','FalseNeg':'False Negatives'})"
     ],
     "language": "python",
     "prompt_number": 74
    },
    {
     "cell_type": "code",
     "metadata": {},
     "outputs": [
      {
       "output_type": "stream",
       "stream": "stdout",
       "text": [
        "    UTruePos = models.IntegerField(blank=True, null=True, verbose_name=\"Units True Positives\")\n",
        "    UFalsePos = models.IntegerField(blank=True, null=True, verbose_name=\"Units False Positives\")\n",
        "    UTrueNeg = models.IntegerField(blank=True, null=True, verbose_name=\"Units True Negatives\")\n",
        "    UFalseNeg = models.IntegerField(blank=True, null=True, verbose_name=\"Units False Negatives\")\n"
       ]
      }
     ],
     "input": [
      "stat_group_code([('U',), ('TruePos', 'FalsePos', 'TrueNeg','FalseNeg')])"
     ],
     "language": "python",
     "prompt_number": 75
    },
    {
     "cell_type": "markdown",
     "metadata": {},
     "source": [
      "   \n",
      "##firstVaccination"
     ]
    },
    {
     "cell_type": "code",
     "metadata": {},
     "outputs": [
      {
       "output_type": "stream",
       "stream": "stdout",
       "text": [
        "firstVaccination\n",
        "firstVaccinationRing\n",
        "firstVaccinationCattle\n",
        "firstVaccinationSwine\n",
        "firstVaccinationRingCattle\n",
        "firstVaccinationRingSwine\n",
        "Total: 6\n"
       ]
      }
     ],
     "input": [
      "matching_headers('firstVaccination')"
     ],
     "language": "python",
     "prompt_number": 76
    },
    {
     "cell_type": "code",
     "metadata": {},
     "outputs": [],
     "input": [
      "grammars['firstVaccination'] = [('','Ring'), ('','Cattle','Swine')]"
     ],
     "language": "python",
     "prompt_number": 77
    },
    {
     "cell_type": "heading",
     "metadata": {},
     "level": 2,
     "source": [
      "vac Headers"
     ]
    },
    {
     "cell_type": "code",
     "metadata": {},
     "outputs": [
      {
       "output_type": "stream",
       "stream": "stdout",
       "text": [
        "vacwUAll\n",
        "vacwUCattle\n",
        "vacwUSwine\n",
        "vacwAAll\n",
        "vacwACattle\n",
        "vacwASwine\n",
        "vacwUMax\n",
        "vacwUMaxDay\n",
        "vacwAMax\n",
        "vacwAMaxDay\n",
        "vacwUTimeMax\n",
        "vacwUTimeAvg\n",
        "vacwUDaysInQueue\n",
        "vacwADaysInQueue\n",
        "Total: 14\n"
       ]
      }
     ],
     "input": [
      "matching_headers('vacw')"
     ],
     "language": "python",
     "prompt_number": 78
    },
    {
     "cell_type": "markdown",
     "metadata": {},
     "source": [
      "This one defies grammar.  I'm just going to stick it in the model WaitGroup as is."
     ]
    },
    {
     "cell_type": "code",
     "metadata": {},
     "outputs": [],
     "input": [
      "grammars['vac'] = ['vacw', 'vacn', 'vacc']\n",
      "grammars['vacw'] = [('U','A'), ('All','Max','MaxDay','TimeMax','TimeAvg','DaysInQueue'), ('','Cattle','Swine')]\n",
      "grammars['vacn'] = [('U','A'), ('All','Ini','Ring'), ('','Cattle','Swine')]\n",
      "grammars['vacc'] = [('U','A'), ('All','Ini','Ring'), ('','Cattle','Swine')]"
     ],
     "language": "python",
     "prompt_number": 79
    },
    {
     "cell_type": "code",
     "metadata": {},
     "outputs": [],
     "input": [
      "from io import StringIO\n",
      "import sys\n",
      "\n",
      "class Capturing(list):\n",
      "    def __enter__(self):\n",
      "        self._stdout = sys.stdout\n",
      "        sys.stdout = self._stringio = StringIO()\n",
      "        return self\n",
      "    def __exit__(self, *args):\n",
      "        self.extend(self._stringio.getvalue().splitlines())\n",
      "        sys.stdout = self._stdout"
     ],
     "language": "python",
     "prompt_number": 80
    },
    {
     "cell_type": "code",
     "metadata": {},
     "outputs": [
      {
       "output_type": "stream",
       "stream": "stdout",
       "text": [
        "37\n"
       ]
      },
      {
       "output_type": "pyout",
       "prompt_number": 81,
       "text": [
        "['vaccOccurred',\n",
        " 'vacnUAll',\n",
        " 'vacnUIni',\n",
        " 'vacnURing',\n",
        " 'vacnUCattle',\n",
        " 'vacnUSwine',\n",
        " 'vacnUIniCattle',\n",
        " 'vacnUIniSwine',\n",
        " 'vacnURingCattle',\n",
        " 'vacnURingSwine',\n",
        " 'vaccUAll',\n",
        " 'vaccUIni',\n",
        " 'vaccURing',\n",
        " 'vaccUCattle',\n",
        " 'vaccUSwine',\n",
        " 'vaccUIniCattle',\n",
        " 'vaccUIniSwine',\n",
        " 'vaccURingCattle',\n",
        " 'vaccURingSwine',\n",
        " 'vacnAAll',\n",
        " 'vacnAIni',\n",
        " 'vacnARing',\n",
        " 'vacnACattle',\n",
        " 'vacnASwine',\n",
        " 'vacnAIniCattle',\n",
        " 'vacnAIniSwine',\n",
        " 'vacnARingCattle',\n",
        " 'vacnARingSwine',\n",
        " 'vaccAAll',\n",
        " 'vaccAIni',\n",
        " 'vaccARing',\n",
        " 'vaccACattle',\n",
        " 'vaccASwine',\n",
        " 'vaccAIniCattle',\n",
        " 'vaccAIniSwine',\n",
        " 'vaccARingCattle',\n",
        " 'vaccARingSwine']"
       ],
       "metadata": {}
      }
     ],
     "input": [
      "with Capturing() as print_out:\n",
      "    matching_headers('vac')\n",
      "x = [x for x in print_out[:-1] if 'vacw' not in x]\n",
      "print(len(x))\n",
      "x"
     ],
     "language": "python",
     "prompt_number": 81
    },
    {
     "cell_type": "code",
     "metadata": {},
     "outputs": [],
     "input": [
      "explain['Ini'] = 'Initially'"
     ],
     "language": "python",
     "prompt_number": 82
    },
    {
     "cell_type": "code",
     "metadata": {},
     "outputs": [
      {
       "output_type": "stream",
       "stream": "stdout",
       "text": [
        "    UAll = models.IntegerField(blank=True, null=True, verbose_name=\"Units from Either method\")\n",
        "    UIni = models.IntegerField(blank=True, null=True, verbose_name=\"Units Initially\")\n",
        "    URing = models.IntegerField(blank=True, null=True, verbose_name=\"Units because of Ring\")\n",
        "    AAll = models.IntegerField(blank=True, null=True, verbose_name=\"Animals from Either method\")\n",
        "    AIni = models.IntegerField(blank=True, null=True, verbose_name=\"Animals Initially\")\n",
        "    ARing = models.IntegerField(blank=True, null=True, verbose_name=\"Animals because of Ring\")\n"
       ]
      }
     ],
     "input": [
      "stat_group_code([('U','A'), ('All','Ini','Ring')])"
     ],
     "language": "python",
     "prompt_number": 83
    },
    {
     "cell_type": "code",
     "metadata": {},
     "outputs": [],
     "input": [
      ""
     ],
     "language": "python",
     "prompt_number": 83
    },
    {
     "cell_type": "heading",
     "metadata": {},
     "level": 2,
     "source": [
      "firstDestruction"
     ]
    },
    {
     "cell_type": "code",
     "metadata": {},
     "outputs": [
      {
       "output_type": "stream",
       "stream": "stdout",
       "text": [
        "firstDestruction\n",
        "firstDestructionUnsp\n",
        "firstDestructionRing\n",
        "firstDestructionDirFwd\n",
        "firstDestructionIndFwd\n",
        "firstDestructionDirBack\n",
        "firstDestructionIndBack\n",
        "firstDestructionDet\n",
        "firstDestructionIni\n",
        "firstDestructionCattle\n",
        "firstDestructionSwine\n",
        "firstDestructionUnspCattle\n",
        "firstDestructionUnspSwine\n",
        "firstDestructionRingCattle\n",
        "firstDestructionRingSwine\n",
        "firstDestructionDirFwdCattle\n",
        "firstDestructionDirFwdSwine\n",
        "firstDestructionIndFwdCattle\n",
        "firstDestructionIndFwdSwine\n",
        "firstDestructionDirBackCattle\n",
        "firstDestructionDirBackSwine\n",
        "firstDestructionIndBackCattle\n",
        "firstDestructionIndBackSwine\n",
        "firstDestructionDetCattle\n",
        "firstDestructionDetSwine\n",
        "firstDestructionIniCattle\n",
        "firstDestructionIniSwine\n",
        "Total: 27\n"
       ]
      }
     ],
     "input": [
      "matching_headers('firstDestruction')"
     ],
     "language": "python",
     "prompt_number": 84
    },
    {
     "cell_type": "code",
     "metadata": {},
     "outputs": [
      {
       "output_type": "pyout",
       "prompt_number": 85,
       "text": [
        "27"
       ],
       "metadata": {}
      }
     ],
     "input": [
      "grammars['firstDestruction'] = [('','Unsp','Ring','Det','Ini','DirFwd','IndFwd','DirBack','IndBack'), ('','Cattle','Swine')]\n",
      "9*3"
     ],
     "language": "python",
     "prompt_number": 85
    },
    {
     "cell_type": "code",
     "metadata": {},
     "outputs": [
      {
       "output_type": "stream",
       "stream": "stdout",
       "text": [
        "Subset Check: True\n",
        "Subset Check: True\n"
       ]
      },
      {
       "output_type": "pyout",
       "prompt_number": 86,
       "text": [
        "set()"
       ],
       "metadata": {}
      }
     ],
     "input": [
      "x = [h for h in cause_sweep if 'firstDestruction' in h]\n",
      "subset_check(x, combo_set('firstDestruction'))\n",
      "subset_check(combo_set('firstDestruction'), x)"
     ],
     "language": "python",
     "prompt_number": 86
    },
    {
     "cell_type": "markdown",
     "metadata": {},
     "source": [
      "**Perfect Match**"
     ]
    },
    {
     "cell_type": "code",
     "metadata": {},
     "outputs": [],
     "input": [
      "explain.update({'Unsp':'Unspecified', 'Det':'because of Detection'})"
     ],
     "language": "python",
     "prompt_number": 87
    },
    {
     "cell_type": "code",
     "metadata": {},
     "outputs": [
      {
       "output_type": "stream",
       "stream": "stdout",
       "text": [
        "     = models.IntegerField(blank=True, null=True, verbose_name=\"\")\n",
        "    Unsp = models.IntegerField(blank=True, null=True, verbose_name=\"Unspecified\")\n",
        "    Ring = models.IntegerField(blank=True, null=True, verbose_name=\"because of Ring\")\n",
        "    Det = models.IntegerField(blank=True, null=True, verbose_name=\"because of Detection\")\n",
        "    Ini = models.IntegerField(blank=True, null=True, verbose_name=\"Initially\")\n",
        "    DirFwd = models.IntegerField(blank=True, null=True, verbose_name=\"because of Direct Forward trace\")\n",
        "    IndFwd = models.IntegerField(blank=True, null=True, verbose_name=\"because of Indirect Forward trace\")\n",
        "    DirBack = models.IntegerField(blank=True, null=True, verbose_name=\"because of Direct Back trace\")\n",
        "    IndBack = models.IntegerField(blank=True, null=True, verbose_name=\"because of Indirect Back trace\")\n"
       ]
      }
     ],
     "input": [
      "stat_group_code([('','Unsp','Ring','Det','Ini','DirFwd','IndFwd','DirBack','IndBack')])"
     ],
     "language": "python",
     "prompt_number": 88
    },
    {
     "cell_type": "markdown",
     "metadata": {},
     "source": [
      "  \n",
      "##des Headers"
     ]
    },
    {
     "cell_type": "code",
     "metadata": {},
     "outputs": [
      {
       "output_type": "stream",
       "stream": "stdout",
       "text": [
        "destrOccurred\n",
        "desnUAll\n",
        "desnUIni\n",
        "desnUUnsp\n",
        "desnURing\n",
        "desnUDirFwd\n",
        "desnUIndFwd\n",
        "desnUDirBack\n",
        "desnUIndBack\n",
        "desnUDet\n",
        "desnUCattle\n",
        "desnUSwine\n",
        "desnUIniCattle\n",
        "desnUIniSwine\n",
        "desnUUnspCattle\n",
        "desnUUnspSwine\n",
        "desnURingCattle\n",
        "desnURingSwine\n",
        "desnUDirFwdCattle\n",
        "desnUDirFwdSwine\n",
        "desnUIndFwdCattle\n",
        "desnUIndFwdSwine\n",
        "desnUDirBackCattle\n",
        "desnUDirBackSwine\n",
        "desnUIndBackCattle\n",
        "desnUIndBackSwine\n",
        "desnUDetCattle\n",
        "desnUDetSwine\n",
        "descUAll\n",
        "descUIni\n",
        "descUUnsp\n",
        "descURing\n",
        "descUDirFwd\n",
        "descUIndFwd\n",
        "descUDirBack\n",
        "descUIndBack\n",
        "descUDet\n",
        "descUCattle\n",
        "descUSwine\n",
        "descUIniCattle\n",
        "descUIniSwine\n",
        "descUUnspCattle\n",
        "descUUnspSwine\n",
        "descURingCattle\n",
        "descURingSwine\n",
        "descUDirFwdCattle\n",
        "descUDirFwdSwine\n",
        "descUIndFwdCattle\n",
        "descUIndFwdSwine\n",
        "descUDirBackCattle\n",
        "descUDirBackSwine\n",
        "descUIndBackCattle\n",
        "descUIndBackSwine\n",
        "descUDetCattle\n",
        "descUDetSwine\n",
        "desnAAll\n",
        "desnAIni\n",
        "desnAUnsp\n",
        "desnARing\n",
        "desnADirFwd\n",
        "desnAIndFwd\n",
        "desnADirBack\n",
        "desnAIndBack\n",
        "desnADet\n",
        "desnACattle\n",
        "desnASwine\n",
        "desnAIniCattle\n",
        "desnAIniSwine\n",
        "desnAUnspCattle\n",
        "desnAUnspSwine\n",
        "desnARingCattle\n",
        "desnARingSwine\n",
        "desnADirFwdCattle\n",
        "desnADirFwdSwine\n",
        "desnAIndFwdCattle\n",
        "desnAIndFwdSwine\n",
        "desnADirBackCattle\n",
        "desnADirBackSwine\n",
        "desnAIndBackCattle\n",
        "desnAIndBackSwine\n",
        "desnADetCattle\n",
        "desnADetSwine\n",
        "descAAll\n",
        "descAIni\n",
        "descAUnsp\n",
        "descARing\n",
        "descADirFwd\n",
        "descAIndFwd\n",
        "descADirBack\n",
        "descAIndBack\n",
        "descADet\n",
        "descACattle\n",
        "descASwine\n",
        "descAIniCattle\n",
        "descAIniSwine\n",
        "descAUnspCattle\n",
        "descAUnspSwine\n",
        "descARingCattle\n",
        "descARingSwine\n",
        "descADirFwdCattle\n",
        "descADirFwdSwine\n",
        "descAIndFwdCattle\n",
        "descAIndFwdSwine\n",
        "descADirBackCattle\n",
        "descADirBackSwine\n",
        "descAIndBackCattle\n",
        "descAIndBackSwine\n",
        "descADetCattle\n",
        "descADetSwine\n",
        "Total: 109\n"
       ]
      }
     ],
     "input": [
      "matching_headers('des', 'desw')"
     ],
     "language": "python",
     "prompt_number": 89
    },
    {
     "cell_type": "code",
     "metadata": {},
     "outputs": [
      {
       "output_type": "pyout",
       "prompt_number": 90,
       "text": [
        "108"
       ],
       "metadata": {}
      }
     ],
     "input": [
      "grammars['des'] = [('n','c'), ('U','A'), ('All','Unsp','Ring','Det','Ini','DirFwd','IndFwd','DirBack','IndBack'), ('','Cattle','Swine')]\n",
      "len(combo_set('des'))"
     ],
     "language": "python",
     "prompt_number": 90
    },
    {
     "cell_type": "code",
     "metadata": {},
     "outputs": [
      {
       "output_type": "stream",
       "stream": "stdout",
       "text": [
        "Subset Check: False\n"
       ]
      },
      {
       "output_type": "pyout",
       "prompt_number": 91,
       "text": [
        "{'descAAllCattle',\n",
        " 'descAAllSwine',\n",
        " 'descUAllCattle',\n",
        " 'descUAllSwine',\n",
        " 'desnAAllCattle',\n",
        " 'desnAAllSwine',\n",
        " 'desnUAllCattle',\n",
        " 'desnUAllSwine'}"
       ],
       "metadata": {}
      }
     ],
     "input": [
      "x = [h for h in cause_sweep if 'des' in h and 'desw' not in h]\n",
      "subset_check(x, combo_set('des'))"
     ],
     "language": "python",
     "prompt_number": 91
    },
    {
     "cell_type": "code",
     "metadata": {},
     "outputs": [
      {
       "output_type": "stream",
       "stream": "stdout",
       "text": [
        "Subset Check: False\n"
       ]
      },
      {
       "output_type": "pyout",
       "prompt_number": 92,
       "text": [
        "{'descACattle',\n",
        " 'descASwine',\n",
        " 'descUCattle',\n",
        " 'descUSwine',\n",
        " 'desnACattle',\n",
        " 'desnASwine',\n",
        " 'desnUCattle',\n",
        " 'desnUSwine',\n",
        " 'destrOccurred'}"
       ],
       "metadata": {}
      }
     ],
     "input": [
      "subset_check(combo_set('des'), x)"
     ],
     "language": "python",
     "prompt_number": 92
    },
    {
     "cell_type": "markdown",
     "metadata": {},
     "source": [
      "This is a correct match.  Same exception as before, plus the `destrOccurred` which has been added to the unaccounted list"
     ]
    },
    {
     "cell_type": "heading",
     "metadata": {},
     "level": 3,
     "source": [
      "desw Headers"
     ]
    },
    {
     "cell_type": "code",
     "metadata": {},
     "outputs": [
      {
       "output_type": "stream",
       "stream": "stdout",
       "text": [
        "deswUAll\n",
        "deswUCattle\n",
        "deswUSwine\n",
        "deswAAll\n",
        "deswACattle\n",
        "deswASwine\n",
        "deswUMax\n",
        "deswUMaxDay\n",
        "deswAMax\n",
        "deswAMaxDay\n",
        "deswUTimeMax\n",
        "deswUTimeAvg\n",
        "deswUDaysInQueue\n",
        "deswADaysInQueue\n",
        "Total: 14\n"
       ]
      }
     ],
     "input": [
      "matching_headers('desw')"
     ],
     "language": "python",
     "prompt_number": 93
    },
    {
     "cell_type": "code",
     "metadata": {},
     "outputs": [],
     "input": [
      "grammars['desw'] = grammars['vacw']  #same structure, same python Group model used"
     ],
     "language": "python",
     "prompt_number": 94
    },
    {
     "cell_type": "heading",
     "metadata": {},
     "level": 1,
     "source": [
      "ByProductionType Header Grammars"
     ]
    },
    {
     "cell_type": "heading",
     "metadata": {},
     "level": 2,
     "source": [
      "tsd Headers"
     ]
    },
    {
     "cell_type": "code",
     "metadata": {},
     "outputs": [
      {
       "output_type": "stream",
       "stream": "stdout",
       "text": [
        "tsdUSusc\n",
        "tsdULat\n",
        "tsdUSubc\n",
        "tsdUClin\n",
        "tsdUNImm\n",
        "tsdUVImm\n",
        "tsdUDest\n",
        "tsdUCattleSusc\n",
        "tsdUCattleLat\n",
        "tsdUCattleSubc\n",
        "tsdUCattleClin\n",
        "tsdUCattleNImm\n",
        "tsdUCattleVImm\n",
        "tsdUCattleDest\n",
        "tsdUSwineSusc\n",
        "tsdUSwineLat\n",
        "tsdUSwineSubc\n",
        "tsdUSwineClin\n",
        "tsdUSwineNImm\n",
        "tsdUSwineVImm\n",
        "tsdUSwineDest\n",
        "tsdASusc\n",
        "tsdALat\n",
        "tsdASubc\n",
        "tsdAClin\n",
        "tsdANImm\n",
        "tsdAVImm\n",
        "tsdADest\n",
        "tsdACattleSusc\n",
        "tsdACattleLat\n",
        "tsdACattleSubc\n",
        "tsdACattleClin\n",
        "tsdACattleNImm\n",
        "tsdACattleVImm\n",
        "tsdACattleDest\n",
        "tsdASwineSusc\n",
        "tsdASwineLat\n",
        "tsdASwineSubc\n",
        "tsdASwineClin\n",
        "tsdASwineNImm\n",
        "tsdASwineVImm\n",
        "tsdASwineDest\n",
        "Total: 42\n"
       ]
      }
     ],
     "input": [
      "matching_headers('tsd')"
     ],
     "language": "python",
     "prompt_number": 95
    },
    {
     "cell_type": "code",
     "metadata": {},
     "outputs": [],
     "input": [
      "grammars['tsd'] = [('U','A'), ('','Cattle','Swine'), ('Susc','Lat','Subc','Clin','NImm','VImm','Dest')]"
     ],
     "language": "python",
     "prompt_number": 96
    },
    {
     "cell_type": "code",
     "metadata": {},
     "outputs": [
      {
       "output_type": "stream",
       "stream": "stdout",
       "text": [
        "Subset Check: True\n",
        "Subset Check: True\n"
       ]
      },
      {
       "output_type": "pyout",
       "prompt_number": 97,
       "text": [
        "(set(), set())"
       ],
       "metadata": {}
      }
     ],
     "input": [
      "def set_equality_check(prefix):\n",
      "    x = [h for h in cause_sweep if prefix in h ]\n",
      "    a = subset_check(x, combo_set(prefix))\n",
      "    b = subset_check(combo_set(prefix), x)\n",
      "    return (a, b)\n",
      "\n",
      "set_equality_check('tsd')"
     ],
     "language": "python",
     "prompt_number": 97
    },
    {
     "cell_type": "code",
     "metadata": {},
     "outputs": [],
     "input": [
      "explain.update({'Susc':'Susceptible', 'Lat':'Latent', 'Subc':'Subclinical', 'Clin':'Clinical', 'NImm':'Natural Immune', 'VImm':'Vaccine Immune', 'Dest':'Destroyed'})"
     ],
     "language": "python",
     "prompt_number": 98
    },
    {
     "cell_type": "code",
     "metadata": {},
     "outputs": [
      {
       "output_type": "stream",
       "stream": "stdout",
       "text": [
        "    USusc = models.IntegerField(blank=True, null=True, verbose_name=\"Units Susceptible\")\n",
        "    ULat = models.IntegerField(blank=True, null=True, verbose_name=\"Units Latent\")\n",
        "    USubc = models.IntegerField(blank=True, null=True, verbose_name=\"Units Subclinical\")\n",
        "    UClin = models.IntegerField(blank=True, null=True, verbose_name=\"Units Clinical\")\n",
        "    UNImm = models.IntegerField(blank=True, null=True, verbose_name=\"Units Natural Immune\")\n",
        "    UVImm = models.IntegerField(blank=True, null=True, verbose_name=\"Units Vaccine Immune\")\n",
        "    UDest = models.IntegerField(blank=True, null=True, verbose_name=\"Units Destroyed\")\n",
        "    ASusc = models.IntegerField(blank=True, null=True, verbose_name=\"Animals Susceptible\")\n",
        "    ALat = models.IntegerField(blank=True, null=True, verbose_name=\"Animals Latent\")\n",
        "    ASubc = models.IntegerField(blank=True, null=True, verbose_name=\"Animals Subclinical\")\n",
        "    AClin = models.IntegerField(blank=True, null=True, verbose_name=\"Animals Clinical\")\n",
        "    ANImm = models.IntegerField(blank=True, null=True, verbose_name=\"Animals Natural Immune\")\n",
        "    AVImm = models.IntegerField(blank=True, null=True, verbose_name=\"Animals Vaccine Immune\")\n",
        "    ADest = models.IntegerField(blank=True, null=True, verbose_name=\"Animals Destroyed\")\n"
       ]
      }
     ],
     "input": [
      "stat_group_code([('U','A'), ('Susc','Lat','Subc','Clin','NImm','VImm','Dest')])"
     ],
     "language": "python",
     "prompt_number": 99
    },
    {
     "cell_type": "markdown",
     "metadata": {},
     "source": [
      "  "
     ]
    },
    {
     "cell_type": "markdown",
     "metadata": {},
     "source": [
      "Just making sure I got everything"
     ]
    },
    {
     "cell_type": "code",
     "metadata": {},
     "outputs": [
      {
       "output_type": "stream",
       "stream": "stdout",
       "text": [
        "vacwUAll\n",
        "vacwUCattle\n",
        "vacwUSwine\n",
        "vacwAAll\n",
        "vacwACattle\n",
        "vacwASwine\n",
        "vacwUMax\n",
        "vacwUMaxDay\n",
        "vacwAMax\n",
        "vacwAMaxDay\n",
        "vacwUTimeMax\n",
        "vacwUTimeAvg\n",
        "vacwUDaysInQueue\n",
        "vacwADaysInQueue\n",
        "Total: 14\n"
       ]
      }
     ],
     "input": [
      "matching_headers('vacw')"
     ],
     "language": "python",
     "prompt_number": 100
    },
    {
     "cell_type": "code",
     "metadata": {},
     "outputs": [
      {
       "output_type": "pyout",
       "prompt_number": 101,
       "text": [
        "[('U', 'A'),\n",
        " ('All', 'Max', 'MaxDay', 'TimeMax', 'TimeAvg', 'DaysInQueue'),\n",
        " ('', 'Cattle', 'Swine')]"
       ],
       "metadata": {}
      }
     ],
     "input": [
      "grammars['desw']"
     ],
     "language": "python",
     "prompt_number": 101
    },
    {
     "cell_type": "heading",
     "metadata": {},
     "level": 1,
     "source": [
      "DailyByZoneAndProductionType"
     ]
    },
    {
     "cell_type": "code",
     "metadata": {},
     "outputs": [
      {
       "output_type": "stream",
       "stream": "stdout",
       "text": [
        "unitsInZoneHighRisk\n",
        "unitsInZoneMediumRisk\n",
        "unitsInZoneBackground\n",
        "unitsInZoneHighRiskCattle\n",
        "unitsInZoneHighRiskSwine\n",
        "unitsInZoneMediumRiskCattle\n",
        "unitsInZoneMediumRiskSwine\n",
        "unitsInZoneBackgroundCattle\n",
        "unitsInZoneBackgroundSwine\n",
        "Total: 9\n"
       ]
      }
     ],
     "input": [
      "matching_headers('unitsInZone')"
     ],
     "language": "python",
     "prompt_number": 102
    },
    {
     "cell_type": "code",
     "metadata": {},
     "outputs": [
      {
       "output_type": "pyout",
       "prompt_number": 103,
       "text": [
        "{'unitsInZoneBackground',\n",
        " 'unitsInZoneBackgroundCattle',\n",
        " 'unitsInZoneBackgroundSwine',\n",
        " 'unitsInZoneHighRisk',\n",
        " 'unitsInZoneHighRiskCattle',\n",
        " 'unitsInZoneHighRiskSwine',\n",
        " 'unitsInZoneMediumRisk',\n",
        " 'unitsInZoneMediumRiskCattle',\n",
        " 'unitsInZoneMediumRiskSwine'}"
       ],
       "metadata": {}
      }
     ],
     "input": [
      "ZONES = ('Background', 'HighRisk', 'MediumRisk')\n",
      "PT = ('', 'Cattle', 'Swine')\n",
      "grammars['unitsInZone'] = [ZONES, PT]\n",
      "combo_set('unitsInZone')"
     ],
     "language": "python",
     "prompt_number": 103
    },
    {
     "cell_type": "code",
     "metadata": {},
     "outputs": [
      {
       "output_type": "stream",
       "stream": "stdout",
       "text": [
        "Subset Check: True\n",
        "Subset Check: True\n"
       ]
      },
      {
       "output_type": "pyout",
       "prompt_number": 104,
       "text": [
        "(set(), set())"
       ],
       "metadata": {}
      }
     ],
     "input": [
      "set_equality_check('unitsInZone')"
     ],
     "language": "python",
     "prompt_number": 104
    },
    {
     "cell_type": "heading",
     "metadata": {},
     "level": 3,
     "source": [
      "unitDaysInZone Headers"
     ]
    },
    {
     "cell_type": "code",
     "metadata": {},
     "outputs": [
      {
       "output_type": "stream",
       "stream": "stdout",
       "text": [
        "unitDaysInZoneHighRisk\n",
        "unitDaysInZoneMediumRisk\n",
        "unitDaysInZoneBackground\n",
        "unitDaysInZoneHighRiskCattle\n",
        "unitDaysInZoneHighRiskSwine\n",
        "unitDaysInZoneMediumRiskCattle\n",
        "unitDaysInZoneMediumRiskSwine\n",
        "unitDaysInZoneBackgroundCattle\n",
        "unitDaysInZoneBackgroundSwine\n",
        "Total: 9\n"
       ]
      }
     ],
     "input": [
      "matching_headers('unitDaysInZone')"
     ],
     "language": "python",
     "prompt_number": 105
    },
    {
     "cell_type": "markdown",
     "metadata": {},
     "source": [
      "Same as before."
     ]
    },
    {
     "cell_type": "code",
     "metadata": {},
     "outputs": [],
     "input": [
      "grammars['unitDaysInZone'] = grammars['unitsInZone']"
     ],
     "language": "python",
     "prompt_number": 106
    },
    {
     "cell_type": "code",
     "metadata": {},
     "outputs": [
      {
       "output_type": "pyout",
       "prompt_number": 107,
       "text": [
        "'unit_days_in_zone'"
       ],
       "metadata": {}
      }
     ],
     "input": [
      "re.sub(r'([a-z])([A-Z])', r'\\1_\\2', 'unitDaysInZone').lower()"
     ],
     "language": "python",
     "prompt_number": 107
    },
    {
     "cell_type": "code",
     "metadata": {},
     "outputs": [
      {
       "output_type": "stream",
       "stream": "stdout",
       "text": [
        "animalDaysInZoneHighRisk\n",
        "animalDaysInZoneMediumRisk\n",
        "animalDaysInZoneBackground\n",
        "animalDaysInZoneHighRiskCattle\n",
        "animalDaysInZoneHighRiskSwine\n",
        "animalDaysInZoneMediumRiskCattle\n",
        "animalDaysInZoneMediumRiskSwine\n",
        "animalDaysInZoneBackgroundCattle\n",
        "animalDaysInZoneBackgroundSwine\n",
        "Total: 9\n"
       ]
      }
     ],
     "input": [
      "matching_headers('animalDaysInZone')"
     ],
     "language": "python",
     "prompt_number": 108
    },
    {
     "cell_type": "code",
     "metadata": {},
     "outputs": [],
     "input": [
      "grammars['animalDaysInZone'] = grammars['unitsInZone']"
     ],
     "language": "python",
     "prompt_number": 109
    },
    {
     "cell_type": "markdown",
     "metadata": {},
     "source": [
      "Same as before"
     ]
    },
    {
     "cell_type": "heading",
     "metadata": {},
     "level": 1,
     "source": [
      "DailyByZone Headers"
     ]
    },
    {
     "cell_type": "code",
     "metadata": {},
     "outputs": [
      {
       "output_type": "stream",
       "stream": "stdout",
       "text": [
        "zoneAreaHighRisk\n",
        "zoneAreaMediumRisk\n",
        "Total: 2\n",
        "maxZoneAreaHighRisk\n",
        "maxZoneAreaMediumRisk\n",
        "maxZoneAreaDayHighRisk\n",
        "maxZoneAreaDayMediumRisk\n",
        "Total: 4\n",
        "maxZoneAreaDayHighRisk\n",
        "maxZoneAreaDayMediumRisk\n",
        "Total: 2\n",
        "zonePerimeterHighRisk\n",
        "zonePerimeterMediumRisk\n",
        "Total: 2\n",
        "maxZonePerimeterHighRisk\n",
        "maxZonePerimeterMediumRisk\n",
        "maxZonePerimeterDayHighRisk\n",
        "maxZonePerimeterDayMediumRisk\n",
        "Total: 4\n",
        "maxZonePerimeterDayHighRisk\n",
        "maxZonePerimeterDayMediumRisk\n",
        "Total: 2\n"
       ]
      }
     ],
     "input": [
      "for field in ['zoneArea','maxZoneArea','maxZoneAreaDay','zonePerimeter','maxZonePerimeter','maxZonePerimeterDay']:\n",
      "    matching_headers(field)"
     ],
     "language": "python",
     "prompt_number": 110
    },
    {
     "cell_type": "markdown",
     "metadata": {},
     "source": [
      "Nothing intersting going on here."
     ]
    },
    {
     "cell_type": "heading",
     "metadata": {},
     "level": 2,
     "source": [
      "DailyControls Headers"
     ]
    },
    {
     "cell_type": "code",
     "metadata": {},
     "outputs": [
      {
       "output_type": "stream",
       "stream": "stdout",
       "text": [
        "adqnUAll\n",
        "adqcUAll\n",
        "Total: 2\n"
       ]
      }
     ],
     "input": [
      "matching_headers('adq')"
     ],
     "language": "python",
     "prompt_number": 111
    },
    {
     "cell_type": "code",
     "metadata": {},
     "outputs": [
      {
       "output_type": "stream",
       "stream": "stdout",
       "text": [
        "diseaseDuration\n",
        "Total: 1\n",
        "adqnUAll\n",
        "Total: 1\n",
        "adqcUAll\n",
        "Total: 1\n",
        "detOccurred\n",
        "Total: 1\n",
        "\n",
        "Total: 0\n",
        "vaccOccurred\n",
        "Total: 1\n",
        "vacwUMax\n",
        "vacwUMaxDay\n",
        "Total: 2\n",
        "vacwUMaxDay\n",
        "Total: 1\n",
        "vacwUDaysInQueue\n",
        "Total: 1\n"
       ]
      }
     ],
     "input": [
      "for field in ['diseaseDuration','adqnU','adqcU','detOccurred','costSurveillance','vaccOccurred','vacwUMax','vacwUMaxDay','vacwUDaysInQueue']:\n",
      "    matching_headers(field)"
     ],
     "language": "python",
     "prompt_number": 112
    },
    {
     "cell_type": "code",
     "metadata": {},
     "outputs": [
      {
       "output_type": "stream",
       "stream": "stdout",
       "text": [
        "\n",
        "Total: 0\n"
       ]
      }
     ],
     "input": [
      "matching_headers('costSurveillance')"
     ],
     "language": "python",
     "prompt_number": 113
    },
    {
     "cell_type": "markdown",
     "metadata": {},
     "source": [
      "Probably missing because I didn't specify costs"
     ]
    },
    {
     "cell_type": "code",
     "metadata": {},
     "outputs": [],
     "input": [
      "fields = '''vacwUTimeAvg\n",
      "vacwUTimeMax\n",
      "vacwAMax\n",
      "vacwAMaxDay\n",
      "vacwADaysInQueue\n",
      "vaccSetup\n",
      "vaccVaccination\n",
      "vaccSubtotal\n",
      "destrOccurred\n",
      "deswUMax\n",
      "deswUMaxDay\n",
      "deswUDaysInQueue\n",
      "deswUTimeAvg\n",
      "deswUTimeMax\n",
      "deswAMax\n",
      "deswAMaxDay\n",
      "deswADaysInQueue\n",
      "destrAppraisal\n",
      "destrEuthanasia\n",
      "destrIndemnification'''.split()"
     ],
     "language": "python",
     "prompt_number": 114
    },
    {
     "cell_type": "code",
     "metadata": {},
     "outputs": [
      {
       "output_type": "stream",
       "stream": "stdout",
       "text": [
        "vacwUTimeAvg\n",
        "Total: 1\n",
        "vacwUTimeMax\n",
        "Total: 1\n",
        "vacwAMax\n",
        "vacwAMaxDay\n",
        "Total: 2\n",
        "vacwAMaxDay\n",
        "Total: 1\n",
        "vacwADaysInQueue\n",
        "Total: 1\n",
        "\n",
        "Total: 0\n",
        "\n",
        "Total: 0\n",
        "\n",
        "Total: 0\n",
        "destrOccurred\n",
        "Total: 1\n",
        "deswUMax\n",
        "deswUMaxDay\n",
        "Total: 2\n",
        "deswUMaxDay\n",
        "Total: 1\n",
        "deswUDaysInQueue\n",
        "Total: 1\n",
        "deswUTimeAvg\n",
        "Total: 1\n",
        "deswUTimeMax\n",
        "Total: 1\n",
        "deswAMax\n",
        "deswAMaxDay\n",
        "Total: 2\n",
        "deswAMaxDay\n",
        "Total: 1\n",
        "deswADaysInQueue\n",
        "Total: 1\n",
        "\n",
        "Total: 0\n",
        "\n",
        "Total: 0\n",
        "\n",
        "Total: 0\n"
       ]
      }
     ],
     "input": [
      "for field in fields:\n",
      "    matching_headers(field)"
     ],
     "language": "python",
     "prompt_number": 115
    },
    {
     "cell_type": "markdown",
     "metadata": {},
     "source": [
      "A couple missing fields.  I'll stick to Neil's notes and assume that they are missing because of settings."
     ]
    },
    {
     "cell_type": "code",
     "metadata": {},
     "outputs": [
      {
       "output_type": "stream",
       "stream": "stdout",
       "text": [
        "\n",
        "Total: 0\n",
        "\n",
        "Total: 0\n",
        "\n",
        "Total: 0\n",
        "outbreakDuration\n",
        "Total: 1\n",
        "\n",
        "Total: 0\n"
       ]
      }
     ],
     "input": [
      "fields = '''destrDisposal\n",
      "destrCleaning\n",
      "destrSubtotal\n",
      "outbreakDuration\n",
      "costsTotal'''.split()\n",
      "for field in fields:\n",
      "    matching_headers(field)"
     ],
     "language": "python",
     "prompt_number": 116
    },
    {
     "cell_type": "code",
     "metadata": {},
     "outputs": [],
     "input": [
      ""
     ],
     "language": "python",
     "prompt_number": 116
    },
    {
     "cell_type": "heading",
     "metadata": {},
     "level": 2,
     "source": [
      "Fields I couln't grammarify"
     ]
    },
    {
     "cell_type": "markdown",
     "metadata": {},
     "source": [
      "detcUqAll"
     ]
    },
    {
     "cell_type": "code",
     "metadata": {},
     "outputs": [],
     "input": [
      ""
     ],
     "language": "python",
     "prompt_number": 116
    },
    {
     "cell_type": "heading",
     "metadata": {},
     "level": 1,
     "source": [
      "Outputs that don't match any prefix so far"
     ]
    },
    {
     "cell_type": "code",
     "metadata": {},
     "outputs": [],
     "input": [
      "prefixes = '''expnU\n",
      "expcU\n",
      "expnA\n",
      "expcA\n",
      "infnU\n",
      "infcU\n",
      "infnA\n",
      "infcA\n",
      "firstDetection\n",
      "lastDetection\n",
      "detnU\n",
      "detcU\n",
      "detnA\n",
      "detcA\n",
      "trnUp\n",
      "trnU\n",
      "trcUp\n",
      "trcU\n",
      "trnAp\n",
      "trnA\n",
      "trcAp\n",
      "trcA\n",
      "exmnU\n",
      "exmcU\n",
      "exmnA\n",
      "exmcA\n",
      "tstcU\n",
      "tstcA\n",
      "firstVaccination\n",
      "vacnU\n",
      "vaccU\n",
      "vacnA\n",
      "vaccA\n",
      "firstDestruction\n",
      "desnU\n",
      "descU\n",
      "desnA\n",
      "descA\n",
      "tsdUSusc\n",
      "tsdULat\n",
      "tsdUSubc\n",
      "tsdUClin\n",
      "tsdUNImm\n",
      "tsdUVImm\n",
      "tsdUDest\n",
      "tsdASusc\n",
      "tsdALat\n",
      "tsdASubc\n",
      "tsdAClin\n",
      "tsdANImm\n",
      "tsdAVImm\n",
      "tsdADest\n",
      "tstcUTruePos\n",
      "tstcUTrueNeg\n",
      "tstcUFalsePos\n",
      "tstcUFalseNeg\n",
      "vacwU\n",
      "vacwA\n",
      "deswU\n",
      "deswA\n",
      "unitsInZone\n",
      "unitDaysInZone\n",
      "animalDaysInZone\n",
      "zoneArea\n",
      "maxZoneArea\n",
      "maxZoneAreaDay\n",
      "zonePerimeter\n",
      "maxZonePerimeter\n",
      "maxZonePerimeterDay\n",
      "diseaseDuration\n",
      "adqnU\n",
      "adqcU\n",
      "detOccurred\n",
      "costSurveillance\n",
      "vaccOccurred\n",
      "vacwUMax\n",
      "vacwUMaxDay\n",
      "vacwUDaysInQueue\n",
      "vacwUTimeAvg\n",
      "vacwUTimeMax\n",
      "vacwAMax\n",
      "vacwAMaxDay\n",
      "vacwADaysInQueue\n",
      "vaccSetup\n",
      "vaccVaccination\n",
      "vaccSubtotal\n",
      "destrOccurred\n",
      "deswUMax\n",
      "deswUMaxDay\n",
      "deswUDaysInQueue\n",
      "deswUTimeAvg\n",
      "deswUTimeMax\n",
      "deswAMax\n",
      "deswAMaxDay\n",
      "deswADaysInQueue\n",
      "destrAppraisal\n",
      "destrEuthanasia\n",
      "destrIndemnification\n",
      "destrDisposal\n",
      "destrCleaning\n",
      "destrSubtotal\n",
      "outbreakDuration\n",
      "costsTotal\n",
      "tsd\n",
      "tst'''.split()"
     ],
     "language": "python",
     "prompt_number": 117
    },
    {
     "cell_type": "code",
     "metadata": {},
     "outputs": [
      {
       "output_type": "stream",
       "stream": "stdout",
       "text": [
        "Run\n",
        "Day\n",
        "firstDetUInfAll\n",
        "firstDetAInfAll\n",
        "ratio\n",
        "finalZoneAreaHighRisk\n",
        "finalZoneAreaMediumRisk\n",
        "finalZonePerimeterHighRisk\n",
        "finalZonePerimeterMediumRisk\n",
        "num-separate-areasHighRisk\n",
        "num-separate-areasMediumRisk\n",
        "average-prevalence\n"
       ]
      }
     ],
     "input": [
      "print('\\n'.join([h for h in cause_sweep if not any([covered in h for covered in prefixes])]))"
     ],
     "language": "python",
     "prompt_number": 118
    },
    {
     "cell_type": "code",
     "metadata": {},
     "outputs": [
      {
       "output_type": "pyout",
       "prompt_number": 119,
       "text": [
        "[('U', 'A'),\n",
        " ('', 'Cattle', 'Swine'),\n",
        " ('Susc', 'Lat', 'Subc', 'Clin', 'NImm', 'VImm', 'Dest')]"
       ],
       "metadata": {}
      }
     ],
     "input": [
      "grammars['tsd']"
     ],
     "language": "python",
     "prompt_number": 119
    },
    {
     "cell_type": "code",
     "metadata": {},
     "outputs": [
      {
       "output_type": "pyout",
       "prompt_number": 120,
       "text": [
        "['tstnU', 'tstcU', 'tstcA']"
       ],
       "metadata": {}
      }
     ],
     "input": [
      "grammars['tst']"
     ],
     "language": "python",
     "prompt_number": 120
    },
    {
     "cell_type": "code",
     "metadata": {},
     "outputs": [
      {
       "output_type": "pyout",
       "prompt_number": 121,
       "text": [
        "['trnUDirp',\n",
        " 'trnUDirCattlep',\n",
        " 'trnUDirSwinep',\n",
        " 'trnUDir',\n",
        " 'trnUDirCattle',\n",
        " 'trnUDirSwine']"
       ],
       "metadata": {}
      }
     ],
     "input": [
      "[x for x in cause_sweep if 'trnUDir' in x]"
     ],
     "language": "python",
     "prompt_number": 121
    },
    {
     "cell_type": "code",
     "metadata": {},
     "outputs": [
      {
       "output_type": "pyout",
       "prompt_number": 122,
       "text": [
        "[('', 'Ring'), ('', 'Cattle', 'Swine')]"
       ],
       "metadata": {}
      }
     ],
     "input": [
      "grammars['firstVaccination']"
     ],
     "language": "python",
     "prompt_number": 122
    },
    {
     "cell_type": "code",
     "metadata": {},
     "outputs": [
      {
       "output_type": "stream",
       "stream": "stdout",
       "text": [
        "infnUAll\n",
        "infnUDir\n",
        "infnUInd\n",
        "infnUAir\n",
        "infnUIni\n",
        "infnUCattle\n",
        "infnUSwine\n",
        "infnUDirCattle\n",
        "infnUDirSwine\n",
        "infnUIndCattle\n",
        "infnUIndSwine\n",
        "infnUAirCattle\n",
        "infnUAirSwine\n",
        "infnUIniCattle\n",
        "infnUIniSwine\n",
        "infcUAll\n",
        "infcUDir\n",
        "infcUInd\n",
        "infcUAir\n",
        "infcUIni\n",
        "infcUCattle\n",
        "infcUSwine\n",
        "infcUDirCattle\n",
        "infcUDirSwine\n",
        "infcUIndCattle\n",
        "infcUIndSwine\n",
        "infcUAirCattle\n",
        "infcUAirSwine\n",
        "infcUIniCattle\n",
        "infcUIniSwine\n",
        "infnAAll\n",
        "infnADir\n",
        "infnAInd\n",
        "infnAAir\n",
        "infnAIni\n",
        "infnACattle\n",
        "infnASwine\n",
        "infnADirCattle\n",
        "infnADirSwine\n",
        "infnAIndCattle\n",
        "infnAIndSwine\n",
        "infnAAirCattle\n",
        "infnAAirSwine\n",
        "infnAIniCattle\n",
        "infnAIniSwine\n",
        "infcAAll\n",
        "infcADir\n",
        "infcAInd\n",
        "infcAAir\n",
        "infcAIni\n",
        "infcACattle\n",
        "infcASwine\n",
        "infcADirCattle\n",
        "infcADirSwine\n",
        "infcAIndCattle\n",
        "infcAIndSwine\n",
        "infcAAirCattle\n",
        "infcAAirSwine\n",
        "infcAIniCattle\n",
        "infcAIniSwine\n",
        "Total: 60\n"
       ]
      }
     ],
     "input": [
      "matching_headers('inf')"
     ],
     "language": "python",
     "prompt_number": 123
    },
    {
     "cell_type": "code",
     "metadata": {},
     "outputs": [],
     "input": [
      "grammars['inf'] = [('c', 'n'),\n",
      " ('U', 'A'),\n",
      " ('', 'Ini', 'Dir', 'Ind', 'Air'),\n",
      " ('All', 'Cattle', 'Swine')]"
     ],
     "language": "python",
     "prompt_number": 124
    },
    {
     "cell_type": "code",
     "metadata": {},
     "outputs": [],
     "input": [
      ""
     ],
     "language": "python",
     "prompt_number": 124
    },
    {
     "cell_type": "heading",
     "metadata": {},
     "level": 2,
     "source": [
      "Column stability between Scenarios"
     ]
    },
    {
     "cell_type": "code",
     "metadata": {},
     "outputs": [
      {
       "output_type": "pyout",
       "prompt_number": 125,
       "text": [
        "[]"
       ],
       "metadata": {}
      }
     ],
     "input": [
      "recent_headers = \"Run,Day,outbreakDuration,zoneAreaHighRisk,zoneAreaMediumRisk,maxZoneAreaHighRisk,maxZoneAreaMediumRisk,maxZoneAreaDayHighRisk,maxZoneAreaDayMediumRisk,finalZoneAreaHighRisk,finalZoneAreaMediumRisk,zonePerimeterHighRisk,zonePerimeterMediumRisk,maxZonePerimeterHighRisk,maxZonePerimeterMediumRisk,maxZonePerimeterDayHighRisk,maxZonePerimeterDayMediumRisk,finalZonePerimeterHighRisk,finalZonePerimeterMediumRisk,num-separate-areasHighRisk,num-separate-areasMediumRisk,unitsInZoneHighRisk,unitsInZoneMediumRisk,unitsInZoneBackground,unitsInZoneHighRiskCattle,unitsInZoneHighRiskSwine,unitsInZoneMediumRiskCattle,unitsInZoneMediumRiskSwine,unitsInZoneBackgroundCattle,unitsInZoneBackgroundSwine,unitDaysInZoneHighRisk,unitDaysInZoneMediumRisk,unitDaysInZoneBackground,unitDaysInZoneHighRiskCattle,unitDaysInZoneHighRiskSwine,unitDaysInZoneMediumRiskCattle,unitDaysInZoneMediumRiskSwine,unitDaysInZoneBackgroundCattle,unitDaysInZoneBackgroundSwine,animalDaysInZoneHighRisk,animalDaysInZoneMediumRisk,animalDaysInZoneBackground,animalDaysInZoneHighRiskCattle,animalDaysInZoneHighRiskSwine,animalDaysInZoneMediumRiskCattle,animalDaysInZoneMediumRiskSwine,animalDaysInZoneBackgroundCattle,animalDaysInZoneBackgroundSwine,destrOccurred,firstDestruction,firstDestructionUnsp,firstDestructionRing,firstDestructionDirFwd,firstDestructionIndFwd,firstDestructionDirBack,firstDestructionIndBack,firstDestructionDet,firstDestructionIni,firstDestructionCattle,firstDestructionSwine,firstDestructionUnspCattle,firstDestructionUnspSwine,firstDestructionRingCattle,firstDestructionRingSwine,firstDestructionDirFwdCattle,firstDestructionDirFwdSwine,firstDestructionIndFwdCattle,firstDestructionIndFwdSwine,firstDestructionDirBackCattle,firstDestructionDirBackSwine,firstDestructionIndBackCattle,firstDestructionIndBackSwine,firstDestructionDetCattle,firstDestructionDetSwine,firstDestructionIniCattle,firstDestructionIniSwine,desnUAll,desnUIni,desnUUnsp,desnURing,desnUDirFwd,desnUIndFwd,desnUDirBack,desnUIndBack,desnUDet,desnUCattle,desnUSwine,desnUIniCattle,desnUIniSwine,desnUUnspCattle,desnUUnspSwine,desnURingCattle,desnURingSwine,desnUDirFwdCattle,desnUDirFwdSwine,desnUIndFwdCattle,desnUIndFwdSwine,desnUDirBackCattle,desnUDirBackSwine,desnUIndBackCattle,desnUIndBackSwine,desnUDetCattle,desnUDetSwine,descUAll,descUIni,descUUnsp,descURing,descUDirFwd,descUIndFwd,descUDirBack,descUIndBack,descUDet,descUCattle,descUSwine,descUIniCattle,descUIniSwine,descUUnspCattle,descUUnspSwine,descURingCattle,descURingSwine,descUDirFwdCattle,descUDirFwdSwine,descUIndFwdCattle,descUIndFwdSwine,descUDirBackCattle,descUDirBackSwine,descUIndBackCattle,descUIndBackSwine,descUDetCattle,descUDetSwine,desnAAll,desnAIni,desnAUnsp,desnARing,desnADirFwd,desnAIndFwd,desnADirBack,desnAIndBack,desnADet,desnACattle,desnASwine,desnAIniCattle,desnAIniSwine,desnAUnspCattle,desnAUnspSwine,desnARingCattle,desnARingSwine,desnADirFwdCattle,desnADirFwdSwine,desnAIndFwdCattle,desnAIndFwdSwine,desnADirBackCattle,desnADirBackSwine,desnAIndBackCattle,desnAIndBackSwine,desnADetCattle,desnADetSwine,descAAll,descAIni,descAUnsp,descARing,descADirFwd,descAIndFwd,descADirBack,descAIndBack,descADet,descACattle,descASwine,descAIniCattle,descAIniSwine,descAUnspCattle,descAUnspSwine,descARingCattle,descARingSwine,descADirFwdCattle,descADirFwdSwine,descAIndFwdCattle,descAIndFwdSwine,descADirBackCattle,descADirBackSwine,descAIndBackCattle,descAIndBackSwine,descADetCattle,descADetSwine,expnUAll,expnUDir,expnUInd,expnUAir,expnUCattle,expnUSwine,expnUDirCattle,expnUDirSwine,expnUIndCattle,expnUIndSwine,expnUAirCattle,expnUAirSwine,expcUAll,expcUDir,expcUInd,expcUAir,expcUCattle,expcUSwine,expcUDirCattle,expcUDirSwine,expcUIndCattle,expcUIndSwine,expcUAirCattle,expcUAirSwine,expnAAll,expnADir,expnAInd,expnAAir,expnACattle,expnASwine,expnADirCattle,expnADirSwine,expnAIndCattle,expnAIndSwine,expnAAirCattle,expnAAirSwine,expcAAll,expcADir,expcAInd,expcAAir,expcACattle,expcASwine,expcADirCattle,expcADirSwine,expcAIndCattle,expcAIndSwine,expcAAirCattle,expcAAirSwine,adqnUAll,adqcUAll,deswUAll,deswUCattle,deswUSwine,deswAAll,deswACattle,deswASwine,deswUMax,deswUMaxDay,deswAMax,deswAMaxDay,deswUTimeMax,deswUTimeAvg,deswUDaysInQueue,deswADaysInQueue,detOccurred,firstDetection,firstDetectionClin,firstDetectionTest,firstDetectionCattle,firstDetectionSwine,firstDetectionClinCattle,firstDetectionClinSwine,firstDetectionTestCattle,firstDetectionTestSwine,lastDetection,lastDetectionClin,lastDetectionTest,lastDetectionCattle,lastDetectionSwine,lastDetectionClinCattle,lastDetectionClinSwine,lastDetectionTestCattle,lastDetectionTestSwine,detnUAll,detnUClin,detnUTest,detnUCattle,detnUSwine,detnUClinCattle,detnUClinSwine,detnUTestCattle,detnUTestSwine,detnAAll,detnAClin,detnATest,detnACattle,detnASwine,detnAClinCattle,detnAClinSwine,detnATestCattle,detnATestSwine,detcUAll,detcUClin,detcUTest,detcUCattle,detcUSwine,detcUClinCattle,detcUClinSwine,detcUTestCattle,detcUTestSwine,detcUqAll,detcAAll,detcAClin,detcATest,detcACattle,detcASwine,detcAClinCattle,detcAClinSwine,detcATestCattle,detcATestSwine,trnUAllp,trnUDirp,trnUIndp,trnUCattlep,trnUSwinep,trnUDirCattlep,trnUDirSwinep,trnUIndCattlep,trnUIndSwinep,trcUAllp,trcUDirp,trcUIndp,trcUCattlep,trcUSwinep,trcUDirCattlep,trcUDirSwinep,trcUIndCattlep,trcUIndSwinep,trnUAll,trnUDir,trnUInd,trnUCattle,trnUSwine,trnUDirCattle,trnUDirSwine,trnUIndCattle,trnUIndSwine,trcUAll,trcUDir,trcUInd,trcUCattle,trcUSwine,trcUDirCattle,trcUDirSwine,trcUIndCattle,trcUIndSwine,trnAAllp,trnADirp,trnAIndp,trnACattlep,trnASwinep,trnADirCattlep,trnADirSwinep,trnAIndCattlep,trnAIndSwinep,trcAAllp,trcADirp,trcAIndp,trcACattlep,trcASwinep,trcADirCattlep,trcADirSwinep,trcAIndCattlep,trcAIndSwinep,trnAAll,trnADir,trnAInd,trnACattle,trnASwine,trnADirCattle,trnADirSwine,trnAIndCattle,trnAIndSwine,trcAAll,trcADir,trcAInd,trcACattle,trcASwine,trcADirCattle,trcADirSwine,trcAIndCattle,trcAIndSwine,tstnUTruePos,tstnUTruePosCattle,tstnUTruePosSwine,tstnUTrueNeg,tstnUTrueNegCattle,tstnUTrueNegSwine,tstnUFalsePos,tstnUFalsePosCattle,tstnUFalsePosSwine,tstnUFalseNeg,tstnUFalseNegCattle,tstnUFalseNegSwine,tstcUAll,tstcUDirFwd,tstcUIndFwd,tstcUDirBack,tstcUIndBack,tstcUCattle,tstcUSwine,tstcUDirFwdCattle,tstcUDirFwdSwine,tstcUIndFwdCattle,tstcUIndFwdSwine,tstcUDirBackCattle,tstcUDirBackSwine,tstcUIndBackCattle,tstcUIndBackSwine,tstcUTruePos,tstcUTruePosCattle,tstcUTruePosSwine,tstcUTrueNeg,tstcUTrueNegCattle,tstcUTrueNegSwine,tstcUFalsePos,tstcUFalsePosCattle,tstcUFalsePosSwine,tstcUFalseNeg,tstcUFalseNegCattle,tstcUFalseNegSwine,tstcAAll,tstcADirFwd,tstcAIndFwd,tstcADirBack,tstcAIndBack,tstcACattle,tstcASwine,tstcADirFwdCattle,tstcADirFwdSwine,tstcAIndFwdCattle,tstcAIndFwdSwine,tstcADirBackCattle,tstcADirBackSwine,tstcAIndBackCattle,tstcAIndBackSwine,vacwUAll,vacwUCattle,vacwUSwine,vacwAAll,vacwACattle,vacwASwine,vacwUMax,vacwUMaxDay,vacwAMax,vacwAMaxDay,vacwUTimeMax,vacwUTimeAvg,vacwUDaysInQueue,vacwADaysInQueue,infnUAll,infnUDir,infnUInd,infnUAir,infnUIni,infnUCattle,infnUSwine,infnUDirCattle,infnUDirSwine,infnUIndCattle,infnUIndSwine,infnUAirCattle,infnUAirSwine,infnUIniCattle,infnUIniSwine,infcUAll,infcUDir,infcUInd,infcUAir,infcUIni,infcUCattle,infcUSwine,infcUDirCattle,infcUDirSwine,infcUIndCattle,infcUIndSwine,infcUAirCattle,infcUAirSwine,infcUIniCattle,infcUIniSwine,infnAAll,infnADir,infnAInd,infnAAir,infnAIni,infnACattle,infnASwine,infnADirCattle,infnADirSwine,infnAIndCattle,infnAIndSwine,infnAAirCattle,infnAAirSwine,infnAIniCattle,infnAIniSwine,infcAAll,infcADir,infcAInd,infcAAir,infcAIni,infcACattle,infcASwine,infcADirCattle,infcADirSwine,infcAIndCattle,infcAIndSwine,infcAAirCattle,infcAAirSwine,infcAIniCattle,infcAIniSwine,firstDetUInfAll,firstDetAInfAll,ratio,vaccOccurred,firstVaccination,firstVaccinationRing,firstVaccinationCattle,firstVaccinationSwine,firstVaccinationRingCattle,firstVaccinationRingSwine,vacnUAll,vacnUIni,vacnURing,vacnUCattle,vacnUSwine,vacnUIniCattle,vacnUIniSwine,vacnURingCattle,vacnURingSwine,vaccUAll,vaccUIni,vaccURing,vaccUCattle,vaccUSwine,vaccUIniCattle,vaccUIniSwine,vaccURingCattle,vaccURingSwine,vacnAAll,vacnAIni,vacnARing,vacnACattle,vacnASwine,vacnAIniCattle,vacnAIniSwine,vacnARingCattle,vacnARingSwine,vaccAAll,vaccAIni,vaccARing,vaccACattle,vaccASwine,vaccAIniCattle,vaccAIniSwine,vaccARingCattle,vaccARingSwine,tsdUSusc,tsdULat,tsdUSubc,tsdUClin,tsdUNImm,tsdUVImm,tsdUDest,tsdUCattleSusc,tsdUCattleLat,tsdUCattleSubc,tsdUCattleClin,tsdUCattleNImm,tsdUCattleVImm,tsdUCattleDest,tsdUSwineSusc,tsdUSwineLat,tsdUSwineSubc,tsdUSwineClin,tsdUSwineNImm,tsdUSwineVImm,tsdUSwineDest,tsdASusc,tsdALat,tsdASubc,tsdAClin,tsdANImm,tsdAVImm,tsdADest,tsdACattleSusc,tsdACattleLat,tsdACattleSubc,tsdACattleClin,tsdACattleNImm,tsdACattleVImm,tsdACattleDest,tsdASwineSusc,tsdASwineLat,tsdASwineSubc,tsdASwineClin,tsdASwineNImm,tsdASwineVImm,tsdASwineDest,average-prevalence,diseaseDuration,exmnUAll,exmnURing,exmnUDirFwd,exmnUIndFwd,exmnUDirBack,exmnUIndBack,exmnUDet,exmnUCattle,exmnUSwine,exmnURingCattle,exmnURingSwine,exmnUDirFwdCattle,exmnUDirFwdSwine,exmnUIndFwdCattle,exmnUIndFwdSwine,exmnUDirBackCattle,exmnUDirBackSwine,exmnUIndBackCattle,exmnUIndBackSwine,exmnUDetCattle,exmnUDetSwine,exmnAAll,exmnARing,exmnADirFwd,exmnAIndFwd,exmnADirBack,exmnAIndBack,exmnADet,exmnACattle,exmnASwine,exmnARingCattle,exmnARingSwine,exmnADirFwdCattle,exmnADirFwdSwine,exmnAIndFwdCattle,exmnAIndFwdSwine,exmnADirBackCattle,exmnADirBackSwine,exmnAIndBackCattle,exmnAIndBackSwine,exmnADetCattle,exmnADetSwine,exmcUAll,exmcURing,exmcUDirFwd,exmcUIndFwd,exmcUDirBack,exmcUIndBack,exmcUDet,exmcUCattle,exmcUSwine,exmcURingCattle,exmcURingSwine,exmcUDirFwdCattle,exmcUDirFwdSwine,exmcUIndFwdCattle,exmcUIndFwdSwine,exmcUDirBackCattle,exmcUDirBackSwine,exmcUIndBackCattle,exmcUIndBackSwine,exmcUDetCattle,exmcUDetSwine,exmcAAll,exmcARing,exmcADirFwd,exmcAIndFwd,exmcADirBack,exmcAIndBack,exmcADet,exmcACattle,exmcASwine,exmcARingCattle,exmcARingSwine,exmcADirFwdCattle,exmcADirFwdSwine,exmcAIndFwdCattle,exmcAIndFwdSwine,exmcADirBackCattle,exmcADirBackSwine,exmcAIndBackCattle,exmcAIndBackSwine,exmcADetCattle,exmcADetSwine\".split(',')\n",
      "[r for r in recent_headers if len(substr_indices(cause_sweep, r)) == 0]  # if you can't find a match in previous headers"
     ],
     "language": "python",
     "prompt_number": 125
    },
    {
     "cell_type": "markdown",
     "metadata": {},
     "source": [
      "The above `recent_headers` was created after modifying the scenario, adding cost accounting and zone effects.  The empty set indicates the column names haven't changed any.  This means we have been working with a stable set."
     ]
    },
    {
     "cell_type": "code",
     "metadata": {},
     "outputs": [
      {
       "output_type": "pyout",
       "prompt_number": 126,
       "text": [
        "[]"
       ],
       "metadata": {}
      }
     ],
     "input": [
      "[h for h in cause_sweep if len(substr_indices(recent_headers, h)) == 0]  # if you can't find a match in previous headers"
     ],
     "language": "python",
     "prompt_number": 126
    },
    {
     "cell_type": "code",
     "metadata": {},
     "outputs": [
      {
       "output_type": "pyout",
       "prompt_number": 127,
       "text": [
        "True"
       ],
       "metadata": {}
      }
     ],
     "input": [
      "set(recent_headers) == set(cause_sweep)"
     ],
     "language": "python",
     "prompt_number": 127
    },
    {
     "cell_type": "heading",
     "metadata": {},
     "level": 4,
     "source": [
      "Migrations for other database will need to be handled manually, or a more programmatic \"reset\" needs to be created for Results."
     ]
    },
    {
     "cell_type": "code",
     "metadata": {},
     "outputs": [],
     "input": [
      ""
     ],
     "language": "python",
     "prompt_number": 127
    },
    {
     "cell_type": "heading",
     "metadata": {},
     "level": 1,
     "source": [
      "Parsing Test Notes"
     ]
    },
    {
     "cell_type": "code",
     "metadata": {},
     "outputs": [
      {
       "output_type": "stream",
       "stream": "stdout",
       "text": [
        "198 6\n"
       ]
      }
     ],
     "input": [
      "successes= ['expnUDirCattle', 'detnUAll', 'trnUDirSwinep', 'tstnUTruePosSwine', 'exmnADirBack', 'trnADir', 'expnAIndSwine', 'exmnUDirBackCattle', 'trnAIndSwine', 'expnUInd', 'exmnURingCattle', 'vacnAIni', 'animalDaysInZoneMediumRiskCattle', 'exmnUDetCattle', 'trnUIndCattle', 'unitsInZoneMediumRiskSwine', 'detnUClin', 'deswADaysInQueue', 'exmnUIndFwd', 'animalDaysInZoneMediumRiskSwine', 'trnUDirCattlep', 'detnATestCattle', 'tstnUFalseNeg', 'tstnUTruePos', 'trnAAllp', 'vaccOccurred', 'expnUDirSwine', 'exmnAIndFwd', 'infnADir', 'detnUClinCattle', 'infnAAir', 'infnAIndSwine', 'exmnADetCattle', 'exmnUDirBackSwine', 'destrOccurred', 'trnAInd', 'exmnADirFwdCattle', 'infnUInd', 'expnAInd', 'trnUIndp', 'exmnADirFwdSwine', 'num-separate-areasHighRisk', 'infnADirSwine', 'detnUClinSwine', 'average-prevalence', 'exmnUIndBack', 'infnUDirSwine', 'trnUInd', 'infnAInd', 'infnUIndSwine', 'infnUAir', 'zonePerimeterHighRisk', 'expnUAir', 'exmnUIndFwdCattle', 'trnUDirp', 'adqcUAll', 'exmnUDetSwine', 'vacwUMax', 'unitDaysInZoneMediumRiskSwine', 'trnUIndCattlep', 'expnUIndCattle', 'vacnUIniSwine', 'exmnAAll', 'vacnAAll', 'unitsInZoneHighRiskSwine', 'vacwADaysInQueue', 'tstnUFalsePosSwine', 'exmnADirBackCattle', 'trnUIndSwinep', 'trnADirCattlep', 'maxZonePerimeterMediumRisk', 'vacnARingCattle', 'detnUTestSwine', 'animalDaysInZoneHighRiskSwine', 'trnUAll', 'exmnADet', 'infnUAirCattle', 'trnAIndSwinep', 'unitDaysInZoneHighRiskSwine', 'trnUDir', 'trnAIndCattlep', 'detnATestSwine', 'detOccurred', 'vacnURing', 'exmnUIndBackSwine', 'animalDaysInZoneMediumRisk', 'num-separate-areasMediumRisk', 'trnADirSwine', 'animalDaysInZoneHighRisk', 'detcUqAll', 'unitsInZoneBackgroundSwine', 'infnUAll', 'detnAClinCattle', 'expnAAll', 'expnUIndSwine', 'animalDaysInZoneHighRiskCattle', 'vacnUIniCattle', 'zonePerimeterMediumRisk', 'trnAIndp', 'tstnUTruePosCattle', 'exmnUAll', 'infnAAirCattle', 'vacnUAll', 'exmnUDet', 'exmnADirBackSwine', 'vacnUIni', 'exmnUIndFwdSwine', 'trnUDirCattle', 'unitsInZoneBackground', 'expnUAirCattle', 'detnUTest', 'vacnAIniCattle', 'trnUAllp', 'infnUDir', 'unitDaysInZoneBackground', 'vacnARingSwine', 'exmnARingCattle', 'zoneAreaHighRisk', 'exmnADirFwd', 'unitDaysInZoneMediumRiskCattle', 'exmnAIndBack', 'expnUAirSwine', 'maxZonePerimeterHighRisk', 'infnAIndCattle', 'exmnARingSwine', 'vacwUDaysInQueue', 'unitDaysInZoneBackgroundCattle', 'vacnARing', 'unitDaysInZoneHighRisk', 'expnAAir', 'expnUAll', 'infnUIndCattle', 'deswAMax', 'expnUDir', 'exmnAIndBackSwine', 'exmnURing', 'unitDaysInZoneBackgroundSwine', 'infnADirCattle', 'animalDaysInZoneBackground', 'unitDaysInZoneHighRiskCattle', 'trnADirCattle', 'unitsInZoneMediumRisk', 'exmnUDirBack', 'expnAAirCattle', 'trnADirSwinep', 'unitsInZoneBackgroundCattle', 'exmnAIndFwdCattle', 'trnUDirSwine', 'tstnUFalseNegCattle', 'unitsInZoneHighRisk', 'exmnUDirFwd', 'infnAAll', 'expnAAirSwine', 'adqnUAll', 'animalDaysInZoneBackgroundCattle', 'animalDaysInZoneBackgroundSwine', 'detnAAll', 'tstnUTrueNegCattle', 'detnATest', 'tstnUFalseNegSwine', 'trnAIndCattle', 'exmnUIndBackCattle', 'vacnURingSwine', 'exmnUDirFwdSwine', 'expnADirSwine', 'exmnADetSwine', 'vacwAMax', 'trnUIndSwine', 'infnUDirCattle', 'expnAIndCattle', 'exmnARing', 'maxZoneAreaMediumRisk', 'tstnUFalsePos', 'maxZoneAreaHighRisk', 'trnAAll', 'deswUDaysInQueue', 'unitsInZoneHighRiskCattle', 'detnAClinSwine', 'trnADirp', 'deswUMax', 'exmnAIndFwdSwine', 'exmnUDirFwdCattle', 'zoneAreaMediumRisk', 'infnAAirSwine', 'unitDaysInZoneMediumRisk', 'expnADirCattle', 'expnADir', 'detnAClin', 'exmnAIndBackCattle', 'vacnURingCattle', 'tstnUTrueNeg', 'tstnUFalsePosCattle', 'tstnUTrueNegSwine', 'infnUAirSwine', 'vacnAIniSwine', 'exmnURingSwine', 'detnUTestCattle', 'unitsInZoneMediumRiskCattle']\n",
      "failures= ['infnUIniCattle', 'infnAIniSwine', 'infnAIni', 'infnUIni', 'infnAIniCattle', 'infnUIniSwine']\n",
      "\n",
      "print(len(successes), len(failures))"
     ],
     "language": "python",
     "prompt_number": 128
    },
    {
     "cell_type": "code",
     "metadata": {},
     "outputs": [],
     "input": [
      "import copy\n",
      "grammar_backup = copy.deepcopy(grammars)"
     ],
     "language": "python",
     "prompt_number": 129
    },
    {
     "cell_type": "code",
     "metadata": {},
     "outputs": [
      {
       "output_type": "pyout",
       "prompt_number": 130,
       "text": [
        "['animalDaysInZone',\n",
        " 'des',\n",
        " 'desw',\n",
        " 'det',\n",
        " 'exm',\n",
        " 'exp',\n",
        " 'firstDestruction',\n",
        " 'firstDetection',\n",
        " 'firstVaccination',\n",
        " 'inf',\n",
        " 'tr',\n",
        " 'tsd',\n",
        " 'tst',\n",
        " 'tstcA',\n",
        " 'tstcU',\n",
        " 'tstnU',\n",
        " 'unitDaysInZone',\n",
        " 'unitsInZone',\n",
        " 'vac',\n",
        " 'vacc',\n",
        " 'vacn',\n",
        " 'vacw']"
       ],
       "metadata": {}
      }
     ],
     "input": [
      "sorted(grammars.keys())"
     ],
     "language": "python",
     "prompt_number": 130
    },
    {
     "cell_type": "code",
     "metadata": {},
     "outputs": [],
     "input": [
      "DailyByZoneAndProductionType = {'animalDaysInZone':grammars['animalDaysInZone'], 'unitDaysInZone': grammars['unitDaysInZone'], 'unitsInZone':grammars['unitsInZone']}"
     ],
     "language": "python",
     "prompt_number": 131
    },
    {
     "cell_type": "code",
     "metadata": {},
     "outputs": [
      {
       "output_type": "pyout",
       "prompt_number": 132,
       "text": [
        "{'det': [('c', 'n'),\n",
        "  ('U', 'A'),\n",
        "  ('All', 'Clin', 'Test'),\n",
        "  ('', 'Cattle', 'Swine')],\n",
        " 'des': [('n', 'c'),\n",
        "  ('U', 'A'),\n",
        "  ('All',\n",
        "   'Unsp',\n",
        "   'Ring',\n",
        "   'Det',\n",
        "   'Ini',\n",
        "   'DirFwd',\n",
        "   'IndFwd',\n",
        "   'DirBack',\n",
        "   'IndBack'),\n",
        "  ('', 'Cattle', 'Swine')],\n",
        " 'tst': ['tstnU', 'tstcU', 'tstcA'],\n",
        " 'vac': ['vacw', 'vacn', 'vacc'],\n",
        " 'firstDestruction': [('',\n",
        "   'Unsp',\n",
        "   'Ring',\n",
        "   'Det',\n",
        "   'Ini',\n",
        "   'DirFwd',\n",
        "   'IndFwd',\n",
        "   'DirBack',\n",
        "   'IndBack'),\n",
        "  ('', 'Cattle', 'Swine')],\n",
        " 'firstVaccination': [('', 'Ring'), ('', 'Cattle', 'Swine')],\n",
        " 'inf': [('c', 'n'),\n",
        "  ('U', 'A'),\n",
        "  ('', 'Ini', 'Dir', 'Ind', 'Air'),\n",
        "  ('All', 'Cattle', 'Swine')],\n",
        " 'firstDetection': [('', 'Clin', 'Test'), ('', 'Cattle', 'Swine')],\n",
        " 'tsd': [('U', 'A'),\n",
        "  ('', 'Cattle', 'Swine'),\n",
        "  ('Susc', 'Lat', 'Subc', 'Clin', 'NImm', 'VImm', 'Dest')],\n",
        " 'vacc': [('U', 'A'), ('All', 'Ini', 'Ring'), ('', 'Cattle', 'Swine')],\n",
        " 'tstcU': [('All',\n",
        "   'DirFwd',\n",
        "   'IndFwd',\n",
        "   'DirBack',\n",
        "   'IndBack',\n",
        "   'TruePos',\n",
        "   'FalsePos',\n",
        "   'TrueNeg',\n",
        "   'FalseNeg'),\n",
        "  ('', 'Cattle', 'Swine')],\n",
        " 'exm': [('n', 'c'),\n",
        "  ('U', 'A'),\n",
        "  ('All', 'Ring', 'DirFwd', 'IndFwd', 'DirBack', 'IndBack', 'Det'),\n",
        "  ('', 'Cattle', 'Swine')],\n",
        " 'vacn': [('U', 'A'), ('All', 'Ini', 'Ring'), ('', 'Cattle', 'Swine')],\n",
        " 'tr': [('n', 'c'),\n",
        "  ('U', 'A'),\n",
        "  ('All', 'Dir', 'Ind'),\n",
        "  ('', 'Cattle', 'Swine'),\n",
        "  ('', 'p')],\n",
        " 'vacw': [('U', 'A'),\n",
        "  ('All', 'Max', 'MaxDay', 'TimeMax', 'TimeAvg', 'DaysInQueue'),\n",
        "  ('', 'Cattle', 'Swine')],\n",
        " 'tstcA': [('All', 'DirFwd', 'IndFwd', 'DirBack', 'IndBack'),\n",
        "  ('', 'Cattle', 'Swine')],\n",
        " 'exp': [('c', 'n'),\n",
        "  ('U', 'A'),\n",
        "  ('', 'Dir', 'Ind', 'Air'),\n",
        "  ('All', 'Cattle', 'Swine')],\n",
        " 'desw': [('U', 'A'),\n",
        "  ('All', 'Max', 'MaxDay', 'TimeMax', 'TimeAvg', 'DaysInQueue'),\n",
        "  ('', 'Cattle', 'Swine')],\n",
        " 'tstnU': [('TruePos', 'FalsePos', 'TrueNeg', 'FalseNeg'),\n",
        "  ('', 'Cattle', 'Swine')]}"
       ],
       "metadata": {}
      }
     ],
     "input": [
      "del grammars['animalDaysInZone']\n",
      "del grammars['unitDaysInZone']\n",
      "del grammars['unitsInZone']\n",
      "grammars"
     ],
     "language": "python",
     "prompt_number": 132
    },
    {
     "cell_type": "code",
     "metadata": {},
     "outputs": [
      {
       "output_type": "pyout",
       "prompt_number": 133,
       "text": [
        "['des',\n",
        " 'desw',\n",
        " 'det',\n",
        " 'exm',\n",
        " 'exp',\n",
        " 'firstDestruction',\n",
        " 'firstDetection',\n",
        " 'firstVaccination',\n",
        " 'inf',\n",
        " 'tr',\n",
        " 'tsd',\n",
        " 'tst',\n",
        " 'tstcA',\n",
        " 'tstcU',\n",
        " 'tstnU',\n",
        " 'vac',\n",
        " 'vacc',\n",
        " 'vacn',\n",
        " 'vacw']"
       ],
       "metadata": {}
      }
     ],
     "input": [
      "sorted(grammars.keys())"
     ],
     "language": "python",
     "prompt_number": 133
    },
    {
     "cell_type": "code",
     "metadata": {},
     "outputs": [],
     "input": [
      "grammars['lastDetection'] = grammars['firstDetection']"
     ],
     "language": "python",
     "prompt_number": 134
    },
    {
     "cell_type": "code",
     "metadata": {},
     "outputs": [
      {
       "output_type": "pyout",
       "prompt_number": 135,
       "text": [
        "['tstnU', 'tstcU', 'tstcA']"
       ],
       "metadata": {}
      }
     ],
     "input": [
      "grammars['tst']"
     ],
     "language": "python",
     "prompt_number": 135
    },
    {
     "cell_type": "markdown",
     "metadata": {},
     "source": [
      "We'll want to delete the Production Type tuple from the grammar for generation.  We already know everything inside grammars pertains solely to DailyByProductionType."
     ]
    },
    {
     "cell_type": "code",
     "metadata": {},
     "outputs": [
      {
       "output_type": "pyout",
       "prompt_number": 136,
       "text": [
        "[('tstnU',\n",
        "  [('TruePos', 'FalsePos', 'TrueNeg', 'FalseNeg'), ('', 'Cattle', 'Swine')]),\n",
        " ('tstcU',\n",
        "  [('All',\n",
        "    'DirFwd',\n",
        "    'IndFwd',\n",
        "    'DirBack',\n",
        "    'IndBack',\n",
        "    'TruePos',\n",
        "    'FalsePos',\n",
        "    'TrueNeg',\n",
        "    'FalseNeg'),\n",
        "   ('', 'Cattle', 'Swine')]),\n",
        " ('tstcA',\n",
        "  [('All', 'DirFwd', 'IndFwd', 'DirBack', 'IndBack'),\n",
        "   ('', 'Cattle', 'Swine')])]"
       ],
       "metadata": {}
      }
     ],
     "input": [
      "[(key, grammars[key]) for key in ['tstnU', 'tstcU', 'tstcA']]"
     ],
     "language": "python",
     "prompt_number": 136
    },
    {
     "cell_type": "code",
     "metadata": {},
     "outputs": [],
     "input": [
      "del grammars['tst']"
     ],
     "language": "python",
     "prompt_number": 137
    },
    {
     "cell_type": "code",
     "metadata": {},
     "outputs": [
      {
       "output_type": "pyout",
       "prompt_number": 138,
       "text": [
        "['vacw', 'vacn', 'vacc']"
       ],
       "metadata": {}
      }
     ],
     "input": [
      "grammars['vac']"
     ],
     "language": "python",
     "prompt_number": 138
    },
    {
     "cell_type": "code",
     "metadata": {},
     "outputs": [
      {
       "output_type": "pyout",
       "prompt_number": 139,
       "text": [
        "[('vacw',\n",
        "  [('U', 'A'),\n",
        "   ('All', 'Max', 'MaxDay', 'TimeMax', 'TimeAvg', 'DaysInQueue'),\n",
        "   ('', 'Cattle', 'Swine')]),\n",
        " ('vacn', [('U', 'A'), ('All', 'Ini', 'Ring'), ('', 'Cattle', 'Swine')]),\n",
        " ('vacc', [('U', 'A'), ('All', 'Ini', 'Ring'), ('', 'Cattle', 'Swine')])]"
       ],
       "metadata": {}
      }
     ],
     "input": [
      "[(key, grammars[key]) for key in ['vacw', 'vacn', 'vacc']]"
     ],
     "language": "python",
     "prompt_number": 139
    },
    {
     "cell_type": "code",
     "metadata": {},
     "outputs": [],
     "input": [
      "del grammars['vac']"
     ],
     "language": "python",
     "prompt_number": 140
    },
    {
     "cell_type": "code",
     "metadata": {},
     "outputs": [],
     "input": [
      "grammars['inf'] = grammars['exp']"
     ],
     "language": "python",
     "prompt_number": 141
    },
    {
     "cell_type": "code",
     "metadata": {},
     "outputs": [
      {
       "output_type": "pyout",
       "prompt_number": 142,
       "text": [
        "['des',\n",
        " 'desw',\n",
        " 'det',\n",
        " 'exm',\n",
        " 'exp',\n",
        " 'firstDestruction',\n",
        " 'firstDetection',\n",
        " 'firstVaccination',\n",
        " 'inf',\n",
        " 'lastDetection',\n",
        " 'tr',\n",
        " 'tsd',\n",
        " 'tstcA',\n",
        " 'tstcU',\n",
        " 'tstnU',\n",
        " 'vacc',\n",
        " 'vacn',\n",
        " 'vacw']"
       ],
       "metadata": {}
      }
     ],
     "input": [
      "sorted(grammars.keys())"
     ],
     "language": "python",
     "prompt_number": 142
    },
    {
     "cell_type": "heading",
     "metadata": {},
     "level": 1,
     "source": [
      "Generating a new Flat DailyByProductionType"
     ]
    },
    {
     "cell_type": "code",
     "metadata": {},
     "outputs": [
      {
       "output_type": "pyout",
       "prompt_number": 143,
       "text": [
        "['',\n",
        " 'A',\n",
        " 'Air',\n",
        " 'All',\n",
        " 'Clin',\n",
        " 'Dest',\n",
        " 'Det',\n",
        " 'Dir',\n",
        " 'DirBack',\n",
        " 'DirFwd',\n",
        " 'FalseNeg',\n",
        " 'FalsePos',\n",
        " 'Ind',\n",
        " 'IndBack',\n",
        " 'IndFwd',\n",
        " 'Ini',\n",
        " 'Lat',\n",
        " 'NImm',\n",
        " 'Ring',\n",
        " 'Subc',\n",
        " 'Susc',\n",
        " 'Test',\n",
        " 'TrueNeg',\n",
        " 'TruePos',\n",
        " 'U',\n",
        " 'Unsp',\n",
        " 'VImm',\n",
        " 'p']"
       ],
       "metadata": {}
      }
     ],
     "input": [
      "sorted(explain.keys())"
     ],
     "language": "python",
     "prompt_number": 143
    },
    {
     "cell_type": "code",
     "metadata": {},
     "outputs": [],
     "input": [
      "explain.update({\n",
      " 'des':'Destruction',\n",
      " 'desw': 'Destruction Wait Time',\n",
      " 'det': 'Detection',\n",
      " 'exm': 'Examination',\n",
      " 'exp': 'Exposure',\n",
      " 'firstDestruction': \"First Destruction\",\n",
      " 'firstDetection': \"First Detection\",\n",
      " 'firstVaccination': 'First Vaccination',\n",
      " 'lastDetection': \"Last Detection\",\n",
      " 'tr': 'Trace',\n",
      " 'tsd': 'Transition State Daily',\n",
      " 'tstcA': 'Lab Test Cumulative Animals',\n",
      " 'tstcU': 'Lab Test Cumulative Units',\n",
      " 'tstnU': 'Lab Test New Units',\n",
      " 'vacc': 'Vaccination Cumulative',\n",
      " 'vacn': 'Vaccination New',\n",
      " 'vacw': 'Vaccination Wait Time'\n",
      "})"
     ],
     "language": "python",
     "prompt_number": 144
    },
    {
     "cell_type": "code",
     "metadata": {},
     "outputs": [],
     "input": [
      "explain['inf'] = 'Infection'"
     ],
     "language": "python",
     "prompt_number": 145
    },
    {
     "cell_type": "code",
     "metadata": {},
     "outputs": [
      {
       "output_type": "pyout",
       "prompt_number": 146,
       "text": [
        "[('U', 'A'),\n",
        " ('All', 'Max', 'MaxDay', 'TimeMax', 'TimeAvg', 'DaysInQueue'),\n",
        " ('', 'Cattle', 'Swine')]"
       ],
       "metadata": {}
      }
     ],
     "input": [
      "grammars['vacw']"
     ],
     "language": "python",
     "prompt_number": 146
    },
    {
     "cell_type": "code",
     "metadata": {},
     "outputs": [],
     "input": [
      "explain.update({\n",
      "'All': 'For Any Reason', \n",
      "'Max': 'Max', \n",
      "'MaxDay': 'Day with Max', \n",
      "'TimeMax': 'Max Time', \n",
      "'TimeAvg': 'Average Time', \n",
      "'DaysInQueue': 'Days in Queue'\n",
      "})"
     ],
     "language": "python",
     "prompt_number": 147
    },
    {
     "cell_type": "code",
     "metadata": {},
     "outputs": [],
     "input": [
      "PT_All = ('All', 'Cattle', 'Swine')"
     ],
     "language": "python",
     "prompt_number": 148
    },
    {
     "cell_type": "code",
     "metadata": {},
     "outputs": [],
     "input": [
      "def flat_stat_code(prefix, grammar):\n",
      "    combos = product([prefix], *grammar)\n",
      "    for line in combos:\n",
      "        explanation = ' '.join([explain[part] for part in line])\n",
      "        print_line = '    '+''.join(line)+ ' = models.IntegerField(blank=True, null=True, verbose_name=\"'+explanation+'\")'\n",
      "        print(re.sub(r'(\\w)  (\\w)', r'\\1 \\2', print_line))"
     ],
     "language": "python",
     "prompt_number": 149
    },
    {
     "cell_type": "code",
     "metadata": {},
     "outputs": [],
     "input": [
      "def generate_grammar_code(grammars=grammars):\n",
      "    for key in sorted(grammars.keys()): # Alphabetical order keeps it nicely sorted except firstDetection and lastDetection\n",
      "        field_grammar = copy.deepcopy(grammars[key]) # we don't want to side effect this\n",
      "        try: field_grammar.remove(PT_All)\n",
      "        except: pass\n",
      "        try: field_grammar.remove(PT)\n",
      "        except: pass\n",
      "        flat_stat_code(key, field_grammar)"
     ],
     "language": "python",
     "prompt_number": 150
    },
    {
     "cell_type": "code",
     "metadata": {},
     "outputs": [
      {
       "output_type": "pyout",
       "prompt_number": 151,
       "text": [
        "{'unitsInZone': [('Background', 'HighRisk', 'MediumRisk'),\n",
        "  ('', 'Cattle', 'Swine')],\n",
        " 'unitDaysInZone': [('Background', 'HighRisk', 'MediumRisk'),\n",
        "  ('', 'Cattle', 'Swine')],\n",
        " 'animalDaysInZone': [('Background', 'HighRisk', 'MediumRisk'),\n",
        "  ('', 'Cattle', 'Swine')]}"
       ],
       "metadata": {}
      }
     ],
     "input": [
      "DailyByZoneAndProductionType"
     ],
     "language": "python",
     "prompt_number": 151
    },
    {
     "cell_type": "code",
     "metadata": {},
     "outputs": [],
     "input": [
      ""
     ],
     "language": "python",
     "prompt_number": 151
    },
    {
     "cell_type": "code",
     "metadata": {},
     "outputs": [
      {
       "output_type": "pyout",
       "prompt_number": 152,
       "text": [
        "['expnUAll']"
       ],
       "metadata": {}
      }
     ],
     "input": [
      "#failures 4\n",
      "#['expnAAll', 'expnUAll', 'infnAAll', 'infnUAll']\n",
      "[x for x in combo_set('exp') if 'expnUAll' in x]"
     ],
     "language": "python",
     "prompt_number": 152
    },
    {
     "cell_type": "code",
     "metadata": {},
     "outputs": [
      {
       "output_type": "stream",
       "stream": "stdout",
       "text": [
        "deswUAll\n",
        "deswUCattle\n",
        "deswUSwine\n",
        "deswAAll\n",
        "deswACattle\n",
        "deswASwine\n",
        "deswUMax\n",
        "deswUMaxDay\n",
        "deswAMax\n",
        "deswAMaxDay\n",
        "deswUTimeMax\n",
        "deswUTimeAvg\n",
        "deswUDaysInQueue\n",
        "deswADaysInQueue\n",
        "Total: 14\n"
       ]
      }
     ],
     "input": [
      "matching_headers('desw')"
     ],
     "language": "python",
     "prompt_number": 153
    },
    {
     "cell_type": "markdown",
     "metadata": {},
     "source": [
      "Looks like there's a minor problem with desw expecting production type breakdown"
     ]
    },
    {
     "cell_type": "code",
     "metadata": {},
     "outputs": [],
     "input": [
      "grammars['desw'] = [('U', 'A'),\n",
      " ('All', 'Cattle', 'Swine')]"
     ],
     "language": "python",
     "prompt_number": 154
    },
    {
     "cell_type": "code",
     "metadata": {},
     "outputs": [],
     "input": [
      "DailyControls = {'desw': [('U', 'A'),\n",
      " ('Max', 'MaxDay', 'TimeMax', 'TimeAvg', 'DaysInQueue'),]}"
     ],
     "language": "python",
     "prompt_number": 155
    },
    {
     "cell_type": "code",
     "metadata": {},
     "outputs": [
      {
       "output_type": "stream",
       "stream": "stdout",
       "text": [
        "    desnUAll = models.IntegerField(blank=True, null=True, verbose_name=\"Destruction Units For Any Reason\")\n",
        "    desnUUnsp = models.IntegerField(blank=True, null=True, verbose_name=\"Destruction Units Unspecified\")\n",
        "    desnURing = models.IntegerField(blank=True, null=True, verbose_name=\"Destruction Units because of Ring\")\n",
        "    desnUDet = models.IntegerField(blank=True, null=True, verbose_name=\"Destruction Units because of Detection\")\n",
        "    desnUIni = models.IntegerField(blank=True, null=True, verbose_name=\"Destruction Units Initially\")\n",
        "    desnUDirFwd = models.IntegerField(blank=True, null=True, verbose_name=\"Destruction Units because of Direct Forward trace\")\n",
        "    desnUIndFwd = models.IntegerField(blank=True, null=True, verbose_name=\"Destruction Units because of Indirect Forward trace\")\n",
        "    desnUDirBack = models.IntegerField(blank=True, null=True, verbose_name=\"Destruction Units because of Direct Back trace\")\n",
        "    desnUIndBack = models.IntegerField(blank=True, null=True, verbose_name=\"Destruction Units because of Indirect Back trace\")\n",
        "    desnAAll = models.IntegerField(blank=True, null=True, verbose_name=\"Destruction Animals For Any Reason\")\n",
        "    desnAUnsp = models.IntegerField(blank=True, null=True, verbose_name=\"Destruction Animals Unspecified\")\n",
        "    desnARing = models.IntegerField(blank=True, null=True, verbose_name=\"Destruction Animals because of Ring\")\n",
        "    desnADet = models.IntegerField(blank=True, null=True, verbose_name=\"Destruction Animals because of Detection\")\n",
        "    desnAIni = models.IntegerField(blank=True, null=True, verbose_name=\"Destruction Animals Initially\")\n",
        "    desnADirFwd = models.IntegerField(blank=True, null=True, verbose_name=\"Destruction Animals because of Direct Forward trace\")\n",
        "    desnAIndFwd = models.IntegerField(blank=True, null=True, verbose_name=\"Destruction Animals because of Indirect Forward trace\")\n",
        "    desnADirBack = models.IntegerField(blank=True, null=True, verbose_name=\"Destruction Animals because of Direct Back trace\")\n",
        "    desnAIndBack = models.IntegerField(blank=True, null=True, verbose_name=\"Destruction Animals because of Indirect Back trace\")\n",
        "    descUAll = models.IntegerField(blank=True, null=True, verbose_name=\"Destruction Units For Any Reason\")\n",
        "    descUUnsp = models.IntegerField(blank=True, null=True, verbose_name=\"Destruction Units Unspecified\")\n",
        "    descURing = models.IntegerField(blank=True, null=True, verbose_name=\"Destruction Units because of Ring\")\n",
        "    descUDet = models.IntegerField(blank=True, null=True, verbose_name=\"Destruction Units because of Detection\")\n",
        "    descUIni = models.IntegerField(blank=True, null=True, verbose_name=\"Destruction Units Initially\")\n",
        "    descUDirFwd = models.IntegerField(blank=True, null=True, verbose_name=\"Destruction Units because of Direct Forward trace\")\n",
        "    descUIndFwd = models.IntegerField(blank=True, null=True, verbose_name=\"Destruction Units because of Indirect Forward trace\")\n",
        "    descUDirBack = models.IntegerField(blank=True, null=True, verbose_name=\"Destruction Units because of Direct Back trace\")\n",
        "    descUIndBack = models.IntegerField(blank=True, null=True, verbose_name=\"Destruction Units because of Indirect Back trace\")\n",
        "    descAAll = models.IntegerField(blank=True, null=True, verbose_name=\"Destruction Animals For Any Reason\")\n",
        "    descAUnsp = models.IntegerField(blank=True, null=True, verbose_name=\"Destruction Animals Unspecified\")\n",
        "    descARing = models.IntegerField(blank=True, null=True, verbose_name=\"Destruction Animals because of Ring\")\n",
        "    descADet = models.IntegerField(blank=True, null=True, verbose_name=\"Destruction Animals because of Detection\")\n",
        "    descAIni = models.IntegerField(blank=True, null=True, verbose_name=\"Destruction Animals Initially\")\n",
        "    descADirFwd = models.IntegerField(blank=True, null=True, verbose_name=\"Destruction Animals because of Direct Forward trace\")\n",
        "    descAIndFwd = models.IntegerField(blank=True, null=True, verbose_name=\"Destruction Animals because of Indirect Forward trace\")\n",
        "    descADirBack = models.IntegerField(blank=True, null=True, verbose_name=\"Destruction Animals because of Direct Back trace\")\n",
        "    descAIndBack = models.IntegerField(blank=True, null=True, verbose_name=\"Destruction Animals because of Indirect Back trace\")\n",
        "    deswU = models.IntegerField(blank=True, null=True, verbose_name=\"Destruction Wait Time Units\")\n",
        "    deswA = models.IntegerField(blank=True, null=True, verbose_name=\"Destruction Wait Time Animals\")\n",
        "    detcUAll = models.IntegerField(blank=True, null=True, verbose_name=\"Detection Units For Any Reason\")\n",
        "    detcUClin = models.IntegerField(blank=True, null=True, verbose_name=\"Detection Units Clinical\")\n",
        "    detcUTest = models.IntegerField(blank=True, null=True, verbose_name=\"Detection Units from Lab Tests\")\n",
        "    detcAAll = models.IntegerField(blank=True, null=True, verbose_name=\"Detection Animals For Any Reason\")\n",
        "    detcAClin = models.IntegerField(blank=True, null=True, verbose_name=\"Detection Animals Clinical\")\n",
        "    detcATest = models.IntegerField(blank=True, null=True, verbose_name=\"Detection Animals from Lab Tests\")\n",
        "    detnUAll = models.IntegerField(blank=True, null=True, verbose_name=\"Detection Units For Any Reason\")\n",
        "    detnUClin = models.IntegerField(blank=True, null=True, verbose_name=\"Detection Units Clinical\")\n",
        "    detnUTest = models.IntegerField(blank=True, null=True, verbose_name=\"Detection Units from Lab Tests\")\n",
        "    detnAAll = models.IntegerField(blank=True, null=True, verbose_name=\"Detection Animals For Any Reason\")\n",
        "    detnAClin = models.IntegerField(blank=True, null=True, verbose_name=\"Detection Animals Clinical\")\n",
        "    detnATest = models.IntegerField(blank=True, null=True, verbose_name=\"Detection Animals from Lab Tests\")\n",
        "    exmnUAll = models.IntegerField(blank=True, null=True, verbose_name=\"Examination Units For Any Reason\")\n",
        "    exmnURing = models.IntegerField(blank=True, null=True, verbose_name=\"Examination Units because of Ring\")\n",
        "    exmnUDirFwd = models.IntegerField(blank=True, null=True, verbose_name=\"Examination Units because of Direct Forward trace\")\n",
        "    exmnUIndFwd = models.IntegerField(blank=True, null=True, verbose_name=\"Examination Units because of Indirect Forward trace\")\n",
        "    exmnUDirBack = models.IntegerField(blank=True, null=True, verbose_name=\"Examination Units because of Direct Back trace\")\n",
        "    exmnUIndBack = models.IntegerField(blank=True, null=True, verbose_name=\"Examination Units because of Indirect Back trace\")\n",
        "    exmnUDet = models.IntegerField(blank=True, null=True, verbose_name=\"Examination Units because of Detection\")\n",
        "    exmnAAll = models.IntegerField(blank=True, null=True, verbose_name=\"Examination Animals For Any Reason\")\n",
        "    exmnARing = models.IntegerField(blank=True, null=True, verbose_name=\"Examination Animals because of Ring\")\n",
        "    exmnADirFwd = models.IntegerField(blank=True, null=True, verbose_name=\"Examination Animals because of Direct Forward trace\")\n",
        "    exmnAIndFwd = models.IntegerField(blank=True, null=True, verbose_name=\"Examination Animals because of Indirect Forward trace\")\n",
        "    exmnADirBack = models.IntegerField(blank=True, null=True, verbose_name=\"Examination Animals because of Direct Back trace\")\n",
        "    exmnAIndBack = models.IntegerField(blank=True, null=True, verbose_name=\"Examination Animals because of Indirect Back trace\")\n",
        "    exmnADet = models.IntegerField(blank=True, null=True, verbose_name=\"Examination Animals because of Detection\")\n",
        "    exmcUAll = models.IntegerField(blank=True, null=True, verbose_name=\"Examination Units For Any Reason\")\n",
        "    exmcURing = models.IntegerField(blank=True, null=True, verbose_name=\"Examination Units because of Ring\")\n",
        "    exmcUDirFwd = models.IntegerField(blank=True, null=True, verbose_name=\"Examination Units because of Direct Forward trace\")\n",
        "    exmcUIndFwd = models.IntegerField(blank=True, null=True, verbose_name=\"Examination Units because of Indirect Forward trace\")\n",
        "    exmcUDirBack = models.IntegerField(blank=True, null=True, verbose_name=\"Examination Units because of Direct Back trace\")\n",
        "    exmcUIndBack = models.IntegerField(blank=True, null=True, verbose_name=\"Examination Units because of Indirect Back trace\")\n",
        "    exmcUDet = models.IntegerField(blank=True, null=True, verbose_name=\"Examination Units because of Detection\")\n",
        "    exmcAAll = models.IntegerField(blank=True, null=True, verbose_name=\"Examination Animals For Any Reason\")\n",
        "    exmcARing = models.IntegerField(blank=True, null=True, verbose_name=\"Examination Animals because of Ring\")\n",
        "    exmcADirFwd = models.IntegerField(blank=True, null=True, verbose_name=\"Examination Animals because of Direct Forward trace\")\n",
        "    exmcAIndFwd = models.IntegerField(blank=True, null=True, verbose_name=\"Examination Animals because of Indirect Forward trace\")\n",
        "    exmcADirBack = models.IntegerField(blank=True, null=True, verbose_name=\"Examination Animals because of Direct Back trace\")\n",
        "    exmcAIndBack = models.IntegerField(blank=True, null=True, verbose_name=\"Examination Animals because of Indirect Back trace\")\n",
        "    exmcADet = models.IntegerField(blank=True, null=True, verbose_name=\"Examination Animals because of Detection\")\n",
        "    expcU = models.IntegerField(blank=True, null=True, verbose_name=\"Exposure Units \")\n",
        "    expcUDir = models.IntegerField(blank=True, null=True, verbose_name=\"Exposure Units Direct Spread\")\n",
        "    expcUInd = models.IntegerField(blank=True, null=True, verbose_name=\"Exposure Units Indirect Spread\")\n",
        "    expcUAir = models.IntegerField(blank=True, null=True, verbose_name=\"Exposure Units Airborne Spread\")\n",
        "    expcA = models.IntegerField(blank=True, null=True, verbose_name=\"Exposure Animals \")\n",
        "    expcADir = models.IntegerField(blank=True, null=True, verbose_name=\"Exposure Animals Direct Spread\")\n",
        "    expcAInd = models.IntegerField(blank=True, null=True, verbose_name=\"Exposure Animals Indirect Spread\")\n",
        "    expcAAir = models.IntegerField(blank=True, null=True, verbose_name=\"Exposure Animals Airborne Spread\")\n",
        "    expnU = models.IntegerField(blank=True, null=True, verbose_name=\"Exposure Units \")\n",
        "    expnUDir = models.IntegerField(blank=True, null=True, verbose_name=\"Exposure Units Direct Spread\")\n",
        "    expnUInd = models.IntegerField(blank=True, null=True, verbose_name=\"Exposure Units Indirect Spread\")\n",
        "    expnUAir = models.IntegerField(blank=True, null=True, verbose_name=\"Exposure Units Airborne Spread\")\n",
        "    expnA = models.IntegerField(blank=True, null=True, verbose_name=\"Exposure Animals \")\n",
        "    expnADir = models.IntegerField(blank=True, null=True, verbose_name=\"Exposure Animals Direct Spread\")\n",
        "    expnAInd = models.IntegerField(blank=True, null=True, verbose_name=\"Exposure Animals Indirect Spread\")\n",
        "    expnAAir = models.IntegerField(blank=True, null=True, verbose_name=\"Exposure Animals Airborne Spread\")\n",
        "    firstDestruction = models.IntegerField(blank=True, null=True, verbose_name=\"First Destruction \")\n",
        "    firstDestructionUnsp = models.IntegerField(blank=True, null=True, verbose_name=\"First Destruction Unspecified\")\n",
        "    firstDestructionRing = models.IntegerField(blank=True, null=True, verbose_name=\"First Destruction because of Ring\")\n",
        "    firstDestructionDet = models.IntegerField(blank=True, null=True, verbose_name=\"First Destruction because of Detection\")\n",
        "    firstDestructionIni = models.IntegerField(blank=True, null=True, verbose_name=\"First Destruction Initially\")\n",
        "    firstDestructionDirFwd = models.IntegerField(blank=True, null=True, verbose_name=\"First Destruction because of Direct Forward trace\")\n",
        "    firstDestructionIndFwd = models.IntegerField(blank=True, null=True, verbose_name=\"First Destruction because of Indirect Forward trace\")\n",
        "    firstDestructionDirBack = models.IntegerField(blank=True, null=True, verbose_name=\"First Destruction because of Direct Back trace\")\n",
        "    firstDestructionIndBack = models.IntegerField(blank=True, null=True, verbose_name=\"First Destruction because of Indirect Back trace\")\n",
        "    firstDetection = models.IntegerField(blank=True, null=True, verbose_name=\"First Detection \")\n",
        "    firstDetectionClin = models.IntegerField(blank=True, null=True, verbose_name=\"First Detection Clinical\")\n",
        "    firstDetectionTest = models.IntegerField(blank=True, null=True, verbose_name=\"First Detection from Lab Tests\")\n",
        "    firstVaccination = models.IntegerField(blank=True, null=True, verbose_name=\"First Vaccination \")\n",
        "    firstVaccinationRing = models.IntegerField(blank=True, null=True, verbose_name=\"First Vaccination because of Ring\")\n",
        "    infcU = models.IntegerField(blank=True, null=True, verbose_name=\"Infection Units \")\n",
        "    infcUDir = models.IntegerField(blank=True, null=True, verbose_name=\"Infection Units Direct Spread\")\n",
        "    infcUInd = models.IntegerField(blank=True, null=True, verbose_name=\"Infection Units Indirect Spread\")\n",
        "    infcUAir = models.IntegerField(blank=True, null=True, verbose_name=\"Infection Units Airborne Spread\")\n",
        "    infcA = models.IntegerField(blank=True, null=True, verbose_name=\"Infection Animals \")\n",
        "    infcADir = models.IntegerField(blank=True, null=True, verbose_name=\"Infection Animals Direct Spread\")\n",
        "    infcAInd = models.IntegerField(blank=True, null=True, verbose_name=\"Infection Animals Indirect Spread\")\n",
        "    infcAAir = models.IntegerField(blank=True, null=True, verbose_name=\"Infection Animals Airborne Spread\")\n",
        "    infnU = models.IntegerField(blank=True, null=True, verbose_name=\"Infection Units \")\n",
        "    infnUDir = models.IntegerField(blank=True, null=True, verbose_name=\"Infection Units Direct Spread\")\n",
        "    infnUInd = models.IntegerField(blank=True, null=True, verbose_name=\"Infection Units Indirect Spread\")\n",
        "    infnUAir = models.IntegerField(blank=True, null=True, verbose_name=\"Infection Units Airborne Spread\")\n",
        "    infnA = models.IntegerField(blank=True, null=True, verbose_name=\"Infection Animals \")\n",
        "    infnADir = models.IntegerField(blank=True, null=True, verbose_name=\"Infection Animals Direct Spread\")\n",
        "    infnAInd = models.IntegerField(blank=True, null=True, verbose_name=\"Infection Animals Indirect Spread\")\n",
        "    infnAAir = models.IntegerField(blank=True, null=True, verbose_name=\"Infection Animals Airborne Spread\")\n",
        "    lastDetection = models.IntegerField(blank=True, null=True, verbose_name=\"Last Detection \")\n",
        "    lastDetectionClin = models.IntegerField(blank=True, null=True, verbose_name=\"Last Detection Clinical\")\n",
        "    lastDetectionTest = models.IntegerField(blank=True, null=True, verbose_name=\"Last Detection from Lab Tests\")\n",
        "    trnUAll = models.IntegerField(blank=True, null=True, verbose_name=\"Trace Units For Any Reason \")\n",
        "    trnUAllp = models.IntegerField(blank=True, null=True, verbose_name=\"Trace Units For Any Reason Possible\")\n",
        "    trnUDir = models.IntegerField(blank=True, null=True, verbose_name=\"Trace Units Direct Spread \")\n",
        "    trnUDirp = models.IntegerField(blank=True, null=True, verbose_name=\"Trace Units Direct Spread Possible\")\n",
        "    trnUInd = models.IntegerField(blank=True, null=True, verbose_name=\"Trace Units Indirect Spread \")\n",
        "    trnUIndp = models.IntegerField(blank=True, null=True, verbose_name=\"Trace Units Indirect Spread Possible\")\n",
        "    trnAAll = models.IntegerField(blank=True, null=True, verbose_name=\"Trace Animals For Any Reason \")\n",
        "    trnAAllp = models.IntegerField(blank=True, null=True, verbose_name=\"Trace Animals For Any Reason Possible\")\n",
        "    trnADir = models.IntegerField(blank=True, null=True, verbose_name=\"Trace Animals Direct Spread \")\n",
        "    trnADirp = models.IntegerField(blank=True, null=True, verbose_name=\"Trace Animals Direct Spread Possible\")\n",
        "    trnAInd = models.IntegerField(blank=True, null=True, verbose_name=\"Trace Animals Indirect Spread \")\n",
        "    trnAIndp = models.IntegerField(blank=True, null=True, verbose_name=\"Trace Animals Indirect Spread Possible\")\n",
        "    trcUAll = models.IntegerField(blank=True, null=True, verbose_name=\"Trace Units For Any Reason \")\n",
        "    trcUAllp = models.IntegerField(blank=True, null=True, verbose_name=\"Trace Units For Any Reason Possible\")\n",
        "    trcUDir = models.IntegerField(blank=True, null=True, verbose_name=\"Trace Units Direct Spread \")\n",
        "    trcUDirp = models.IntegerField(blank=True, null=True, verbose_name=\"Trace Units Direct Spread Possible\")\n",
        "    trcUInd = models.IntegerField(blank=True, null=True, verbose_name=\"Trace Units Indirect Spread \")\n",
        "    trcUIndp = models.IntegerField(blank=True, null=True, verbose_name=\"Trace Units Indirect Spread Possible\")\n",
        "    trcAAll = models.IntegerField(blank=True, null=True, verbose_name=\"Trace Animals For Any Reason \")\n",
        "    trcAAllp = models.IntegerField(blank=True, null=True, verbose_name=\"Trace Animals For Any Reason Possible\")\n",
        "    trcADir = models.IntegerField(blank=True, null=True, verbose_name=\"Trace Animals Direct Spread \")\n",
        "    trcADirp = models.IntegerField(blank=True, null=True, verbose_name=\"Trace Animals Direct Spread Possible\")\n",
        "    trcAInd = models.IntegerField(blank=True, null=True, verbose_name=\"Trace Animals Indirect Spread \")\n",
        "    trcAIndp = models.IntegerField(blank=True, null=True, verbose_name=\"Trace Animals Indirect Spread Possible\")\n",
        "    tsdUSusc = models.IntegerField(blank=True, null=True, verbose_name=\"Transition State Daily Units Susceptible\")\n",
        "    tsdULat = models.IntegerField(blank=True, null=True, verbose_name=\"Transition State Daily Units Latent\")\n",
        "    tsdUSubc = models.IntegerField(blank=True, null=True, verbose_name=\"Transition State Daily Units Subclinical\")\n",
        "    tsdUClin = models.IntegerField(blank=True, null=True, verbose_name=\"Transition State Daily Units Clinical\")\n",
        "    tsdUNImm = models.IntegerField(blank=True, null=True, verbose_name=\"Transition State Daily Units Natural Immune\")\n",
        "    tsdUVImm = models.IntegerField(blank=True, null=True, verbose_name=\"Transition State Daily Units Vaccine Immune\")\n",
        "    tsdUDest = models.IntegerField(blank=True, null=True, verbose_name=\"Transition State Daily Units Destroyed\")\n",
        "    tsdASusc = models.IntegerField(blank=True, null=True, verbose_name=\"Transition State Daily Animals Susceptible\")\n",
        "    tsdALat = models.IntegerField(blank=True, null=True, verbose_name=\"Transition State Daily Animals Latent\")\n",
        "    tsdASubc = models.IntegerField(blank=True, null=True, verbose_name=\"Transition State Daily Animals Subclinical\")\n",
        "    tsdAClin = models.IntegerField(blank=True, null=True, verbose_name=\"Transition State Daily Animals Clinical\")\n",
        "    tsdANImm = models.IntegerField(blank=True, null=True, verbose_name=\"Transition State Daily Animals Natural Immune\")\n",
        "    tsdAVImm = models.IntegerField(blank=True, null=True, verbose_name=\"Transition State Daily Animals Vaccine Immune\")\n",
        "    tsdADest = models.IntegerField(blank=True, null=True, verbose_name=\"Transition State Daily Animals Destroyed\")\n",
        "    tstcAAll = models.IntegerField(blank=True, null=True, verbose_name=\"Lab Test Cumulative Animals For Any Reason\")\n",
        "    tstcADirFwd = models.IntegerField(blank=True, null=True, verbose_name=\"Lab Test Cumulative Animals because of Direct Forward trace\")\n",
        "    tstcAIndFwd = models.IntegerField(blank=True, null=True, verbose_name=\"Lab Test Cumulative Animals because of Indirect Forward trace\")\n",
        "    tstcADirBack = models.IntegerField(blank=True, null=True, verbose_name=\"Lab Test Cumulative Animals because of Direct Back trace\")\n",
        "    tstcAIndBack = models.IntegerField(blank=True, null=True, verbose_name=\"Lab Test Cumulative Animals because of Indirect Back trace\")\n",
        "    tstcUAll = models.IntegerField(blank=True, null=True, verbose_name=\"Lab Test Cumulative Units For Any Reason\")\n",
        "    tstcUDirFwd = models.IntegerField(blank=True, null=True, verbose_name=\"Lab Test Cumulative Units because of Direct Forward trace\")\n",
        "    tstcUIndFwd = models.IntegerField(blank=True, null=True, verbose_name=\"Lab Test Cumulative Units because of Indirect Forward trace\")\n",
        "    tstcUDirBack = models.IntegerField(blank=True, null=True, verbose_name=\"Lab Test Cumulative Units because of Direct Back trace\")\n",
        "    tstcUIndBack = models.IntegerField(blank=True, null=True, verbose_name=\"Lab Test Cumulative Units because of Indirect Back trace\")\n",
        "    tstcUTruePos = models.IntegerField(blank=True, null=True, verbose_name=\"Lab Test Cumulative Units True Positives\")\n",
        "    tstcUFalsePos = models.IntegerField(blank=True, null=True, verbose_name=\"Lab Test Cumulative Units False Positives\")\n",
        "    tstcUTrueNeg = models.IntegerField(blank=True, null=True, verbose_name=\"Lab Test Cumulative Units True Negatives\")\n",
        "    tstcUFalseNeg = models.IntegerField(blank=True, null=True, verbose_name=\"Lab Test Cumulative Units False Negatives\")\n",
        "    tstnUTruePos = models.IntegerField(blank=True, null=True, verbose_name=\"Lab Test New Units True Positives\")\n",
        "    tstnUFalsePos = models.IntegerField(blank=True, null=True, verbose_name=\"Lab Test New Units False Positives\")\n",
        "    tstnUTrueNeg = models.IntegerField(blank=True, null=True, verbose_name=\"Lab Test New Units True Negatives\")\n",
        "    tstnUFalseNeg = models.IntegerField(blank=True, null=True, verbose_name=\"Lab Test New Units False Negatives\")\n",
        "    vaccUAll = models.IntegerField(blank=True, null=True, verbose_name=\"Vaccination Cumulative Units For Any Reason\")\n",
        "    vaccUIni = models.IntegerField(blank=True, null=True, verbose_name=\"Vaccination Cumulative Units Initially\")\n",
        "    vaccURing = models.IntegerField(blank=True, null=True, verbose_name=\"Vaccination Cumulative Units because of Ring\")\n",
        "    vaccAAll = models.IntegerField(blank=True, null=True, verbose_name=\"Vaccination Cumulative Animals For Any Reason\")\n",
        "    vaccAIni = models.IntegerField(blank=True, null=True, verbose_name=\"Vaccination Cumulative Animals Initially\")\n",
        "    vaccARing = models.IntegerField(blank=True, null=True, verbose_name=\"Vaccination Cumulative Animals because of Ring\")\n",
        "    vacnUAll = models.IntegerField(blank=True, null=True, verbose_name=\"Vaccination New Units For Any Reason\")\n",
        "    vacnUIni = models.IntegerField(blank=True, null=True, verbose_name=\"Vaccination New Units Initially\")\n",
        "    vacnURing = models.IntegerField(blank=True, null=True, verbose_name=\"Vaccination New Units because of Ring\")\n",
        "    vacnAAll = models.IntegerField(blank=True, null=True, verbose_name=\"Vaccination New Animals For Any Reason\")\n",
        "    vacnAIni = models.IntegerField(blank=True, null=True, verbose_name=\"Vaccination New Animals Initially\")\n",
        "    vacnARing = models.IntegerField(blank=True, null=True, verbose_name=\"Vaccination New Animals because of Ring\")\n",
        "    vacwUAll = models.IntegerField(blank=True, null=True, verbose_name=\"Vaccination Wait Time Units For Any Reason\")\n",
        "    vacwUMax = models.IntegerField(blank=True, null=True, verbose_name=\"Vaccination Wait Time Units Max\")\n",
        "    vacwUMaxDay = models.IntegerField(blank=True, null=True, verbose_name=\"Vaccination Wait Time Units Day with Max\")\n",
        "    vacwUTimeMax = models.IntegerField(blank=True, null=True, verbose_name=\"Vaccination Wait Time Units Max Time\")\n",
        "    vacwUTimeAvg = models.IntegerField(blank=True, null=True, verbose_name=\"Vaccination Wait Time Units Average Time\")\n",
        "    vacwUDaysInQueue = models.IntegerField(blank=True, null=True, verbose_name=\"Vaccination Wait Time Units Days in Queue\")\n",
        "    vacwAAll = models.IntegerField(blank=True, null=True, verbose_name=\"Vaccination Wait Time Animals For Any Reason\")\n",
        "    vacwAMax = models.IntegerField(blank=True, null=True, verbose_name=\"Vaccination Wait Time Animals Max\")\n",
        "    vacwAMaxDay = models.IntegerField(blank=True, null=True, verbose_name=\"Vaccination Wait Time Animals Day with Max\")\n",
        "    vacwATimeMax = models.IntegerField(blank=True, null=True, verbose_name=\"Vaccination Wait Time Animals Max Time\")\n",
        "    vacwATimeAvg = models.IntegerField(blank=True, null=True, verbose_name=\"Vaccination Wait Time Animals Average Time\")\n",
        "    vacwADaysInQueue = models.IntegerField(blank=True, null=True, verbose_name=\"Vaccination Wait Time Animals Days in Queue\")\n"
       ]
      }
     ],
     "input": [
      "generate_grammar_code()"
     ],
     "language": "python",
     "prompt_number": 156
    },
    {
     "cell_type": "code",
     "metadata": {},
     "outputs": [
      {
       "output_type": "stream",
       "stream": "stdout",
       "text": [
        "    deswUMax = models.IntegerField(blank=True, null=True, verbose_name=\"Destruction Wait Time Units Max\")\n",
        "    deswUMaxDay = models.IntegerField(blank=True, null=True, verbose_name=\"Destruction Wait Time Units Day with Max\")\n",
        "    deswUTimeMax = models.IntegerField(blank=True, null=True, verbose_name=\"Destruction Wait Time Units Max Time\")\n",
        "    deswUTimeAvg = models.IntegerField(blank=True, null=True, verbose_name=\"Destruction Wait Time Units Average Time\")\n",
        "    deswUDaysInQueue = models.IntegerField(blank=True, null=True, verbose_name=\"Destruction Wait Time Units Days in Queue\")\n",
        "    deswAMax = models.IntegerField(blank=True, null=True, verbose_name=\"Destruction Wait Time Animals Max\")\n",
        "    deswAMaxDay = models.IntegerField(blank=True, null=True, verbose_name=\"Destruction Wait Time Animals Day with Max\")\n",
        "    deswATimeMax = models.IntegerField(blank=True, null=True, verbose_name=\"Destruction Wait Time Animals Max Time\")\n",
        "    deswATimeAvg = models.IntegerField(blank=True, null=True, verbose_name=\"Destruction Wait Time Animals Average Time\")\n",
        "    deswADaysInQueue = models.IntegerField(blank=True, null=True, verbose_name=\"Destruction Wait Time Animals Days in Queue\")\n"
       ]
      }
     ],
     "input": [
      "generate_grammar_code(DailyControls)"
     ],
     "language": "python",
     "prompt_number": 157
    },
    {
     "cell_type": "code",
     "metadata": {},
     "outputs": [
      {
       "output_type": "stream",
       "stream": "stdout",
       "text": [
        "tsdUSusc\n",
        "tsdULat\n",
        "tsdUSubc\n",
        "tsdUClin\n",
        "tsdUNImm\n",
        "tsdUVImm\n",
        "tsdUDest\n",
        "tsdUCattleSusc\n",
        "tsdUCattleLat\n",
        "tsdUCattleSubc\n",
        "tsdUCattleClin\n",
        "tsdUCattleNImm\n",
        "tsdUCattleVImm\n",
        "tsdUCattleDest\n",
        "tsdUSwineSusc\n",
        "tsdUSwineLat\n",
        "tsdUSwineSubc\n",
        "tsdUSwineClin\n",
        "tsdUSwineNImm\n",
        "tsdUSwineVImm\n",
        "tsdUSwineDest\n",
        "Total: 21\n"
       ]
      }
     ],
     "input": [
      "matching_headers('tsdU')"
     ],
     "language": "python",
     "prompt_number": 158
    },
    {
     "cell_type": "markdown",
     "metadata": {},
     "source": [
      "This is a problem because the prodution type is inserted in the middle.  Solution: replace PT and PT_all with an underscores, then instead of appending the production type, replace('_', pt)"
     ]
    },
    {
     "cell_type": "markdown",
     "metadata": {},
     "source": [
      "Wait, that won't work because Django forbids trailing underscores in field names."
     ]
    },
    {
     "cell_type": "code",
     "metadata": {},
     "outputs": [
      {
       "output_type": "stream",
       "stream": "stdout",
       "text": [
        "\n",
        "Total: 0\n"
       ]
      }
     ],
     "input": [
      "matching_headers('-')"
     ],
     "language": "python",
     "prompt_number": 159
    },
    {
     "cell_type": "code",
     "metadata": {},
     "outputs": [
      {
       "output_type": "pyout",
       "prompt_number": 160,
       "text": [
        "['num-separate-areasHighRisk',\n",
        " 'num-separate-areasMediumRisk',\n",
        " 'average-prevalence']"
       ],
       "metadata": {}
      }
     ],
     "input": [
      "[x for x in cause_sweep if '-' in x]"
     ],
     "language": "python",
     "prompt_number": 160
    },
    {
     "cell_type": "code",
     "metadata": {},
     "outputs": [
      {
       "output_type": "stream",
       "stream": "stdout",
       "text": [
        "vacwADaysInQueue\n",
        "Total: 1\n"
       ]
      }
     ],
     "input": [
      "matching_headers('vacwADaysInQueue')"
     ],
     "language": "python",
     "prompt_number": 161
    },
    {
     "cell_type": "code",
     "metadata": {},
     "outputs": [
      {
       "output_type": "pyout",
       "prompt_number": 162,
       "text": [
        "211"
       ],
       "metadata": {}
      }
     ],
     "input": [
      "dailyControls = '''diseaseDuration\n",
      "adqnUAll\n",
      "adqcUAll\n",
      "detOccurred\n",
      "costSurveillance\n",
      "vaccOccurred\n",
      "vacwUDaysInQueue\n",
      "vacwUTimeAvg\n",
      "vacwUTimeMax\n",
      "vacwADaysInQueue\n",
      "vaccSetup\n",
      "vaccVaccination\n",
      "vaccSubtotal\n",
      "destrOccurred\n",
      "deswUMax\n",
      "deswUMaxDay\n",
      "deswUTimeMax\n",
      "deswUTimeAvg\n",
      "deswUDaysInQueue\n",
      "deswAMax\n",
      "deswAMaxDay\n",
      "deswATimeMax\n",
      "deswATimeAvg\n",
      "deswADaysInQueue\n",
      "destrAppraisal\n",
      "destrEuthanasia\n",
      "destrIndemnification\n",
      "destrDisposal\n",
      "destrCleaning\n",
      "destrSubtotal\n",
      "outbreakDuration\n",
      "costsTotal\n",
      "firstDetUInfAll\n",
      "firstDetAInfAll\n",
      "ratio\n",
      "average_prevalence\n",
      "detcUqAll'''.split()\n",
      "dailyPT = '''desnUAll\n",
      "desnUUnsp\n",
      "desnURing\n",
      "desnUDet\n",
      "desnUIni\n",
      "desnUDirFwd\n",
      "desnUIndFwd\n",
      "desnUDirBack\n",
      "desnUIndBack\n",
      "desnAAll\n",
      "desnAUnsp\n",
      "desnARing\n",
      "desnADet\n",
      "desnAIni\n",
      "desnADirFwd\n",
      "desnAIndFwd\n",
      "desnADirBack\n",
      "desnAIndBack\n",
      "descUAll\n",
      "descUUnsp\n",
      "descURing\n",
      "descUDet\n",
      "descUIni\n",
      "descUDirFwd\n",
      "descUIndFwd\n",
      "descUDirBack\n",
      "descUIndBack\n",
      "descAAll\n",
      "descAUnsp\n",
      "descARing\n",
      "descADet\n",
      "descAIni\n",
      "descADirFwd\n",
      "descAIndFwd\n",
      "descADirBack\n",
      "descAIndBack\n",
      "deswU\n",
      "deswA\n",
      "detcUAll\n",
      "detcUClin\n",
      "detcUTest\n",
      "detcAAll\n",
      "detcAClin\n",
      "detcATest\n",
      "detnUAll\n",
      "detnUClin\n",
      "detnUTest\n",
      "detnAAll\n",
      "detnAClin\n",
      "detnATest\n",
      "exmnUAll\n",
      "exmnURing\n",
      "exmnUDirFwd\n",
      "exmnUIndFwd\n",
      "exmnUDirBack\n",
      "exmnUIndBack\n",
      "exmnUDet\n",
      "exmnAAll\n",
      "exmnARing\n",
      "exmnADirFwd\n",
      "exmnAIndFwd\n",
      "exmnADirBack\n",
      "exmnAIndBack\n",
      "exmnADet\n",
      "exmcUAll\n",
      "exmcURing\n",
      "exmcUDirFwd\n",
      "exmcUIndFwd\n",
      "exmcUDirBack\n",
      "exmcUIndBack\n",
      "exmcUDet\n",
      "exmcAAll\n",
      "exmcARing\n",
      "exmcADirFwd\n",
      "exmcAIndFwd\n",
      "exmcADirBack\n",
      "exmcAIndBack\n",
      "exmcADet\n",
      "expcU\n",
      "expcUDir\n",
      "expcUInd\n",
      "expcUAir\n",
      "expcA\n",
      "expcADir\n",
      "expcAInd\n",
      "expcAAir\n",
      "expnU\n",
      "expnUDir\n",
      "expnUInd\n",
      "expnUAir\n",
      "expnA\n",
      "expnADir\n",
      "expnAInd\n",
      "expnAAir\n",
      "firstDestruction\n",
      "firstDestructionUnsp\n",
      "firstDestructionRing\n",
      "firstDestructionDet\n",
      "firstDestructionIni\n",
      "firstDestructionDirFwd\n",
      "firstDestructionIndFwd\n",
      "firstDestructionDirBack\n",
      "firstDestructionIndBack\n",
      "firstDetection\n",
      "firstDetectionClin\n",
      "firstDetectionTest\n",
      "firstVaccination\n",
      "firstVaccinationRing\n",
      "infcU\n",
      "infcUIni\n",
      "infcUDir\n",
      "infcUInd\n",
      "infcUAir\n",
      "infcA\n",
      "infcAIni\n",
      "infcADir\n",
      "infcAInd\n",
      "infcAAir\n",
      "infnU\n",
      "infnUIni\n",
      "infnUDir\n",
      "infnUInd\n",
      "infnUAir\n",
      "infnA\n",
      "infnAIni\n",
      "infnADir\n",
      "infnAInd\n",
      "infnAAir\n",
      "lastDetection\n",
      "lastDetectionClin\n",
      "lastDetectionTest\n",
      "trnUAll\n",
      "trnUAllp\n",
      "trnUDir\n",
      "trnUDirp\n",
      "trnUInd\n",
      "trnUIndp\n",
      "trnAAll\n",
      "trnAAllp\n",
      "trnADir\n",
      "trnADirp\n",
      "trnAInd\n",
      "trnAIndp\n",
      "trcUAll\n",
      "trcUAllp\n",
      "trcUDir\n",
      "trcUDirp\n",
      "trcUInd\n",
      "trcUIndp\n",
      "trcAAll\n",
      "trcAAllp\n",
      "trcADir\n",
      "trcADirp\n",
      "trcAInd\n",
      "trcAIndp\n",
      "tsdUSusc\n",
      "tsdULat\n",
      "tsdUSubc\n",
      "tsdUClin\n",
      "tsdUNImm\n",
      "tsdUVImm\n",
      "tsdUDest\n",
      "tsdASusc\n",
      "tsdALat\n",
      "tsdASubc\n",
      "tsdAClin\n",
      "tsdANImm\n",
      "tsdAVImm\n",
      "tsdADest\n",
      "tstcAAll\n",
      "tstcADirFwd\n",
      "tstcAIndFwd\n",
      "tstcADirBack\n",
      "tstcAIndBack\n",
      "tstcUAll\n",
      "tstcUDirFwd\n",
      "tstcUIndFwd\n",
      "tstcUDirBack\n",
      "tstcUIndBack\n",
      "tstcUTruePos\n",
      "tstcUFalsePos\n",
      "tstcUTrueNeg\n",
      "tstcUFalseNeg\n",
      "tstnUTruePos\n",
      "tstnUFalsePos\n",
      "tstnUTrueNeg\n",
      "tstnUFalseNeg\n",
      "vaccUAll\n",
      "vaccUIni\n",
      "vaccURing\n",
      "vaccAAll\n",
      "vaccAIni\n",
      "vaccARing\n",
      "vacnUAll\n",
      "vacnUIni\n",
      "vacnURing\n",
      "vacnAAll\n",
      "vacnAIni\n",
      "vacnARing\n",
      "vacwUAll\n",
      "vacwUMax\n",
      "vacwUMaxDay\n",
      "vacwUTimeMax\n",
      "vacwUTimeAvg\n",
      "vacwUDaysInQueue\n",
      "vacwAAll\n",
      "vacwAMax\n",
      "vacwAMaxDay\n",
      "vacwATimeMax\n",
      "vacwATimeAvg\n",
      "vacwADaysInQueue'''.split()\n",
      "len(dailyPT)"
     ],
     "language": "python",
     "prompt_number": 162
    },
    {
     "cell_type": "code",
     "metadata": {},
     "outputs": [
      {
       "output_type": "pyout",
       "prompt_number": 163,
       "text": [
        "['vacwUDaysInQueue', 'vacwUTimeAvg', 'vacwUTimeMax', 'vacwADaysInQueue']"
       ],
       "metadata": {}
      }
     ],
     "input": [
      "[c for c in dailyControls if c in dailyPT]"
     ],
     "language": "python",
     "prompt_number": 163
    },
    {
     "cell_type": "code",
     "metadata": {},
     "outputs": [
      {
       "output_type": "pyout",
       "prompt_number": 164,
       "text": [
        "[('inf',\n",
        "  [('c', 'n'),\n",
        "   ('U', 'A'),\n",
        "   ('', 'Dir', 'Ind', 'Air'),\n",
        "   ('All', 'Cattle', 'Swine')]),\n",
        " ('exp',\n",
        "  [('c', 'n'),\n",
        "   ('U', 'A'),\n",
        "   ('', 'Dir', 'Ind', 'Air'),\n",
        "   ('All', 'Cattle', 'Swine')]),\n",
        " ('desw', [('U', 'A'), ('All', 'Cattle', 'Swine')])]"
       ],
       "metadata": {}
      }
     ],
     "input": [
      "[(key, value) for key, value in grammars.items() if PT_All in value]"
     ],
     "language": "python",
     "prompt_number": 164
    },
    {
     "cell_type": "code",
     "metadata": {},
     "outputs": [],
     "input": [
      "grammars['exp'] = [('c', 'n'),\n",
      " ('U', 'A'),\n",
      " ('', 'Dir', 'Ind', 'Air'),\n",
      " ('', 'Cattle', 'Swine')]"
     ],
     "language": "python",
     "prompt_number": 165
    },
    {
     "cell_type": "code",
     "metadata": {},
     "outputs": [
      {
       "output_type": "pyout",
       "prompt_number": 166,
       "text": [
        "{'det': [('c', 'n'),\n",
        "  ('U', 'A'),\n",
        "  ('All', 'Clin', 'Test'),\n",
        "  ('', 'Cattle', 'Swine')],\n",
        " 'des': [('n', 'c'),\n",
        "  ('U', 'A'),\n",
        "  ('All',\n",
        "   'Unsp',\n",
        "   'Ring',\n",
        "   'Det',\n",
        "   'Ini',\n",
        "   'DirFwd',\n",
        "   'IndFwd',\n",
        "   'DirBack',\n",
        "   'IndBack'),\n",
        "  ('', 'Cattle', 'Swine')],\n",
        " 'firstDestruction': [('',\n",
        "   'Unsp',\n",
        "   'Ring',\n",
        "   'Det',\n",
        "   'Ini',\n",
        "   'DirFwd',\n",
        "   'IndFwd',\n",
        "   'DirBack',\n",
        "   'IndBack'),\n",
        "  ('', 'Cattle', 'Swine')],\n",
        " 'firstVaccination': [('', 'Ring'), ('', 'Cattle', 'Swine')],\n",
        " 'inf': [('c', 'n'),\n",
        "  ('U', 'A'),\n",
        "  ('', 'Dir', 'Ind', 'Air'),\n",
        "  ('All', 'Cattle', 'Swine')],\n",
        " 'firstDetection': [('', 'Clin', 'Test'), ('', 'Cattle', 'Swine')],\n",
        " 'lastDetection': [('', 'Clin', 'Test'), ('', 'Cattle', 'Swine')],\n",
        " 'tsd': [('U', 'A'),\n",
        "  ('', 'Cattle', 'Swine'),\n",
        "  ('Susc', 'Lat', 'Subc', 'Clin', 'NImm', 'VImm', 'Dest')],\n",
        " 'vacc': [('U', 'A'), ('All', 'Ini', 'Ring'), ('', 'Cattle', 'Swine')],\n",
        " 'tstcU': [('All',\n",
        "   'DirFwd',\n",
        "   'IndFwd',\n",
        "   'DirBack',\n",
        "   'IndBack',\n",
        "   'TruePos',\n",
        "   'FalsePos',\n",
        "   'TrueNeg',\n",
        "   'FalseNeg'),\n",
        "  ('', 'Cattle', 'Swine')],\n",
        " 'exm': [('n', 'c'),\n",
        "  ('U', 'A'),\n",
        "  ('All', 'Ring', 'DirFwd', 'IndFwd', 'DirBack', 'IndBack', 'Det'),\n",
        "  ('', 'Cattle', 'Swine')],\n",
        " 'vacn': [('U', 'A'), ('All', 'Ini', 'Ring'), ('', 'Cattle', 'Swine')],\n",
        " 'tr': [('n', 'c'),\n",
        "  ('U', 'A'),\n",
        "  ('All', 'Dir', 'Ind'),\n",
        "  ('', 'Cattle', 'Swine'),\n",
        "  ('', 'p')],\n",
        " 'vacw': [('U', 'A'),\n",
        "  ('All', 'Max', 'MaxDay', 'TimeMax', 'TimeAvg', 'DaysInQueue'),\n",
        "  ('', 'Cattle', 'Swine')],\n",
        " 'tstcA': [('All', 'DirFwd', 'IndFwd', 'DirBack', 'IndBack'),\n",
        "  ('', 'Cattle', 'Swine')],\n",
        " 'exp': [('c', 'n'),\n",
        "  ('U', 'A'),\n",
        "  ('', 'Dir', 'Ind', 'Air'),\n",
        "  ('', 'Cattle', 'Swine')],\n",
        " 'desw': [('U', 'A'), ('All', 'Cattle', 'Swine')],\n",
        " 'tstnU': [('TruePos', 'FalsePos', 'TrueNeg', 'FalseNeg'),\n",
        "  ('', 'Cattle', 'Swine')]}"
       ],
       "metadata": {}
      }
     ],
     "input": [
      "grammars"
     ],
     "language": "python",
     "prompt_number": 166
    },
    {
     "cell_type": "code",
     "metadata": {},
     "outputs": [],
     "input": [
      "iteration_headers = \"Run,Day,outbreakDuration,detOccurred,firstDetection,firstDetectionClin,firstDetectionTest,firstDetectionSwine,firstDetectionCattle,firstDetectionClinSwine,firstDetectionClinCattle,firstDetectionTestSwine,firstDetectionTestCattle,lastDetection,lastDetectionClin,lastDetectionTest,lastDetectionSwine,lastDetectionCattle,lastDetectionClinSwine,lastDetectionClinCattle,lastDetectionTestSwine,lastDetectionTestCattle,detnUAll,detnUClin,detnUTest,detnUSwine,detnUCattle,detnUClinSwine,detnUClinCattle,detnUTestSwine,detnUTestCattle,detnAAll,detnAClin,detnATest,detnASwine,detnACattle,detnAClinSwine,detnAClinCattle,detnATestSwine,detnATestCattle,detcUAll,detcUClin,detcUTest,detcUSwine,detcUCattle,detcUClinSwine,detcUClinCattle,detcUTestSwine,detcUTestCattle,detcUqAll,detcAAll,detcAClin,detcATest,detcASwine,detcACattle,detcAClinSwine,detcAClinCattle,detcATestSwine,detcATestCattle,deswUAll,deswUSwine,deswUCattle,deswAAll,deswASwine,deswACattle,deswUMax,deswUMaxDay,deswAMax,deswAMaxDay,deswUTimeMax,deswUTimeAvg,deswUDaysInQueue,deswADaysInQueue,infnUAll,infnUDir,infnUInd,infnUAir,infnUIni,infnUSwine,infnUCattle,infnUDirSwine,infnUDirCattle,infnUIndSwine,infnUIndCattle,infnUAirSwine,infnUAirCattle,infnUIniSwine,infnUIniCattle,infcUAll,infcUDir,infcUInd,infcUAir,infcUIni,infcUSwine,infcUCattle,infcUDirSwine,infcUDirCattle,infcUIndSwine,infcUIndCattle,infcUAirSwine,infcUAirCattle,infcUIniSwine,infcUIniCattle,infnAAll,infnADir,infnAInd,infnAAir,infnAIni,infnASwine,infnACattle,infnADirSwine,infnADirCattle,infnAIndSwine,infnAIndCattle,infnAAirSwine,infnAAirCattle,infnAIniSwine,infnAIniCattle,infcAAll,infcADir,infcAInd,infcAAir,infcAIni,infcASwine,infcACattle,infcADirSwine,infcADirCattle,infcAIndSwine,infcAIndCattle,infcAAirSwine,infcAAirCattle,infcAIniSwine,infcAIniCattle,firstDetUInfAll,firstDetAInfAll,ratio,zoneAreaHighRisk,zoneAreaMediumRisk,maxZoneAreaHighRisk,maxZoneAreaMediumRisk,maxZoneAreaDayHighRisk,maxZoneAreaDayMediumRisk,finalZoneAreaHighRisk,finalZoneAreaMediumRisk,zonePerimeterHighRisk,zonePerimeterMediumRisk,maxZonePerimeterHighRisk,maxZonePerimeterMediumRisk,maxZonePerimeterDayHighRisk,maxZonePerimeterDayMediumRisk,finalZonePerimeterHighRisk,finalZonePerimeterMediumRisk,numSeparateAreasHighRisk,numSeparateAreasMediumRisk,unitsInZoneHighRisk,unitsInZoneMediumRisk,unitsInZoneBackground,unitsInZoneHighRiskSwine,unitsInZoneHighRiskCattle,unitsInZoneMediumRiskSwine,unitsInZoneMediumRiskCattle,unitsInZoneBackgroundSwine,unitsInZoneBackgroundCattle,unitDaysInZoneHighRisk,unitDaysInZoneMediumRisk,unitDaysInZoneBackground,unitDaysInZoneHighRiskSwine,unitDaysInZoneHighRiskCattle,unitDaysInZoneMediumRiskSwine,unitDaysInZoneMediumRiskCattle,unitDaysInZoneBackgroundSwine,unitDaysInZoneBackgroundCattle,animalDaysInZoneHighRisk,animalDaysInZoneMediumRisk,animalDaysInZoneBackground,animalDaysInZoneHighRiskSwine,animalDaysInZoneHighRiskCattle,animalDaysInZoneMediumRiskSwine,animalDaysInZoneMediumRiskCattle,animalDaysInZoneBackgroundSwine,animalDaysInZoneBackgroundCattle,trnUAllp,trnUDirp,trnUIndp,trnUpSwine,trnUpCattle,trnUDirpSwine,trnUDirpCattle,trnUIndpSwine,trnUIndpCattle,trcUAllp,trcUDirp,trcUIndp,trcUpSwine,trcUpCattle,trcUDirpSwine,trcUDirpCattle,trcUIndpSwine,trcUIndpCattle,trnUAll,trnUDir,trnUInd,trnUSwine,trnUCattle,trnUDirSwine,trnUDirCattle,trnUIndSwine,trnUIndCattle,trcUAll,trcUDir,trcUInd,trcUSwine,trcUCattle,trcUDirSwine,trcUDirCattle,trcUIndSwine,trcUIndCattle,trnAAllp,trnADirp,trnAIndp,trnApSwine,trnApCattle,trnADirpSwine,trnADirpCattle,trnAIndpSwine,trnAIndpCattle,trcAAllp,trcADirp,trcAIndp,trcApSwine,trcApCattle,trcADirpSwine,trcADirpCattle,trcAIndpSwine,trcAIndpCattle,trnAAll,trnADir,trnAInd,trnASwine,trnACattle,trnADirSwine,trnADirCattle,trnAIndSwine,trnAIndCattle,trcAAll,trcADir,trcAInd,trcASwine,trcACattle,trcADirSwine,trcADirCattle,trcAIndSwine,trcAIndCattle,tsdUSusc,tsdULat,tsdUSubc,tsdUClin,tsdUNImm,tsdUVImm,tsdUDest,tsdUSuscSwine,tsdUSuscCattle,tsdULatSwine,tsdULatCattle,tsdUSubcSwine,tsdUSubcCattle,tsdUClinSwine,tsdUClinCattle,tsdUNImmSwine,tsdUNImmCattle,tsdUVImmSwine,tsdUVImmCattle,tsdUDestSwine,tsdUDestCattle,tsdASusc,tsdALat,tsdASubc,tsdAClin,tsdANImm,tsdAVImm,tsdADest,tsdASuscSwine,tsdASuscCattle,tsdALatSwine,tsdALatCattle,tsdASubcSwine,tsdASubcCattle,tsdAClinSwine,tsdAClinCattle,tsdANImmSwine,tsdANImmCattle,tsdAVImmSwine,tsdAVImmCattle,tsdADestSwine,tsdADestCattle,averagePrevalence,diseaseDuration,exmnUAll,exmnURing,exmnUDirFwd,exmnUIndFwd,exmnUDirBack,exmnUIndBack,exmnUDet,exmnUSwine,exmnUCattle,exmnURingSwine,exmnURingCattle,exmnUDirFwdSwine,exmnUDirFwdCattle,exmnUIndFwdSwine,exmnUIndFwdCattle,exmnUDirBackSwine,exmnUDirBackCattle,exmnUIndBackSwine,exmnUIndBackCattle,exmnUDetSwine,exmnUDetCattle,exmnAAll,exmnARing,exmnADirFwd,exmnAIndFwd,exmnADirBack,exmnAIndBack,exmnADet,exmnASwine,exmnACattle,exmnARingSwine,exmnARingCattle,exmnADirFwdSwine,exmnADirFwdCattle,exmnAIndFwdSwine,exmnAIndFwdCattle,exmnADirBackSwine,exmnADirBackCattle,exmnAIndBackSwine,exmnAIndBackCattle,exmnADetSwine,exmnADetCattle,exmcUAll,exmcURing,exmcUDirFwd,exmcUIndFwd,exmcUDirBack,exmcUIndBack,exmcUDet,exmcUSwine,exmcUCattle,exmcURingSwine,exmcURingCattle,exmcUDirFwdSwine,exmcUDirFwdCattle,exmcUIndFwdSwine,exmcUIndFwdCattle,exmcUDirBackSwine,exmcUDirBackCattle,exmcUIndBackSwine,exmcUIndBackCattle,exmcUDetSwine,exmcUDetCattle,exmcAAll,exmcARing,exmcADirFwd,exmcAIndFwd,exmcADirBack,exmcAIndBack,exmcADet,exmcASwine,exmcACattle,exmcARingSwine,exmcARingCattle,exmcADirFwdSwine,exmcADirFwdCattle,exmcAIndFwdSwine,exmcAIndFwdCattle,exmcADirBackSwine,exmcADirBackCattle,exmcAIndBackSwine,exmcAIndBackCattle,exmcADetSwine,exmcADetCattle,vaccOccurred,firstVaccination,firstVaccinationRing,firstVaccinationSwine,firstVaccinationCattle,firstVaccinationRingSwine,firstVaccinationRingCattle,vacnUAll,vacnUIni,vacnURing,vacnUSwine,vacnUCattle,vacnUIniSwine,vacnUIniCattle,vacnURingSwine,vacnURingCattle,vaccUAll,vaccUIni,vaccURing,vaccUSwine,vaccUCattle,vaccUIniSwine,vaccUIniCattle,vaccURingSwine,vaccURingCattle,vacnAAll,vacnAIni,vacnARing,vacnASwine,vacnACattle,vacnAIniSwine,vacnAIniCattle,vacnARingSwine,vacnARingCattle,vaccAAll,vaccAIni,vaccARing,vaccASwine,vaccACattle,vaccAIniSwine,vaccAIniCattle,vaccARingSwine,vaccARingCattle,costsTotal,destrAppraisal,destrEuthanasia,destrIndemnification,destrDisposal,destrCleaning,destrSubtotal,vaccSetup,vaccVaccination,vaccSubtotal,costSurveillance,destrOccurred,firstDestruction,firstDestructionUnsp,firstDestructionRing,firstDestructionDirFwd,firstDestructionIndFwd,firstDestructionDirBack,firstDestructionIndBack,firstDestructionDet,firstDestructionIni,firstDestructionSwine,firstDestructionCattle,firstDestructionUnspSwine,firstDestructionUnspCattle,firstDestructionRingSwine,firstDestructionRingCattle,firstDestructionDirFwdSwine,firstDestructionDirFwdCattle,firstDestructionIndFwdSwine,firstDestructionIndFwdCattle,firstDestructionDirBackSwine,firstDestructionDirBackCattle,firstDestructionIndBackSwine,firstDestructionIndBackCattle,firstDestructionDetSwine,firstDestructionDetCattle,firstDestructionIniSwine,firstDestructionIniCattle,desnUAll,desnUIni,desnUUnsp,desnURing,desnUDirFwd,desnUIndFwd,desnUDirBack,desnUIndBack,desnUDet,desnUSwine,desnUCattle,desnUIniSwine,desnUIniCattle,desnUUnspSwine,desnUUnspCattle,desnURingSwine,desnURingCattle,desnUDirFwdSwine,desnUDirFwdCattle,desnUIndFwdSwine,desnUIndFwdCattle,desnUDirBackSwine,desnUDirBackCattle,desnUIndBackSwine,desnUIndBackCattle,desnUDetSwine,desnUDetCattle,descUAll,descUIni,descUUnsp,descURing,descUDirFwd,descUIndFwd,descUDirBack,descUIndBack,descUDet,descUSwine,descUCattle,descUIniSwine,descUIniCattle,descUUnspSwine,descUUnspCattle,descURingSwine,descURingCattle,descUDirFwdSwine,descUDirFwdCattle,descUIndFwdSwine,descUIndFwdCattle,descUDirBackSwine,descUDirBackCattle,descUIndBackSwine,descUIndBackCattle,descUDetSwine,descUDetCattle,desnAAll,desnAIni,desnAUnsp,desnARing,desnADirFwd,desnAIndFwd,desnADirBack,desnAIndBack,desnADet,desnASwine,desnACattle,desnAIniSwine,desnAIniCattle,desnAUnspSwine,desnAUnspCattle,desnARingSwine,desnARingCattle,desnADirFwdSwine,desnADirFwdCattle,desnAIndFwdSwine,desnAIndFwdCattle,desnADirBackSwine,desnADirBackCattle,desnAIndBackSwine,desnAIndBackCattle,desnADetSwine,desnADetCattle,descAAll,descAIni,descAUnsp,descARing,descADirFwd,descAIndFwd,descADirBack,descAIndBack,descADet,descASwine,descACattle,descAIniSwine,descAIniCattle,descAUnspSwine,descAUnspCattle,descARingSwine,descARingCattle,descADirFwdSwine,descADirFwdCattle,descAIndFwdSwine,descAIndFwdCattle,descADirBackSwine,descADirBackCattle,descAIndBackSwine,descAIndBackCattle,descADetSwine,descADetCattle,vacwUAll,vacwUSwine,vacwUCattle,vacwAAll,vacwASwine,vacwACattle,vacwUMax,vacwUMaxDay,vacwAMax,vacwAMaxDay,vacwUTimeMax,vacwUTimeAvg,vacwUDaysInQueue,vacwADaysInQueue,expnUAll,expnUDir,expnUInd,expnUAir,expnUSwine,expnUCattle,expnUDirSwine,expnUDirCattle,expnUIndSwine,expnUIndCattle,expnUAirSwine,expnUAirCattle,expcUAll,expcUDir,expcUInd,expcUAir,expcUSwine,expcUCattle,expcUDirSwine,expcUDirCattle,expcUIndSwine,expcUIndCattle,expcUAirSwine,expcUAirCattle,expnAAll,expnADir,expnAInd,expnAAir,expnASwine,expnACattle,expnADirSwine,expnADirCattle,expnAIndSwine,expnAIndCattle,expnAAirSwine,expnAAirCattle,expcAAll,expcADir,expcAInd,expcAAir,expcASwine,expcACattle,expcADirSwine,expcADirCattle,expcAIndSwine,expcAIndCattle,expcAAirSwine,expcAAirCattle,adqnUAll,adqcUAll,tstnUTruePos,tstnUTruePosSwine,tstnUTruePosCattle,tstnUTrueNeg,tstnUTrueNegSwine,tstnUTrueNegCattle,tstnUFalsePos,tstnUFalsePosSwine,tstnUFalsePosCattle,tstnUFalseNeg,tstnUFalseNegSwine,tstnUFalseNegCattle,tstcUAll,tstcUDirFwd,tstcUIndFwd,tstcUDirBack,tstcUIndBack,tstcUSwine,tstcUCattle,tstcUDirFwdSwine,tstcUDirFwdCattle,tstcUIndFwdSwine,tstcUIndFwdCattle,tstcUDirBackSwine,tstcUDirBackCattle,tstcUIndBackSwine,tstcUIndBackCattle,tstcUTruePos,tstcUTruePosSwine,tstcUTruePosCattle,tstcUTrueNeg,tstcUTrueNegSwine,tstcUTrueNegCattle,tstcUFalsePos,tstcUFalsePosSwine,tstcUFalsePosCattle,tstcUFalseNeg,tstcUFalseNegSwine,tstcUFalseNegCattle,tstcAAll,tstcADirFwd,tstcAIndFwd,tstcADirBack,tstcAIndBack,tstcASwine,tstcACattle,tstcADirFwdSwine,tstcADirFwdCattle,tstcAIndFwdSwine,tstcAIndFwdCattle,tstcADirBackSwine,tstcADirBackCattle,tstcAIndBackSwine,tstcAIndBackCattle\"\n",
      "iteration_headers = iteration_headers.split(',')"
     ],
     "language": "python",
     "prompt_number": 167
    },
    {
     "cell_type": "code",
     "metadata": {},
     "outputs": [
      {
       "output_type": "pyout",
       "prompt_number": 168,
       "text": [
        "623"
       ],
       "metadata": {}
      }
     ],
     "input": [
      "len(set(iteration_headers).intersection(set(cause_sweep)))"
     ],
     "language": "python",
     "prompt_number": 168
    },
    {
     "cell_type": "code",
     "metadata": {},
     "outputs": [
      {
       "output_type": "stream",
       "stream": "stdout",
       "text": [
        "689 678\n"
       ]
      }
     ],
     "input": [
      "print( len(iteration_headers), len(cause_sweep))"
     ],
     "language": "python",
     "prompt_number": 169
    },
    {
     "cell_type": "code",
     "metadata": {},
     "outputs": [
      {
       "output_type": "pyout",
       "prompt_number": 170,
       "text": [
        "{'averagePrevalence',\n",
        " 'costSurveillance',\n",
        " 'costsTotal',\n",
        " 'destrAppraisal',\n",
        " 'destrCleaning',\n",
        " 'destrDisposal',\n",
        " 'destrEuthanasia',\n",
        " 'destrIndemnification',\n",
        " 'destrSubtotal',\n",
        " 'numSeparateAreasHighRisk',\n",
        " 'numSeparateAreasMediumRisk',\n",
        " 'trcADirpCattle',\n",
        " 'trcADirpSwine',\n",
        " 'trcAIndpCattle',\n",
        " 'trcAIndpSwine',\n",
        " 'trcApCattle',\n",
        " 'trcApSwine',\n",
        " 'trcUDirpCattle',\n",
        " 'trcUDirpSwine',\n",
        " 'trcUIndpCattle',\n",
        " 'trcUIndpSwine',\n",
        " 'trcUpCattle',\n",
        " 'trcUpSwine',\n",
        " 'trnADirpCattle',\n",
        " 'trnADirpSwine',\n",
        " 'trnAIndpCattle',\n",
        " 'trnAIndpSwine',\n",
        " 'trnApCattle',\n",
        " 'trnApSwine',\n",
        " 'trnUDirpCattle',\n",
        " 'trnUDirpSwine',\n",
        " 'trnUIndpCattle',\n",
        " 'trnUIndpSwine',\n",
        " 'trnUpCattle',\n",
        " 'trnUpSwine',\n",
        " 'tsdAClinCattle',\n",
        " 'tsdAClinSwine',\n",
        " 'tsdADestCattle',\n",
        " 'tsdADestSwine',\n",
        " 'tsdALatCattle',\n",
        " 'tsdALatSwine',\n",
        " 'tsdANImmCattle',\n",
        " 'tsdANImmSwine',\n",
        " 'tsdASubcCattle',\n",
        " 'tsdASubcSwine',\n",
        " 'tsdASuscCattle',\n",
        " 'tsdASuscSwine',\n",
        " 'tsdAVImmCattle',\n",
        " 'tsdAVImmSwine',\n",
        " 'tsdUClinCattle',\n",
        " 'tsdUClinSwine',\n",
        " 'tsdUDestCattle',\n",
        " 'tsdUDestSwine',\n",
        " 'tsdULatCattle',\n",
        " 'tsdULatSwine',\n",
        " 'tsdUNImmCattle',\n",
        " 'tsdUNImmSwine',\n",
        " 'tsdUSubcCattle',\n",
        " 'tsdUSubcSwine',\n",
        " 'tsdUSuscCattle',\n",
        " 'tsdUSuscSwine',\n",
        " 'tsdUVImmCattle',\n",
        " 'tsdUVImmSwine',\n",
        " 'vaccSetup',\n",
        " 'vaccSubtotal',\n",
        " 'vaccVaccination'}"
       ],
       "metadata": {}
      }
     ],
     "input": [
      "set(iteration_headers) - set(iteration_headers).intersection(set(cause_sweep))"
     ],
     "language": "python",
     "prompt_number": 170
    },
    {
     "cell_type": "code",
     "metadata": {},
     "outputs": [
      {
       "output_type": "stream",
       "stream": "stdout",
       "text": [
        "average-prevalence\n",
        "Total: 1\n"
       ]
      }
     ],
     "input": [
      "matching_headers('average')"
     ],
     "language": "python",
     "prompt_number": 171
    },
    {
     "cell_type": "code",
     "metadata": {},
     "outputs": [
      {
       "output_type": "pyout",
       "prompt_number": 172,
       "text": [
        "True"
       ],
       "metadata": {}
      }
     ],
     "input": [
      "zxc = 'DirFwd'\n",
      "zxc.endswith('Fwd')"
     ],
     "language": "python",
     "prompt_number": 172
    },
    {
     "cell_type": "code",
     "metadata": {},
     "outputs": [
      {
       "output_type": "pyout",
       "prompt_number": 173,
       "text": [
        "['x', 1, 2, 3]"
       ],
       "metadata": {}
      }
     ],
     "input": [
      "xcv = [1,2,3]\n",
      "xcv.insert(0, 'x')\n",
      "xcv"
     ],
     "language": "python",
     "prompt_number": 173
    },
    {
     "cell_type": "code",
     "metadata": {},
     "outputs": [
      {
       "output_type": "pyout",
       "prompt_number": 177,
       "text": [
        "['firstDetection',\n",
        " 'firstDetectionClin',\n",
        " 'firstDetectionTest',\n",
        " 'firstDetectionCattle',\n",
        " 'firstDetectionSwine',\n",
        " 'firstDetectionClinCattle',\n",
        " 'firstDetectionClinSwine',\n",
        " 'firstDetectionTestCattle',\n",
        " 'firstDetectionTestSwine']"
       ],
       "metadata": {}
      }
     ],
     "input": [
      "[x for x in cause_sweep if 'firstDetection' in x]"
     ],
     "language": "python",
     "prompt_number": 177
    }
   ]
  }
 ],
 "cells": [],
 "metadata": {
  "name": "",
  "signature": "sha256:32109f76d416ff5301b60a80ce6a12d9d9b430e86f0a471174b35ecc464b075c"
 },
 "nbformat": 3,
 "nbformat_minor": 0
}